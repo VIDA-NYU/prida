{
 "cells": [
  {
   "cell_type": "markdown",
   "metadata": {},
   "source": [
    "**Python Version Requirement:** Python 3.6"
   ]
  },
  {
   "cell_type": "code",
   "execution_count": 190,
   "metadata": {},
   "outputs": [],
   "source": [
    "import requests\n",
    "import sys\n",
    "import pandas as pd\n",
    "import numpy as np\n",
    "from sklearn.ensemble import RandomForestClassifier\n",
    "from scipy.stats import pearsonr\n",
    "import os\n",
    "import eli5\n",
    "import json"
   ]
  },
  {
   "cell_type": "code",
   "execution_count": 97,
   "metadata": {},
   "outputs": [],
   "source": [
    "pd.set_option(\n",
    "    'display.float_format',\n",
    "    lambda x: '%.5f' % x\n",
    ")"
   ]
  },
  {
   "cell_type": "code",
   "execution_count": 201,
   "metadata": {},
   "outputs": [],
   "source": [
    "FEATURE_VECTOR = ['query_num_of_columns',\n",
    "                  'query_num_of_rows',\n",
    "                  'query_row_column_ratio',\n",
    "                  'query_max_skewness',\n",
    "                  'query_max_kurtosis',\n",
    "                  'query_max_unique',\n",
    "                  'candidate_num_of_columns',\n",
    "                  'candidate_num_rows',\n",
    "                  'candidate_row_column_ratio',\n",
    "                  'candidate_max_skewness',\n",
    "                  'candidate_max_kurtosis',\n",
    "                  'candidate_max_unique',\n",
    "                  'query_target_max_pearson',\n",
    "                  'query_target_max_spearman',\n",
    "                  'query_target_max_covariance',\n",
    "                  'query_target_max_mutual_info',\n",
    "                  'candidate_target_max_pearson',\n",
    "                  'candidate_target_max_spearman',\n",
    "                  'candidate_target_max_covariance',\n",
    "                  'candidate_target_max_mutual_info',\n",
    "                  'max_pearson_difference',\n",
    "                  'containment_fraction']\n",
    "GAIN_COLUMN_NAME = 'gain_in_r2_score'"
   ]
  },
  {
   "cell_type": "code",
   "execution_count": 199,
   "metadata": {},
   "outputs": [],
   "source": [
    "def print_df(df):\n",
    "    \"\"\"Prints entire pandas dataframe.\n",
    "    \"\"\"\n",
    "    with pd.option_context('display.max_rows', None,\n",
    "                           'display.max_columns', None,\n",
    "                           'display.expand_frame_repr', False,\n",
    "                           'display.max_colwidth', 100):\n",
    "        print(df)"
   ]
  },
  {
   "cell_type": "code",
   "execution_count": 191,
   "metadata": {},
   "outputs": [],
   "source": [
    "def get_dataset_name(id_):\n",
    "    \"\"\"Connects to Datamart to get the dataset name, given the dataset id.\n",
    "    \"\"\"\n",
    "    \n",
    "    response = requests.get(\n",
    "        'http://localhost:8002/metadata/%s'%id_,\n",
    "    )\n",
    "    response.raise_for_status()\n",
    "    \n",
    "    return json.loads(response.text)['metadata']['name']"
   ]
  },
  {
   "cell_type": "code",
   "execution_count": 145,
   "metadata": {},
   "outputs": [],
   "source": [
    "def create_model(alpha, training_filename, feature_vector, gain_column):\n",
    "    \"\"\"This functions builds a classifier based on the training data.\n",
    "    \"\"\"\n",
    "    \n",
    "    training_data = pd.read_csv(training_filename)\n",
    "    training_data['class'] = ['gain' if row[gain_column] > alpha else 'loss'\n",
    "                              for index, row in training_data.iterrows()]\n",
    "    X_train = training_data[feature_vector]\n",
    "    y_train = training_data['class']\n",
    "    \n",
    "    clf = RandomForestClassifier(random_state=42)\n",
    "    clf.fit(X_train, y_train)\n",
    "    \n",
    "    return clf"
   ]
  },
  {
   "cell_type": "code",
   "execution_count": 192,
   "metadata": {},
   "outputs": [],
   "source": [
    "def predict_class_for_features(classifier, test_filename, feature_vector):\n",
    "\n",
    "    test_data = pd.read_csv(test_filename)\n",
    "    # avoiding overflow\n",
    "    for col in test_data.select_dtypes([np.number]).columns:\n",
    "        test_data = test_data[test_data[col] < np.finfo(np.float32).max]\n",
    "    test_data.reset_index(inplace=True)\n",
    "    X_test = test_data[feature_vector]\n",
    "    # replacing NaN values\n",
    "    if X_test.isna().values.any():\n",
    "        X_test.fillna(value=0, inplace=True)\n",
    "        \n",
    "    predicted_classes = classifier.predict(X_test)\n",
    "    predicted_proba = classifier.predict_proba(X_test)\n",
    "    \n",
    "    explanations = list()\n",
    "    for index, row in X_test.iterrows():\n",
    "        explanations.append(eli5.explain_prediction_df(classifier, X_test.iloc[index]))\n",
    "    \n",
    "    test_data['class'] = predicted_classes\n",
    "    test_data['candidate_id'] = test_data['candidate'].apply(\n",
    "        lambda x: os.path.basename(x)\n",
    "    )\n",
    "    test_data['candidate_name'] = test_data['candidate_id'].apply(\n",
    "        lambda x: get_dataset_name(x[:x.find('_')])\n",
    "    )\n",
    "    test_data.rename(columns={'containment_fraction': 'cf'}, inplace=True)\n",
    "    test_data.rename(columns={'gain_in_r2_score': 'g_r2'}, inplace=True)\n",
    "    \n",
    "    probabilities = pd.DataFrame(predicted_proba, columns=list(classifier.classes_))\n",
    "    test_data['p(gain)'] = probabilities['gain']\n",
    "    test_data['p(loss)'] = probabilities['loss']\n",
    "    \n",
    "    new_test_data = test_data[\n",
    "        ['candidate_name', 'candidate_id', 'cf', 'g_r2', 'class', 'p(gain)', 'p(loss)']\n",
    "    ].sort_values('g_r2', ascending=False)\n",
    "    new_test_data.reset_index(drop=True, inplace=True)\n",
    "    \n",
    "    return (new_test_data, explanations)"
   ]
  },
  {
   "cell_type": "code",
   "execution_count": 187,
   "metadata": {},
   "outputs": [],
   "source": [
    "def compute_precision_recall(df):\n",
    "    \n",
    "    tp_vals = list()\n",
    "    index_tp = list()\n",
    "    fp_vals = list()\n",
    "    index_fp = list()\n",
    "    tn_vals = list()\n",
    "    index_tn = list()\n",
    "    fn_vals = list()\n",
    "    index_fn = list()\n",
    "    \n",
    "    for index, row in df.iterrows():\n",
    "        if row['g_r2'] > 0 and row['class'] == 'gain':\n",
    "            tp_vals.append([row['candidate_name'], row['g_r2'], row['p(gain)'], row['cf']])\n",
    "            index_tp.append(index)\n",
    "        elif row['g_r2'] > 0 and row['class'] == 'loss':\n",
    "            fn_vals.append([row['candidate_name'], row['g_r2'], row['p(gain)'], row['cf']])\n",
    "            index_fn.append(index)\n",
    "        elif row['g_r2'] < 0 and row['class'] == 'gain':\n",
    "            fp_vals.append([row['candidate_name'], row['g_r2'], row['p(gain)'], row['cf']])\n",
    "            index_fp.append(index)\n",
    "        else:\n",
    "            tn_vals.append([row['candidate_name'], row['g_r2'], row['p(gain)'], row['cf']])\n",
    "            index_tn.append(index)\n",
    "            \n",
    "    tp = len(tp_vals)\n",
    "    fn = len(fn_vals)\n",
    "    fp = len(fp_vals)\n",
    "    tn = len(tn_vals)\n",
    "            \n",
    "    columns = ['name', 'g_r2', 'p(gain)', 'cf']\n",
    "    tp_df = pd.DataFrame(tp_vals, columns=columns, index=index_tp)\n",
    "    fn_df = pd.DataFrame(fn_vals, columns=columns, index=index_fn)\n",
    "    fp_df = pd.DataFrame(fp_vals, columns=columns, index=index_fp)\n",
    "    tn_df = pd.DataFrame(tn_vals, columns=columns, index=index_tn)\n",
    "            \n",
    "    print(\"-- TP:\", tp)\n",
    "    print_df(tp_df)\n",
    "    print('')\n",
    "    print(\"-- TN:\", tn)\n",
    "    print_df(tn_df)\n",
    "    print('')\n",
    "    print(\"-- FP:\", fp)\n",
    "    print_df(fp_df)\n",
    "    print('')\n",
    "    print(\"-- FN:\", fn)\n",
    "    print_df(fn_df)\n",
    "    print('')\n",
    "\n",
    "    precision = tp / (tp + fp) if tp + fp > 0 else np.nan\n",
    "    recall = tp / (tp + fn) if tp + fn > 0 else np.nan\n",
    "    \n",
    "    print('Precision: %.4f\\nRecall: %.4f'%(precision, recall))"
   ]
  },
  {
   "cell_type": "code",
   "execution_count": 7,
   "metadata": {},
   "outputs": [],
   "source": [
    "def compute_pearson(df, col_1, col_2):\n",
    "    return pearsonr(df[col_1], df[col_2])[0]"
   ]
  },
  {
   "cell_type": "code",
   "execution_count": 194,
   "metadata": {},
   "outputs": [
    {
     "name": "stderr",
     "output_type": "stream",
     "text": [
      "/opt/anaconda3/envs/python-3.6/lib/python3.6/site-packages/ipykernel_launcher.py:6: SettingWithCopyWarning: \n",
      "A value is trying to be set on a copy of a slice from a DataFrame.\n",
      "Try using .loc[row_indexer,col_indexer] = value instead\n",
      "\n",
      "See the caveats in the documentation: http://pandas.pydata.org/pandas-docs/stable/user_guide/indexing.html#returning-a-view-versus-a-copy\n",
      "  \n",
      "/opt/anaconda3/envs/python-3.6/lib/python3.6/site-packages/sklearn/ensemble/forest.py:245: FutureWarning: The default value of n_estimators will change from 10 in version 0.20 to 100 in 0.22.\n",
      "  \"10 in version 0.20 to 100 in 0.22.\", FutureWarning)\n"
     ]
    }
   ],
   "source": [
    "rf_classifier = create_model(\n",
    "    alpha=0,\n",
    "    training_filename='../data/training-for-model.csv',\n",
    "    feature_vector=FEATURE_VECTOR,\n",
    "    gain_column=GAIN_COLUMN_NAME\n",
    ")"
   ]
  },
  {
   "cell_type": "markdown",
   "metadata": {},
   "source": [
    "## NY Taxi and Vehicle Collision Problem"
   ]
  },
  {
   "cell_type": "code",
   "execution_count": 195,
   "metadata": {
    "scrolled": false
   },
   "outputs": [
    {
     "name": "stderr",
     "output_type": "stream",
     "text": [
      "/opt/anaconda3/envs/python-3.6/lib/python3.6/site-packages/ipykernel_launcher.py:6: SettingWithCopyWarning: \n",
      "A value is trying to be set on a copy of a slice from a DataFrame.\n",
      "Try using .loc[row_indexer,col_indexer] = value instead\n",
      "\n",
      "See the caveats in the documentation: http://pandas.pydata.org/pandas-docs/stable/user_guide/indexing.html#returning-a-view-versus-a-copy\n",
      "  \n"
     ]
    }
   ],
   "source": [
    "taxi_vehicle_collision_classes, taxi_vehicle_collision_explanations = predict_class_for_features(\n",
    "    rf_classifier,\n",
    "    'taxi-vehicle-collision-records-features',\n",
    "    FEATURE_VECTOR\n",
    ")"
   ]
  },
  {
   "cell_type": "code",
   "execution_count": 200,
   "metadata": {
    "scrolled": false
   },
   "outputs": [
    {
     "name": "stdout",
     "output_type": "stream",
     "text": [
      "-- TP: 20\n",
      "                                                                        name    g_r2  p(gain)      cf\n",
      "0                                                           DHS Daily Report 4.43722  0.50000 0.97238\n",
      "1               Performance Metrics - Buildings - Time to Issue Easy Permits 4.24356  0.50000 0.14365\n",
      "2               Performance Metrics - Buildings - Time to Issue Easy Permits 4.24356  0.50000 0.14365\n",
      "5                                                  Daily Weather Data for NY 2.69791  0.70000 1.00000\n",
      "6                                    CTA - Ridership - Daily Boarding Totals 2.42632  0.50000 1.00000\n",
      "7              Performance Metrics - Buildings - Time To Issue Green Permits 2.09037  0.70000 0.14365\n",
      "8              Performance Metrics - Buildings - Time To Issue Green Permits 2.09037  0.70000 0.14365\n",
      "9                          Lottery Powerball Winning Numbers: Beginning 2010 1.89893  0.60000 0.24862\n",
      "10                          Lottery NY Lotto Winning Numbers: Beginning 2001 1.62148  0.50000 0.28729\n",
      "11                                                     Total SNAP Recipients 1.31968  0.50000 0.03315\n",
      "12                                     Cash Assistance Recipients Since 1955 1.31017  0.50000 0.03315\n",
      "13            Interagency Coordination and Construction Permits Data (MOSYS) 1.28968  0.60000 0.01657\n",
      "14                                                     Synthetic Turf Fields 1.28968  0.60000 0.01105\n",
      "15               Annual Allowable Rent Increase for Units Under Rent Control 1.28968  0.50000 0.00552\n",
      "16                                                    Appeals Closed In 2015 1.28968  0.50000 0.00552\n",
      "21  Unemployment Insurance Initial Claims Statewide By Month: Beginning 1971 1.27293  0.50000 0.03315\n",
      "23                                             Highway Travel Permit- Annual 0.91902  0.60000 0.01657\n",
      "24                     Lottery Mega Millions Winning Numbers: Beginning 2002 0.89438  0.60000 0.28177\n",
      "25                         Statewide -- Hatchery Standards 2018 SOS 10292018 0.84351  0.50000 0.00552\n",
      "28              Diesel Retail Price Weekly Average by Region: Beginning 2007 0.65882  0.80000 0.14365\n",
      "\n",
      "-- TN: 82\n",
      "                                                                                     name     g_r2  p(gain)      cf\n",
      "31                                                  House Share Prohibited Buildings List  0.00000  0.50000 0.00000\n",
      "32   Performance Metrics - Buildings - Time to Issue Standard Plan Review Program Permits  0.00000  0.60000 0.00000\n",
      "33                                                           2019 - 2020 School Locations  0.00000  0.40000 0.00000\n",
      "34                        Campaign Finance - FPPC Form 460 - Schedule B1 - Loans Received  0.00000  0.40000 0.00000\n",
      "35                                                                      Parks Concessions  0.00000  0.40000 0.00000\n",
      "36                                                          Highway Travel Permit- Annual  0.00000  0.60000 0.00000\n",
      "37                                                                       Dataset Profiles  0.00000  0.30000 0.00000\n",
      "38                                                                   Street Travel Permit  0.00000  0.50000 0.00000\n",
      "39                                  Asotin County Library District Operating Expenditures  0.00000  0.50000 0.00000\n",
      "40                   Value of Energy Cost Savings Program Savings for Businesses - FY2018  0.00000  0.30000 0.00000\n",
      "41                   Campaign Finance - FPPC Form 460 - Schedule H - Loans Made to Others  0.00000  0.30000 0.00000\n",
      "42                                                                       Bicycle Counters  0.00000  0.30000 0.00000\n",
      "43                   Campaign Finance - FPPC Form 460 - Schedule H - Loans Made to Others  0.00000  0.30000 0.00000\n",
      "44   Performance Metrics - Buildings - Time to Issue Standard Plan Review Program Permits  0.00000  0.60000 0.00000\n",
      "45                                                             TIF Status and Eligibility  0.00000  0.50000 0.00000\n",
      "46                                                                       Dataset Profiles  0.00000  0.30000 0.00000\n",
      "47                                                           2017 - 2018 School Locations  0.00000  0.60000 0.00000\n",
      "48                    Form 700 Schedule E - Travel Payments, Advances, and Reimbursements  0.00000  0.50000 0.00000\n",
      "49                                                Aircraft Tail Numbers and Models at SFO  0.00000  0.80000 0.00000\n",
      "50                              Form 700 Schedule C - Income, Loans, & Business Positions  0.00000  0.50000 0.00000\n",
      "51                                                                      Form 700 comments  0.00000  0.30000 0.00000\n",
      "52                         Interagency Coordination and Construction Permits Data (MOSYS)  0.00000  0.40000 0.00000\n",
      "53                                                    Form 700 Schedule D - Income: Gifts  0.00000  0.40000 0.00000\n",
      "54                                                                         Form 700 cover  0.00000  0.40000 0.00000\n",
      "55                                                           Emergency Response Incidents  0.00000  0.40000 0.00000\n",
      "56                                                    WDFW- Juvenile Population Abundance  0.00000  0.40000 0.00000\n",
      "57                                       Form 700 Schedule B - Interests in Real Property  0.00000  0.50000 0.00000\n",
      "58     Form 700 Schedule A2 - Investments, Income, and Assets of Business Entities/Trusts  0.00000  0.40000 0.00000\n",
      "59                         Interagency Coordination and Construction Permits Data (MOSYS)  0.00000  0.40000 0.00000\n",
      "60                                                Asotin County Library District Services  0.00000  0.50000 0.00000\n",
      "61                             Chicago Public Schools - School Profile Information SY1819  0.00000  0.30000 0.00000\n",
      "62                                        Chicago Park District: Movies in the Parks 2014  0.00000  0.50000 0.00000\n",
      "63                                        Chicago Park District: Movies in the Parks 2014  0.00000  0.50000 0.00000\n",
      "64                         Interagency Coordination and Construction Permits Data (MOSYS)  0.00000  0.40000 0.00000\n",
      "65                                       Asotin County Library District Interlibrary Loan  0.00000  0.50000 0.00000\n",
      "66                                                                    NYC Parks Monuments  0.00000  0.40000 0.00000\n",
      "67                                                   Parking Signs / Street Space Permits  0.00000  0.60000 0.00000\n",
      "68                                                           2015 - 2016 School Locations  0.00000  0.60000 0.00000\n",
      "69                                                            Mobile Food Facility Permit  0.00000  0.50000 0.00000\n",
      "70                                                                   Mobile Food Schedule  0.00000  0.50000 0.00000\n",
      "71                                                                   Mobile Food Schedule  0.00000  0.50000 0.00000\n",
      "72                             Chicago Public Schools - School Profile Information SY1718  0.00000  0.30000 0.00000\n",
      "73                                                                    NYC Parks Monuments  0.00000  0.40000 0.00000\n",
      "74                                      Asotin County Library District Program Attendance  0.00000  0.50000 0.00000\n",
      "75                                                               2012 SFO Customer Survey  0.00000  0.40000 0.00000\n",
      "76                                                                One Day Liquor Licenses  0.00000  0.40000 0.00000\n",
      "77                                                                One Day Liquor Licenses  0.00000  0.40000 0.00000\n",
      "78                                                                One Day Liquor Licenses  0.00000  0.40000 0.00000\n",
      "79          MCFFA (Medical Care Facilities Financing Agency) Bonds and Notes: 1995 - 2017  0.00000  0.40000 0.00000\n",
      "80                                             Aircraft Parking Location Inventory at SFO  0.00000  0.50000 0.00000\n",
      "81                                                           DNR Planned Prescribed Burns  0.00000  0.40000 0.00000\n",
      "82       SFEC Form 3500 - Disclosure Report for Developers of Major City Projects Filings  0.00000  0.50000 0.00000\n",
      "83                                      Asotin County Library District Operating Revenues  0.00000  0.50000 0.00000\n",
      "84                                                           Emergency Response Incidents  0.00000  0.40000 0.00000\n",
      "85                                                           2016 - 2017 School Locations  0.00000  0.60000 0.00000\n",
      "86                                           Historical IFC Financial Clients’ Reach Data  0.00000  0.30000 0.00000\n",
      "87               Low Income Housing Tax Credits Awarded by HPD: Project-Level (9% Awards)  0.00000  0.40000 0.00000\n",
      "88                                             Aircraft Parking Location Inventory at SFO  0.00000  0.50000 0.00000\n",
      "89                                                Aircraft Tail Numbers and Models at SFO  0.00000  0.80000 0.00000\n",
      "90                                                         Lottery Take 5 Winning Numbers  0.00000  0.80000 0.00000\n",
      "91                                                           2018 - 2019 School Locations  0.00000  0.60000 0.00000\n",
      "92                   Mayor’s Office of Housing and Community Development Grants and Loans -0.00886  0.30000 0.01657\n",
      "94                    Form 700 Schedule E - Travel Payments, Advances, and Reimbursements -0.06949  0.40000 0.01105\n",
      "97                                                              311 Call Metrics by Month -0.73987  0.40000 0.03315\n",
      "101                                                    2013-2014 DOE High School Programs -0.91555  0.40000 0.00552\n",
      "102                                              MAP -- All Projects (2012-21) 08-29-2018 -0.91555  0.40000 0.00552\n",
      "103                                                    2013-2014 DOE High School Programs -0.91555  0.40000 0.00552\n",
      "104                                      Form 700 Schedule B - Interests in Real Property -0.96841  0.20000 0.02210\n",
      "109                                        Transportation Fuels Inventory: Beginning 2004 -1.81760  0.40000 0.14365\n",
      "110                                                 Candidate Surplus Funds Latest Report -1.86456  0.40000 0.02210\n",
      "111    Form 700 Schedule A2 - Investments, Income, and Assets of Business Entities/Trusts -2.18087  0.40000 0.01105\n",
      "112                                                     [Deprecated] Form 700 Schedule A2 -2.18087  0.40000 0.01105\n",
      "113                                                      [Deprecated] Form 700 Schedule B -2.31207  0.20000 0.02210\n",
      "118                                                           Bikes in Buildings Requests -3.89416  0.40000 0.02762\n",
      "119                                                           Bikes in Buildings Requests -3.89416  0.40000 0.02762\n",
      "120                                                 County Agricultural Districts Profile -3.93550  0.30000 0.01105\n",
      "123                                                           Bikes in Buildings Requests -4.96509  0.40000 0.00552\n",
      "124                  Campaign Finance - FPPC Form 460 - Schedule H - Loans Made to Others -5.34598  0.40000 0.01657\n",
      "128                  Campaign Finance - FPPC Form 460 - Schedule H - Loans Made to Others -6.32683  0.30000 0.01657\n",
      "129                      Financial Incentive Projects - (TIF-Funded) Economic Development -6.55428  0.40000 0.01105\n",
      "132                  Campaign Finance - FPPC Form 460 - Schedule H - Loans Made to Others -6.56603  0.30000 0.00552\n",
      "136                                                           Affordable Housing Pipeline -6.60414  0.30000 0.00552\n",
      "\n",
      "-- FP: 24\n",
      "                                                                 name     g_r2  p(gain)      cf\n",
      "93                               New York State RGGI Auction Proceeds -0.00901  0.50000 0.01105\n",
      "95                                   [Deprecated] Form 700 Schedule E -0.06949  0.50000 0.01105\n",
      "96                   Transportation Fuels Spot Prices: Beginning 2006 -0.33204  0.70000 0.14365\n",
      "98         Transportation Fuels Production and Demand: Beginning 1993 -0.79352  0.60000 0.14365\n",
      "99                                            Local Law 44 - Projects -0.86047  0.50000 0.04420\n",
      "100                                 Better Brakes - Tracking Progress -0.87484  0.70000 0.01105\n",
      "105           Summary of Portfolio Benefits from RGGI-Funded Projects -1.19419  0.50000 0.01105\n",
      "106                 Call Center Metrics for the Health Service System -1.54199  0.50000 0.03315\n",
      "107                     Citywide HRA- Administered Medicaid Enrollees -1.72276  0.50000 0.03315\n",
      "108                                              311 Cases by Channel -1.73887  0.50000 0.03315\n",
      "114         Asotin County Library Missing Items from Clarkston Branch -2.98334  0.50000 0.01657\n",
      "115                                       Bikes in Buildings Requests -3.04922  0.70000 0.02762\n",
      "116                                       Bikes in Buildings Requests -3.17779  0.60000 0.03315\n",
      "117                                       Bikes in Buildings Requests -3.72660  0.50000 0.02762\n",
      "121                          Denied TW and Wholesale Market Companies -3.94435  0.50000 0.00552\n",
      "122                                       Bikes in Buildings Requests -4.85137  0.60000 0.06077\n",
      "125  Financial Incentive Projects - (TIF-Funded) Economic Development -5.55169  0.50000 0.01105\n",
      "126                                     Restrictive Declaration Sites -5.76981  0.50000 0.00552\n",
      "127                                   SF Development Pipeline 2018 Q3 -6.22329  0.50000 0.07735\n",
      "130                           Sidewalk Café Licenses and Applications -6.56603  0.60000 0.00552\n",
      "131                           Sidewalk Café Licenses and Applications -6.56603  0.60000 0.00552\n",
      "133  Financial Incentive Projects - (TIF-Funded) Economic Development -6.59296  0.60000 0.01657\n",
      "134                                       Affordable Housing Pipeline -6.59412  0.50000 0.01105\n",
      "135                                                      Street Seats -6.60157  0.50000 0.00552\n",
      "\n",
      "-- FN: 11\n",
      "                                                                          name    g_r2  p(gain)      cf\n",
      "3   Performance Metrics - Buildings - Time to Issue Developer Services Permits 4.02944  0.40000 0.14365\n",
      "4   Performance Metrics - Buildings - Time to Issue Developer Services Permits 4.02944  0.40000 0.14365\n",
      "17                                Transportation Projects in Your Neighborhood 1.28968  0.40000 0.00552\n",
      "18              Interagency Coordination and Construction Permits Data (MOSYS) 1.28968  0.40000 0.00552\n",
      "19                                               NYCHA Citywide Special Events 1.28968  0.40000 0.02762\n",
      "20              Interagency Coordination and Construction Permits Data (MOSYS) 1.28968  0.40000 0.00552\n",
      "22             Gasoline Retail Prices Weekly Average by Region: Beginning 2007 0.95892  0.30000 0.14365\n",
      "26                                       SF Municipal Green Building Inventory 0.84351  0.40000 0.01657\n",
      "27       Campaign Finance - Public Funds Disbursed - November 4, 2014 Election 0.84351  0.40000 0.00552\n",
      "29                                     Surplus Properties Sold: Beginning 2009 0.18718  0.30000 0.03315\n",
      "30                                                     Local Law 44 - Projects 0.03237  0.30000 0.01105\n",
      "\n",
      "Precision: 0.4545\n",
      "Recall: 0.6452\n"
     ]
    }
   ],
   "source": [
    "compute_precision_recall(taxi_vehicle_collision_classes)"
   ]
  },
  {
   "cell_type": "code",
   "execution_count": 76,
   "metadata": {},
   "outputs": [
    {
     "data": {
      "text/plain": [
       "0.30926206685429014"
      ]
     },
     "execution_count": 76,
     "metadata": {},
     "output_type": "execute_result"
    }
   ],
   "source": [
    "# Pearson between containment fraction and gain in R2\n",
    "compute_pearson(taxi_vehicle_collision_classes, 'cf', 'g_r2')"
   ]
  },
  {
   "cell_type": "code",
   "execution_count": 77,
   "metadata": {},
   "outputs": [
    {
     "data": {
      "text/plain": [
       "0.057036178367895124"
      ]
     },
     "execution_count": 77,
     "metadata": {},
     "output_type": "execute_result"
    }
   ],
   "source": [
    "# Pearson between containment fraction and probability of being classified as gain\n",
    "compute_pearson(taxi_vehicle_collision_classes, 'cf', 'p(gain)')"
   ]
  },
  {
   "cell_type": "code",
   "execution_count": 86,
   "metadata": {},
   "outputs": [
    {
     "data": {
      "text/plain": [
       "<matplotlib.axes._subplots.AxesSubplot at 0x1a1a237eb8>"
      ]
     },
     "execution_count": 86,
     "metadata": {},
     "output_type": "execute_result"
    },
    {
     "data": {
      "image/png": "[encoded data removed]",
      "text/plain": [
       "<Figure size 432x288 with 1 Axes>"
      ]
     },
     "metadata": {
      "needs_background": "light"
     },
     "output_type": "display_data"
    }
   ],
   "source": [
    "taxi_vehicle_collision_classes.plot.scatter(x='g_r2', y='cf', )"
   ]
  },
  {
   "cell_type": "code",
   "execution_count": 78,
   "metadata": {},
   "outputs": [
    {
     "data": {
      "text/plain": [
       "-0.058055263482290224"
      ]
     },
     "execution_count": 78,
     "metadata": {},
     "output_type": "execute_result"
    }
   ],
   "source": [
    "# Pearson between gain in R2 and probability of being classified as gain\n",
    "compute_pearson(taxi_vehicle_collision_classes, 'g_r2', 'p(gain)')"
   ]
  },
  {
   "cell_type": "code",
   "execution_count": 87,
   "metadata": {},
   "outputs": [
    {
     "data": {
      "text/plain": [
       "<matplotlib.axes._subplots.AxesSubplot at 0x1a1a2f7be0>"
      ]
     },
     "execution_count": 87,
     "metadata": {},
     "output_type": "execute_result"
    },
    {
     "data": {
      "image/png": "[encoded data removed]",
      "text/plain": [
       "<Figure size 432x288 with 1 Axes>"
      ]
     },
     "metadata": {
      "needs_background": "light"
     },
     "output_type": "display_data"
    }
   ],
   "source": [
    "taxi_vehicle_collision_classes.plot.scatter(x='g_r2', y='p(gain)', )"
   ]
  },
  {
   "cell_type": "markdown",
   "metadata": {},
   "source": [
    "## College Debt"
   ]
  },
  {
   "cell_type": "code",
   "execution_count": 15,
   "metadata": {},
   "outputs": [],
   "source": [
    "college_debt_classes = predict_class_for_features(\n",
    "    rf_classifier,\n",
    "    'college-debt-records-features',\n",
    "    FEATURE_VECTOR\n",
    ")"
   ]
  },
  {
   "cell_type": "code",
   "execution_count": 17,
   "metadata": {},
   "outputs": [
    {
     "name": "stdout",
     "output_type": "stream",
     "text": [
      "-- TP: 2\n",
      "   . 0\t\t0.808117\t0.800000\t1.000000\n",
      "   . 1\t\t0.727736\t0.700000\t1.000000\n",
      "-- TN: 0\n",
      "-- FP: 0\n",
      "-- FN: 0\n",
      "Precision: 1.0000\n",
      "Recall: 1.0000\n"
     ]
    }
   ],
   "source": [
    "compute_precision_recall(college_debt_classes)"
   ]
  },
  {
   "cell_type": "code",
   "execution_count": 18,
   "metadata": {},
   "outputs": [
    {
     "name": "stderr",
     "output_type": "stream",
     "text": [
      "/opt/anaconda3/envs/python-3.6/lib/python3.6/site-packages/scipy/stats/stats.py:3399: PearsonRConstantInputWarning: An input array is constant; the correlation coefficent is not defined.\n",
      "  warnings.warn(PearsonRConstantInputWarning())\n"
     ]
    },
    {
     "data": {
      "text/plain": [
       "nan"
      ]
     },
     "execution_count": 18,
     "metadata": {},
     "output_type": "execute_result"
    }
   ],
   "source": [
    "# Pearson between containment fraction and gain in R2\n",
    "compute_pearson(college_debt_classes, 'cf', 'g_r2')"
   ]
  },
  {
   "cell_type": "code",
   "execution_count": 19,
   "metadata": {},
   "outputs": [
    {
     "data": {
      "text/plain": [
       "nan"
      ]
     },
     "execution_count": 19,
     "metadata": {},
     "output_type": "execute_result"
    }
   ],
   "source": [
    "# Pearson between containment fraction and probability of being classified as gain\n",
    "compute_pearson(college_debt_classes, 'cf', 'p(gain)')"
   ]
  },
  {
   "cell_type": "code",
   "execution_count": 20,
   "metadata": {},
   "outputs": [
    {
     "data": {
      "text/plain": [
       "1.0"
      ]
     },
     "execution_count": 20,
     "metadata": {},
     "output_type": "execute_result"
    }
   ],
   "source": [
    "# Pearson between gain in R2 and probability of being classified as gain\n",
    "compute_pearson(college_debt_classes, 'g_r2', 'p(gain)')"
   ]
  },
  {
   "cell_type": "markdown",
   "metadata": {},
   "source": [
    "## Poverty Estimation"
   ]
  },
  {
   "cell_type": "code",
   "execution_count": 21,
   "metadata": {},
   "outputs": [],
   "source": [
    "poverty_estimation_classes = predict_class_for_features(\n",
    "    rf_classifier,\n",
    "    'poverty-estimation-records-features',\n",
    "    FEATURE_VECTOR\n",
    ")"
   ]
  },
  {
   "cell_type": "code",
   "execution_count": 23,
   "metadata": {},
   "outputs": [
    {
     "name": "stdout",
     "output_type": "stream",
     "text": [
      "-- TP: 1\n",
      "   . 0\t\t0.028248\t0.600000\t1.000000\n",
      "-- TN: 7\n",
      "   . 1\t\t-0.290706\t0.400000\t0.001276\n",
      "   . 2\t\t-0.299034\t0.300000\t0.001594\n",
      "   . 3\t\t-0.299140\t0.300000\t0.001276\n",
      "   . 4\t\t-0.299818\t0.200000\t0.000319\n",
      "   . 5\t\t-0.301699\t0.300000\t0.001276\n",
      "   . 6\t\t-0.304692\t0.300000\t0.000638\n",
      "   . 7\t\t-0.310184\t0.300000\t0.001276\n",
      "-- FP: 1\n",
      "   . 8\t\t-0.317801\t0.600000\t0.001276\n",
      "-- FN: 0\n",
      "Precision: 0.5000\n",
      "Recall: 1.0000\n"
     ]
    }
   ],
   "source": [
    "compute_precision_recall(poverty_estimation_classes)"
   ]
  },
  {
   "cell_type": "code",
   "execution_count": 24,
   "metadata": {},
   "outputs": [
    {
     "data": {
      "text/plain": [
       "0.997610183234824"
      ]
     },
     "execution_count": 24,
     "metadata": {},
     "output_type": "execute_result"
    }
   ],
   "source": [
    "# Pearson between containment fraction and gain in R2\n",
    "compute_pearson(poverty_estimation_classes, 'cf', 'g_r2')"
   ]
  },
  {
   "cell_type": "code",
   "execution_count": 25,
   "metadata": {},
   "outputs": [
    {
     "data": {
      "text/plain": [
       "0.6190989311094166"
      ]
     },
     "execution_count": 25,
     "metadata": {},
     "output_type": "execute_result"
    }
   ],
   "source": [
    "# Pearson between containment fraction and probability of being classified as gain\n",
    "compute_pearson(poverty_estimation_classes, 'cf', 'p(gain)')"
   ]
  },
  {
   "cell_type": "code",
   "execution_count": 26,
   "metadata": {},
   "outputs": [
    {
     "data": {
      "text/plain": [
       "0.5887713733160523"
      ]
     },
     "execution_count": 26,
     "metadata": {},
     "output_type": "execute_result"
    }
   ],
   "source": [
    "# Pearson between gain in R2 and probability of being classified as gain\n",
    "compute_pearson(poverty_estimation_classes, 'g_r2', 'p(gain)')"
   ]
  },
  {
   "cell_type": "code",
   "execution_count": null,
   "metadata": {},
   "outputs": [],
   "source": []
  }
 ],
 "metadata": {
  "kernelspec": {
   "display_name": "Python 3",
   "language": "python",
   "name": "python3"
  },
  "language_info": {
   "codemirror_mode": {
    "name": "ipython",
    "version": 3
   },
   "file_extension": ".py",
   "mimetype": "text/x-python",
   "name": "python",
   "nbconvert_exporter": "python",
   "pygments_lexer": "ipython3",
   "version": "3.6.9"
  }
 },
 "nbformat": 4,
 "nbformat_minor": 2
}
