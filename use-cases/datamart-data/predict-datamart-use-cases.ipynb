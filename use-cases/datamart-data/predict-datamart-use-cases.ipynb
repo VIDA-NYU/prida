{
 "cells": [
  {
   "cell_type": "code",
   "execution_count": 25,
   "metadata": {},
   "outputs": [],
   "source": [
    "import sys\n",
    "import pandas as pd\n",
    "from sklearn.ensemble import RandomForestClassifier\n",
    "import os"
   ]
  },
  {
   "cell_type": "code",
   "execution_count": 26,
   "metadata": {},
   "outputs": [],
   "source": [
    "FEATURE_VECTOR = ['query_num_of_columns',\n",
    "                  'query_num_of_rows',\n",
    "                  'query_row_column_ratio',\n",
    "                  'query_max_mean',\n",
    "                  'query_max_outlier_percentage',\n",
    "                  'query_max_skewness',\n",
    "                  'query_max_kurtosis',\n",
    "                  'query_max_unique',\n",
    "                  'candidate_num_of_columns',\n",
    "                  'candidate_num_rows',\n",
    "                  'candidate_row_column_ratio',\n",
    "                  'candidate_max_mean',\n",
    "                  'candidate_max_outlier_percentage',\n",
    "                  'candidate_max_skewness',\n",
    "                  'candidate_max_kurtosis',\n",
    "                  'candidate_max_unique',\n",
    "                  'query_target_max_pearson',\n",
    "                  'query_target_max_spearman',\n",
    "                  'query_target_max_covariance',\n",
    "                  'query_target_max_mutual_info',\n",
    "                  'candidate_target_max_pearson',\n",
    "                  'candidate_target_max_spearman',\n",
    "                  'candidate_target_max_covariance',\n",
    "                  'candidate_target_max_mutual_info',\n",
    "                  'max_pearson_difference',\n",
    "                  'containment_fraction']\n",
    "GAIN_COLUMN_NAME = 'gain_in_r2_score'"
   ]
  },
  {
   "cell_type": "code",
   "execution_count": 27,
   "metadata": {},
   "outputs": [],
   "source": [
    "def print_df(df):\n",
    "    with pd.option_context('display.max_rows', None, 'display.max_columns', None):\n",
    "        print(df)"
   ]
  },
  {
   "cell_type": "code",
   "execution_count": 47,
   "metadata": {},
   "outputs": [],
   "source": [
    "def create_model(alpha, training_filename, feature_vector, gain_column):\n",
    "    \"\"\"This functions builds a classifier based on the training data.\n",
    "    \"\"\"\n",
    "    \n",
    "    training_data = pd.read_csv(training_filename)\n",
    "    training_data['class'] = ['gain' if row[gain_column] > alpha else 'loss'\n",
    "                              for index, row in training_data.iterrows()]\n",
    "    X_train = training_data[feature_vector]\n",
    "    y_train = training_data['class']\n",
    "    clf = RandomForestClassifier(random_state=42)\n",
    "    clf.fit(X_train, y_train)\n",
    "    \n",
    "    return clf"
   ]
  },
  {
   "cell_type": "code",
   "execution_count": 56,
   "metadata": {},
   "outputs": [],
   "source": [
    "def predict_class_for_features(classifier, test_filename, feature_vector):\n",
    "\n",
    "    test_data = pd.read_csv(test_filename)\n",
    "    X_test = test_data[feature_vector]\n",
    "    predicted_classes = classifier.predict(X_test)\n",
    "    \n",
    "    test_features = pd.read_csv(test_filename)\n",
    "    test_features['class'] = predicted_classes\n",
    "    test_features['candidate'] = test_features['candidate'].apply(\n",
    "        lambda x: os.path.basename(x)\n",
    "    )\n",
    "    test_features.rename(columns={'containment_fraction': 'cf'}, inplace=True)\n",
    "    test_features.rename(columns={'gain_in_r2_score': 'g_r2'}, inplace=True)\n",
    "    \n",
    "    return test_features[['candidate', 'cf', 'g_r2', 'class']]"
   ]
  },
  {
   "cell_type": "code",
   "execution_count": 48,
   "metadata": {},
   "outputs": [
    {
     "name": "stderr",
     "output_type": "stream",
     "text": [
      "/opt/anaconda3/envs/python-3.6/lib/python3.6/site-packages/sklearn/ensemble/forest.py:245: FutureWarning: The default value of n_estimators will change from 10 in version 0.20 to 100 in 0.22.\n",
      "  \"10 in version 0.20 to 100 in 0.22.\", FutureWarning)\n"
     ]
    }
   ],
   "source": [
    "rf_classifier = create_model(\n",
    "    alpha=0,\n",
    "    training_filename='../data/training-for-model.csv',\n",
    "    feature_vector=FEATURE_VECTOR,\n",
    "    gain_column=GAIN_COLUMN_NAME\n",
    ")"
   ]
  },
  {
   "cell_type": "markdown",
   "metadata": {},
   "source": [
    "## NY Taxi and Vehicle Collision Problem"
   ]
  },
  {
   "cell_type": "code",
   "execution_count": 21,
   "metadata": {},
   "outputs": [],
   "source": [
    "taxi_vehicle_collision_classes = predict_class_for_features(\n",
    "    rf_classifier,\n",
    "    'taxi-vehicle-collision-records-features',\n",
    "    FEATURE_VECTOR\n",
    ")"
   ]
  },
  {
   "cell_type": "code",
   "execution_count": 22,
   "metadata": {},
   "outputs": [
    {
     "name": "stdout",
     "output_type": "stream",
     "text": [
      "                                          candidate dataset_ranking_class\n",
      "0            datamart.socrata.data-wa-gov.wajg-ig9g             good_gain\n",
      "1  datamart.upload.a817349748524c618bec5505f46feaef             good_gain\n",
      "2            datamart.socrata.data-wa-gov.wajg-ig9g             good_gain\n"
     ]
    }
   ],
   "source": [
    "print_df(taxi_vehicle_collision_classes)"
   ]
  },
  {
   "cell_type": "markdown",
   "metadata": {},
   "source": [
    "## College Debt"
   ]
  },
  {
   "cell_type": "code",
   "execution_count": 57,
   "metadata": {},
   "outputs": [],
   "source": [
    "college_debt_classes = predict_class_for_features(\n",
    "    rf_classifier,\n",
    "    'college-debt-records-features',\n",
    "    FEATURE_VECTOR\n",
    ")"
   ]
  },
  {
   "cell_type": "code",
   "execution_count": 58,
   "metadata": {},
   "outputs": [
    {
     "name": "stdout",
     "output_type": "stream",
     "text": [
      "                                          candidate        cf      g_r2 class\n",
      "0            datamart.socrata.data-wa-gov.wajg-ig9g  1.000000  0.808117  gain\n",
      "1  datamart.upload.a817349748524c618bec5505f46feaef  1.000000  0.727736  gain\n",
      "2            datamart.socrata.data-wa-gov.wajg-ig9g  0.386005  1.207520  gain\n"
     ]
    }
   ],
   "source": [
    "print_df(college_debt_classes)"
   ]
  },
  {
   "cell_type": "markdown",
   "metadata": {},
   "source": [
    "## Poverty Estimation"
   ]
  },
  {
   "cell_type": "code",
   "execution_count": 59,
   "metadata": {},
   "outputs": [],
   "source": [
    "poverty_estimation_classes = predict_class_for_features(\n",
    "    rf_classifier,\n",
    "    'poverty-estimation-records-features',\n",
    "    FEATURE_VECTOR\n",
    ")"
   ]
  },
  {
   "cell_type": "code",
   "execution_count": 60,
   "metadata": {},
   "outputs": [
    {
     "name": "stdout",
     "output_type": "stream",
     "text": [
      "                                           candidate        cf      g_r2 class\n",
      "0          datamart.socrata.data-sfgov-org.ua32-eewd  0.001276 -0.299140  loss\n",
      "1          datamart.socrata.data-sfgov-org.49cy-x5m5  0.001276 -0.290706  loss\n",
      "2          datamart.socrata.data-sfgov-org.33nh-56zb  0.001276 -0.317801  gain\n",
      "3   datamart.upload.177bdaeafccf45ffb2d28dd1d057197c  1.000000  0.028248  gain\n",
      "4          datamart.socrata.data-sfgov-org.k7mk-w2pq  0.001276 -0.310184  loss\n",
      "5          datamart.socrata.data-sfgov-org.d7xx-7z6v  0.001594 -0.299034  loss\n",
      "6          datamart.socrata.data-sfgov-org.g5sr-9nhs  0.000638 -0.304692  loss\n",
      "7          datamart.socrata.data-sfgov-org.858q-nwrm  0.000319 -0.299818  loss\n",
      "8          datamart.socrata.data-sfgov-org.7qzr-p6xn  0.001276 -0.301699  loss\n",
      "9             datamart.socrata.data-ny-gov.43kr-jb2c  0.015625  1.389624  gain\n",
      "10            datamart.socrata.data-wa-gov.t94r-s3m2  0.012117  0.052730  gain\n"
     ]
    }
   ],
   "source": [
    "print_df(poverty_estimation_classes)"
   ]
  },
  {
   "cell_type": "code",
   "execution_count": null,
   "metadata": {},
   "outputs": [],
   "source": []
  },
  {
   "cell_type": "code",
   "execution_count": null,
   "metadata": {},
   "outputs": [],
   "source": []
  }
 ],
 "metadata": {
  "kernelspec": {
   "display_name": "Python 3",
   "language": "python",
   "name": "python3"
  },
  "language_info": {
   "codemirror_mode": {
    "name": "ipython",
    "version": 3
   },
   "file_extension": ".py",
   "mimetype": "text/x-python",
   "name": "python",
   "nbconvert_exporter": "python",
   "pygments_lexer": "ipython3",
   "version": "3.6.9"
  }
 },
 "nbformat": 4,
 "nbformat_minor": 2
}
