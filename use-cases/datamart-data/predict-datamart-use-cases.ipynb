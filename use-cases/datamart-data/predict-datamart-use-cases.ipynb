{
 "cells": [
  {
   "cell_type": "code",
   "execution_count": 1,
   "metadata": {},
   "outputs": [],
   "source": [
    "import sys\n",
    "import pandas as pd\n",
    "import numpy as np\n",
    "from sklearn.ensemble import RandomForestClassifier\n",
    "from scipy.stats import pearsonr\n",
    "import os"
   ]
  },
  {
   "cell_type": "code",
   "execution_count": 2,
   "metadata": {},
   "outputs": [],
   "source": [
    "FEATURE_VECTOR = ['query_num_of_columns',\n",
    "                  'query_num_of_rows',\n",
    "                  'query_row_column_ratio',\n",
    "                  'query_max_mean',\n",
    "                  'query_max_outlier_percentage',\n",
    "                  'query_max_skewness',\n",
    "                  'query_max_kurtosis',\n",
    "                  'query_max_unique',\n",
    "                  'candidate_num_of_columns',\n",
    "                  'candidate_num_rows',\n",
    "                  'candidate_row_column_ratio',\n",
    "                  'candidate_max_mean',\n",
    "                  'candidate_max_outlier_percentage',\n",
    "                  'candidate_max_skewness',\n",
    "                  'candidate_max_kurtosis',\n",
    "                  'candidate_max_unique',\n",
    "                  'query_target_max_pearson',\n",
    "                  'query_target_max_spearman',\n",
    "                  'query_target_max_covariance',\n",
    "                  'query_target_max_mutual_info',\n",
    "                  'candidate_target_max_pearson',\n",
    "                  'candidate_target_max_spearman',\n",
    "                  'candidate_target_max_covariance',\n",
    "                  'candidate_target_max_mutual_info',\n",
    "                  'max_pearson_difference',\n",
    "                  'containment_fraction']\n",
    "GAIN_COLUMN_NAME = 'gain_in_r2_score'"
   ]
  },
  {
   "cell_type": "code",
   "execution_count": 3,
   "metadata": {},
   "outputs": [],
   "source": [
    "def print_df(df):\n",
    "    with pd.option_context('display.max_rows', None, 'display.max_columns', None):\n",
    "        print(df)"
   ]
  },
  {
   "cell_type": "code",
   "execution_count": 4,
   "metadata": {},
   "outputs": [],
   "source": [
    "def create_model(alpha, training_filename, feature_vector, gain_column):\n",
    "    \"\"\"This functions builds a classifier based on the training data.\n",
    "    \"\"\"\n",
    "    \n",
    "    training_data = pd.read_csv(training_filename)\n",
    "    training_data['class'] = ['gain' if row[gain_column] > alpha else 'loss'\n",
    "                              for index, row in training_data.iterrows()]\n",
    "    X_train = training_data[feature_vector]\n",
    "    y_train = training_data['class']\n",
    "    clf = RandomForestClassifier(random_state=42)\n",
    "    clf.fit(X_train, y_train)\n",
    "    \n",
    "    return clf"
   ]
  },
  {
   "cell_type": "code",
   "execution_count": 5,
   "metadata": {},
   "outputs": [],
   "source": [
    "def predict_class_for_features(classifier, test_filename, feature_vector):\n",
    "\n",
    "    test_data = pd.read_csv(test_filename)\n",
    "    # avoiding overflow\n",
    "    for col in test_data.select_dtypes([np.number]).columns:\n",
    "        test_data = test_data[test_data[col] < np.finfo(np.float32).max]\n",
    "    test_data.reset_index(inplace=True)\n",
    "    X_test = test_data[feature_vector]\n",
    "    # replacing NaN values\n",
    "    if X_test.isna().values.any():\n",
    "        X_test.fillna(value=0, inplace=True)\n",
    "    predicted_classes = classifier.predict(X_test)\n",
    "    predicted_proba = classifier.predict_proba(X_test)\n",
    "    \n",
    "    test_data['class'] = predicted_classes\n",
    "    test_data['candidate'] = test_data['candidate'].apply(\n",
    "        lambda x: os.path.basename(x)\n",
    "    )\n",
    "    test_data.rename(columns={'containment_fraction': 'cf'}, inplace=True)\n",
    "    test_data.rename(columns={'gain_in_r2_score': 'g_r2'}, inplace=True)\n",
    "    \n",
    "    probabilities = pd.DataFrame(predicted_proba, columns=list(classifier.classes_))\n",
    "    test_data['p(gain)'] = probabilities['gain']\n",
    "    test_data['p(loss)'] = probabilities['loss']\n",
    "    \n",
    "    return test_data[['candidate', 'cf', 'g_r2', 'class', 'p(gain)', 'p(loss)']]"
   ]
  },
  {
   "cell_type": "code",
   "execution_count": 6,
   "metadata": {},
   "outputs": [],
   "source": [
    "def compute_precision_recall(df):\n",
    "    \n",
    "    tp = 0\n",
    "    fp = 0\n",
    "    tn = 0\n",
    "    fn = 0\n",
    "    for index, row in df.iterrows():\n",
    "        if row['g_r2'] > 0 and row['class'] == 'gain':\n",
    "            tp += 1\n",
    "        elif row['g_r2'] > 0 and row['class'] == 'loss':\n",
    "            fn += 1\n",
    "        elif row['g_r2'] < 0 and row['class'] == 'gain':\n",
    "            fp += 1\n",
    "        else:\n",
    "            tn += 1\n",
    "\n",
    "    precision = tp / (tp + fp) if tp + fp > 0 else np.nan\n",
    "    recall = tp / (tp + fn) if tp + fn > 0 else np.nan\n",
    "    \n",
    "    print('Precision: %.4f\\nRecall: %.4f'%(precision, recall))"
   ]
  },
  {
   "cell_type": "code",
   "execution_count": 7,
   "metadata": {},
   "outputs": [],
   "source": [
    "def compute_pearson(df, col_1, col_2):\n",
    "    return pearsonr(df[col_1], df[col_2])[0]"
   ]
  },
  {
   "cell_type": "code",
   "execution_count": 8,
   "metadata": {},
   "outputs": [
    {
     "name": "stderr",
     "output_type": "stream",
     "text": [
      "/opt/anaconda3/envs/python-3.6/lib/python3.6/site-packages/sklearn/ensemble/forest.py:245: FutureWarning: The default value of n_estimators will change from 10 in version 0.20 to 100 in 0.22.\n",
      "  \"10 in version 0.20 to 100 in 0.22.\", FutureWarning)\n"
     ]
    }
   ],
   "source": [
    "rf_classifier = create_model(\n",
    "    alpha=0,\n",
    "    training_filename='../data/training-for-model.csv',\n",
    "    feature_vector=FEATURE_VECTOR,\n",
    "    gain_column=GAIN_COLUMN_NAME\n",
    ")"
   ]
  },
  {
   "cell_type": "markdown",
   "metadata": {},
   "source": [
    "## NY Taxi and Vehicle Collision Problem"
   ]
  },
  {
   "cell_type": "code",
   "execution_count": 9,
   "metadata": {
    "scrolled": false
   },
   "outputs": [],
   "source": [
    "taxi_vehicle_collision_classes = predict_class_for_features(\n",
    "    rf_classifier,\n",
    "    'taxi-vehicle-collision-records-features',\n",
    "    FEATURE_VECTOR\n",
    ")"
   ]
  },
  {
   "cell_type": "code",
   "execution_count": 10,
   "metadata": {
    "scrolled": true
   },
   "outputs": [
    {
     "name": "stdout",
     "output_type": "stream",
     "text": [
      "                                             candidate        cf      g_r2  \\\n",
      "0    datamart.socrata.data-cityofchicago-org.ijdy-a...  0.143646  4.029437   \n",
      "1    datamart.socrata.data-cityofchicago-org.ijdy-a...  0.143646  4.029437   \n",
      "2    datamart.socrata.data-ny-gov.869e-5zik_Closing...  0.033149  0.187176   \n",
      "3    datamart.socrata.data-cityofnewyork-us.ucdy-by...  0.011050  0.032369   \n",
      "4          datamart.socrata.data-ny-gov.dtfv-pchi_Date  0.143646  0.658823   \n",
      "5    datamart.socrata.data-cityofnewyork-us.5c4s-jw...  0.033149  1.319678   \n",
      "6    datamart.socrata.data-cityofnewyork-us.wg9x-4k...  0.000000  0.000000   \n",
      "7    datamart.socrata.data-sfgov-org.4phr-3hrm_Elec...  0.000000  0.000000   \n",
      "8    datamart.socrata.data-sfgov-org.62ex-d3qk_Rpt_...  0.005525 -6.566033   \n",
      "9    datamart.socrata.data-sfgov-org.62ex-d3qk_From...  0.016575 -6.326834   \n",
      "10   datamart.socrata.data-sfgov-org.62ex-d3qk_Thru...  0.016575 -5.345981   \n",
      "11   datamart.socrata.data-sfgov-org.62ex-d3qk_Loan...  0.000000  0.000000   \n",
      "12   datamart.socrata.data-sfgov-org.62ex-d3qk_Loan...  0.000000  0.000000   \n",
      "13         datamart.socrata.data-wa-gov.spnc-z2pw_Year  0.005525  0.843505   \n",
      "14    datamart.socrata.data-ny-gov.d6yy-54nr_Draw Date  0.248619  1.898933   \n",
      "15   datamart.socrata.data-sfgov-org.sftu-nd43_Star...  0.000000  0.000000   \n",
      "16   datamart.socrata.data-cityofchicago-org.z2qz-6...  0.143646  2.090370   \n",
      "17   datamart.socrata.data-cityofchicago-org.z2qz-6...  0.143646  2.090370   \n",
      "18   datamart.socrata.data-ny-gov.vxtc-b4mv_Auction...  0.011050 -0.009013   \n",
      "19   datamart.socrata.data-cityofnewyork-us.wye7-ny...  0.016575  1.289680   \n",
      "20   datamart.socrata.data-cityofnewyork-us.wye7-ny...  0.000000  0.000000   \n",
      "21   datamart.socrata.data-cityofnewyork-us.wye7-ny...  0.005525  1.289680   \n",
      "22   datamart.socrata.data-cityofnewyork-us.wye7-ny...  0.005525  1.289680   \n",
      "23   datamart.socrata.data-cityofnewyork-us.smn3-rz...  0.000000  0.000000   \n",
      "24   datamart.socrata.data-sfgov-org.8je3-gv3q_Peri...  0.000000  0.000000   \n",
      "25   datamart.socrata.data-wa-gov.smsu-6nc7_SNOWOFF...  0.000000  0.000000   \n",
      "26   datamart.socrata.data-sfgov-org.2ymc-znns_Crea...  0.000000  0.000000   \n",
      "27         datamart.socrata.data-ny-gov.k7gz-mn77_Date  0.143646 -0.332037   \n",
      "28   datamart.socrata.data-ny-gov.dxta-2hdq_Maturit...  0.000000  0.000000   \n",
      "29   datamart.socrata.data-baltimorecity-gov.bcxw-m...  0.000000  0.000000   \n",
      "30   datamart.socrata.data-baltimorecity-gov.bcxw-m...  0.000000  0.000000   \n",
      "31   datamart.socrata.data-baltimorecity-gov.bcxw-m...  0.000000  0.000000   \n",
      "32         datamart.socrata.data-wa-gov.76ay-i9t9_Year  0.000000  0.000000   \n",
      "33   datamart.socrata.data-cityofnewyork-us.6rrm-vx...  0.000000  0.000000   \n",
      "34   datamart.socrata.data-cityofnewyork-us.6rrm-vx...  0.000000  0.000000   \n",
      "35   datamart.socrata.data-cityofchicago-org.6iiy-9...  1.000000  2.426317   \n",
      "36   datamart.socrata.data-cityofchicago-org.w4qj-h...  0.000000  0.000000   \n",
      "37   datamart.socrata.data-sfgov-org.jjew-r69b_Addr...  0.000000  0.000000   \n",
      "38   datamart.socrata.data-sfgov-org.jjew-r69b_Addr...  0.000000  0.000000   \n",
      "39   datamart.socrata.data-sfgov-org.rqzj-sfat_Rece...  0.000000  0.000000   \n",
      "40   datamart.socrata.data-cityofnewyork-us.qcdj-rw...  0.005525 -6.566033   \n",
      "41         datamart.socrata.data-ny-gov.nqur-w4p7_Date  0.143646  0.958919   \n",
      "42   datamart.socrata.data-cityofnewyork-us.i4ni-6q...  0.000000  0.000000   \n",
      "43     datamart.socrata.data-sfgov-org.mwjb-biik_Month  0.033149 -0.739871   \n",
      "44     datamart.socrata.data-sfgov-org.jz25-nkm4_Month  0.033149 -1.738871   \n",
      "45         datamart.socrata.data-ny-gov.atwy-2trf_Date  0.143646 -0.793523   \n",
      "46   datamart.socrata.data-cityofnewyork-us.exsg-kp...  0.005525 -3.944349   \n",
      "47         datamart.socrata.data-wa-gov.h453-5pgk_Year  0.000000  0.000000   \n",
      "48    datamart.socrata.data-sfgov-org.ckai-dve4_Q18ZIP  0.000000  0.000000   \n",
      "49   datamart.socrata.data-cityofnewyork-us.k46n-sa...  0.972376  4.437217   \n",
      "50   datamart.socrata.data-cityofnewyork-us.ahjc-fd...  0.000000  0.000000   \n",
      "51   datamart.socrata.data-sfgov-org.9dv8-3432_date...  0.022099 -0.968411   \n",
      "52     datamart.socrata.data-sfgov-org.qz8r-q5ne_Month  0.033149 -1.541986   \n",
      "53   datamart.socrata.finances-worldbank-org.9wav-a...  0.000000  0.000000   \n",
      "54   datamart.socrata.data-sfgov-org.aaxw-2cb8_Issu...  0.011050 -6.594115   \n",
      "55   datamart.socrata.data-sfgov-org.2ige-b5yn_Peri...  0.011050 -0.069491   \n",
      "56   datamart.socrata.data-cityofchicago-org.iekz-r...  0.016575 -6.592960   \n",
      "57   datamart.socrata.data-sfgov-org.u7dr-xm3v_Modi...  0.000000  0.000000   \n",
      "58   datamart.socrata.data-ny-gov.ns8z-xewg_Period ...  0.033149  1.272934   \n",
      "59   datamart.socrata.data-cityofnewyork-us.frre-6z...  0.000000  0.000000   \n",
      "60   datamart.socrata.data-ny-gov.9bc8-mx4a_Anniver...  0.011050 -3.935503   \n",
      "61   datamart.socrata.data-cityofnewyork-us.9ck8-hj...  0.000000  0.000000   \n",
      "62    datamart.socrata.data-ny-gov.dg63-4siq_Draw Date  0.000000  0.000000   \n",
      "63   datamart.socrata.data-cityofnewyork-us.33db-ae...  0.033149 -1.722758   \n",
      "64         datamart.socrata.data-wa-gov.tzrg-kkis_Year  0.000000  0.000000   \n",
      "65   datamart.socrata.data-cityofnewyork-us.scjj-6y...  0.027624 -3.894163   \n",
      "66   datamart.socrata.data-cityofnewyork-us.scjj-6y...  0.027624 -3.726598   \n",
      "67   datamart.socrata.data-cityofnewyork-us.scjj-6y...  0.027624 -3.049222   \n",
      "68   datamart.socrata.data-cityofnewyork-us.scjj-6y...  0.033149 -3.177793   \n",
      "69   datamart.socrata.data-cityofnewyork-us.scjj-6y...  0.027624 -3.894163   \n",
      "70    datamart.socrata.data-wa-gov.3cbn-54c3_thru_date  0.022099 -1.864559   \n",
      "71   datamart.socrata.data-cityofchicago-org.7ray-x...  0.143646  4.243559   \n",
      "72   datamart.socrata.data-cityofchicago-org.7ray-x...  0.143646  4.243559   \n",
      "73   datamart.socrata.data-cityofnewyork-us.ukdt-xm...  0.000000  0.000000   \n",
      "74         datamart.socrata.data-wa-gov.uqtn-uip2_Year  0.000000  0.000000   \n",
      "75          datamart.socrata.data-wa-gov.adxt-ewux_End  0.005525 -0.915551   \n",
      "76   datamart.socrata.data-sfgov-org.ez9i-q28j_Fund...  0.016575 -0.008863   \n",
      "77   datamart.socrata.data-cityofnewyork-us.c3kh-he...  0.000000  0.000000   \n",
      "78   datamart.socrata.data-cityofnewyork-us.cvys-e4...  0.016575  0.919021   \n",
      "79   datamart.socrata.data-cityofnewyork-us.cvys-e4...  0.000000  0.000000   \n",
      "80   datamart.socrata.data-sfgov-org.hsxb-ci7b_Effe...  0.005525  1.289680   \n",
      "81   datamart.socrata.data-cityofchicago-org.7bzs-j...  0.000000  0.000000   \n",
      "82   datamart.socrata.data-cityofnewyork-us.53m8-jd...  0.000000  0.000000   \n",
      "83   datamart.socrata.data-cityofnewyork-us.weh8-3u...  0.011050  1.289680   \n",
      "84   datamart.socrata.data-cityofnewyork-us.thqd-de...  0.033149  1.310169   \n",
      "85   datamart.socrata.data-cityofchicago-org.4ygs-9...  0.000000  0.000000   \n",
      "86   datamart.socrata.data-cityofchicago-org.4ygs-9...  0.000000  0.000000   \n",
      "87   datamart.socrata.data-sfgov-org.w6q6-i3uv_Last...  0.000000  0.000000   \n",
      "88   datamart.socrata.data-sfgov-org.w6q6-i3uv_Crea...  0.000000  0.000000   \n",
      "89   datamart.socrata.data-ny-gov.euip-iahh_Quarter...  0.011050 -1.194192   \n",
      "90   datamart.socrata.data-sfgov-org.tcn4-z9dy_Date...  0.022099 -2.312066   \n",
      "91   datamart.socrata.data-cityofnewyork-us.p6h4-mp...  0.000000  0.000000   \n",
      "92   datamart.socrata.data-sfgov-org.j82c-uj4d_Date...  0.011050 -2.180868   \n",
      "93   datamart.socrata.data-cityofchicago-org.3qsz-j...  0.000000  0.000000   \n",
      "94   datamart.socrata.data-cityofchicago-org.kh4r-3...  0.000000  0.000000   \n",
      "95         datamart.socrata.data-wa-gov.j8pm-xq6k_Year  0.000000  0.000000   \n",
      "96         datamart.socrata.data-wa-gov.wdb7-jbuv_Date  0.011050 -0.874845   \n",
      "97   datamart.socrata.data-sfgov-org.e67f-ux3j_peri...  0.011050 -0.069491   \n",
      "98   datamart.upload.e77dcf0a389444c59f19ea4a0aa5ad...  1.000000  2.697906   \n",
      "99   datamart.socrata.data-cityofnewyork-us.wye7-ny...  0.000000  0.000000   \n",
      "100  datamart.socrata.data-sfgov-org.64rb-55bi_fili...  0.000000  0.000000   \n",
      "101  datamart.socrata.data-sfgov-org.9dv8-3432_fili...  0.000000  0.000000   \n",
      "102  datamart.socrata.data-cityofchicago-org.iekz-r...  0.011050 -5.551691   \n",
      "103  datamart.socrata.data-sfgov-org.aaxw-2cb8_Issu...  0.005525 -6.604143   \n",
      "104        datamart.socrata.data-ny-gov.7rev-x3j5_Date  0.143646 -1.817599   \n",
      "105  datamart.socrata.data-cityofnewyork-us.pasr-j7...  0.000000  0.000000   \n",
      "106  datamart.socrata.data-sfgov-org.pm9d-idh4_fili...  0.000000  0.000000   \n",
      "107  datamart.socrata.data-sfgov-org.y9be-fypm_fili...  0.000000  0.000000   \n",
      "108  datamart.socrata.data-sfgov-org.yuvm-3ujh_Cert...  0.016575  0.843505   \n",
      "109  datamart.socrata.data-cityofnewyork-us.7iqz-np...  0.027624  1.289680   \n",
      "110  datamart.socrata.data-cityofnewyork-us.wye7-ny...  0.000000  0.000000   \n",
      "111  datamart.socrata.data-sfgov-org.2ycd-bb2c_fili...  0.000000  0.000000   \n",
      "112  datamart.socrata.data-sfgov-org.u5rm-p23y_fili...  0.000000  0.000000   \n",
      "113  datamart.socrata.data-sfgov-org.u7dr-xm3v_Crea...  0.000000  0.000000   \n",
      "114  datamart.socrata.data-sfgov-org.e67f-ux3j_fili...  0.000000  0.000000   \n",
      "115  datamart.socrata.data-cityofnewyork-us.scjj-6y...  0.060773 -4.851373   \n",
      "116  datamart.socrata.data-sfgov-org.2ymc-znns_Modi...  0.000000  0.000000   \n",
      "117  datamart.socrata.data-cityofchicago-org.iekz-r...  0.011050 -6.554279   \n",
      "118  datamart.socrata.data-cityofnewyork-us.pasr-j7...  0.000000  0.000000   \n",
      "119  datamart.socrata.data-sfgov-org.i67a-ip28_BEST...  0.077348 -6.223293   \n",
      "120   datamart.socrata.data-ny-gov.6nbc-h7bj_Draw Date  0.287293  1.621484   \n",
      "121  datamart.socrata.data-wa-gov.cqra-s74n_Last Up...  0.000000  0.000000   \n",
      "122  datamart.socrata.data-cityofnewyork-us.qcdj-rw...  0.005525 -6.566033   \n",
      "123   datamart.socrata.data-ny-gov.5xaw-6ayf_Draw Date  0.281768  0.894377   \n",
      "124  datamart.socrata.data-cityofnewyork-us.d83i-6u...  0.005525 -6.601569   \n",
      "125  datamart.socrata.data-cityofchicago-org.cyqk-t...  0.000000  0.000000   \n",
      "126  datamart.socrata.data-cityofchicago-org.cyqk-t...  0.000000  0.000000   \n",
      "127  datamart.socrata.data-cityofnewyork-us.scjj-6y...  0.005525 -4.965089   \n",
      "128  datamart.socrata.data-sfgov-org.64rb-55bi_date...  0.011050 -2.180868   \n",
      "129  datamart.socrata.data-wa-gov.5de4-8ezn_Accessi...  0.016575 -2.983338   \n",
      "130  datamart.socrata.data-sfgov-org.n5sf-qqmx_Date...  0.005525  0.843505   \n",
      "131  datamart.socrata.data-ny-gov.rz8t-4kmq_Estimat...  0.005525  1.289680   \n",
      "132  datamart.socrata.data-cityofnewyork-us.ucdy-by...  0.044199 -0.860471   \n",
      "133  datamart.socrata.data-cityofnewyork-us.it9k-rt...  0.005525  1.289680   \n",
      "134  datamart.socrata.data-cityofnewyork-us.i9pf-sj...  0.005525 -0.915551   \n",
      "135  datamart.socrata.data-cityofnewyork-us.i9pf-sj...  0.005525 -0.915551   \n",
      "136  datamart.socrata.data-cityofnewyork-us.cmni-fv...  0.005525 -5.769814   \n",
      "\n",
      "    class  p(gain)  p(loss)  \n",
      "0    loss      0.3      0.7  \n",
      "1    loss      0.3      0.7  \n",
      "2    loss      0.4      0.6  \n",
      "3    loss      0.4      0.6  \n",
      "4    gain      0.6      0.4  \n",
      "5    loss      0.2      0.8  \n",
      "6    loss      0.4      0.6  \n",
      "7    gain      0.5      0.5  \n",
      "8    loss      0.4      0.6  \n",
      "9    loss      0.4      0.6  \n",
      "10   loss      0.4      0.6  \n",
      "11   loss      0.4      0.6  \n",
      "12   loss      0.4      0.6  \n",
      "13   loss      0.4      0.6  \n",
      "14   loss      0.2      0.8  \n",
      "15   gain      0.5      0.5  \n",
      "16   loss      0.2      0.8  \n",
      "17   loss      0.2      0.8  \n",
      "18   loss      0.3      0.7  \n",
      "19   loss      0.3      0.7  \n",
      "20   loss      0.4      0.6  \n",
      "21   loss      0.4      0.6  \n",
      "22   loss      0.4      0.6  \n",
      "23   gain      0.5      0.5  \n",
      "24   loss      0.3      0.7  \n",
      "25   gain      0.5      0.5  \n",
      "26   gain      0.5      0.5  \n",
      "27   gain      0.6      0.4  \n",
      "28   gain      0.5      0.5  \n",
      "29   gain      0.5      0.5  \n",
      "30   gain      0.5      0.5  \n",
      "31   gain      0.5      0.5  \n",
      "32   loss      0.3      0.7  \n",
      "33   gain      0.5      0.5  \n",
      "34   gain      0.5      0.5  \n",
      "35   gain      0.6      0.4  \n",
      "36   gain      0.5      0.5  \n",
      "37   gain      0.5      0.5  \n",
      "38   gain      0.5      0.5  \n",
      "39   gain      0.5      0.5  \n",
      "40   loss      0.4      0.6  \n",
      "41   loss      0.4      0.6  \n",
      "42   gain      0.5      0.5  \n",
      "43   loss      0.2      0.8  \n",
      "44   gain      0.7      0.3  \n",
      "45   gain      0.5      0.5  \n",
      "46   loss      0.4      0.6  \n",
      "47   loss      0.3      0.7  \n",
      "48   gain      0.5      0.5  \n",
      "49   loss      0.3      0.7  \n",
      "50   gain      0.5      0.5  \n",
      "51   loss      0.3      0.7  \n",
      "52   gain      0.7      0.3  \n",
      "53   gain      0.5      0.5  \n",
      "54   loss      0.3      0.7  \n",
      "55   loss      0.3      0.7  \n",
      "56   loss      0.3      0.7  \n",
      "57   gain      0.6      0.4  \n",
      "58   loss      0.3      0.7  \n",
      "59   gain      0.5      0.5  \n",
      "60   loss      0.3      0.7  \n",
      "61   loss      0.4      0.6  \n",
      "62   gain      0.5      0.5  \n",
      "63   gain      0.5      0.5  \n",
      "64   loss      0.2      0.8  \n",
      "65   loss      0.4      0.6  \n",
      "66   loss      0.2      0.8  \n",
      "67   loss      0.4      0.6  \n",
      "68   loss      0.2      0.8  \n",
      "69   loss      0.4      0.6  \n",
      "70   loss      0.3      0.7  \n",
      "71   loss      0.3      0.7  \n",
      "72   loss      0.3      0.7  \n",
      "73   gain      0.5      0.5  \n",
      "74   loss      0.3      0.7  \n",
      "75   gain      0.5      0.5  \n",
      "76   loss      0.3      0.7  \n",
      "77   loss      0.4      0.6  \n",
      "78   gain      0.6      0.4  \n",
      "79   gain      0.5      0.5  \n",
      "80   loss      0.3      0.7  \n",
      "81   gain      0.5      0.5  \n",
      "82   loss      0.4      0.6  \n",
      "83   gain      0.5      0.5  \n",
      "84   loss      0.3      0.7  \n",
      "85   gain      0.7      0.3  \n",
      "86   gain      0.7      0.3  \n",
      "87   loss      0.4      0.6  \n",
      "88   loss      0.4      0.6  \n",
      "89   loss      0.4      0.6  \n",
      "90   loss      0.3      0.7  \n",
      "91   gain      0.5      0.5  \n",
      "92   gain      0.5      0.5  \n",
      "93   loss      0.3      0.7  \n",
      "94   gain      0.5      0.5  \n",
      "95   loss      0.3      0.7  \n",
      "96   loss      0.1      0.9  \n",
      "97   loss      0.2      0.8  \n",
      "98   loss      0.3      0.7  \n",
      "99   loss      0.4      0.6  \n",
      "100  gain      0.5      0.5  \n",
      "101  gain      0.5      0.5  \n",
      "102  loss      0.3      0.7  \n",
      "103  loss      0.4      0.6  \n",
      "104  loss      0.4      0.6  \n",
      "105  gain      0.6      0.4  \n",
      "106  loss      0.4      0.6  \n",
      "107  gain      0.5      0.5  \n",
      "108  loss      0.2      0.8  \n",
      "109  loss      0.2      0.8  \n",
      "110  loss      0.4      0.6  \n",
      "111  loss      0.4      0.6  \n",
      "112  gain      0.5      0.5  \n",
      "113  gain      0.6      0.4  \n",
      "114  loss      0.4      0.6  \n",
      "115  gain      0.5      0.5  \n",
      "116  gain      0.5      0.5  \n",
      "117  loss      0.3      0.7  \n",
      "118  gain      0.6      0.4  \n",
      "119  loss      0.3      0.7  \n",
      "120  loss      0.4      0.6  \n",
      "121  gain      0.5      0.5  \n",
      "122  loss      0.4      0.6  \n",
      "123  gain      0.5      0.5  \n",
      "124  loss      0.4      0.6  \n",
      "125  loss      0.4      0.6  \n",
      "126  loss      0.4      0.6  \n",
      "127  gain      0.5      0.5  \n",
      "128  gain      0.5      0.5  \n",
      "129  gain      0.5      0.5  \n",
      "130  loss      0.4      0.6  \n",
      "131  gain      0.5      0.5  \n",
      "132  gain      0.5      0.5  \n",
      "133  gain      0.5      0.5  \n",
      "134  gain      0.5      0.5  \n",
      "135  gain      0.5      0.5  \n",
      "136  loss      0.4      0.6  \n"
     ]
    }
   ],
   "source": [
    "print_df(taxi_vehicle_collision_classes)"
   ]
  },
  {
   "cell_type": "code",
   "execution_count": 11,
   "metadata": {},
   "outputs": [
    {
     "name": "stdout",
     "output_type": "stream",
     "text": [
      "Precision: 0.3333\n",
      "Recall: 0.2258\n"
     ]
    }
   ],
   "source": [
    "compute_precision_recall(taxi_vehicle_collision_classes)"
   ]
  },
  {
   "cell_type": "code",
   "execution_count": 12,
   "metadata": {},
   "outputs": [
    {
     "data": {
      "text/plain": [
       "0.30926206685429014"
      ]
     },
     "execution_count": 12,
     "metadata": {},
     "output_type": "execute_result"
    }
   ],
   "source": [
    "# Pearson between containment fraction and gain in R2\n",
    "compute_pearson(taxi_vehicle_collision_classes, 'cf', 'g_r2')"
   ]
  },
  {
   "cell_type": "code",
   "execution_count": 13,
   "metadata": {},
   "outputs": [
    {
     "data": {
      "text/plain": [
       "-0.07859762230452515"
      ]
     },
     "execution_count": 13,
     "metadata": {},
     "output_type": "execute_result"
    }
   ],
   "source": [
    "# Pearson between containment fraction and probability of being classified as gain\n",
    "compute_pearson(taxi_vehicle_collision_classes, 'cf', 'p(gain)')"
   ]
  },
  {
   "cell_type": "code",
   "execution_count": 14,
   "metadata": {},
   "outputs": [
    {
     "data": {
      "text/plain": [
       "0.010981608459809515"
      ]
     },
     "execution_count": 14,
     "metadata": {},
     "output_type": "execute_result"
    }
   ],
   "source": [
    "# Pearson between gain in R2 and probability of being classified as gain\n",
    "compute_pearson(taxi_vehicle_collision_classes, 'g_r2', 'p(gain)')"
   ]
  },
  {
   "cell_type": "markdown",
   "metadata": {},
   "source": [
    "## College Debt"
   ]
  },
  {
   "cell_type": "code",
   "execution_count": 15,
   "metadata": {},
   "outputs": [],
   "source": [
    "college_debt_classes = predict_class_for_features(\n",
    "    rf_classifier,\n",
    "    'college-debt-records-features',\n",
    "    FEATURE_VECTOR\n",
    ")"
   ]
  },
  {
   "cell_type": "code",
   "execution_count": 16,
   "metadata": {},
   "outputs": [
    {
     "name": "stdout",
     "output_type": "stream",
     "text": [
      "                                           candidate   cf      g_r2 class  \\\n",
      "0      datamart.socrata.data-wa-gov.wajg-ig9g_UNITID  1.0  0.808117  gain   \n",
      "1  datamart.upload.a817349748524c618bec5505f46fea...  1.0  0.727736  gain   \n",
      "\n",
      "   p(gain)  p(loss)  \n",
      "0      0.8      0.2  \n",
      "1      0.7      0.3  \n"
     ]
    }
   ],
   "source": [
    "print_df(college_debt_classes)"
   ]
  },
  {
   "cell_type": "code",
   "execution_count": 17,
   "metadata": {},
   "outputs": [
    {
     "name": "stdout",
     "output_type": "stream",
     "text": [
      "Precision: 1.0000\n",
      "Recall: 1.0000\n"
     ]
    }
   ],
   "source": [
    "compute_precision_recall(college_debt_classes)"
   ]
  },
  {
   "cell_type": "code",
   "execution_count": 18,
   "metadata": {},
   "outputs": [
    {
     "name": "stderr",
     "output_type": "stream",
     "text": [
      "/opt/anaconda3/envs/python-3.6/lib/python3.6/site-packages/scipy/stats/stats.py:3399: PearsonRConstantInputWarning: An input array is constant; the correlation coefficent is not defined.\n",
      "  warnings.warn(PearsonRConstantInputWarning())\n"
     ]
    },
    {
     "data": {
      "text/plain": [
       "nan"
      ]
     },
     "execution_count": 18,
     "metadata": {},
     "output_type": "execute_result"
    }
   ],
   "source": [
    "# Pearson between containment fraction and gain in R2\n",
    "compute_pearson(college_debt_classes, 'cf', 'g_r2')"
   ]
  },
  {
   "cell_type": "code",
   "execution_count": 19,
   "metadata": {},
   "outputs": [
    {
     "data": {
      "text/plain": [
       "nan"
      ]
     },
     "execution_count": 19,
     "metadata": {},
     "output_type": "execute_result"
    }
   ],
   "source": [
    "# Pearson between containment fraction and probability of being classified as gain\n",
    "compute_pearson(college_debt_classes, 'cf', 'p(gain)')"
   ]
  },
  {
   "cell_type": "code",
   "execution_count": 20,
   "metadata": {},
   "outputs": [
    {
     "data": {
      "text/plain": [
       "1.0"
      ]
     },
     "execution_count": 20,
     "metadata": {},
     "output_type": "execute_result"
    }
   ],
   "source": [
    "# Pearson between gain in R2 and probability of being classified as gain\n",
    "compute_pearson(college_debt_classes, 'g_r2', 'p(gain)')"
   ]
  },
  {
   "cell_type": "markdown",
   "metadata": {},
   "source": [
    "## Poverty Estimation"
   ]
  },
  {
   "cell_type": "code",
   "execution_count": 21,
   "metadata": {},
   "outputs": [],
   "source": [
    "poverty_estimation_classes = predict_class_for_features(\n",
    "    rf_classifier,\n",
    "    'poverty-estimation-records-features',\n",
    "    FEATURE_VECTOR\n",
    ")"
   ]
  },
  {
   "cell_type": "code",
   "execution_count": 22,
   "metadata": {},
   "outputs": [
    {
     "name": "stdout",
     "output_type": "stream",
     "text": [
      "                                           candidate        cf      g_r2  \\\n",
      "0     datamart.socrata.data-sfgov-org.ua32-eewd_MIPS  0.001276 -0.299140   \n",
      "1     datamart.socrata.data-sfgov-org.49cy-x5m5_MIPS  0.001276 -0.290706   \n",
      "2     datamart.socrata.data-sfgov-org.33nh-56zb_MIPS  0.001276 -0.317801   \n",
      "3  datamart.upload.177bdaeafccf45ffb2d28dd1d05719...  1.000000  0.028248   \n",
      "4     datamart.socrata.data-sfgov-org.k7mk-w2pq_MIPS  0.001276 -0.310184   \n",
      "5     datamart.socrata.data-sfgov-org.d7xx-7z6v_MIPS  0.001594 -0.299034   \n",
      "6     datamart.socrata.data-sfgov-org.g5sr-9nhs_MIPS  0.000638 -0.304692   \n",
      "7     datamart.socrata.data-sfgov-org.858q-nwrm_MIPS  0.000319 -0.299818   \n",
      "8     datamart.socrata.data-sfgov-org.7qzr-p6xn_MIPS  0.001276 -0.301699   \n",
      "\n",
      "  class  p(gain)  p(loss)  \n",
      "0  loss      0.3      0.7  \n",
      "1  loss      0.4      0.6  \n",
      "2  gain      0.6      0.4  \n",
      "3  gain      0.6      0.4  \n",
      "4  loss      0.3      0.7  \n",
      "5  loss      0.3      0.7  \n",
      "6  loss      0.3      0.7  \n",
      "7  loss      0.2      0.8  \n",
      "8  loss      0.3      0.7  \n"
     ]
    }
   ],
   "source": [
    "print_df(poverty_estimation_classes)"
   ]
  },
  {
   "cell_type": "code",
   "execution_count": 23,
   "metadata": {},
   "outputs": [
    {
     "name": "stdout",
     "output_type": "stream",
     "text": [
      "Precision: 0.5000\n",
      "Recall: 1.0000\n"
     ]
    }
   ],
   "source": [
    "compute_precision_recall(poverty_estimation_classes)"
   ]
  },
  {
   "cell_type": "code",
   "execution_count": 24,
   "metadata": {},
   "outputs": [
    {
     "data": {
      "text/plain": [
       "0.997610183234824"
      ]
     },
     "execution_count": 24,
     "metadata": {},
     "output_type": "execute_result"
    }
   ],
   "source": [
    "# Pearson between containment fraction and gain in R2\n",
    "compute_pearson(poverty_estimation_classes, 'cf', 'g_r2')"
   ]
  },
  {
   "cell_type": "code",
   "execution_count": 25,
   "metadata": {},
   "outputs": [
    {
     "data": {
      "text/plain": [
       "0.6190989311094166"
      ]
     },
     "execution_count": 25,
     "metadata": {},
     "output_type": "execute_result"
    }
   ],
   "source": [
    "# Pearson between containment fraction and probability of being classified as gain\n",
    "compute_pearson(poverty_estimation_classes, 'cf', 'p(gain)')"
   ]
  },
  {
   "cell_type": "code",
   "execution_count": 26,
   "metadata": {},
   "outputs": [
    {
     "data": {
      "text/plain": [
       "0.5887713733160523"
      ]
     },
     "execution_count": 26,
     "metadata": {},
     "output_type": "execute_result"
    }
   ],
   "source": [
    "# Pearson between gain in R2 and probability of being classified as gain\n",
    "compute_pearson(poverty_estimation_classes, 'g_r2', 'p(gain)')"
   ]
  },
  {
   "cell_type": "code",
   "execution_count": null,
   "metadata": {},
   "outputs": [],
   "source": []
  }
 ],
 "metadata": {
  "kernelspec": {
   "display_name": "Python 3",
   "language": "python",
   "name": "python3"
  },
  "language_info": {
   "codemirror_mode": {
    "name": "ipython",
    "version": 3
   },
   "file_extension": ".py",
   "mimetype": "text/x-python",
   "name": "python",
   "nbconvert_exporter": "python",
   "pygments_lexer": "ipython3",
   "version": "3.6.9"
  }
 },
 "nbformat": 4,
 "nbformat_minor": 2
}
