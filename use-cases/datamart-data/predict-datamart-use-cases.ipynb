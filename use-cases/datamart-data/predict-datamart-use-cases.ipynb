{
 "cells": [
  {
   "cell_type": "code",
   "execution_count": 1,
   "metadata": {},
   "outputs": [],
   "source": [
    "import sys\n",
    "import pandas as pd\n",
    "import numpy as np\n",
    "from sklearn.ensemble import RandomForestClassifier\n",
    "from scipy.stats import pearsonr\n",
    "import os\n",
    "import eli5"
   ]
  },
  {
   "cell_type": "code",
   "execution_count": 97,
   "metadata": {},
   "outputs": [],
   "source": [
    "pd.set_option(\n",
    "    'display.float_format',\n",
    "    lambda x: '%.5f' % x\n",
    ")"
   ]
  },
  {
   "cell_type": "code",
   "execution_count": 140,
   "metadata": {},
   "outputs": [],
   "source": [
    "FEATURE_VECTOR = ['query_num_of_columns',\n",
    "                  'query_num_of_rows',\n",
    "                  'query_row_column_ratio',\n",
    "                  #'query_max_mean',\n",
    "                  'query_max_outlier_percentage',\n",
    "                  'query_max_skewness',\n",
    "                  'query_max_kurtosis',\n",
    "                  'query_max_unique',\n",
    "                  'candidate_num_of_columns',\n",
    "                  'candidate_num_rows',\n",
    "                  'candidate_row_column_ratio',\n",
    "                  #'candidate_max_mean',\n",
    "                  'candidate_max_outlier_percentage',\n",
    "                  'candidate_max_skewness',\n",
    "                  'candidate_max_kurtosis',\n",
    "                  'candidate_max_unique',\n",
    "                  'query_target_max_pearson',\n",
    "                  'query_target_max_spearman',\n",
    "                  'query_target_max_covariance',\n",
    "                  'query_target_max_mutual_info',\n",
    "                  'candidate_target_max_pearson',\n",
    "                  'candidate_target_max_spearman',\n",
    "                  'candidate_target_max_covariance',\n",
    "                  'candidate_target_max_mutual_info',\n",
    "                  'max_pearson_difference',\n",
    "                  'containment_fraction']\n",
    "ABS_FEATURE_VECTOR = ['query_target_max_pearson',\n",
    "                      'candidate_target_max_pearson',\n",
    "                      'query_target_max_spearman',\n",
    "                      'candidate_target_max_spearman',\n",
    "                      'query_target_max_covariance',\n",
    "                      'candidate_target_max_covariance',\n",
    "                      'query_target_max_mutual_info',\n",
    "                      'candidate_target_max_mutual_info',\n",
    "                      'max_pearson_difference']\n",
    "GAIN_COLUMN_NAME = 'gain_in_r2_score'"
   ]
  },
  {
   "cell_type": "code",
   "execution_count": 96,
   "metadata": {},
   "outputs": [],
   "source": [
    "def print_df(df):\n",
    "    with pd.option_context('display.max_rows', None, 'display.max_columns', None):\n",
    "        df_sort = df.sort_values('g_r2', ascending=False)\n",
    "        df_sort.reset_index(inplace=True)\n",
    "        print(df_sort)"
   ]
  },
  {
   "cell_type": "code",
   "execution_count": 66,
   "metadata": {},
   "outputs": [],
   "source": [
    "def abs_features(df, features):\n",
    "    \"\"\"Applies modulus to the input features.\n",
    "    \"\"\"\n",
    "    \n",
    "    for f in features:\n",
    "        df[f] = np.fabs(df[f])"
   ]
  },
  {
   "cell_type": "code",
   "execution_count": 145,
   "metadata": {},
   "outputs": [],
   "source": [
    "def create_model(alpha, training_filename, feature_vector, gain_column):\n",
    "    \"\"\"This functions builds a classifier based on the training data.\n",
    "    \"\"\"\n",
    "    \n",
    "    training_data = pd.read_csv(training_filename)\n",
    "    training_data['class'] = ['gain' if row[gain_column] > alpha else 'loss'\n",
    "                              for index, row in training_data.iterrows()]\n",
    "    X_train = training_data[feature_vector]\n",
    "    y_train = training_data['class']\n",
    "    \n",
    "    abs_features(X_train, ABS_FEATURE_VECTOR)\n",
    "    \n",
    "    clf = RandomForestClassifier(random_state=42)\n",
    "    clf.fit(X_train, y_train)\n",
    "    \n",
    "    return clf"
   ]
  },
  {
   "cell_type": "code",
   "execution_count": 108,
   "metadata": {},
   "outputs": [],
   "source": [
    "def predict_class_for_features(classifier, test_filename, feature_vector):\n",
    "\n",
    "    test_data = pd.read_csv(test_filename)\n",
    "    # avoiding overflow\n",
    "    for col in test_data.select_dtypes([np.number]).columns:\n",
    "        test_data = test_data[test_data[col] < np.finfo(np.float32).max]\n",
    "    test_data.reset_index(inplace=True)\n",
    "    X_test = test_data[feature_vector]\n",
    "    # replacing NaN values\n",
    "    if X_test.isna().values.any():\n",
    "        X_test.fillna(value=0, inplace=True)\n",
    "        \n",
    "    abs_features(X_test, ABS_FEATURE_VECTOR)\n",
    "        \n",
    "    predicted_classes = classifier.predict(X_test)\n",
    "    predicted_proba = classifier.predict_proba(X_test)\n",
    "    \n",
    "    explanations = list()\n",
    "    for index, row in X_test.iterrows():\n",
    "        explanations.append(eli5.explain_prediction_df(classifier, X_test.iloc[index]))\n",
    "    \n",
    "    test_data['class'] = predicted_classes\n",
    "    test_data['candidate'] = test_data['candidate'].apply(\n",
    "        lambda x: os.path.basename(x)\n",
    "    )\n",
    "    test_data.rename(columns={'containment_fraction': 'cf'}, inplace=True)\n",
    "    test_data.rename(columns={'gain_in_r2_score': 'g_r2'}, inplace=True)\n",
    "    \n",
    "    probabilities = pd.DataFrame(predicted_proba, columns=list(classifier.classes_))\n",
    "    test_data['p(gain)'] = probabilities['gain']\n",
    "    test_data['p(loss)'] = probabilities['loss']\n",
    "    \n",
    "    return (test_data[['candidate', 'cf', 'g_r2', 'class', 'p(gain)', 'p(loss)']], explanations)"
   ]
  },
  {
   "cell_type": "code",
   "execution_count": 49,
   "metadata": {},
   "outputs": [],
   "source": [
    "def compute_precision_recall(df):\n",
    "    \n",
    "    df_sort = df.sort_values('g_r2', ascending=False)\n",
    "    df_sort.reset_index(inplace=True)\n",
    "    \n",
    "    tp = 0\n",
    "    fp = 0\n",
    "    tn = 0\n",
    "    fn = 0\n",
    "    \n",
    "    tp_vals = list()\n",
    "    fp_vals = list()\n",
    "    tn_vals = list()\n",
    "    fn_vals = list()\n",
    "    \n",
    "    for index, row in df_sort.iterrows():\n",
    "        if row['g_r2'] > 0 and row['class'] == 'gain':\n",
    "            tp_vals.append((index, row['index'], row['g_r2'], row['p(gain)'], row['cf']))\n",
    "            tp += 1\n",
    "        elif row['g_r2'] > 0 and row['class'] == 'loss':\n",
    "            fn_vals.append((index, row['index'], row['g_r2'], row['p(gain)'], row['cf']))\n",
    "            fn += 1\n",
    "        elif row['g_r2'] < 0 and row['class'] == 'gain':\n",
    "            fp_vals.append((index, row['index'], row['g_r2'], row['p(gain)'], row['cf']))\n",
    "            fp += 1\n",
    "        else:\n",
    "            tn_vals.append((index, row['index'], row['g_r2'], row['p(gain)'], row['cf']))\n",
    "            tn += 1\n",
    "            \n",
    "    print(\"-- TP:\", tp)\n",
    "    for item in tp_vals:\n",
    "        print(\"   . %d\\t\\t%d\\t%.6f\\t%.6f\\t%.6f\"%(item[0], item[1], item[2], item[3], item[4]))\n",
    "    print(\"-- TN:\", tn)\n",
    "    for item in tn_vals:\n",
    "        print(\"   . %d\\t\\t%d\\t%.6f\\t%.6f\\t%.6f\"%(item[0], item[1], item[2], item[3], item[4]))\n",
    "    print(\"-- FP:\", fp)\n",
    "    for item in fp_vals:\n",
    "        print(\"   . %d\\t\\t%d\\t%.6f\\t%.6f\\t%.6f\"%(item[0], item[1], item[2], item[3], item[4]))\n",
    "    print(\"-- FN:\", fn)\n",
    "    for item in fn_vals:\n",
    "        print(\"   . %d\\t\\t%d\\t%.6f\\t%.6f\\t%.6f\"%(item[0], item[1], item[2], item[3], item[4]))\n",
    "\n",
    "    precision = tp / (tp + fp) if tp + fp > 0 else np.nan\n",
    "    recall = tp / (tp + fn) if tp + fn > 0 else np.nan\n",
    "    \n",
    "    print('Precision: %.4f\\nRecall: %.4f'%(precision, recall))"
   ]
  },
  {
   "cell_type": "code",
   "execution_count": 7,
   "metadata": {},
   "outputs": [],
   "source": [
    "def compute_pearson(df, col_1, col_2):\n",
    "    return pearsonr(df[col_1], df[col_2])[0]"
   ]
  },
  {
   "cell_type": "code",
   "execution_count": 146,
   "metadata": {},
   "outputs": [
    {
     "name": "stderr",
     "output_type": "stream",
     "text": [
      "/opt/anaconda3/envs/python-3.6/lib/python3.6/site-packages/ipykernel_launcher.py:6: SettingWithCopyWarning: \n",
      "A value is trying to be set on a copy of a slice from a DataFrame.\n",
      "Try using .loc[row_indexer,col_indexer] = value instead\n",
      "\n",
      "See the caveats in the documentation: http://pandas.pydata.org/pandas-docs/stable/user_guide/indexing.html#returning-a-view-versus-a-copy\n",
      "  \n",
      "/opt/anaconda3/envs/python-3.6/lib/python3.6/site-packages/sklearn/ensemble/forest.py:245: FutureWarning: The default value of n_estimators will change from 10 in version 0.20 to 100 in 0.22.\n",
      "  \"10 in version 0.20 to 100 in 0.22.\", FutureWarning)\n"
     ]
    }
   ],
   "source": [
    "rf_classifier = create_model(\n",
    "    alpha=0,\n",
    "    training_filename='../data/training-for-model.csv',\n",
    "    feature_vector=FEATURE_VECTOR,\n",
    "    gain_column=GAIN_COLUMN_NAME\n",
    ")"
   ]
  },
  {
   "cell_type": "markdown",
   "metadata": {},
   "source": [
    "## NY Taxi and Vehicle Collision Problem"
   ]
  },
  {
   "cell_type": "code",
   "execution_count": 147,
   "metadata": {
    "scrolled": false
   },
   "outputs": [
    {
     "name": "stderr",
     "output_type": "stream",
     "text": [
      "/opt/anaconda3/envs/python-3.6/lib/python3.6/site-packages/ipykernel_launcher.py:6: SettingWithCopyWarning: \n",
      "A value is trying to be set on a copy of a slice from a DataFrame.\n",
      "Try using .loc[row_indexer,col_indexer] = value instead\n",
      "\n",
      "See the caveats in the documentation: http://pandas.pydata.org/pandas-docs/stable/user_guide/indexing.html#returning-a-view-versus-a-copy\n",
      "  \n"
     ]
    }
   ],
   "source": [
    "taxi_vehicle_collision_classes, taxi_vehicle_collision_explanations = predict_class_for_features(\n",
    "    rf_classifier,\n",
    "    'taxi-vehicle-collision-records-features',\n",
    "    FEATURE_VECTOR\n",
    ")"
   ]
  },
  {
   "cell_type": "code",
   "execution_count": 148,
   "metadata": {
    "scrolled": true
   },
   "outputs": [
    {
     "name": "stdout",
     "output_type": "stream",
     "text": [
      "     index                                          candidate      cf  \\\n",
      "0       49  datamart.socrata.data-cityofnewyork-us.k46n-sa... 0.97238   \n",
      "1       72  datamart.socrata.data-cityofchicago-org.7ray-x... 0.14365   \n",
      "2       71  datamart.socrata.data-cityofchicago-org.7ray-x... 0.14365   \n",
      "3        0  datamart.socrata.data-cityofchicago-org.ijdy-a... 0.14365   \n",
      "4        1  datamart.socrata.data-cityofchicago-org.ijdy-a... 0.14365   \n",
      "5       98  datamart.upload.e77dcf0a389444c59f19ea4a0aa5ad... 1.00000   \n",
      "6       35  datamart.socrata.data-cityofchicago-org.6iiy-9... 1.00000   \n",
      "7       16  datamart.socrata.data-cityofchicago-org.z2qz-6... 0.14365   \n",
      "8       17  datamart.socrata.data-cityofchicago-org.z2qz-6... 0.14365   \n",
      "9       14   datamart.socrata.data-ny-gov.d6yy-54nr_Draw Date 0.24862   \n",
      "10     120   datamart.socrata.data-ny-gov.6nbc-h7bj_Draw Date 0.28729   \n",
      "11       5  datamart.socrata.data-cityofnewyork-us.5c4s-jw... 0.03315   \n",
      "12      84  datamart.socrata.data-cityofnewyork-us.thqd-de... 0.03315   \n",
      "13      19  datamart.socrata.data-cityofnewyork-us.wye7-ny... 0.01657   \n",
      "14      83  datamart.socrata.data-cityofnewyork-us.weh8-3u... 0.01105   \n",
      "15      80  datamart.socrata.data-sfgov-org.hsxb-ci7b_Effe... 0.00552   \n",
      "16     133  datamart.socrata.data-cityofnewyork-us.it9k-rt... 0.00552   \n",
      "17     131  datamart.socrata.data-ny-gov.rz8t-4kmq_Estimat... 0.00552   \n",
      "18      21  datamart.socrata.data-cityofnewyork-us.wye7-ny... 0.00552   \n",
      "19     109  datamart.socrata.data-cityofnewyork-us.7iqz-np... 0.02762   \n",
      "20      22  datamart.socrata.data-cityofnewyork-us.wye7-ny... 0.00552   \n",
      "21      58  datamart.socrata.data-ny-gov.ns8z-xewg_Period ... 0.03315   \n",
      "22      41        datamart.socrata.data-ny-gov.nqur-w4p7_Date 0.14365   \n",
      "23      78  datamart.socrata.data-cityofnewyork-us.cvys-e4... 0.01657   \n",
      "24     123   datamart.socrata.data-ny-gov.5xaw-6ayf_Draw Date 0.28177   \n",
      "25      13        datamart.socrata.data-wa-gov.spnc-z2pw_Year 0.00552   \n",
      "26     108  datamart.socrata.data-sfgov-org.yuvm-3ujh_Cert... 0.01657   \n",
      "27     130  datamart.socrata.data-sfgov-org.n5sf-qqmx_Date... 0.00552   \n",
      "28       4        datamart.socrata.data-ny-gov.dtfv-pchi_Date 0.14365   \n",
      "29       2  datamart.socrata.data-ny-gov.869e-5zik_Closing... 0.03315   \n",
      "30       3  datamart.socrata.data-cityofnewyork-us.ucdy-by... 0.01105   \n",
      "31      81  datamart.socrata.data-cityofchicago-org.7bzs-j... 0.00000   \n",
      "32      85  datamart.socrata.data-cityofchicago-org.4ygs-9... 0.00000   \n",
      "33       6  datamart.socrata.data-cityofnewyork-us.wg9x-4k... 0.00000   \n",
      "34       7  datamart.socrata.data-sfgov-org.4phr-3hrm_Elec... 0.00000   \n",
      "35      82  datamart.socrata.data-cityofnewyork-us.53m8-jd... 0.00000   \n",
      "36      79  datamart.socrata.data-cityofnewyork-us.cvys-e4... 0.00000   \n",
      "37      87  datamart.socrata.data-sfgov-org.w6q6-i3uv_Last... 0.00000   \n",
      "38      77  datamart.socrata.data-cityofnewyork-us.c3kh-he... 0.00000   \n",
      "39      74        datamart.socrata.data-wa-gov.uqtn-uip2_Year 0.00000   \n",
      "40      73  datamart.socrata.data-cityofnewyork-us.ukdt-xm... 0.00000   \n",
      "41      11  datamart.socrata.data-sfgov-org.62ex-d3qk_Loan... 0.00000   \n",
      "42      23  datamart.socrata.data-cityofnewyork-us.smn3-rz... 0.00000   \n",
      "43      12  datamart.socrata.data-sfgov-org.62ex-d3qk_Loan... 0.00000   \n",
      "44      86  datamart.socrata.data-cityofchicago-org.4ygs-9... 0.00000   \n",
      "45      93  datamart.socrata.data-cityofchicago-org.3qsz-j... 0.00000   \n",
      "46      88  datamart.socrata.data-sfgov-org.w6q6-i3uv_Crea... 0.00000   \n",
      "47      91  datamart.socrata.data-cityofnewyork-us.p6h4-mp... 0.00000   \n",
      "48     114  datamart.socrata.data-sfgov-org.e67f-ux3j_fili... 0.00000   \n",
      "49     113  datamart.socrata.data-sfgov-org.u7dr-xm3v_Crea... 0.00000   \n",
      "50     112  datamart.socrata.data-sfgov-org.u5rm-p23y_fili... 0.00000   \n",
      "51     111  datamart.socrata.data-sfgov-org.2ycd-bb2c_fili... 0.00000   \n",
      "52     110  datamart.socrata.data-cityofnewyork-us.wye7-ny... 0.00000   \n",
      "53     107  datamart.socrata.data-sfgov-org.y9be-fypm_fili... 0.00000   \n",
      "54     106  datamart.socrata.data-sfgov-org.pm9d-idh4_fili... 0.00000   \n",
      "55     105  datamart.socrata.data-cityofnewyork-us.pasr-j7... 0.00000   \n",
      "56     121  datamart.socrata.data-wa-gov.cqra-s74n_Last Up... 0.00000   \n",
      "57     101  datamart.socrata.data-sfgov-org.9dv8-3432_fili... 0.00000   \n",
      "58     100  datamart.socrata.data-sfgov-org.64rb-55bi_fili... 0.00000   \n",
      "59      99  datamart.socrata.data-cityofnewyork-us.wye7-ny... 0.00000   \n",
      "60      95        datamart.socrata.data-wa-gov.j8pm-xq6k_Year 0.00000   \n",
      "61      94  datamart.socrata.data-cityofchicago-org.kh4r-3... 0.00000   \n",
      "62     126  datamart.socrata.data-cityofchicago-org.cyqk-t... 0.00000   \n",
      "63     125  datamart.socrata.data-cityofchicago-org.cyqk-t... 0.00000   \n",
      "64      20  datamart.socrata.data-cityofnewyork-us.wye7-ny... 0.00000   \n",
      "65      64        datamart.socrata.data-wa-gov.tzrg-kkis_Year 0.00000   \n",
      "66      33  datamart.socrata.data-cityofnewyork-us.6rrm-vx... 0.00000   \n",
      "67      15  datamart.socrata.data-sfgov-org.sftu-nd43_Star... 0.00000   \n",
      "68      42  datamart.socrata.data-cityofnewyork-us.i4ni-6q... 0.00000   \n",
      "69      39  datamart.socrata.data-sfgov-org.rqzj-sfat_Rece... 0.00000   \n",
      "70      38  datamart.socrata.data-sfgov-org.jjew-r69b_Addr... 0.00000   \n",
      "71      37  datamart.socrata.data-sfgov-org.jjew-r69b_Addr... 0.00000   \n",
      "72      36  datamart.socrata.data-cityofchicago-org.w4qj-h... 0.00000   \n",
      "73      34  datamart.socrata.data-cityofnewyork-us.6rrm-vx... 0.00000   \n",
      "74      32        datamart.socrata.data-wa-gov.76ay-i9t9_Year 0.00000   \n",
      "75      48   datamart.socrata.data-sfgov-org.ckai-dve4_Q18ZIP 0.00000   \n",
      "76      31  datamart.socrata.data-baltimorecity-gov.bcxw-m... 0.00000   \n",
      "77      30  datamart.socrata.data-baltimorecity-gov.bcxw-m... 0.00000   \n",
      "78      29  datamart.socrata.data-baltimorecity-gov.bcxw-m... 0.00000   \n",
      "79      28  datamart.socrata.data-ny-gov.dxta-2hdq_Maturit... 0.00000   \n",
      "80      26  datamart.socrata.data-sfgov-org.2ymc-znns_Crea... 0.00000   \n",
      "81      25  datamart.socrata.data-wa-gov.smsu-6nc7_SNOWOFF... 0.00000   \n",
      "82      24  datamart.socrata.data-sfgov-org.8je3-gv3q_Peri... 0.00000   \n",
      "83      47        datamart.socrata.data-wa-gov.h453-5pgk_Year 0.00000   \n",
      "84     118  datamart.socrata.data-cityofnewyork-us.pasr-j7... 0.00000   \n",
      "85      50  datamart.socrata.data-cityofnewyork-us.ahjc-fd... 0.00000   \n",
      "86      53  datamart.socrata.finances-worldbank-org.9wav-a... 0.00000   \n",
      "87      59  datamart.socrata.data-cityofnewyork-us.frre-6z... 0.00000   \n",
      "88     116  datamart.socrata.data-sfgov-org.2ymc-znns_Modi... 0.00000   \n",
      "89      57  datamart.socrata.data-sfgov-org.u7dr-xm3v_Modi... 0.00000   \n",
      "90      62   datamart.socrata.data-ny-gov.dg63-4siq_Draw Date 0.00000   \n",
      "91      61  datamart.socrata.data-cityofnewyork-us.9ck8-hj... 0.00000   \n",
      "92      76  datamart.socrata.data-sfgov-org.ez9i-q28j_Fund... 0.01657   \n",
      "93      18  datamart.socrata.data-ny-gov.vxtc-b4mv_Auction... 0.01105   \n",
      "94      97  datamart.socrata.data-sfgov-org.e67f-ux3j_peri... 0.01105   \n",
      "95      55  datamart.socrata.data-sfgov-org.2ige-b5yn_Peri... 0.01105   \n",
      "96      27        datamart.socrata.data-ny-gov.k7gz-mn77_Date 0.14365   \n",
      "97      43    datamart.socrata.data-sfgov-org.mwjb-biik_Month 0.03315   \n",
      "98      45        datamart.socrata.data-ny-gov.atwy-2trf_Date 0.14365   \n",
      "99     132  datamart.socrata.data-cityofnewyork-us.ucdy-by... 0.04420   \n",
      "100     96        datamart.socrata.data-wa-gov.wdb7-jbuv_Date 0.01105   \n",
      "101    135  datamart.socrata.data-cityofnewyork-us.i9pf-sj... 0.00552   \n",
      "102     75         datamart.socrata.data-wa-gov.adxt-ewux_End 0.00552   \n",
      "103    134  datamart.socrata.data-cityofnewyork-us.i9pf-sj... 0.00552   \n",
      "104     51  datamart.socrata.data-sfgov-org.9dv8-3432_date... 0.02210   \n",
      "105     89  datamart.socrata.data-ny-gov.euip-iahh_Quarter... 0.01105   \n",
      "106     52    datamart.socrata.data-sfgov-org.qz8r-q5ne_Month 0.03315   \n",
      "107     63  datamart.socrata.data-cityofnewyork-us.33db-ae... 0.03315   \n",
      "108     44    datamart.socrata.data-sfgov-org.jz25-nkm4_Month 0.03315   \n",
      "109    104        datamart.socrata.data-ny-gov.7rev-x3j5_Date 0.14365   \n",
      "110     70   datamart.socrata.data-wa-gov.3cbn-54c3_thru_date 0.02210   \n",
      "111    128  datamart.socrata.data-sfgov-org.64rb-55bi_date... 0.01105   \n",
      "112     92  datamart.socrata.data-sfgov-org.j82c-uj4d_Date... 0.01105   \n",
      "113     90  datamart.socrata.data-sfgov-org.tcn4-z9dy_Date... 0.02210   \n",
      "114    129  datamart.socrata.data-wa-gov.5de4-8ezn_Accessi... 0.01657   \n",
      "115     67  datamart.socrata.data-cityofnewyork-us.scjj-6y... 0.02762   \n",
      "116     68  datamart.socrata.data-cityofnewyork-us.scjj-6y... 0.03315   \n",
      "117     66  datamart.socrata.data-cityofnewyork-us.scjj-6y... 0.02762   \n",
      "118     65  datamart.socrata.data-cityofnewyork-us.scjj-6y... 0.02762   \n",
      "119     69  datamart.socrata.data-cityofnewyork-us.scjj-6y... 0.02762   \n",
      "120     60  datamart.socrata.data-ny-gov.9bc8-mx4a_Anniver... 0.01105   \n",
      "121     46  datamart.socrata.data-cityofnewyork-us.exsg-kp... 0.00552   \n",
      "122    115  datamart.socrata.data-cityofnewyork-us.scjj-6y... 0.06077   \n",
      "123    127  datamart.socrata.data-cityofnewyork-us.scjj-6y... 0.00552   \n",
      "124     10  datamart.socrata.data-sfgov-org.62ex-d3qk_Thru... 0.01657   \n",
      "125    102  datamart.socrata.data-cityofchicago-org.iekz-r... 0.01105   \n",
      "126    136  datamart.socrata.data-cityofnewyork-us.cmni-fv... 0.00552   \n",
      "127    119  datamart.socrata.data-sfgov-org.i67a-ip28_BEST... 0.07735   \n",
      "128      9  datamart.socrata.data-sfgov-org.62ex-d3qk_From... 0.01657   \n",
      "129    117  datamart.socrata.data-cityofchicago-org.iekz-r... 0.01105   \n",
      "130    122  datamart.socrata.data-cityofnewyork-us.qcdj-rw... 0.00552   \n",
      "131     40  datamart.socrata.data-cityofnewyork-us.qcdj-rw... 0.00552   \n",
      "132      8  datamart.socrata.data-sfgov-org.62ex-d3qk_Rpt_... 0.00552   \n",
      "133     56  datamart.socrata.data-cityofchicago-org.iekz-r... 0.01657   \n",
      "134     54  datamart.socrata.data-sfgov-org.aaxw-2cb8_Issu... 0.01105   \n",
      "135    124  datamart.socrata.data-cityofnewyork-us.d83i-6u... 0.00552   \n",
      "136    103  datamart.socrata.data-sfgov-org.aaxw-2cb8_Issu... 0.00552   \n",
      "\n",
      "        g_r2 class  p(gain)  p(loss)  \n",
      "0    4.43722  gain  0.80000  0.20000  \n",
      "1    4.24356  gain  0.60000  0.40000  \n",
      "2    4.24356  gain  0.60000  0.40000  \n",
      "3    4.02944  gain  0.80000  0.20000  \n",
      "4    4.02944  gain  0.80000  0.20000  \n",
      "5    2.69791  gain  0.50000  0.50000  \n",
      "6    2.42632  gain  0.70000  0.30000  \n",
      "7    2.09037  gain  0.70000  0.30000  \n",
      "8    2.09037  gain  0.70000  0.30000  \n",
      "9    1.89893  gain  0.90000  0.10000  \n",
      "10   1.62148  gain  0.70000  0.30000  \n",
      "11   1.31968  gain  0.70000  0.30000  \n",
      "12   1.31017  gain  0.90000  0.10000  \n",
      "13   1.28968  gain  0.50000  0.50000  \n",
      "14   1.28968  loss  0.40000  0.60000  \n",
      "15   1.28968  gain  0.80000  0.20000  \n",
      "16   1.28968  gain  0.70000  0.30000  \n",
      "17   1.28968  gain  0.50000  0.50000  \n",
      "18   1.28968  gain  0.90000  0.10000  \n",
      "19   1.28968  gain  0.70000  0.30000  \n",
      "20   1.28968  gain  0.90000  0.10000  \n",
      "21   1.27293  gain  0.60000  0.40000  \n",
      "22   0.95892  gain  0.60000  0.40000  \n",
      "23   0.91902  loss  0.40000  0.60000  \n",
      "24   0.89438  gain  0.50000  0.50000  \n",
      "25   0.84351  gain  0.70000  0.30000  \n",
      "26   0.84351  loss  0.40000  0.60000  \n",
      "27   0.84351  gain  0.90000  0.10000  \n",
      "28   0.65882  gain  0.70000  0.30000  \n",
      "29   0.18718  gain  0.50000  0.50000  \n",
      "30   0.03237  gain  0.60000  0.40000  \n",
      "31   0.00000  gain  0.60000  0.40000  \n",
      "32   0.00000  gain  0.80000  0.20000  \n",
      "33   0.00000  gain  0.60000  0.40000  \n",
      "34   0.00000  gain  0.50000  0.50000  \n",
      "35   0.00000  gain  0.50000  0.50000  \n",
      "36   0.00000  gain  0.80000  0.20000  \n",
      "37   0.00000  gain  0.50000  0.50000  \n",
      "38   0.00000  gain  0.70000  0.30000  \n",
      "39   0.00000  gain  0.80000  0.20000  \n",
      "40   0.00000  gain  0.50000  0.50000  \n",
      "41   0.00000  gain  0.70000  0.30000  \n",
      "42   0.00000  gain  0.70000  0.30000  \n",
      "43   0.00000  gain  0.70000  0.30000  \n",
      "44   0.00000  gain  0.80000  0.20000  \n",
      "45   0.00000  gain  0.90000  0.10000  \n",
      "46   0.00000  gain  0.50000  0.50000  \n",
      "47   0.00000  gain  0.80000  0.20000  \n",
      "48   0.00000  gain  0.70000  0.30000  \n",
      "49   0.00000  gain  0.60000  0.40000  \n",
      "50   0.00000  gain  0.60000  0.40000  \n",
      "51   0.00000  gain  0.90000  0.10000  \n",
      "52   0.00000  gain  0.90000  0.10000  \n",
      "53   0.00000  gain  0.50000  0.50000  \n",
      "54   0.00000  gain  0.50000  0.50000  \n",
      "55   0.00000  gain  0.50000  0.50000  \n",
      "56   0.00000  gain  0.50000  0.50000  \n",
      "57   0.00000  gain  0.50000  0.50000  \n",
      "58   0.00000  gain  0.50000  0.50000  \n",
      "59   0.00000  gain  0.90000  0.10000  \n",
      "60   0.00000  gain  0.80000  0.20000  \n",
      "61   0.00000  gain  0.50000  0.50000  \n",
      "62   0.00000  gain  0.90000  0.10000  \n",
      "63   0.00000  gain  0.90000  0.10000  \n",
      "64   0.00000  gain  0.90000  0.10000  \n",
      "65   0.00000  gain  0.80000  0.20000  \n",
      "66   0.00000  gain  0.60000  0.40000  \n",
      "67   0.00000  gain  0.70000  0.30000  \n",
      "68   0.00000  gain  0.80000  0.20000  \n",
      "69   0.00000  gain  0.70000  0.30000  \n",
      "70   0.00000  gain  0.70000  0.30000  \n",
      "71   0.00000  gain  0.70000  0.30000  \n",
      "72   0.00000  gain  0.50000  0.50000  \n",
      "73   0.00000  gain  0.60000  0.40000  \n",
      "74   0.00000  gain  0.80000  0.20000  \n",
      "75   0.00000  gain  0.70000  0.30000  \n",
      "76   0.00000  gain  0.70000  0.30000  \n",
      "77   0.00000  gain  0.70000  0.30000  \n",
      "78   0.00000  gain  0.70000  0.30000  \n",
      "79   0.00000  gain  0.80000  0.20000  \n",
      "80   0.00000  gain  0.80000  0.20000  \n",
      "81   0.00000  gain  0.60000  0.40000  \n",
      "82   0.00000  gain  0.90000  0.10000  \n",
      "83   0.00000  gain  0.80000  0.20000  \n",
      "84   0.00000  gain  0.50000  0.50000  \n",
      "85   0.00000  gain  0.80000  0.20000  \n",
      "86   0.00000  gain  0.80000  0.20000  \n",
      "87   0.00000  gain  0.90000  0.10000  \n",
      "88   0.00000  gain  0.80000  0.20000  \n",
      "89   0.00000  gain  0.60000  0.40000  \n",
      "90   0.00000  gain  0.80000  0.20000  \n",
      "91   0.00000  gain  0.70000  0.30000  \n",
      "92  -0.00886  loss  0.40000  0.60000  \n",
      "93  -0.00901  gain  0.50000  0.50000  \n",
      "94  -0.06949  loss  0.30000  0.70000  \n",
      "95  -0.06949  loss  0.30000  0.70000  \n",
      "96  -0.33204  gain  0.70000  0.30000  \n",
      "97  -0.73987  gain  0.50000  0.50000  \n",
      "98  -0.79352  gain  0.80000  0.20000  \n",
      "99  -0.86047  loss  0.40000  0.60000  \n",
      "100 -0.87484  gain  0.80000  0.20000  \n",
      "101 -0.91555  gain  0.60000  0.40000  \n",
      "102 -0.91555  gain  0.90000  0.10000  \n",
      "103 -0.91555  gain  0.60000  0.40000  \n",
      "104 -0.96841  loss  0.40000  0.60000  \n",
      "105 -1.19419  gain  0.50000  0.50000  \n",
      "106 -1.54199  gain  0.50000  0.50000  \n",
      "107 -1.72276  loss  0.40000  0.60000  \n",
      "108 -1.73887  loss  0.40000  0.60000  \n",
      "109 -1.81760  gain  0.70000  0.30000  \n",
      "110 -1.86456  gain  0.50000  0.50000  \n",
      "111 -2.18087  gain  0.50000  0.50000  \n",
      "112 -2.18087  gain  0.50000  0.50000  \n",
      "113 -2.31207  loss  0.40000  0.60000  \n",
      "114 -2.98334  loss  0.40000  0.60000  \n",
      "115 -3.04922  gain  0.60000  0.40000  \n",
      "116 -3.17779  gain  0.50000  0.50000  \n",
      "117 -3.72660  gain  0.50000  0.50000  \n",
      "118 -3.89416  gain  0.50000  0.50000  \n",
      "119 -3.89416  gain  0.50000  0.50000  \n",
      "120 -3.93550  loss  0.30000  0.70000  \n",
      "121 -3.94435  gain  0.80000  0.20000  \n",
      "122 -4.85137  loss  0.20000  0.80000  \n",
      "123 -4.96509  gain  0.50000  0.50000  \n",
      "124 -5.34598  loss  0.40000  0.60000  \n",
      "125 -5.55169  loss  0.30000  0.70000  \n",
      "126 -5.76981  gain  0.80000  0.20000  \n",
      "127 -6.22329  loss  0.40000  0.60000  \n",
      "128 -6.32683  loss  0.40000  0.60000  \n",
      "129 -6.55428  loss  0.40000  0.60000  \n",
      "130 -6.56603  gain  0.70000  0.30000  \n",
      "131 -6.56603  gain  0.70000  0.30000  \n",
      "132 -6.56603  gain  0.70000  0.30000  \n",
      "133 -6.59296  loss  0.40000  0.60000  \n",
      "134 -6.59412  loss  0.30000  0.70000  \n",
      "135 -6.60157  gain  0.90000  0.10000  \n",
      "136 -6.60414  gain  0.60000  0.40000  \n"
     ]
    }
   ],
   "source": [
    "print_df(taxi_vehicle_collision_classes)"
   ]
  },
  {
   "cell_type": "code",
   "execution_count": 149,
   "metadata": {
    "scrolled": true
   },
   "outputs": [
    {
     "name": "stdout",
     "output_type": "stream",
     "text": [
      "-- TP: 28\n",
      "   . 0\t\t49\t4.437217\t0.800000\t0.972376\n",
      "   . 1\t\t72\t4.243559\t0.600000\t0.143646\n",
      "   . 2\t\t71\t4.243559\t0.600000\t0.143646\n",
      "   . 3\t\t0\t4.029437\t0.800000\t0.143646\n",
      "   . 4\t\t1\t4.029437\t0.800000\t0.143646\n",
      "   . 5\t\t98\t2.697906\t0.500000\t1.000000\n",
      "   . 6\t\t35\t2.426317\t0.700000\t1.000000\n",
      "   . 7\t\t16\t2.090370\t0.700000\t0.143646\n",
      "   . 8\t\t17\t2.090370\t0.700000\t0.143646\n",
      "   . 9\t\t14\t1.898933\t0.900000\t0.248619\n",
      "   . 10\t\t120\t1.621484\t0.700000\t0.287293\n",
      "   . 11\t\t5\t1.319678\t0.700000\t0.033149\n",
      "   . 12\t\t84\t1.310169\t0.900000\t0.033149\n",
      "   . 13\t\t19\t1.289680\t0.500000\t0.016575\n",
      "   . 15\t\t80\t1.289680\t0.800000\t0.005525\n",
      "   . 16\t\t133\t1.289680\t0.700000\t0.005525\n",
      "   . 17\t\t131\t1.289680\t0.500000\t0.005525\n",
      "   . 18\t\t21\t1.289680\t0.900000\t0.005525\n",
      "   . 19\t\t109\t1.289680\t0.700000\t0.027624\n",
      "   . 20\t\t22\t1.289680\t0.900000\t0.005525\n",
      "   . 21\t\t58\t1.272934\t0.600000\t0.033149\n",
      "   . 22\t\t41\t0.958919\t0.600000\t0.143646\n",
      "   . 24\t\t123\t0.894377\t0.500000\t0.281768\n",
      "   . 25\t\t13\t0.843505\t0.700000\t0.005525\n",
      "   . 27\t\t130\t0.843505\t0.900000\t0.005525\n",
      "   . 28\t\t4\t0.658823\t0.700000\t0.143646\n",
      "   . 29\t\t2\t0.187176\t0.500000\t0.033149\n",
      "   . 30\t\t3\t0.032369\t0.600000\t0.011050\n",
      "-- TN: 79\n",
      "   . 31\t\t81\t0.000000\t0.600000\t0.000000\n",
      "   . 32\t\t85\t0.000000\t0.800000\t0.000000\n",
      "   . 33\t\t6\t0.000000\t0.600000\t0.000000\n",
      "   . 34\t\t7\t0.000000\t0.500000\t0.000000\n",
      "   . 35\t\t82\t0.000000\t0.500000\t0.000000\n",
      "   . 36\t\t79\t0.000000\t0.800000\t0.000000\n",
      "   . 37\t\t87\t0.000000\t0.500000\t0.000000\n",
      "   . 38\t\t77\t0.000000\t0.700000\t0.000000\n",
      "   . 39\t\t74\t0.000000\t0.800000\t0.000000\n",
      "   . 40\t\t73\t0.000000\t0.500000\t0.000000\n",
      "   . 41\t\t11\t0.000000\t0.700000\t0.000000\n",
      "   . 42\t\t23\t0.000000\t0.700000\t0.000000\n",
      "   . 43\t\t12\t0.000000\t0.700000\t0.000000\n",
      "   . 44\t\t86\t0.000000\t0.800000\t0.000000\n",
      "   . 45\t\t93\t0.000000\t0.900000\t0.000000\n",
      "   . 46\t\t88\t0.000000\t0.500000\t0.000000\n",
      "   . 47\t\t91\t0.000000\t0.800000\t0.000000\n",
      "   . 48\t\t114\t0.000000\t0.700000\t0.000000\n",
      "   . 49\t\t113\t0.000000\t0.600000\t0.000000\n",
      "   . 50\t\t112\t0.000000\t0.600000\t0.000000\n",
      "   . 51\t\t111\t0.000000\t0.900000\t0.000000\n",
      "   . 52\t\t110\t0.000000\t0.900000\t0.000000\n",
      "   . 53\t\t107\t0.000000\t0.500000\t0.000000\n",
      "   . 54\t\t106\t0.000000\t0.500000\t0.000000\n",
      "   . 55\t\t105\t0.000000\t0.500000\t0.000000\n",
      "   . 56\t\t121\t0.000000\t0.500000\t0.000000\n",
      "   . 57\t\t101\t0.000000\t0.500000\t0.000000\n",
      "   . 58\t\t100\t0.000000\t0.500000\t0.000000\n",
      "   . 59\t\t99\t0.000000\t0.900000\t0.000000\n",
      "   . 60\t\t95\t0.000000\t0.800000\t0.000000\n",
      "   . 61\t\t94\t0.000000\t0.500000\t0.000000\n",
      "   . 62\t\t126\t0.000000\t0.900000\t0.000000\n",
      "   . 63\t\t125\t0.000000\t0.900000\t0.000000\n",
      "   . 64\t\t20\t0.000000\t0.900000\t0.000000\n",
      "   . 65\t\t64\t0.000000\t0.800000\t0.000000\n",
      "   . 66\t\t33\t0.000000\t0.600000\t0.000000\n",
      "   . 67\t\t15\t0.000000\t0.700000\t0.000000\n",
      "   . 68\t\t42\t0.000000\t0.800000\t0.000000\n",
      "   . 69\t\t39\t0.000000\t0.700000\t0.000000\n",
      "   . 70\t\t38\t0.000000\t0.700000\t0.000000\n",
      "   . 71\t\t37\t0.000000\t0.700000\t0.000000\n",
      "   . 72\t\t36\t0.000000\t0.500000\t0.000000\n",
      "   . 73\t\t34\t0.000000\t0.600000\t0.000000\n",
      "   . 74\t\t32\t0.000000\t0.800000\t0.000000\n",
      "   . 75\t\t48\t0.000000\t0.700000\t0.000000\n",
      "   . 76\t\t31\t0.000000\t0.700000\t0.000000\n",
      "   . 77\t\t30\t0.000000\t0.700000\t0.000000\n",
      "   . 78\t\t29\t0.000000\t0.700000\t0.000000\n",
      "   . 79\t\t28\t0.000000\t0.800000\t0.000000\n",
      "   . 80\t\t26\t0.000000\t0.800000\t0.000000\n",
      "   . 81\t\t25\t0.000000\t0.600000\t0.000000\n",
      "   . 82\t\t24\t0.000000\t0.900000\t0.000000\n",
      "   . 83\t\t47\t0.000000\t0.800000\t0.000000\n",
      "   . 84\t\t118\t0.000000\t0.500000\t0.000000\n",
      "   . 85\t\t50\t0.000000\t0.800000\t0.000000\n",
      "   . 86\t\t53\t0.000000\t0.800000\t0.000000\n",
      "   . 87\t\t59\t0.000000\t0.900000\t0.000000\n",
      "   . 88\t\t116\t0.000000\t0.800000\t0.000000\n",
      "   . 89\t\t57\t0.000000\t0.600000\t0.000000\n",
      "   . 90\t\t62\t0.000000\t0.800000\t0.000000\n",
      "   . 91\t\t61\t0.000000\t0.700000\t0.000000\n",
      "   . 92\t\t76\t-0.008863\t0.400000\t0.016575\n",
      "   . 94\t\t97\t-0.069491\t0.300000\t0.011050\n",
      "   . 95\t\t55\t-0.069491\t0.300000\t0.011050\n",
      "   . 99\t\t132\t-0.860471\t0.400000\t0.044199\n",
      "   . 104\t\t51\t-0.968411\t0.400000\t0.022099\n",
      "   . 107\t\t63\t-1.722758\t0.400000\t0.033149\n",
      "   . 108\t\t44\t-1.738871\t0.400000\t0.033149\n",
      "   . 113\t\t90\t-2.312066\t0.400000\t0.022099\n",
      "   . 114\t\t129\t-2.983338\t0.400000\t0.016575\n",
      "   . 120\t\t60\t-3.935503\t0.300000\t0.011050\n",
      "   . 122\t\t115\t-4.851373\t0.200000\t0.060773\n",
      "   . 124\t\t10\t-5.345981\t0.400000\t0.016575\n",
      "   . 125\t\t102\t-5.551691\t0.300000\t0.011050\n",
      "   . 127\t\t119\t-6.223293\t0.400000\t0.077348\n",
      "   . 128\t\t9\t-6.326834\t0.400000\t0.016575\n",
      "   . 129\t\t117\t-6.554279\t0.400000\t0.011050\n",
      "   . 133\t\t56\t-6.592960\t0.400000\t0.016575\n",
      "   . 134\t\t54\t-6.594115\t0.300000\t0.011050\n",
      "-- FP: 27\n",
      "   . 93\t\t18\t-0.009013\t0.500000\t0.011050\n",
      "   . 96\t\t27\t-0.332037\t0.700000\t0.143646\n",
      "   . 97\t\t43\t-0.739871\t0.500000\t0.033149\n",
      "   . 98\t\t45\t-0.793523\t0.800000\t0.143646\n",
      "   . 100\t\t96\t-0.874845\t0.800000\t0.011050\n",
      "   . 101\t\t135\t-0.915551\t0.600000\t0.005525\n",
      "   . 102\t\t75\t-0.915551\t0.900000\t0.005525\n",
      "   . 103\t\t134\t-0.915551\t0.600000\t0.005525\n",
      "   . 105\t\t89\t-1.194192\t0.500000\t0.011050\n",
      "   . 106\t\t52\t-1.541986\t0.500000\t0.033149\n",
      "   . 109\t\t104\t-1.817599\t0.700000\t0.143646\n",
      "   . 110\t\t70\t-1.864559\t0.500000\t0.022099\n",
      "   . 111\t\t128\t-2.180868\t0.500000\t0.011050\n",
      "   . 112\t\t92\t-2.180868\t0.500000\t0.011050\n",
      "   . 115\t\t67\t-3.049222\t0.600000\t0.027624\n",
      "   . 116\t\t68\t-3.177793\t0.500000\t0.033149\n",
      "   . 117\t\t66\t-3.726598\t0.500000\t0.027624\n",
      "   . 118\t\t65\t-3.894163\t0.500000\t0.027624\n",
      "   . 119\t\t69\t-3.894163\t0.500000\t0.027624\n",
      "   . 121\t\t46\t-3.944349\t0.800000\t0.005525\n",
      "   . 123\t\t127\t-4.965089\t0.500000\t0.005525\n",
      "   . 126\t\t136\t-5.769814\t0.800000\t0.005525\n",
      "   . 130\t\t122\t-6.566033\t0.700000\t0.005525\n",
      "   . 131\t\t40\t-6.566033\t0.700000\t0.005525\n",
      "   . 132\t\t8\t-6.566033\t0.700000\t0.005525\n",
      "   . 135\t\t124\t-6.601569\t0.900000\t0.005525\n",
      "   . 136\t\t103\t-6.604143\t0.600000\t0.005525\n",
      "-- FN: 3\n",
      "   . 14\t\t83\t1.289680\t0.400000\t0.011050\n",
      "   . 23\t\t78\t0.919021\t0.400000\t0.016575\n",
      "   . 26\t\t108\t0.843505\t0.400000\t0.016575\n",
      "Precision: 0.5091\n",
      "Recall: 0.9032\n"
     ]
    }
   ],
   "source": [
    "compute_precision_recall(taxi_vehicle_collision_classes)"
   ]
  },
  {
   "cell_type": "code",
   "execution_count": 98,
   "metadata": {},
   "outputs": [
    {
     "data": {
      "text/html": [
       "<div>\n",
       "<style scoped>\n",
       "    .dataframe tbody tr th:only-of-type {\n",
       "        vertical-align: middle;\n",
       "    }\n",
       "\n",
       "    .dataframe tbody tr th {\n",
       "        vertical-align: top;\n",
       "    }\n",
       "\n",
       "    .dataframe thead th {\n",
       "        text-align: right;\n",
       "    }\n",
       "</style>\n",
       "<table border=\"1\" class=\"dataframe\">\n",
       "  <thead>\n",
       "    <tr style=\"text-align: right;\">\n",
       "      <th></th>\n",
       "      <th>target</th>\n",
       "      <th>feature</th>\n",
       "      <th>weight</th>\n",
       "      <th>value</th>\n",
       "    </tr>\n",
       "  </thead>\n",
       "  <tbody>\n",
       "    <tr>\n",
       "      <th>0</th>\n",
       "      <td>gain</td>\n",
       "      <td>&lt;BIAS&gt;</td>\n",
       "      <td>0.56102</td>\n",
       "      <td>1.00000</td>\n",
       "    </tr>\n",
       "    <tr>\n",
       "      <th>1</th>\n",
       "      <td>gain</td>\n",
       "      <td>candidate_max_mean</td>\n",
       "      <td>0.12857</td>\n",
       "      <td>57873.73304</td>\n",
       "    </tr>\n",
       "    <tr>\n",
       "      <th>2</th>\n",
       "      <td>gain</td>\n",
       "      <td>candidate_target_max_spearman</td>\n",
       "      <td>0.10195</td>\n",
       "      <td>0.23308</td>\n",
       "    </tr>\n",
       "    <tr>\n",
       "      <th>3</th>\n",
       "      <td>gain</td>\n",
       "      <td>query_num_of_columns</td>\n",
       "      <td>0.07759</td>\n",
       "      <td>2.00000</td>\n",
       "    </tr>\n",
       "    <tr>\n",
       "      <th>4</th>\n",
       "      <td>gain</td>\n",
       "      <td>candidate_target_max_pearson</td>\n",
       "      <td>0.07046</td>\n",
       "      <td>0.16026</td>\n",
       "    </tr>\n",
       "    <tr>\n",
       "      <th>5</th>\n",
       "      <td>gain</td>\n",
       "      <td>max_pearson_difference</td>\n",
       "      <td>0.03033</td>\n",
       "      <td>0.19683</td>\n",
       "    </tr>\n",
       "    <tr>\n",
       "      <th>6</th>\n",
       "      <td>gain</td>\n",
       "      <td>query_max_mean</td>\n",
       "      <td>0.02729</td>\n",
       "      <td>472266.51381</td>\n",
       "    </tr>\n",
       "    <tr>\n",
       "      <th>7</th>\n",
       "      <td>gain</td>\n",
       "      <td>query_max_skewness</td>\n",
       "      <td>0.02175</td>\n",
       "      <td>1.40835</td>\n",
       "    </tr>\n",
       "    <tr>\n",
       "      <th>8</th>\n",
       "      <td>gain</td>\n",
       "      <td>candidate_row_column_ratio</td>\n",
       "      <td>0.00915</td>\n",
       "      <td>191.66667</td>\n",
       "    </tr>\n",
       "    <tr>\n",
       "      <th>9</th>\n",
       "      <td>gain</td>\n",
       "      <td>query_max_outlier_percentage</td>\n",
       "      <td>0.00764</td>\n",
       "      <td>0.01657</td>\n",
       "    </tr>\n",
       "    <tr>\n",
       "      <th>10</th>\n",
       "      <td>gain</td>\n",
       "      <td>candidate_target_max_covariance</td>\n",
       "      <td>0.00509</td>\n",
       "      <td>3343217.56591</td>\n",
       "    </tr>\n",
       "    <tr>\n",
       "      <th>11</th>\n",
       "      <td>gain</td>\n",
       "      <td>candidate_max_unique</td>\n",
       "      <td>0.00373</td>\n",
       "      <td>1941.00000</td>\n",
       "    </tr>\n",
       "    <tr>\n",
       "      <th>12</th>\n",
       "      <td>gain</td>\n",
       "      <td>query_target_max_covariance</td>\n",
       "      <td>0.00323</td>\n",
       "      <td>176158.30261</td>\n",
       "    </tr>\n",
       "    <tr>\n",
       "      <th>13</th>\n",
       "      <td>gain</td>\n",
       "      <td>candidate_num_rows</td>\n",
       "      <td>0.00234</td>\n",
       "      <td>2300.00000</td>\n",
       "    </tr>\n",
       "    <tr>\n",
       "      <th>14</th>\n",
       "      <td>gain</td>\n",
       "      <td>candidate_target_max_mutual_info</td>\n",
       "      <td>-0.00096</td>\n",
       "      <td>0.99052</td>\n",
       "    </tr>\n",
       "    <tr>\n",
       "      <th>15</th>\n",
       "      <td>gain</td>\n",
       "      <td>query_target_max_pearson</td>\n",
       "      <td>-0.00581</td>\n",
       "      <td>0.03657</td>\n",
       "    </tr>\n",
       "    <tr>\n",
       "      <th>16</th>\n",
       "      <td>gain</td>\n",
       "      <td>query_row_column_ratio</td>\n",
       "      <td>-0.01594</td>\n",
       "      <td>90.50000</td>\n",
       "    </tr>\n",
       "    <tr>\n",
       "      <th>17</th>\n",
       "      <td>gain</td>\n",
       "      <td>query_max_unique</td>\n",
       "      <td>-0.02480</td>\n",
       "      <td>181.00000</td>\n",
       "    </tr>\n",
       "    <tr>\n",
       "      <th>18</th>\n",
       "      <td>gain</td>\n",
       "      <td>candidate_max_skewness</td>\n",
       "      <td>-0.03184</td>\n",
       "      <td>-1.31326</td>\n",
       "    </tr>\n",
       "    <tr>\n",
       "      <th>19</th>\n",
       "      <td>gain</td>\n",
       "      <td>query_target_max_mutual_info</td>\n",
       "      <td>-0.03229</td>\n",
       "      <td>0.96804</td>\n",
       "    </tr>\n",
       "    <tr>\n",
       "      <th>20</th>\n",
       "      <td>gain</td>\n",
       "      <td>query_target_max_spearman</td>\n",
       "      <td>-0.03371</td>\n",
       "      <td>0.23067</td>\n",
       "    </tr>\n",
       "    <tr>\n",
       "      <th>21</th>\n",
       "      <td>gain</td>\n",
       "      <td>query_max_kurtosis</td>\n",
       "      <td>-0.03579</td>\n",
       "      <td>7.65202</td>\n",
       "    </tr>\n",
       "    <tr>\n",
       "      <th>22</th>\n",
       "      <td>gain</td>\n",
       "      <td>candidate_max_kurtosis</td>\n",
       "      <td>-0.03997</td>\n",
       "      <td>-1.20097</td>\n",
       "    </tr>\n",
       "    <tr>\n",
       "      <th>23</th>\n",
       "      <td>gain</td>\n",
       "      <td>containment_fraction</td>\n",
       "      <td>-0.08411</td>\n",
       "      <td>0.97238</td>\n",
       "    </tr>\n",
       "    <tr>\n",
       "      <th>24</th>\n",
       "      <td>gain</td>\n",
       "      <td>query_num_of_rows</td>\n",
       "      <td>-0.14491</td>\n",
       "      <td>181.00000</td>\n",
       "    </tr>\n",
       "  </tbody>\n",
       "</table>\n",
       "</div>"
      ],
      "text/plain": [
       "   target                           feature   weight         value\n",
       "0    gain                            <BIAS>  0.56102       1.00000\n",
       "1    gain                candidate_max_mean  0.12857   57873.73304\n",
       "2    gain     candidate_target_max_spearman  0.10195       0.23308\n",
       "3    gain              query_num_of_columns  0.07759       2.00000\n",
       "4    gain      candidate_target_max_pearson  0.07046       0.16026\n",
       "5    gain            max_pearson_difference  0.03033       0.19683\n",
       "6    gain                    query_max_mean  0.02729  472266.51381\n",
       "7    gain                query_max_skewness  0.02175       1.40835\n",
       "8    gain        candidate_row_column_ratio  0.00915     191.66667\n",
       "9    gain      query_max_outlier_percentage  0.00764       0.01657\n",
       "10   gain   candidate_target_max_covariance  0.00509 3343217.56591\n",
       "11   gain              candidate_max_unique  0.00373    1941.00000\n",
       "12   gain       query_target_max_covariance  0.00323  176158.30261\n",
       "13   gain                candidate_num_rows  0.00234    2300.00000\n",
       "14   gain  candidate_target_max_mutual_info -0.00096       0.99052\n",
       "15   gain          query_target_max_pearson -0.00581       0.03657\n",
       "16   gain            query_row_column_ratio -0.01594      90.50000\n",
       "17   gain                  query_max_unique -0.02480     181.00000\n",
       "18   gain            candidate_max_skewness -0.03184      -1.31326\n",
       "19   gain      query_target_max_mutual_info -0.03229       0.96804\n",
       "20   gain         query_target_max_spearman -0.03371       0.23067\n",
       "21   gain                query_max_kurtosis -0.03579       7.65202\n",
       "22   gain            candidate_max_kurtosis -0.03997      -1.20097\n",
       "23   gain              containment_fraction -0.08411       0.97238\n",
       "24   gain                 query_num_of_rows -0.14491     181.00000"
      ]
     },
     "execution_count": 98,
     "metadata": {},
     "output_type": "execute_result"
    }
   ],
   "source": [
    "taxi_vehicle_collision_explanations[49]  # TP\n",
    "#taxi_vehicle_collision_explanations[72]  # TP\n",
    "#taxi_vehicle_collision_explanations[71]  # TP"
   ]
  },
  {
   "cell_type": "code",
   "execution_count": 123,
   "metadata": {},
   "outputs": [
    {
     "data": {
      "text/html": [
       "<div>\n",
       "<style scoped>\n",
       "    .dataframe tbody tr th:only-of-type {\n",
       "        vertical-align: middle;\n",
       "    }\n",
       "\n",
       "    .dataframe tbody tr th {\n",
       "        vertical-align: top;\n",
       "    }\n",
       "\n",
       "    .dataframe thead th {\n",
       "        text-align: right;\n",
       "    }\n",
       "</style>\n",
       "<table border=\"1\" class=\"dataframe\">\n",
       "  <thead>\n",
       "    <tr style=\"text-align: right;\">\n",
       "      <th></th>\n",
       "      <th>target</th>\n",
       "      <th>feature</th>\n",
       "      <th>weight</th>\n",
       "      <th>value</th>\n",
       "    </tr>\n",
       "  </thead>\n",
       "  <tbody>\n",
       "    <tr>\n",
       "      <th>0</th>\n",
       "      <td>gain</td>\n",
       "      <td>&lt;BIAS&gt;</td>\n",
       "      <td>0.56102</td>\n",
       "      <td>1.00000</td>\n",
       "    </tr>\n",
       "    <tr>\n",
       "      <th>1</th>\n",
       "      <td>gain</td>\n",
       "      <td>query_max_outlier_percentage</td>\n",
       "      <td>0.12864</td>\n",
       "      <td>0.01657</td>\n",
       "    </tr>\n",
       "    <tr>\n",
       "      <th>2</th>\n",
       "      <td>gain</td>\n",
       "      <td>candidate_max_outlier_percentage</td>\n",
       "      <td>0.08838</td>\n",
       "      <td>0.03571</td>\n",
       "    </tr>\n",
       "    <tr>\n",
       "      <th>3</th>\n",
       "      <td>gain</td>\n",
       "      <td>candidate_target_max_spearman</td>\n",
       "      <td>0.08688</td>\n",
       "      <td>0.00000</td>\n",
       "    </tr>\n",
       "    <tr>\n",
       "      <th>4</th>\n",
       "      <td>gain</td>\n",
       "      <td>candidate_row_column_ratio</td>\n",
       "      <td>0.07956</td>\n",
       "      <td>7.89744</td>\n",
       "    </tr>\n",
       "    <tr>\n",
       "      <th>5</th>\n",
       "      <td>gain</td>\n",
       "      <td>query_target_max_spearman</td>\n",
       "      <td>0.06463</td>\n",
       "      <td>0.23067</td>\n",
       "    </tr>\n",
       "    <tr>\n",
       "      <th>6</th>\n",
       "      <td>gain</td>\n",
       "      <td>candidate_target_max_pearson</td>\n",
       "      <td>0.06037</td>\n",
       "      <td>0.00000</td>\n",
       "    </tr>\n",
       "    <tr>\n",
       "      <th>7</th>\n",
       "      <td>gain</td>\n",
       "      <td>candidate_num_rows</td>\n",
       "      <td>0.04863</td>\n",
       "      <td>308.00000</td>\n",
       "    </tr>\n",
       "    <tr>\n",
       "      <th>8</th>\n",
       "      <td>gain</td>\n",
       "      <td>query_num_of_columns</td>\n",
       "      <td>0.04603</td>\n",
       "      <td>2.00000</td>\n",
       "    </tr>\n",
       "    <tr>\n",
       "      <th>9</th>\n",
       "      <td>gain</td>\n",
       "      <td>query_target_max_pearson</td>\n",
       "      <td>0.02397</td>\n",
       "      <td>0.03657</td>\n",
       "    </tr>\n",
       "    <tr>\n",
       "      <th>10</th>\n",
       "      <td>gain</td>\n",
       "      <td>query_target_max_covariance</td>\n",
       "      <td>0.02323</td>\n",
       "      <td>176158.30261</td>\n",
       "    </tr>\n",
       "    <tr>\n",
       "      <th>11</th>\n",
       "      <td>gain</td>\n",
       "      <td>query_target_max_mutual_info</td>\n",
       "      <td>0.01459</td>\n",
       "      <td>0.96804</td>\n",
       "    </tr>\n",
       "    <tr>\n",
       "      <th>12</th>\n",
       "      <td>gain</td>\n",
       "      <td>containment_fraction</td>\n",
       "      <td>0.01455</td>\n",
       "      <td>0.00552</td>\n",
       "    </tr>\n",
       "    <tr>\n",
       "      <th>13</th>\n",
       "      <td>gain</td>\n",
       "      <td>candidate_max_unique</td>\n",
       "      <td>0.00078</td>\n",
       "      <td>172.00000</td>\n",
       "    </tr>\n",
       "    <tr>\n",
       "      <th>14</th>\n",
       "      <td>gain</td>\n",
       "      <td>candidate_target_max_covariance</td>\n",
       "      <td>-0.01031</td>\n",
       "      <td>0.00000</td>\n",
       "    </tr>\n",
       "    <tr>\n",
       "      <th>15</th>\n",
       "      <td>gain</td>\n",
       "      <td>query_max_unique</td>\n",
       "      <td>-0.02076</td>\n",
       "      <td>181.00000</td>\n",
       "    </tr>\n",
       "    <tr>\n",
       "      <th>16</th>\n",
       "      <td>gain</td>\n",
       "      <td>query_row_column_ratio</td>\n",
       "      <td>-0.02665</td>\n",
       "      <td>90.50000</td>\n",
       "    </tr>\n",
       "    <tr>\n",
       "      <th>17</th>\n",
       "      <td>gain</td>\n",
       "      <td>query_num_of_rows</td>\n",
       "      <td>-0.04332</td>\n",
       "      <td>181.00000</td>\n",
       "    </tr>\n",
       "    <tr>\n",
       "      <th>18</th>\n",
       "      <td>gain</td>\n",
       "      <td>candidate_target_max_mutual_info</td>\n",
       "      <td>-0.10652</td>\n",
       "      <td>0.00000</td>\n",
       "    </tr>\n",
       "    <tr>\n",
       "      <th>19</th>\n",
       "      <td>gain</td>\n",
       "      <td>max_pearson_difference</td>\n",
       "      <td>-0.23372</td>\n",
       "      <td>0.03657</td>\n",
       "    </tr>\n",
       "  </tbody>\n",
       "</table>\n",
       "</div>"
      ],
      "text/plain": [
       "   target                           feature   weight        value\n",
       "0    gain                            <BIAS>  0.56102      1.00000\n",
       "1    gain      query_max_outlier_percentage  0.12864      0.01657\n",
       "2    gain  candidate_max_outlier_percentage  0.08838      0.03571\n",
       "3    gain     candidate_target_max_spearman  0.08688      0.00000\n",
       "4    gain        candidate_row_column_ratio  0.07956      7.89744\n",
       "5    gain         query_target_max_spearman  0.06463      0.23067\n",
       "6    gain      candidate_target_max_pearson  0.06037      0.00000\n",
       "7    gain                candidate_num_rows  0.04863    308.00000\n",
       "8    gain              query_num_of_columns  0.04603      2.00000\n",
       "9    gain          query_target_max_pearson  0.02397      0.03657\n",
       "10   gain       query_target_max_covariance  0.02323 176158.30261\n",
       "11   gain      query_target_max_mutual_info  0.01459      0.96804\n",
       "12   gain              containment_fraction  0.01455      0.00552\n",
       "13   gain              candidate_max_unique  0.00078    172.00000\n",
       "14   gain   candidate_target_max_covariance -0.01031      0.00000\n",
       "15   gain                  query_max_unique -0.02076    181.00000\n",
       "16   gain            query_row_column_ratio -0.02665     90.50000\n",
       "17   gain                 query_num_of_rows -0.04332    181.00000\n",
       "18   gain  candidate_target_max_mutual_info -0.10652      0.00000\n",
       "19   gain            max_pearson_difference -0.23372      0.03657"
      ]
     },
     "execution_count": 123,
     "metadata": {},
     "output_type": "execute_result"
    }
   ],
   "source": [
    "#taxi_vehicle_collision_explanations[76]  # FP\n",
    "taxi_vehicle_collision_explanations[103]  # FP"
   ]
  },
  {
   "cell_type": "code",
   "execution_count": 76,
   "metadata": {},
   "outputs": [
    {
     "data": {
      "text/plain": [
       "0.30926206685429014"
      ]
     },
     "execution_count": 76,
     "metadata": {},
     "output_type": "execute_result"
    }
   ],
   "source": [
    "# Pearson between containment fraction and gain in R2\n",
    "compute_pearson(taxi_vehicle_collision_classes, 'cf', 'g_r2')"
   ]
  },
  {
   "cell_type": "code",
   "execution_count": 77,
   "metadata": {},
   "outputs": [
    {
     "data": {
      "text/plain": [
       "0.057036178367895124"
      ]
     },
     "execution_count": 77,
     "metadata": {},
     "output_type": "execute_result"
    }
   ],
   "source": [
    "# Pearson between containment fraction and probability of being classified as gain\n",
    "compute_pearson(taxi_vehicle_collision_classes, 'cf', 'p(gain)')"
   ]
  },
  {
   "cell_type": "code",
   "execution_count": 86,
   "metadata": {},
   "outputs": [
    {
     "data": {
      "text/plain": [
       "<matplotlib.axes._subplots.AxesSubplot at 0x1a1a237eb8>"
      ]
     },
     "execution_count": 86,
     "metadata": {},
     "output_type": "execute_result"
    },
    {
     "data": {
      "image/png": "[encoded data removed]",
      "text/plain": [
       "<Figure size 432x288 with 1 Axes>"
      ]
     },
     "metadata": {
      "needs_background": "light"
     },
     "output_type": "display_data"
    }
   ],
   "source": [
    "taxi_vehicle_collision_classes.plot.scatter(x='g_r2', y='cf', )"
   ]
  },
  {
   "cell_type": "code",
   "execution_count": 78,
   "metadata": {},
   "outputs": [
    {
     "data": {
      "text/plain": [
       "-0.058055263482290224"
      ]
     },
     "execution_count": 78,
     "metadata": {},
     "output_type": "execute_result"
    }
   ],
   "source": [
    "# Pearson between gain in R2 and probability of being classified as gain\n",
    "compute_pearson(taxi_vehicle_collision_classes, 'g_r2', 'p(gain)')"
   ]
  },
  {
   "cell_type": "code",
   "execution_count": 87,
   "metadata": {},
   "outputs": [
    {
     "data": {
      "text/plain": [
       "<matplotlib.axes._subplots.AxesSubplot at 0x1a1a2f7be0>"
      ]
     },
     "execution_count": 87,
     "metadata": {},
     "output_type": "execute_result"
    },
    {
     "data": {
      "image/png": "[encoded data removed]",
      "text/plain": [
       "<Figure size 432x288 with 1 Axes>"
      ]
     },
     "metadata": {
      "needs_background": "light"
     },
     "output_type": "display_data"
    }
   ],
   "source": [
    "taxi_vehicle_collision_classes.plot.scatter(x='g_r2', y='p(gain)', )"
   ]
  },
  {
   "cell_type": "markdown",
   "metadata": {},
   "source": [
    "## College Debt"
   ]
  },
  {
   "cell_type": "code",
   "execution_count": 15,
   "metadata": {},
   "outputs": [],
   "source": [
    "college_debt_classes = predict_class_for_features(\n",
    "    rf_classifier,\n",
    "    'college-debt-records-features',\n",
    "    FEATURE_VECTOR\n",
    ")"
   ]
  },
  {
   "cell_type": "code",
   "execution_count": 16,
   "metadata": {},
   "outputs": [
    {
     "name": "stdout",
     "output_type": "stream",
     "text": [
      "   index                                          candidate   cf      g_r2  \\\n",
      "0      0      datamart.socrata.data-wa-gov.wajg-ig9g_UNITID  1.0  0.808117   \n",
      "1      1  datamart.upload.a817349748524c618bec5505f46fea...  1.0  0.727736   \n",
      "\n",
      "  class  p(gain)  p(loss)  \n",
      "0  gain      0.8      0.2  \n",
      "1  gain      0.7      0.3  \n"
     ]
    }
   ],
   "source": [
    "print_df(college_debt_classes)"
   ]
  },
  {
   "cell_type": "code",
   "execution_count": 17,
   "metadata": {},
   "outputs": [
    {
     "name": "stdout",
     "output_type": "stream",
     "text": [
      "-- TP: 2\n",
      "   . 0\t\t0.808117\t0.800000\t1.000000\n",
      "   . 1\t\t0.727736\t0.700000\t1.000000\n",
      "-- TN: 0\n",
      "-- FP: 0\n",
      "-- FN: 0\n",
      "Precision: 1.0000\n",
      "Recall: 1.0000\n"
     ]
    }
   ],
   "source": [
    "compute_precision_recall(college_debt_classes)"
   ]
  },
  {
   "cell_type": "code",
   "execution_count": 18,
   "metadata": {},
   "outputs": [
    {
     "name": "stderr",
     "output_type": "stream",
     "text": [
      "/opt/anaconda3/envs/python-3.6/lib/python3.6/site-packages/scipy/stats/stats.py:3399: PearsonRConstantInputWarning: An input array is constant; the correlation coefficent is not defined.\n",
      "  warnings.warn(PearsonRConstantInputWarning())\n"
     ]
    },
    {
     "data": {
      "text/plain": [
       "nan"
      ]
     },
     "execution_count": 18,
     "metadata": {},
     "output_type": "execute_result"
    }
   ],
   "source": [
    "# Pearson between containment fraction and gain in R2\n",
    "compute_pearson(college_debt_classes, 'cf', 'g_r2')"
   ]
  },
  {
   "cell_type": "code",
   "execution_count": 19,
   "metadata": {},
   "outputs": [
    {
     "data": {
      "text/plain": [
       "nan"
      ]
     },
     "execution_count": 19,
     "metadata": {},
     "output_type": "execute_result"
    }
   ],
   "source": [
    "# Pearson between containment fraction and probability of being classified as gain\n",
    "compute_pearson(college_debt_classes, 'cf', 'p(gain)')"
   ]
  },
  {
   "cell_type": "code",
   "execution_count": 20,
   "metadata": {},
   "outputs": [
    {
     "data": {
      "text/plain": [
       "1.0"
      ]
     },
     "execution_count": 20,
     "metadata": {},
     "output_type": "execute_result"
    }
   ],
   "source": [
    "# Pearson between gain in R2 and probability of being classified as gain\n",
    "compute_pearson(college_debt_classes, 'g_r2', 'p(gain)')"
   ]
  },
  {
   "cell_type": "markdown",
   "metadata": {},
   "source": [
    "## Poverty Estimation"
   ]
  },
  {
   "cell_type": "code",
   "execution_count": 21,
   "metadata": {},
   "outputs": [],
   "source": [
    "poverty_estimation_classes = predict_class_for_features(\n",
    "    rf_classifier,\n",
    "    'poverty-estimation-records-features',\n",
    "    FEATURE_VECTOR\n",
    ")"
   ]
  },
  {
   "cell_type": "code",
   "execution_count": 22,
   "metadata": {},
   "outputs": [
    {
     "name": "stdout",
     "output_type": "stream",
     "text": [
      "   index                                          candidate        cf  \\\n",
      "0      3  datamart.upload.177bdaeafccf45ffb2d28dd1d05719...  1.000000   \n",
      "1      1     datamart.socrata.data-sfgov-org.49cy-x5m5_MIPS  0.001276   \n",
      "2      5     datamart.socrata.data-sfgov-org.d7xx-7z6v_MIPS  0.001594   \n",
      "3      0     datamart.socrata.data-sfgov-org.ua32-eewd_MIPS  0.001276   \n",
      "4      7     datamart.socrata.data-sfgov-org.858q-nwrm_MIPS  0.000319   \n",
      "5      8     datamart.socrata.data-sfgov-org.7qzr-p6xn_MIPS  0.001276   \n",
      "6      6     datamart.socrata.data-sfgov-org.g5sr-9nhs_MIPS  0.000638   \n",
      "7      4     datamart.socrata.data-sfgov-org.k7mk-w2pq_MIPS  0.001276   \n",
      "8      2     datamart.socrata.data-sfgov-org.33nh-56zb_MIPS  0.001276   \n",
      "\n",
      "       g_r2 class  p(gain)  p(loss)  \n",
      "0  0.028248  gain      0.6      0.4  \n",
      "1 -0.290706  loss      0.4      0.6  \n",
      "2 -0.299034  loss      0.3      0.7  \n",
      "3 -0.299140  loss      0.3      0.7  \n",
      "4 -0.299818  loss      0.2      0.8  \n",
      "5 -0.301699  loss      0.3      0.7  \n",
      "6 -0.304692  loss      0.3      0.7  \n",
      "7 -0.310184  loss      0.3      0.7  \n",
      "8 -0.317801  gain      0.6      0.4  \n"
     ]
    }
   ],
   "source": [
    "print_df(poverty_estimation_classes)"
   ]
  },
  {
   "cell_type": "code",
   "execution_count": 23,
   "metadata": {},
   "outputs": [
    {
     "name": "stdout",
     "output_type": "stream",
     "text": [
      "-- TP: 1\n",
      "   . 0\t\t0.028248\t0.600000\t1.000000\n",
      "-- TN: 7\n",
      "   . 1\t\t-0.290706\t0.400000\t0.001276\n",
      "   . 2\t\t-0.299034\t0.300000\t0.001594\n",
      "   . 3\t\t-0.299140\t0.300000\t0.001276\n",
      "   . 4\t\t-0.299818\t0.200000\t0.000319\n",
      "   . 5\t\t-0.301699\t0.300000\t0.001276\n",
      "   . 6\t\t-0.304692\t0.300000\t0.000638\n",
      "   . 7\t\t-0.310184\t0.300000\t0.001276\n",
      "-- FP: 1\n",
      "   . 8\t\t-0.317801\t0.600000\t0.001276\n",
      "-- FN: 0\n",
      "Precision: 0.5000\n",
      "Recall: 1.0000\n"
     ]
    }
   ],
   "source": [
    "compute_precision_recall(poverty_estimation_classes)"
   ]
  },
  {
   "cell_type": "code",
   "execution_count": 24,
   "metadata": {},
   "outputs": [
    {
     "data": {
      "text/plain": [
       "0.997610183234824"
      ]
     },
     "execution_count": 24,
     "metadata": {},
     "output_type": "execute_result"
    }
   ],
   "source": [
    "# Pearson between containment fraction and gain in R2\n",
    "compute_pearson(poverty_estimation_classes, 'cf', 'g_r2')"
   ]
  },
  {
   "cell_type": "code",
   "execution_count": 25,
   "metadata": {},
   "outputs": [
    {
     "data": {
      "text/plain": [
       "0.6190989311094166"
      ]
     },
     "execution_count": 25,
     "metadata": {},
     "output_type": "execute_result"
    }
   ],
   "source": [
    "# Pearson between containment fraction and probability of being classified as gain\n",
    "compute_pearson(poverty_estimation_classes, 'cf', 'p(gain)')"
   ]
  },
  {
   "cell_type": "code",
   "execution_count": 26,
   "metadata": {},
   "outputs": [
    {
     "data": {
      "text/plain": [
       "0.5887713733160523"
      ]
     },
     "execution_count": 26,
     "metadata": {},
     "output_type": "execute_result"
    }
   ],
   "source": [
    "# Pearson between gain in R2 and probability of being classified as gain\n",
    "compute_pearson(poverty_estimation_classes, 'g_r2', 'p(gain)')"
   ]
  },
  {
   "cell_type": "code",
   "execution_count": null,
   "metadata": {},
   "outputs": [],
   "source": []
  }
 ],
 "metadata": {
  "kernelspec": {
   "display_name": "Python 3",
   "language": "python",
   "name": "python3"
  },
  "language_info": {
   "codemirror_mode": {
    "name": "ipython",
    "version": 3
   },
   "file_extension": ".py",
   "mimetype": "text/x-python",
   "name": "python",
   "nbconvert_exporter": "python",
   "pygments_lexer": "ipython3",
   "version": "3.6.9"
  }
 },
 "nbformat": 4,
 "nbformat_minor": 2
}
