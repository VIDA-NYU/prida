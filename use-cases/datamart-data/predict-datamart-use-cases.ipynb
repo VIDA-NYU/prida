{
 "cells": [
  {
   "cell_type": "markdown",
   "metadata": {},
   "source": [
    "**Python Version Requirement:** Python 3.6"
   ]
  },
  {
   "cell_type": "code",
   "execution_count": 31,
   "metadata": {},
   "outputs": [],
   "source": [
    "import requests\n",
    "import sys\n",
    "import pandas as pd\n",
    "import numpy as np\n",
    "from sklearn.ensemble import RandomForestClassifier, RandomForestRegressor\n",
    "from sklearn.metrics import mean_absolute_error, mean_squared_error, \\\n",
    "    mean_squared_log_error, median_absolute_error, r2_score\n",
    "from scipy.stats import pearsonr\n",
    "import os\n",
    "import eli5\n",
    "import json"
   ]
  },
  {
   "cell_type": "code",
   "execution_count": 2,
   "metadata": {},
   "outputs": [],
   "source": [
    "pd.set_option(\n",
    "    'display.float_format',\n",
    "    lambda x: '%.5f' % x\n",
    ")"
   ]
  },
  {
   "cell_type": "code",
   "execution_count": 53,
   "metadata": {},
   "outputs": [],
   "source": [
    "FEATURE_VECTOR = ['query_num_of_columns',\n",
    "                  'query_num_of_rows',\n",
    "                  'query_row_column_ratio',\n",
    "                  'query_max_skewness',\n",
    "                  'query_max_kurtosis',\n",
    "                  'query_max_unique',\n",
    "                  'candidate_num_of_columns',\n",
    "                  'candidate_num_rows',\n",
    "                  'candidate_row_column_ratio',\n",
    "                  'candidate_max_skewness',\n",
    "                  'candidate_max_kurtosis',\n",
    "                  'candidate_max_unique',\n",
    "                  'query_target_max_pearson',\n",
    "                  'query_target_max_spearman',\n",
    "                  'query_target_max_covariance',\n",
    "                  'query_target_max_mutual_info',\n",
    "                  'candidate_target_max_pearson',\n",
    "                  'candidate_target_max_spearman',\n",
    "                  'candidate_target_max_covariance',\n",
    "                  'candidate_target_max_mutual_info',\n",
    "                  'max_pearson_difference',\n",
    "                  'containment_fraction']\n",
    "GAIN_COLUMN_NAME = 'gain_in_r2_score'"
   ]
  },
  {
   "cell_type": "code",
   "execution_count": 4,
   "metadata": {},
   "outputs": [],
   "source": [
    "def print_df(df):\n",
    "    \"\"\"Prints entire pandas dataframe.\n",
    "    \"\"\"\n",
    "    with pd.option_context('display.max_rows', None,\n",
    "                           'display.max_columns', None,\n",
    "                           'display.expand_frame_repr', False,\n",
    "                           'display.max_colwidth', 100):\n",
    "        print(df)"
   ]
  },
  {
   "cell_type": "code",
   "execution_count": 5,
   "metadata": {},
   "outputs": [],
   "source": [
    "def get_dataset_name(id_):\n",
    "    \"\"\"Connects to Datamart to get the dataset name, given the dataset id.\n",
    "    \"\"\"\n",
    "    \n",
    "    response = requests.get(\n",
    "        'http://localhost:8002/metadata/%s'%id_,\n",
    "    )\n",
    "    response.raise_for_status()\n",
    "    \n",
    "    return json.loads(response.text)['metadata']['name']"
   ]
  },
  {
   "cell_type": "code",
   "execution_count": 9,
   "metadata": {},
   "outputs": [],
   "source": [
    "def compute_pearson(df, col_1, col_2):\n",
    "    return pearsonr(df[col_1], df[col_2])[0]"
   ]
  },
  {
   "cell_type": "markdown",
   "metadata": {},
   "source": [
    "## Classification"
   ]
  },
  {
   "cell_type": "code",
   "execution_count": 6,
   "metadata": {},
   "outputs": [],
   "source": [
    "def create_model(alpha, training_filename, feature_vector, gain_column):\n",
    "    \"\"\"This functions builds a classifier based on the training data.\n",
    "    \"\"\"\n",
    "    \n",
    "    training_data = pd.read_csv(training_filename)\n",
    "    training_data['class'] = ['gain' if row[gain_column] > alpha else 'loss'\n",
    "                              for index, row in training_data.iterrows()]\n",
    "    X_train = training_data[feature_vector]\n",
    "    y_train = training_data['class']\n",
    "    \n",
    "    clf = RandomForestClassifier(random_state=49, n_estimators=100)\n",
    "    clf.fit(X_train, y_train)\n",
    "    \n",
    "    return clf"
   ]
  },
  {
   "cell_type": "code",
   "execution_count": 7,
   "metadata": {},
   "outputs": [],
   "source": [
    "def predict_class_for_features(classifier, test_filename, feature_vector):\n",
    "\n",
    "    test_data = pd.read_csv(test_filename)\n",
    "    \n",
    "    # avoiding overflow\n",
    "    for col in test_data.select_dtypes([np.number]).columns:\n",
    "        test_data = test_data[test_data[col] < np.finfo(np.float32).max]\n",
    "    test_data.reset_index(inplace=True)\n",
    "    X_test = test_data[feature_vector]\n",
    "    \n",
    "    # replacing NaN values\n",
    "    if X_test.isna().values.any():\n",
    "        X_test.fillna(value=0, inplace=True)\n",
    "        \n",
    "    predicted_classes = classifier.predict(X_test)\n",
    "    predicted_proba = classifier.predict_proba(X_test)\n",
    "    \n",
    "    explanations = list()\n",
    "    for index, row in X_test.iterrows():\n",
    "        explanations.append(eli5.explain_prediction_df(classifier, X_test.iloc[index]))\n",
    "    \n",
    "    test_data['class'] = predicted_classes\n",
    "    test_data['candidate_id'] = test_data['candidate'].apply(\n",
    "        lambda x: os.path.basename(x)\n",
    "    )\n",
    "    test_data['candidate_name'] = test_data['candidate_id'].apply(\n",
    "        lambda x: get_dataset_name(x[:x.find('_')])\n",
    "    )\n",
    "    test_data.rename(columns={'containment_fraction': 'cf'}, inplace=True)\n",
    "    test_data.rename(columns={'gain_in_r2_score': 'g_r2'}, inplace=True)\n",
    "    \n",
    "    probabilities = pd.DataFrame(predicted_proba, columns=list(classifier.classes_))\n",
    "    test_data['p(gain)'] = probabilities['gain']\n",
    "    test_data['p(loss)'] = probabilities['loss']\n",
    "    \n",
    "    new_test_data = test_data[\n",
    "        ['candidate_name', 'candidate_id', 'cf', 'g_r2', 'class', 'p(gain)', 'p(loss)']\n",
    "    ].sort_values('g_r2', ascending=False)\n",
    "    new_test_data.reset_index(drop=True, inplace=True)\n",
    "    \n",
    "    return (new_test_data, explanations)"
   ]
  },
  {
   "cell_type": "code",
   "execution_count": 8,
   "metadata": {},
   "outputs": [],
   "source": [
    "def compute_precision_recall(df):\n",
    "    \n",
    "    tp_vals = list()\n",
    "    index_tp = list()\n",
    "    fp_vals = list()\n",
    "    index_fp = list()\n",
    "    tn_vals = list()\n",
    "    index_tn = list()\n",
    "    fn_vals = list()\n",
    "    index_fn = list()\n",
    "    \n",
    "    for index, row in df.iterrows():\n",
    "        if row['g_r2'] > 0 and row['class'] == 'gain':\n",
    "            tp_vals.append([row['candidate_name'], row['g_r2'], row['p(gain)'], row['cf']])\n",
    "            index_tp.append(index)\n",
    "        elif row['g_r2'] > 0 and row['class'] == 'loss':\n",
    "            fn_vals.append([row['candidate_name'], row['g_r2'], row['p(gain)'], row['cf']])\n",
    "            index_fn.append(index)\n",
    "        elif row['g_r2'] <= 0 and row['class'] == 'gain':\n",
    "            fp_vals.append([row['candidate_name'], row['g_r2'], row['p(gain)'], row['cf']])\n",
    "            index_fp.append(index)\n",
    "        else:\n",
    "            tn_vals.append([row['candidate_name'], row['g_r2'], row['p(gain)'], row['cf']])\n",
    "            index_tn.append(index)\n",
    "            \n",
    "    tp = len(tp_vals)\n",
    "    fn = len(fn_vals)\n",
    "    fp = len(fp_vals)\n",
    "    tn = len(tn_vals)\n",
    "            \n",
    "    columns = ['name', 'g_r2', 'p(gain)', 'cf']\n",
    "    tp_df = pd.DataFrame(tp_vals, columns=columns, index=index_tp)\n",
    "    fn_df = pd.DataFrame(fn_vals, columns=columns, index=index_fn)\n",
    "    fp_df = pd.DataFrame(fp_vals, columns=columns, index=index_fp)\n",
    "    tn_df = pd.DataFrame(tn_vals, columns=columns, index=index_tn)\n",
    "            \n",
    "    print(\"-- TP:\", tp)\n",
    "    print_df(tp_df)\n",
    "    print('')\n",
    "    print(\"-- TN:\", tn)\n",
    "    print_df(tn_df)\n",
    "    print('')\n",
    "    print(\"-- FP:\", fp)\n",
    "    print_df(fp_df)\n",
    "    print('')\n",
    "    print(\"-- FN:\", fn)\n",
    "    print_df(fn_df)\n",
    "    print('')\n",
    "\n",
    "    precision = tp / (tp + fp) if tp + fp > 0 else np.nan\n",
    "    recall = tp / (tp + fn) if tp + fn > 0 else np.nan\n",
    "    \n",
    "    print('Precision: %.4f\\nRecall: %.4f'%(precision, recall))"
   ]
  },
  {
   "cell_type": "code",
   "execution_count": 10,
   "metadata": {},
   "outputs": [],
   "source": [
    "rf_classifier = create_model(\n",
    "    alpha=0,\n",
    "    training_filename='../data/training-for-model.csv',\n",
    "    feature_vector=FEATURE_VECTOR,\n",
    "    gain_column=GAIN_COLUMN_NAME\n",
    ")"
   ]
  },
  {
   "cell_type": "markdown",
   "metadata": {},
   "source": [
    "## Regression"
   ]
  },
  {
   "cell_type": "code",
   "execution_count": 35,
   "metadata": {},
   "outputs": [],
   "source": [
    "def create_regression_model(training_filename, feature_vector, gain_column):\n",
    "    \"\"\"This functions builds a regressor based on the training data.\n",
    "    \"\"\"\n",
    "    \n",
    "    training_data = pd.read_csv(training_filename)\n",
    "\n",
    "    X_train = training_data[feature_vector]\n",
    "    y_train = training_data[gain_column]\n",
    "    \n",
    "    regr = RandomForestRegressor(random_state=49, n_estimators=100)\n",
    "    regr.fit(X_train, y_train)\n",
    "    \n",
    "    return regr"
   ]
  },
  {
   "cell_type": "code",
   "execution_count": 42,
   "metadata": {},
   "outputs": [],
   "source": [
    "def predict_value_for_features(regressor, test_filename, feature_vector):\n",
    "\n",
    "    test_data = pd.read_csv(test_filename)\n",
    "    \n",
    "    # avoiding overflow\n",
    "    for col in test_data.select_dtypes([np.number]).columns:\n",
    "        test_data = test_data[test_data[col] < np.finfo(np.float32).max]\n",
    "    test_data.reset_index(inplace=True)\n",
    "    X_test = test_data[feature_vector]\n",
    "    \n",
    "    # replacing NaN values\n",
    "    if X_test.isna().values.any():\n",
    "        X_test.fillna(value=0, inplace=True)\n",
    "        \n",
    "    y_fit = regressor.predict(X_test)\n",
    "    \n",
    "    explanations = list()\n",
    "    for index, row in X_test.iterrows():\n",
    "        explanations.append(eli5.explain_prediction_df(regressor, X_test.iloc[index]))\n",
    "    \n",
    "    test_data['predicted'] = y_fit\n",
    "    test_data['candidate_id'] = test_data['candidate'].apply(\n",
    "        lambda x: os.path.basename(x)\n",
    "    )\n",
    "    test_data['candidate_name'] = test_data['candidate_id'].apply(\n",
    "        lambda x: get_dataset_name(x[:x.find('_')])\n",
    "    )\n",
    "    test_data.rename(columns={'containment_fraction': 'cf'}, inplace=True)\n",
    "    test_data.rename(columns={'gain_in_r2_score': 'real'}, inplace=True)\n",
    "    \n",
    "    new_test_data = test_data[\n",
    "#        ['candidate_name', 'candidate_id', 'cf', 'real', 'predicted']\n",
    "        ['candidate_name', 'cf', 'real', 'predicted']\n",
    "    ].sort_values('real', ascending=False)\n",
    "    new_test_data.reset_index(drop=True, inplace=True)\n",
    "    \n",
    "    print(\"Mean Absolute Error: %.4f\" % mean_absolute_error(new_test_data['real'], new_test_data['predicted']))\n",
    "    print(\"Mean Squared Error: %.4f\" % mean_squared_error(new_test_data['real'], new_test_data['predicted']))\n",
    "    print(\"Median Absolute Error: %.4f\" % median_absolute_error(new_test_data['real'], new_test_data['predicted']))\n",
    "    print(\"R2 Score: %.4f\" % r2_score(new_test_data['real'], new_test_data['predicted']))\n",
    "    \n",
    "    return (new_test_data, explanations)"
   ]
  },
  {
   "cell_type": "code",
   "execution_count": 54,
   "metadata": {},
   "outputs": [],
   "source": [
    "rf_regressor = create_regression_model(\n",
    "    training_filename='../data/training-for-model.csv',\n",
    "    feature_vector=FEATURE_VECTOR,\n",
    "    gain_column=GAIN_COLUMN_NAME\n",
    ")"
   ]
  },
  {
   "cell_type": "markdown",
   "metadata": {},
   "source": [
    "## NY Taxi and Vehicle Collision Problem"
   ]
  },
  {
   "cell_type": "markdown",
   "metadata": {},
   "source": [
    "### Classification"
   ]
  },
  {
   "cell_type": "code",
   "execution_count": 11,
   "metadata": {
    "scrolled": false
   },
   "outputs": [],
   "source": [
    "taxi_vehicle_collision_classes, taxi_vehicle_collision_explanations = predict_class_for_features(\n",
    "    rf_classifier,\n",
    "    'taxi-vehicle-collision-records-features',\n",
    "    FEATURE_VECTOR\n",
    ")"
   ]
  },
  {
   "cell_type": "code",
   "execution_count": 12,
   "metadata": {
    "scrolled": false
   },
   "outputs": [
    {
     "name": "stdout",
     "output_type": "stream",
     "text": [
      "-- TP: 15\n",
      "                                                                          name    g_r2  p(gain)      cf\n",
      "1                 Performance Metrics - Buildings - Time to Issue Easy Permits 4.24356  0.56000 0.14365\n",
      "2                 Performance Metrics - Buildings - Time to Issue Easy Permits 4.24356  0.56000 0.14365\n",
      "3   Performance Metrics - Buildings - Time to Issue Developer Services Permits 4.02944  0.50000 0.14365\n",
      "4   Performance Metrics - Buildings - Time to Issue Developer Services Permits 4.02944  0.50000 0.14365\n",
      "12                                       Cash Assistance Recipients Since 1955 1.31017  0.51000 0.03315\n",
      "13                 Annual Allowable Rent Increase for Units Under Rent Control 1.28968  0.54000 0.00552\n",
      "16                                               NYCHA Citywide Special Events 1.28968  0.52000 0.02762\n",
      "17              Interagency Coordination and Construction Permits Data (MOSYS) 1.28968  0.55000 0.00552\n",
      "18              Interagency Coordination and Construction Permits Data (MOSYS) 1.28968  0.55000 0.00552\n",
      "19                                                      Appeals Closed In 2015 1.28968  0.52000 0.00552\n",
      "23                                               Highway Travel Permit- Annual 0.91902  0.50000 0.01657\n",
      "26       Campaign Finance - Public Funds Disbursed - November 4, 2014 Election 0.84351  0.54000 0.00552\n",
      "27                           Statewide -- Hatchery Standards 2018 SOS 10292018 0.84351  0.52000 0.00552\n",
      "29                                     Surplus Properties Sold: Beginning 2009 0.18718  0.50000 0.03315\n",
      "30                                                     Local Law 44 - Projects 0.03237  0.53000 0.01105\n",
      "\n",
      "-- TN: 19\n",
      "                                                                    name     g_r2  p(gain)      cf\n",
      "32                                  New York State RGGI Auction Proceeds -0.00901  0.45000 0.01105\n",
      "36                                             311 Call Metrics by Month -0.73987  0.46000 0.03315\n",
      "38                                               Local Law 44 - Projects -0.86047  0.47000 0.04420\n",
      "39                                     Better Brakes - Tracking Progress -0.87484  0.46000 0.01105\n",
      "43                      Form 700 Schedule B - Interests in Real Property -0.96841  0.49000 0.02210\n",
      "44               Summary of Portfolio Benefits from RGGI-Funded Projects -1.19419  0.46000 0.01105\n",
      "47                                                  311 Cases by Channel -1.73887  0.49000 0.03315\n",
      "49                                 Candidate Surplus Funds Latest Report -1.86456  0.47000 0.02210\n",
      "52                                      [Deprecated] Form 700 Schedule B -2.31207  0.49000 0.02210\n",
      "54                                           Bikes in Buildings Requests -3.04922  0.46000 0.02762\n",
      "55                                           Bikes in Buildings Requests -3.17779  0.45000 0.03315\n",
      "56                                           Bikes in Buildings Requests -3.72660  0.49000 0.02762\n",
      "57                                           Bikes in Buildings Requests -3.89416  0.49000 0.02762\n",
      "58                                           Bikes in Buildings Requests -3.89416  0.49000 0.02762\n",
      "60                              Denied TW and Wholesale Market Companies -3.94435  0.49000 0.00552\n",
      "61                                           Bikes in Buildings Requests -4.85137  0.46000 0.06077\n",
      "63  Campaign Finance - FPPC Form 460 - Schedule H - Loans Made to Others -5.34598  0.49000 0.01657\n",
      "71  Campaign Finance - FPPC Form 460 - Schedule H - Loans Made to Others -6.56603  0.48000 0.00552\n",
      "75                                           Affordable Housing Pipeline -6.60414  0.49000 0.00552\n",
      "\n",
      "-- FP: 26\n",
      "                                                                                  name     g_r2  p(gain)      cf\n",
      "31                Mayor’s Office of Housing and Community Development Grants and Loans -0.00886  0.51000 0.01657\n",
      "33                                                    [Deprecated] Form 700 Schedule E -0.06949  0.50000 0.01105\n",
      "34                 Form 700 Schedule E - Travel Payments, Advances, and Reimbursements -0.06949  0.50000 0.01105\n",
      "35                                    Transportation Fuels Spot Prices: Beginning 2006 -0.33204  0.50000 0.14365\n",
      "37                          Transportation Fuels Production and Demand: Beginning 1993 -0.79352  0.50000 0.14365\n",
      "40                                            MAP -- All Projects (2012-21) 08-29-2018 -0.91555  0.53000 0.00552\n",
      "41                                                  2013-2014 DOE High School Programs -0.91555  0.54000 0.00552\n",
      "42                                                  2013-2014 DOE High School Programs -0.91555  0.54000 0.00552\n",
      "45                                   Call Center Metrics for the Health Service System -1.54199  0.56000 0.03315\n",
      "46                                       Citywide HRA- Administered Medicaid Enrollees -1.72276  0.52000 0.03315\n",
      "48                                      Transportation Fuels Inventory: Beginning 2004 -1.81760  0.50000 0.14365\n",
      "50                                                   [Deprecated] Form 700 Schedule A2 -2.18087  0.53000 0.01105\n",
      "51  Form 700 Schedule A2 - Investments, Income, and Assets of Business Entities/Trusts -2.18087  0.53000 0.01105\n",
      "53                           Asotin County Library Missing Items from Clarkston Branch -2.98334  0.51000 0.01657\n",
      "59                                               County Agricultural Districts Profile -3.93550  0.51000 0.01105\n",
      "62                                                         Bikes in Buildings Requests -4.96509  0.53000 0.00552\n",
      "64                    Financial Incentive Projects - (TIF-Funded) Economic Development -5.55169  0.58000 0.01105\n",
      "65                                                       Restrictive Declaration Sites -5.76981  0.54000 0.00552\n",
      "66                                                     SF Development Pipeline 2018 Q3 -6.22329  0.53000 0.07735\n",
      "67                Campaign Finance - FPPC Form 460 - Schedule H - Loans Made to Others -6.32683  0.54000 0.01657\n",
      "68                    Financial Incentive Projects - (TIF-Funded) Economic Development -6.55428  0.51000 0.01105\n",
      "69                                             Sidewalk Café Licenses and Applications -6.56603  0.53000 0.00552\n",
      "70                                             Sidewalk Café Licenses and Applications -6.56603  0.53000 0.00552\n",
      "72                    Financial Incentive Projects - (TIF-Funded) Economic Development -6.59296  0.52000 0.01657\n",
      "73                                                         Affordable Housing Pipeline -6.59412  0.55000 0.01105\n",
      "74                                                                        Street Seats -6.60157  0.50000 0.00552\n",
      "\n",
      "-- FN: 16\n",
      "                                                                        name    g_r2  p(gain)      cf\n",
      "0                                                           DHS Daily Report 4.43722  0.49000 0.97238\n",
      "5                                                  Daily Weather Data for NY 2.69791  0.39000 1.00000\n",
      "6                                    CTA - Ridership - Daily Boarding Totals 2.42632  0.47000 1.00000\n",
      "7              Performance Metrics - Buildings - Time To Issue Green Permits 2.09037  0.46000 0.14365\n",
      "8              Performance Metrics - Buildings - Time To Issue Green Permits 2.09037  0.46000 0.14365\n",
      "9                          Lottery Powerball Winning Numbers: Beginning 2010 1.89893  0.44000 0.24862\n",
      "10                          Lottery NY Lotto Winning Numbers: Beginning 2001 1.62148  0.44000 0.28729\n",
      "11                                                     Total SNAP Recipients 1.31968  0.46000 0.03315\n",
      "14            Interagency Coordination and Construction Permits Data (MOSYS) 1.28968  0.45000 0.01657\n",
      "15                              Transportation Projects in Your Neighborhood 1.28968  0.49000 0.00552\n",
      "20                                                     Synthetic Turf Fields 1.28968  0.49000 0.01105\n",
      "21  Unemployment Insurance Initial Claims Statewide By Month: Beginning 1971 1.27293  0.38000 0.03315\n",
      "22           Gasoline Retail Prices Weekly Average by Region: Beginning 2007 0.95892  0.37000 0.14365\n",
      "24                     Lottery Mega Millions Winning Numbers: Beginning 2002 0.89438  0.48000 0.28177\n",
      "25                                     SF Municipal Green Building Inventory 0.84351  0.49000 0.01657\n",
      "28              Diesel Retail Price Weekly Average by Region: Beginning 2007 0.65882  0.38000 0.14365\n",
      "\n",
      "Precision: 0.3659\n",
      "Recall: 0.4839\n"
     ]
    }
   ],
   "source": [
    "compute_precision_recall(taxi_vehicle_collision_classes)"
   ]
  },
  {
   "cell_type": "code",
   "execution_count": 13,
   "metadata": {},
   "outputs": [
    {
     "data": {
      "text/plain": [
       "0.4056500620662547"
      ]
     },
     "execution_count": 13,
     "metadata": {},
     "output_type": "execute_result"
    }
   ],
   "source": [
    "# Pearson between containment fraction and gain in R2\n",
    "compute_pearson(taxi_vehicle_collision_classes, 'cf', 'g_r2')"
   ]
  },
  {
   "cell_type": "code",
   "execution_count": 14,
   "metadata": {},
   "outputs": [
    {
     "data": {
      "text/plain": [
       "-0.3216291663872632"
      ]
     },
     "execution_count": 14,
     "metadata": {},
     "output_type": "execute_result"
    }
   ],
   "source": [
    "# Pearson between containment fraction and probability of being classified as gain\n",
    "compute_pearson(taxi_vehicle_collision_classes, 'cf', 'p(gain)')"
   ]
  },
  {
   "cell_type": "code",
   "execution_count": 15,
   "metadata": {},
   "outputs": [
    {
     "data": {
      "text/plain": [
       "<matplotlib.axes._subplots.AxesSubplot at 0x1a14a68438>"
      ]
     },
     "execution_count": 15,
     "metadata": {},
     "output_type": "execute_result"
    }
   ],
   "source": [
    "taxi_vehicle_collision_classes.plot.scatter(x='g_r2', y='cf', )"
   ]
  },
  {
   "cell_type": "code",
   "execution_count": 16,
   "metadata": {},
   "outputs": [
    {
     "data": {
      "text/plain": [
       "-0.23616405184999098"
      ]
     },
     "execution_count": 16,
     "metadata": {},
     "output_type": "execute_result"
    }
   ],
   "source": [
    "# Pearson between gain in R2 and probability of being classified as gain\n",
    "compute_pearson(taxi_vehicle_collision_classes, 'g_r2', 'p(gain)')"
   ]
  },
  {
   "cell_type": "code",
   "execution_count": 17,
   "metadata": {},
   "outputs": [
    {
     "data": {
      "text/plain": [
       "<matplotlib.axes._subplots.AxesSubplot at 0x1a14b19cf8>"
      ]
     },
     "execution_count": 17,
     "metadata": {},
     "output_type": "execute_result"
    },
    {
     "data": {
      "image/png": "[encoded data removed]",
      "text/plain": [
       "<Figure size 432x288 with 1 Axes>"
      ]
     },
     "metadata": {
      "needs_background": "light"
     },
     "output_type": "display_data"
    }
   ],
   "source": [
    "taxi_vehicle_collision_classes.plot.scatter(x='g_r2', y='p(gain)', )"
   ]
  },
  {
   "cell_type": "markdown",
   "metadata": {},
   "source": [
    "### Regression"
   ]
  },
  {
   "cell_type": "code",
   "execution_count": 55,
   "metadata": {},
   "outputs": [
    {
     "name": "stdout",
     "output_type": "stream",
     "text": [
      "Mean Absolute Error: 9.3876\n",
      "Mean Squared Error: 1779.6816\n",
      "Median Absolute Error: 2.2070\n",
      "R2 Score: -181.6842\n"
     ]
    }
   ],
   "source": [
    "taxi_vehicle_collision_predictions, taxi_vehicle_collision_regr_explanations = predict_value_for_features(\n",
    "    rf_regressor,\n",
    "    'taxi-vehicle-collision-records-features',\n",
    "    FEATURE_VECTOR\n",
    ")"
   ]
  },
  {
   "cell_type": "code",
   "execution_count": 56,
   "metadata": {
    "scrolled": false
   },
   "outputs": [
    {
     "name": "stdout",
     "output_type": "stream",
     "text": [
      "                                                                        candidate_name      cf     real  predicted\n",
      "0                                                                     DHS Daily Report 0.97238  4.43722    0.00758\n",
      "1                         Performance Metrics - Buildings - Time to Issue Easy Permits 0.14365  4.24356    1.60109\n",
      "2                         Performance Metrics - Buildings - Time to Issue Easy Permits 0.14365  4.24356    1.60109\n",
      "3           Performance Metrics - Buildings - Time to Issue Developer Services Permits 0.14365  4.02944    0.04510\n",
      "4           Performance Metrics - Buildings - Time to Issue Developer Services Permits 0.14365  4.02944    0.04510\n",
      "5                                                            Daily Weather Data for NY 1.00000  2.69791    0.01579\n",
      "6                                              CTA - Ridership - Daily Boarding Totals 1.00000  2.42632    0.04974\n",
      "7                        Performance Metrics - Buildings - Time To Issue Green Permits 0.14365  2.09037   -0.21477\n",
      "8                        Performance Metrics - Buildings - Time To Issue Green Permits 0.14365  2.09037   -0.21477\n",
      "9                                    Lottery Powerball Winning Numbers: Beginning 2010 0.24862  1.89893   -0.64565\n",
      "10                                    Lottery NY Lotto Winning Numbers: Beginning 2001 0.28729  1.62148   -0.05852\n",
      "11                                                               Total SNAP Recipients 0.03315  1.31968   -0.04861\n",
      "12                                               Cash Assistance Recipients Since 1955 0.03315  1.31017   -0.18048\n",
      "13                         Annual Allowable Rent Increase for Units Under Rent Control 0.00552  1.28968   -0.86085\n",
      "14                      Interagency Coordination and Construction Permits Data (MOSYS) 0.01657  1.28968   -0.77388\n",
      "15                                        Transportation Projects in Your Neighborhood 0.00552  1.28968   -0.64845\n",
      "16                                                       NYCHA Citywide Special Events 0.02762  1.28968   -0.98492\n",
      "17                      Interagency Coordination and Construction Permits Data (MOSYS) 0.00552  1.28968   -0.56645\n",
      "18                      Interagency Coordination and Construction Permits Data (MOSYS) 0.00552  1.28968   -0.56645\n",
      "19                                                              Appeals Closed In 2015 0.00552  1.28968   -0.67558\n",
      "20                                                               Synthetic Turf Fields 0.01105  1.28968   -0.23958\n",
      "21            Unemployment Insurance Initial Claims Statewide By Month: Beginning 1971 0.03315  1.27293    0.08649\n",
      "22                     Gasoline Retail Prices Weekly Average by Region: Beginning 2007 0.14365  0.95892   -0.38079\n",
      "23                                                       Highway Travel Permit- Annual 0.01657  0.91902    4.69062\n",
      "24                               Lottery Mega Millions Winning Numbers: Beginning 2002 0.28177  0.89438   -0.00854\n",
      "25                                               SF Municipal Green Building Inventory 0.01657  0.84351   -0.24748\n",
      "26               Campaign Finance - Public Funds Disbursed - November 4, 2014 Election 0.00552  0.84351   -0.78849\n",
      "27                                   Statewide -- Hatchery Standards 2018 SOS 10292018 0.00552  0.84351   -0.89041\n",
      "28                        Diesel Retail Price Weekly Average by Region: Beginning 2007 0.14365  0.65882    1.88763\n",
      "29                                             Surplus Properties Sold: Beginning 2009 0.03315  0.18718    0.07976\n",
      "30                                                             Local Law 44 - Projects 0.01105  0.03237    2.27595\n",
      "31                Mayor’s Office of Housing and Community Development Grants and Loans 0.01657 -0.00886   -0.82450\n",
      "32                                                New York State RGGI Auction Proceeds 0.01105 -0.00901   -0.10086\n",
      "33                                                    [Deprecated] Form 700 Schedule E 0.01105 -0.06949   -0.92246\n",
      "34                 Form 700 Schedule E - Travel Payments, Advances, and Reimbursements 0.01105 -0.06949   -0.88827\n",
      "35                                    Transportation Fuels Spot Prices: Beginning 2006 0.14365 -0.33204  -88.36595\n",
      "36                                                           311 Call Metrics by Month 0.03315 -0.73987   -0.02746\n",
      "37                          Transportation Fuels Production and Demand: Beginning 1993 0.14365 -0.79352  -90.45236\n",
      "38                                                             Local Law 44 - Projects 0.04420 -0.86047   -0.46382\n",
      "39                                                   Better Brakes - Tracking Progress 0.01105 -0.87484   -0.56174\n",
      "40                                            MAP -- All Projects (2012-21) 08-29-2018 0.00552 -0.91555   -0.41090\n",
      "41                                                  2013-2014 DOE High School Programs 0.00552 -0.91555   -0.70302\n",
      "42                                                  2013-2014 DOE High School Programs 0.00552 -0.91555   -0.70302\n",
      "43                                    Form 700 Schedule B - Interests in Real Property 0.02210 -0.96841    0.04865\n",
      "44                             Summary of Portfolio Benefits from RGGI-Funded Projects 0.01105 -1.19419   -0.24922\n",
      "45                                   Call Center Metrics for the Health Service System 0.03315 -1.54199    5.69639\n",
      "46                                       Citywide HRA- Administered Medicaid Enrollees 0.03315 -1.72276   -0.00258\n",
      "47                                                                311 Cases by Channel 0.03315 -1.73887    5.12664\n",
      "48                                      Transportation Fuels Inventory: Beginning 2004 0.14365 -1.81760    0.07989\n",
      "49                                               Candidate Surplus Funds Latest Report 0.02210 -1.86456    0.30579\n",
      "50                                                   [Deprecated] Form 700 Schedule A2 0.01105 -2.18087   -0.68361\n",
      "51  Form 700 Schedule A2 - Investments, Income, and Assets of Business Entities/Trusts 0.01105 -2.18087   -0.68349\n",
      "52                                                    [Deprecated] Form 700 Schedule B 0.02210 -2.31207    0.02378\n",
      "53                           Asotin County Library Missing Items from Clarkston Branch 0.01657 -2.98334   -0.34993\n",
      "54                                                         Bikes in Buildings Requests 0.02762 -3.04922    0.12014\n",
      "55                                                         Bikes in Buildings Requests 0.03315 -3.17779    0.31248\n",
      "56                                                         Bikes in Buildings Requests 0.02762 -3.72660    0.08692\n",
      "57                                                         Bikes in Buildings Requests 0.02762 -3.89416    0.05503\n",
      "58                                                         Bikes in Buildings Requests 0.02762 -3.89416    0.05503\n",
      "59                                               County Agricultural Districts Profile 0.01105 -3.93550   -0.30260\n",
      "60                                            Denied TW and Wholesale Market Companies 0.00552 -3.94435   -0.56226\n",
      "61                                                         Bikes in Buildings Requests 0.06077 -4.85137    0.33642\n",
      "62                                                         Bikes in Buildings Requests 0.00552 -4.96509   -6.26639\n",
      "63                Campaign Finance - FPPC Form 460 - Schedule H - Loans Made to Others 0.01657 -5.34598   -0.05969\n",
      "64                    Financial Incentive Projects - (TIF-Funded) Economic Development 0.01105 -5.55169    0.36347\n",
      "65                                                       Restrictive Declaration Sites 0.00552 -5.76981   -0.83183\n",
      "66                                                     SF Development Pipeline 2018 Q3 0.07735 -6.22329   -1.30413\n",
      "67                Campaign Finance - FPPC Form 460 - Schedule H - Loans Made to Others 0.01657 -6.32683  338.20130\n",
      "68                    Financial Incentive Projects - (TIF-Funded) Economic Development 0.01105 -6.55428    0.29703\n",
      "69                                             Sidewalk Café Licenses and Applications 0.00552 -6.56603   -6.23786\n",
      "70                                             Sidewalk Café Licenses and Applications 0.00552 -6.56603   -6.23786\n",
      "71                Campaign Finance - FPPC Form 460 - Schedule H - Loans Made to Others 0.00552 -6.56603   -0.82978\n",
      "72                    Financial Incentive Projects - (TIF-Funded) Economic Development 0.01657 -6.59296    0.29703\n",
      "73                                                         Affordable Housing Pipeline 0.01105 -6.59412   -0.13488\n",
      "74                                                                        Street Seats 0.00552 -6.60157   -0.98456\n",
      "75                                                         Affordable Housing Pipeline 0.00552 -6.60414   -0.56867\n"
     ]
    }
   ],
   "source": [
    "print_df(taxi_vehicle_collision_predictions)"
   ]
  },
  {
   "cell_type": "code",
   "execution_count": 57,
   "metadata": {},
   "outputs": [
    {
     "data": {
      "text/html": [
       "<div>\n",
       "<style scoped>\n",
       "    .dataframe tbody tr th:only-of-type {\n",
       "        vertical-align: middle;\n",
       "    }\n",
       "\n",
       "    .dataframe tbody tr th {\n",
       "        vertical-align: top;\n",
       "    }\n",
       "\n",
       "    .dataframe thead th {\n",
       "        text-align: right;\n",
       "    }\n",
       "</style>\n",
       "<table border=\"1\" class=\"dataframe\">\n",
       "  <thead>\n",
       "    <tr style=\"text-align: right;\">\n",
       "      <th></th>\n",
       "      <th>target</th>\n",
       "      <th>feature</th>\n",
       "      <th>weight</th>\n",
       "      <th>value</th>\n",
       "    </tr>\n",
       "  </thead>\n",
       "  <tbody>\n",
       "    <tr>\n",
       "      <th>0</th>\n",
       "      <td>y</td>\n",
       "      <td>candidate_target_max_covariance</td>\n",
       "      <td>286.10360</td>\n",
       "      <td>9551887.31111</td>\n",
       "    </tr>\n",
       "    <tr>\n",
       "      <th>1</th>\n",
       "      <td>y</td>\n",
       "      <td>&lt;BIAS&gt;</td>\n",
       "      <td>1.98085</td>\n",
       "      <td>1.00000</td>\n",
       "    </tr>\n",
       "    <tr>\n",
       "      <th>2</th>\n",
       "      <td>y</td>\n",
       "      <td>query_max_skewness</td>\n",
       "      <td>0.09887</td>\n",
       "      <td>1.40835</td>\n",
       "    </tr>\n",
       "    <tr>\n",
       "      <th>3</th>\n",
       "      <td>y</td>\n",
       "      <td>query_num_of_columns</td>\n",
       "      <td>0.08742</td>\n",
       "      <td>2.00000</td>\n",
       "    </tr>\n",
       "    <tr>\n",
       "      <th>4</th>\n",
       "      <td>y</td>\n",
       "      <td>query_target_max_covariance</td>\n",
       "      <td>0.06946</td>\n",
       "      <td>176158.30261</td>\n",
       "    </tr>\n",
       "    <tr>\n",
       "      <th>5</th>\n",
       "      <td>y</td>\n",
       "      <td>candidate_target_max_pearson</td>\n",
       "      <td>0.05479</td>\n",
       "      <td>0.04764</td>\n",
       "    </tr>\n",
       "    <tr>\n",
       "      <th>6</th>\n",
       "      <td>y</td>\n",
       "      <td>query_num_of_rows</td>\n",
       "      <td>0.02633</td>\n",
       "      <td>181.00000</td>\n",
       "    </tr>\n",
       "    <tr>\n",
       "      <th>7</th>\n",
       "      <td>y</td>\n",
       "      <td>containment_fraction</td>\n",
       "      <td>-0.00469</td>\n",
       "      <td>0.03315</td>\n",
       "    </tr>\n",
       "    <tr>\n",
       "      <th>8</th>\n",
       "      <td>y</td>\n",
       "      <td>candidate_max_kurtosis</td>\n",
       "      <td>-0.00545</td>\n",
       "      <td>0.35314</td>\n",
       "    </tr>\n",
       "    <tr>\n",
       "      <th>9</th>\n",
       "      <td>y</td>\n",
       "      <td>candidate_max_skewness</td>\n",
       "      <td>-0.00678</td>\n",
       "      <td>0.64483</td>\n",
       "    </tr>\n",
       "    <tr>\n",
       "      <th>10</th>\n",
       "      <td>y</td>\n",
       "      <td>candidate_target_max_spearman</td>\n",
       "      <td>-0.01049</td>\n",
       "      <td>0.01271</td>\n",
       "    </tr>\n",
       "    <tr>\n",
       "      <th>11</th>\n",
       "      <td>y</td>\n",
       "      <td>candidate_max_unique</td>\n",
       "      <td>-0.01225</td>\n",
       "      <td>124.00000</td>\n",
       "    </tr>\n",
       "    <tr>\n",
       "      <th>12</th>\n",
       "      <td>y</td>\n",
       "      <td>candidate_row_column_ratio</td>\n",
       "      <td>-0.01514</td>\n",
       "      <td>124.00000</td>\n",
       "    </tr>\n",
       "    <tr>\n",
       "      <th>13</th>\n",
       "      <td>y</td>\n",
       "      <td>max_pearson_difference</td>\n",
       "      <td>-0.01893</td>\n",
       "      <td>0.01107</td>\n",
       "    </tr>\n",
       "    <tr>\n",
       "      <th>14</th>\n",
       "      <td>y</td>\n",
       "      <td>candidate_target_max_mutual_info</td>\n",
       "      <td>-0.02075</td>\n",
       "      <td>0.19854</td>\n",
       "    </tr>\n",
       "    <tr>\n",
       "      <th>15</th>\n",
       "      <td>y</td>\n",
       "      <td>query_target_max_pearson</td>\n",
       "      <td>-0.02101</td>\n",
       "      <td>0.03657</td>\n",
       "    </tr>\n",
       "    <tr>\n",
       "      <th>16</th>\n",
       "      <td>y</td>\n",
       "      <td>candidate_num_rows</td>\n",
       "      <td>-0.02981</td>\n",
       "      <td>124.00000</td>\n",
       "    </tr>\n",
       "    <tr>\n",
       "      <th>17</th>\n",
       "      <td>y</td>\n",
       "      <td>query_row_column_ratio</td>\n",
       "      <td>-0.03337</td>\n",
       "      <td>90.50000</td>\n",
       "    </tr>\n",
       "    <tr>\n",
       "      <th>18</th>\n",
       "      <td>y</td>\n",
       "      <td>query_target_max_spearman</td>\n",
       "      <td>-0.05994</td>\n",
       "      <td>0.23067</td>\n",
       "    </tr>\n",
       "    <tr>\n",
       "      <th>19</th>\n",
       "      <td>y</td>\n",
       "      <td>query_max_kurtosis</td>\n",
       "      <td>-0.11931</td>\n",
       "      <td>7.65202</td>\n",
       "    </tr>\n",
       "    <tr>\n",
       "      <th>20</th>\n",
       "      <td>y</td>\n",
       "      <td>query_max_unique</td>\n",
       "      <td>-62.34538</td>\n",
       "      <td>181.00000</td>\n",
       "    </tr>\n",
       "    <tr>\n",
       "      <th>21</th>\n",
       "      <td>y</td>\n",
       "      <td>query_target_max_mutual_info</td>\n",
       "      <td>-225.76663</td>\n",
       "      <td>0.96804</td>\n",
       "    </tr>\n",
       "  </tbody>\n",
       "</table>\n",
       "</div>"
      ],
      "text/plain": [
       "   target                           feature     weight         value\n",
       "0       y   candidate_target_max_covariance  286.10360 9551887.31111\n",
       "1       y                            <BIAS>    1.98085       1.00000\n",
       "2       y                query_max_skewness    0.09887       1.40835\n",
       "3       y              query_num_of_columns    0.08742       2.00000\n",
       "4       y       query_target_max_covariance    0.06946  176158.30261\n",
       "5       y      candidate_target_max_pearson    0.05479       0.04764\n",
       "6       y                 query_num_of_rows    0.02633     181.00000\n",
       "7       y              containment_fraction   -0.00469       0.03315\n",
       "8       y            candidate_max_kurtosis   -0.00545       0.35314\n",
       "9       y            candidate_max_skewness   -0.00678       0.64483\n",
       "10      y     candidate_target_max_spearman   -0.01049       0.01271\n",
       "11      y              candidate_max_unique   -0.01225     124.00000\n",
       "12      y        candidate_row_column_ratio   -0.01514     124.00000\n",
       "13      y            max_pearson_difference   -0.01893       0.01107\n",
       "14      y  candidate_target_max_mutual_info   -0.02075       0.19854\n",
       "15      y          query_target_max_pearson   -0.02101       0.03657\n",
       "16      y                candidate_num_rows   -0.02981     124.00000\n",
       "17      y            query_row_column_ratio   -0.03337      90.50000\n",
       "18      y         query_target_max_spearman   -0.05994       0.23067\n",
       "19      y                query_max_kurtosis   -0.11931       7.65202\n",
       "20      y                  query_max_unique  -62.34538     181.00000\n",
       "21      y      query_target_max_mutual_info -225.76663       0.96804"
      ]
     },
     "execution_count": 57,
     "metadata": {},
     "output_type": "execute_result"
    }
   ],
   "source": [
    "taxi_vehicle_collision_regr_explanations[5]"
   ]
  },
  {
   "cell_type": "markdown",
   "metadata": {},
   "source": [
    "## College Debt"
   ]
  },
  {
   "cell_type": "markdown",
   "metadata": {},
   "source": [
    "### Classification"
   ]
  },
  {
   "cell_type": "code",
   "execution_count": 18,
   "metadata": {},
   "outputs": [],
   "source": [
    "college_debt_classes, college_debt_explanations = predict_class_for_features(\n",
    "    rf_classifier,\n",
    "    'college-debt-records-features',\n",
    "    FEATURE_VECTOR\n",
    ")"
   ]
  },
  {
   "cell_type": "code",
   "execution_count": 19,
   "metadata": {},
   "outputs": [
    {
     "name": "stdout",
     "output_type": "stream",
     "text": [
      "-- TP: 2\n",
      "                                         name    g_r2  p(gain)      cf\n",
      "0  Most- Recent- Cohorts- Scorecard- Elements 0.80812  0.66000 1.00000\n",
      "1        College Scorecard Data - Most Recent 0.72774  0.67000 1.00000\n",
      "\n",
      "-- TN: 0\n",
      "Empty DataFrame\n",
      "Columns: [name, g_r2, p(gain), cf]\n",
      "Index: []\n",
      "\n",
      "-- FP: 0\n",
      "Empty DataFrame\n",
      "Columns: [name, g_r2, p(gain), cf]\n",
      "Index: []\n",
      "\n",
      "-- FN: 0\n",
      "Empty DataFrame\n",
      "Columns: [name, g_r2, p(gain), cf]\n",
      "Index: []\n",
      "\n",
      "Precision: 1.0000\n",
      "Recall: 1.0000\n"
     ]
    }
   ],
   "source": [
    "compute_precision_recall(college_debt_classes)"
   ]
  },
  {
   "cell_type": "code",
   "execution_count": 20,
   "metadata": {},
   "outputs": [
    {
     "name": "stderr",
     "output_type": "stream",
     "text": [
      "/opt/anaconda3/envs/python-3.6/lib/python3.6/site-packages/scipy/stats/stats.py:3399: PearsonRConstantInputWarning: An input array is constant; the correlation coefficent is not defined.\n",
      "  warnings.warn(PearsonRConstantInputWarning())\n"
     ]
    },
    {
     "data": {
      "text/plain": [
       "nan"
      ]
     },
     "execution_count": 20,
     "metadata": {},
     "output_type": "execute_result"
    }
   ],
   "source": [
    "# Pearson between containment fraction and gain in R2\n",
    "compute_pearson(college_debt_classes, 'cf', 'g_r2')"
   ]
  },
  {
   "cell_type": "code",
   "execution_count": 21,
   "metadata": {},
   "outputs": [
    {
     "data": {
      "text/plain": [
       "nan"
      ]
     },
     "execution_count": 21,
     "metadata": {},
     "output_type": "execute_result"
    }
   ],
   "source": [
    "# Pearson between containment fraction and probability of being classified as gain\n",
    "compute_pearson(college_debt_classes, 'cf', 'p(gain)')"
   ]
  },
  {
   "cell_type": "code",
   "execution_count": 22,
   "metadata": {},
   "outputs": [
    {
     "data": {
      "text/plain": [
       "-1.0"
      ]
     },
     "execution_count": 22,
     "metadata": {},
     "output_type": "execute_result"
    }
   ],
   "source": [
    "# Pearson between gain in R2 and probability of being classified as gain\n",
    "compute_pearson(college_debt_classes, 'g_r2', 'p(gain)')"
   ]
  },
  {
   "cell_type": "markdown",
   "metadata": {},
   "source": [
    "### Regression"
   ]
  },
  {
   "cell_type": "code",
   "execution_count": 58,
   "metadata": {},
   "outputs": [
    {
     "name": "stdout",
     "output_type": "stream",
     "text": [
      "Mean Absolute Error: 0.7780\n",
      "Mean Squared Error: 0.6068\n",
      "Median Absolute Error: 0.7780\n",
      "R2 Score: -374.6633\n"
     ]
    }
   ],
   "source": [
    "college_debt_predictions, college_debt_regr_explanations = predict_value_for_features(\n",
    "    rf_regressor,\n",
    "    'college-debt-records-features',\n",
    "    FEATURE_VECTOR\n",
    ")"
   ]
  },
  {
   "cell_type": "code",
   "execution_count": 59,
   "metadata": {},
   "outputs": [
    {
     "name": "stdout",
     "output_type": "stream",
     "text": [
      "                               candidate_name      cf    real  predicted\n",
      "0  Most- Recent- Cohorts- Scorecard- Elements 1.00000 0.80812   -0.00855\n",
      "1        College Scorecard Data - Most Recent 1.00000 0.72774   -0.01164\n"
     ]
    }
   ],
   "source": [
    "print_df(college_debt_predictions)"
   ]
  },
  {
   "cell_type": "markdown",
   "metadata": {},
   "source": [
    "## Poverty Estimation"
   ]
  },
  {
   "cell_type": "markdown",
   "metadata": {},
   "source": [
    "### Classification"
   ]
  },
  {
   "cell_type": "code",
   "execution_count": 23,
   "metadata": {},
   "outputs": [],
   "source": [
    "poverty_estimation_classes, poverty_estimation_explanations = predict_class_for_features(\n",
    "    rf_classifier,\n",
    "    'poverty-estimation-records-features',\n",
    "    FEATURE_VECTOR\n",
    ")"
   ]
  },
  {
   "cell_type": "code",
   "execution_count": 24,
   "metadata": {},
   "outputs": [
    {
     "name": "stdout",
     "output_type": "stream",
     "text": [
      "-- TP: 1\n",
      "                     name    g_r2  p(gain)      cf\n",
      "0  Unemployment in the US 0.02825  0.60000 1.00000\n",
      "\n",
      "-- TN: 2\n",
      "                              name     g_r2  p(gain)      cf\n",
      "7  SF Development Pipeline 2016 Q3 -0.31018  0.49000 0.00128\n",
      "8  SF Development Pipeline 2019 Q2 -0.31780  0.49000 0.00128\n",
      "\n",
      "-- FP: 6\n",
      "                              name     g_r2  p(gain)      cf\n",
      "1  SF Development Pipeline 2017 Q2 -0.29071  0.51000 0.00128\n",
      "2  SF Development Pipeline 2016 Q4 -0.29903  0.51000 0.00159\n",
      "3  SF Development Pipeline 2017 Q3 -0.29914  0.50000 0.00128\n",
      "4  SF Development Pipeline 2014 Q4 -0.29982  0.54000 0.00032\n",
      "5  SF Development Pipeline 2017 Q1 -0.30170  0.51000 0.00128\n",
      "6  SF Development Pipeline 2016 Q2 -0.30469  0.53000 0.00064\n",
      "\n",
      "-- FN: 0\n",
      "Empty DataFrame\n",
      "Columns: [name, g_r2, p(gain), cf]\n",
      "Index: []\n",
      "\n",
      "Precision: 0.1429\n",
      "Recall: 1.0000\n"
     ]
    }
   ],
   "source": [
    "compute_precision_recall(poverty_estimation_classes)"
   ]
  },
  {
   "cell_type": "code",
   "execution_count": 25,
   "metadata": {},
   "outputs": [
    {
     "data": {
      "text/plain": [
       "0.9976101832348241"
      ]
     },
     "execution_count": 25,
     "metadata": {},
     "output_type": "execute_result"
    }
   ],
   "source": [
    "# Pearson between containment fraction and gain in R2\n",
    "compute_pearson(poverty_estimation_classes, 'cf', 'g_r2')"
   ]
  },
  {
   "cell_type": "code",
   "execution_count": 26,
   "metadata": {},
   "outputs": [
    {
     "data": {
      "text/plain": [
       "0.8747353381107459"
      ]
     },
     "execution_count": 26,
     "metadata": {},
     "output_type": "execute_result"
    }
   ],
   "source": [
    "# Pearson between containment fraction and probability of being classified as gain\n",
    "compute_pearson(poverty_estimation_classes, 'cf', 'p(gain)')"
   ]
  },
  {
   "cell_type": "code",
   "execution_count": 27,
   "metadata": {},
   "outputs": [
    {
     "data": {
      "text/plain": [
       "0.8883507458393166"
      ]
     },
     "execution_count": 27,
     "metadata": {},
     "output_type": "execute_result"
    }
   ],
   "source": [
    "# Pearson between gain in R2 and probability of being classified as gain\n",
    "compute_pearson(poverty_estimation_classes, 'g_r2', 'p(gain)')"
   ]
  },
  {
   "cell_type": "code",
   "execution_count": 63,
   "metadata": {},
   "outputs": [
    {
     "data": {
      "text/html": [
       "<div>\n",
       "<style scoped>\n",
       "    .dataframe tbody tr th:only-of-type {\n",
       "        vertical-align: middle;\n",
       "    }\n",
       "\n",
       "    .dataframe tbody tr th {\n",
       "        vertical-align: top;\n",
       "    }\n",
       "\n",
       "    .dataframe thead th {\n",
       "        text-align: right;\n",
       "    }\n",
       "</style>\n",
       "<table border=\"1\" class=\"dataframe\">\n",
       "  <thead>\n",
       "    <tr style=\"text-align: right;\">\n",
       "      <th></th>\n",
       "      <th>target</th>\n",
       "      <th>feature</th>\n",
       "      <th>weight</th>\n",
       "      <th>value</th>\n",
       "    </tr>\n",
       "  </thead>\n",
       "  <tbody>\n",
       "    <tr>\n",
       "      <th>0</th>\n",
       "      <td>loss</td>\n",
       "      <td>&lt;BIAS&gt;</td>\n",
       "      <td>0.43948</td>\n",
       "      <td>1.00000</td>\n",
       "    </tr>\n",
       "    <tr>\n",
       "      <th>1</th>\n",
       "      <td>loss</td>\n",
       "      <td>query_num_of_columns</td>\n",
       "      <td>0.08154</td>\n",
       "      <td>43.00000</td>\n",
       "    </tr>\n",
       "    <tr>\n",
       "      <th>2</th>\n",
       "      <td>loss</td>\n",
       "      <td>candidate_target_max_pearson</td>\n",
       "      <td>0.04695</td>\n",
       "      <td>0.02414</td>\n",
       "    </tr>\n",
       "    <tr>\n",
       "      <th>3</th>\n",
       "      <td>loss</td>\n",
       "      <td>query_target_max_spearman</td>\n",
       "      <td>0.03439</td>\n",
       "      <td>0.69943</td>\n",
       "    </tr>\n",
       "    <tr>\n",
       "      <th>4</th>\n",
       "      <td>loss</td>\n",
       "      <td>query_row_column_ratio</td>\n",
       "      <td>0.03024</td>\n",
       "      <td>72.93023</td>\n",
       "    </tr>\n",
       "    <tr>\n",
       "      <th>5</th>\n",
       "      <td>loss</td>\n",
       "      <td>query_target_max_pearson</td>\n",
       "      <td>0.01840</td>\n",
       "      <td>0.29724</td>\n",
       "    </tr>\n",
       "    <tr>\n",
       "      <th>6</th>\n",
       "      <td>loss</td>\n",
       "      <td>query_max_kurtosis</td>\n",
       "      <td>0.01599</td>\n",
       "      <td>401.98953</td>\n",
       "    </tr>\n",
       "    <tr>\n",
       "      <th>7</th>\n",
       "      <td>loss</td>\n",
       "      <td>candidate_num_rows</td>\n",
       "      <td>0.01589</td>\n",
       "      <td>1585.00000</td>\n",
       "    </tr>\n",
       "    <tr>\n",
       "      <th>8</th>\n",
       "      <td>loss</td>\n",
       "      <td>candidate_row_column_ratio</td>\n",
       "      <td>0.01423</td>\n",
       "      <td>54.65517</td>\n",
       "    </tr>\n",
       "    <tr>\n",
       "      <th>9</th>\n",
       "      <td>loss</td>\n",
       "      <td>query_target_max_mutual_info</td>\n",
       "      <td>0.01077</td>\n",
       "      <td>0.84828</td>\n",
       "    </tr>\n",
       "    <tr>\n",
       "      <th>10</th>\n",
       "      <td>loss</td>\n",
       "      <td>query_max_skewness</td>\n",
       "      <td>0.00498</td>\n",
       "      <td>15.94080</td>\n",
       "    </tr>\n",
       "    <tr>\n",
       "      <th>11</th>\n",
       "      <td>loss</td>\n",
       "      <td>candidate_target_max_covariance</td>\n",
       "      <td>0.00239</td>\n",
       "      <td>3079847.35718</td>\n",
       "    </tr>\n",
       "    <tr>\n",
       "      <th>12</th>\n",
       "      <td>loss</td>\n",
       "      <td>candidate_target_max_spearman</td>\n",
       "      <td>0.00139</td>\n",
       "      <td>0.03225</td>\n",
       "    </tr>\n",
       "    <tr>\n",
       "      <th>13</th>\n",
       "      <td>loss</td>\n",
       "      <td>query_target_max_covariance</td>\n",
       "      <td>-0.00093</td>\n",
       "      <td>55411.93728</td>\n",
       "    </tr>\n",
       "    <tr>\n",
       "      <th>14</th>\n",
       "      <td>loss</td>\n",
       "      <td>candidate_max_skewness</td>\n",
       "      <td>-0.00138</td>\n",
       "      <td>30.85548</td>\n",
       "    </tr>\n",
       "    <tr>\n",
       "      <th>15</th>\n",
       "      <td>loss</td>\n",
       "      <td>candidate_target_max_mutual_info</td>\n",
       "      <td>-0.00451</td>\n",
       "      <td>1.23047</td>\n",
       "    </tr>\n",
       "    <tr>\n",
       "      <th>16</th>\n",
       "      <td>loss</td>\n",
       "      <td>candidate_max_unique</td>\n",
       "      <td>-0.00565</td>\n",
       "      <td>366.00000</td>\n",
       "    </tr>\n",
       "    <tr>\n",
       "      <th>17</th>\n",
       "      <td>loss</td>\n",
       "      <td>candidate_max_kurtosis</td>\n",
       "      <td>-0.00591</td>\n",
       "      <td>976.68329</td>\n",
       "    </tr>\n",
       "    <tr>\n",
       "      <th>18</th>\n",
       "      <td>loss</td>\n",
       "      <td>containment_fraction</td>\n",
       "      <td>-0.02235</td>\n",
       "      <td>0.00128</td>\n",
       "    </tr>\n",
       "    <tr>\n",
       "      <th>19</th>\n",
       "      <td>loss</td>\n",
       "      <td>query_num_of_rows</td>\n",
       "      <td>-0.02293</td>\n",
       "      <td>3136.00000</td>\n",
       "    </tr>\n",
       "    <tr>\n",
       "      <th>20</th>\n",
       "      <td>loss</td>\n",
       "      <td>max_pearson_difference</td>\n",
       "      <td>-0.04741</td>\n",
       "      <td>0.27310</td>\n",
       "    </tr>\n",
       "    <tr>\n",
       "      <th>21</th>\n",
       "      <td>loss</td>\n",
       "      <td>query_max_unique</td>\n",
       "      <td>-0.10555</td>\n",
       "      <td>2790.00000</td>\n",
       "    </tr>\n",
       "  </tbody>\n",
       "</table>\n",
       "</div>"
      ],
      "text/plain": [
       "   target                           feature   weight         value\n",
       "0    loss                            <BIAS>  0.43948       1.00000\n",
       "1    loss              query_num_of_columns  0.08154      43.00000\n",
       "2    loss      candidate_target_max_pearson  0.04695       0.02414\n",
       "3    loss         query_target_max_spearman  0.03439       0.69943\n",
       "4    loss            query_row_column_ratio  0.03024      72.93023\n",
       "5    loss          query_target_max_pearson  0.01840       0.29724\n",
       "6    loss                query_max_kurtosis  0.01599     401.98953\n",
       "7    loss                candidate_num_rows  0.01589    1585.00000\n",
       "8    loss        candidate_row_column_ratio  0.01423      54.65517\n",
       "9    loss      query_target_max_mutual_info  0.01077       0.84828\n",
       "10   loss                query_max_skewness  0.00498      15.94080\n",
       "11   loss   candidate_target_max_covariance  0.00239 3079847.35718\n",
       "12   loss     candidate_target_max_spearman  0.00139       0.03225\n",
       "13   loss       query_target_max_covariance -0.00093   55411.93728\n",
       "14   loss            candidate_max_skewness -0.00138      30.85548\n",
       "15   loss  candidate_target_max_mutual_info -0.00451       1.23047\n",
       "16   loss              candidate_max_unique -0.00565     366.00000\n",
       "17   loss            candidate_max_kurtosis -0.00591     976.68329\n",
       "18   loss              containment_fraction -0.02235       0.00128\n",
       "19   loss                 query_num_of_rows -0.02293    3136.00000\n",
       "20   loss            max_pearson_difference -0.04741       0.27310\n",
       "21   loss                  query_max_unique -0.10555    2790.00000"
      ]
     },
     "execution_count": 63,
     "metadata": {},
     "output_type": "execute_result"
    }
   ],
   "source": [
    "poverty_estimation_explanations[0]"
   ]
  },
  {
   "cell_type": "markdown",
   "metadata": {},
   "source": [
    "### Regression"
   ]
  },
  {
   "cell_type": "code",
   "execution_count": 61,
   "metadata": {},
   "outputs": [
    {
     "name": "stdout",
     "output_type": "stream",
     "text": [
      "Mean Absolute Error: 0.4188\n",
      "Mean Squared Error: 0.4378\n",
      "Median Absolute Error: 0.1825\n",
      "R2 Score: -39.2300\n"
     ]
    }
   ],
   "source": [
    "poverty_estimation_predictions, poverty_estimation_regr_explanations = predict_value_for_features(\n",
    "    rf_regressor,\n",
    "    'poverty-estimation-records-features',\n",
    "    FEATURE_VECTOR\n",
    ")"
   ]
  },
  {
   "cell_type": "code",
   "execution_count": 62,
   "metadata": {},
   "outputs": [
    {
     "name": "stdout",
     "output_type": "stream",
     "text": [
      "                    candidate_name      cf     real  predicted\n",
      "0           Unemployment in the US 1.00000  0.02825    0.17675\n",
      "1  SF Development Pipeline 2017 Q2 0.00128 -0.29071   -0.47321\n",
      "2  SF Development Pipeline 2016 Q4 0.00159 -0.29903   -0.71281\n",
      "3  SF Development Pipeline 2017 Q3 0.00128 -0.29914   -0.46785\n",
      "4  SF Development Pipeline 2014 Q4 0.00032 -0.29982    1.52253\n",
      "5  SF Development Pipeline 2017 Q1 0.00128 -0.30170   -0.71675\n",
      "6  SF Development Pipeline 2016 Q2 0.00064 -0.30469   -0.35561\n",
      "7  SF Development Pipeline 2016 Q3 0.00128 -0.31018   -0.71228\n",
      "8  SF Development Pipeline 2019 Q2 0.00128 -0.31780   -0.48299\n"
     ]
    }
   ],
   "source": [
    "print_df(poverty_estimation_predictions)"
   ]
  },
  {
   "cell_type": "code",
   "execution_count": null,
   "metadata": {},
   "outputs": [],
   "source": []
  }
 ],
 "metadata": {
  "kernelspec": {
   "display_name": "Python 3",
   "language": "python",
   "name": "python3"
  },
  "language_info": {
   "codemirror_mode": {
    "name": "ipython",
    "version": 3
   },
   "file_extension": ".py",
   "mimetype": "text/x-python",
   "name": "python",
   "nbconvert_exporter": "python",
   "pygments_lexer": "ipython3",
   "version": "3.6.9"
  }
 },
 "nbformat": 4,
 "nbformat_minor": 2
}
