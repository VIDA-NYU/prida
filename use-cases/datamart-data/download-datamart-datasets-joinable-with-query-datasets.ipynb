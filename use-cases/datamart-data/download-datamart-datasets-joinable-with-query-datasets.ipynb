{
 "cells": [
  {
   "cell_type": "markdown",
   "metadata": {},
   "source": [
    "**Python Version Requirement:** Python 3.6"
   ]
  },
  {
   "cell_type": "code",
   "execution_count": 79,
   "metadata": {},
   "outputs": [],
   "source": [
    "from d3m import container\n",
    "import datamart\n",
    "import datamart_nyu\n",
    "from pathlib import Path\n",
    "import subprocess\n",
    "import os\n",
    "import shutil"
   ]
  },
  {
   "cell_type": "code",
   "execution_count": 78,
   "metadata": {},
   "outputs": [],
   "source": [
    "DATAMART_PATH = '/Users/fchirigati/projects/d3m/datamart'"
   ]
  },
  {
   "cell_type": "code",
   "execution_count": 55,
   "metadata": {},
   "outputs": [],
   "source": [
    "def print_results(results):\n",
    "    if not results:\n",
    "        return\n",
    "    for result in results:\n",
    "        print(result.score())\n",
    "        print(result.get_json_metadata()['metadata']['name'])\n",
    "        if (result.get_augment_hint()):\n",
    "            left_columns = []\n",
    "            for column_ in result.get_augment_hint().left_columns:\n",
    "                left_columns.append([])\n",
    "                for column in column_:\n",
    "                    left_columns[-1].append((column.resource_id, column.column_index))\n",
    "            print(\"Left Columns: %s\" % str(left_columns))\n",
    "            right_columns = []\n",
    "            for column_ in result.get_augment_hint().right_columns:\n",
    "                right_columns.append([])\n",
    "                for column in column_:\n",
    "                    right_columns[-1].append((column.resource_id, column.column_index))\n",
    "            print(\"Right Columns: %s\" % str(right_columns))\n",
    "        else:\n",
    "            print(result.id())\n",
    "        print(\"-------------------\")"
   ]
  },
  {
   "cell_type": "code",
   "execution_count": 67,
   "metadata": {},
   "outputs": [],
   "source": [
    "def get_join_info(results):\n",
    "    links = list()\n",
    "    if not results:\n",
    "        return\n",
    "    id_to_join_info = dict()\n",
    "    for result in results:\n",
    "        id_ = result.get_json_metadata()['id']\n",
    "        if id_ not in id_to_join_info:\n",
    "            id_to_join_info[id_] = dict(\n",
    "                url=None,\n",
    "                left=[],\n",
    "                right=[]\n",
    "            )\n",
    "        if not id_to_join_info[id_]['url']:\n",
    "            if 'direct_url' in result.get_json_metadata()['metadata']['materialize']:\n",
    "                id_to_join_info[id_]['url'] = result.get_json_metadata()['metadata']['materialize']['direct_url']\n",
    "        for column_ in result.get_augment_hint().left_columns:\n",
    "            for column in column_:\n",
    "                id_to_join_info[id_]['left'].append(column.column_index - 1)  # ignore d3mIndex\n",
    "        for column_ in result.get_augment_hint().right_columns:\n",
    "            for column in column_:\n",
    "                id_to_join_info[id_]['right'].append(column.column_index)\n",
    "    return id_to_join_info"
   ]
  },
  {
   "cell_type": "code",
   "execution_count": 82,
   "metadata": {},
   "outputs": [],
   "source": [
    "def download_datasets(id_to_join_info, dir_):\n",
    "    current_working_dir = os.getcwd()\n",
    "    os.chdir(dir_)\n",
    "    try:\n",
    "        for id_ in id_to_join_info:\n",
    "            if id_to_join_info[id_]['url']:\n",
    "                subprocess.call('wget -O %s %s'%(id_, id_to_join_info[id_]['url']), shell=True)\n",
    "                join_info = open('.join-%s'%id_, 'w')\n",
    "                join_info.write(str(id_to_join_info[id_]['left']) + '\\n')\n",
    "                join_info.write(str(id_to_join_info[id_]['right']))\n",
    "                join_info.close()\n",
    "            else:\n",
    "                # try to find them on volumes\n",
    "                datamart_file_path = os.path.join(DATAMART_PATH, 'volumes/datasets', id_, 'main.csv')\n",
    "                if os.path.exists(datamart_file_path):\n",
    "                    shutil.copyfile(datamart_file_path, id_)\n",
    "                else:\n",
    "                    print('%s has no direct url for download.' % id_)\n",
    "    except Exception as e:\n",
    "        raise e\n",
    "    finally:\n",
    "        os.chdir(current_working_dir)"
   ]
  },
  {
   "cell_type": "code",
   "execution_count": 70,
   "metadata": {},
   "outputs": [],
   "source": [
    "if not os.path.exists('companion-datasets'):\n",
    "    os.mkdir('companion-datasets')\n",
    "for p in ['taxi-vehicle-collision', 'ny-taxi-demand', 'college-debt', 'poverty-estimation']:\n",
    "    if not os.path.exists('companion-datasets/%s'%p):\n",
    "        os.mkdir('companion-datasets/%s'%p)"
   ]
  },
  {
   "cell_type": "code",
   "execution_count": 6,
   "metadata": {},
   "outputs": [],
   "source": [
    "client = datamart_nyu.NYUDatamart('http://localhost:8002/')"
   ]
  },
  {
   "cell_type": "markdown",
   "metadata": {},
   "source": [
    "## NY Taxi and Vehicle Collision Problem"
   ]
  },
  {
   "cell_type": "code",
   "execution_count": 34,
   "metadata": {},
   "outputs": [],
   "source": [
    "taxi_vehicle_collision_path = str(Path.home()) + '/projects/dataset-ranking/use-cases/data/taxi-vehicle-collision/' +\\\n",
    "       'taxi-vehicle-collision-v2.csv'\n",
    "taxi_vehicle_collision = container.Dataset.load('file://' + taxi_vehicle_collision_path)"
   ]
  },
  {
   "cell_type": "code",
   "execution_count": 35,
   "metadata": {},
   "outputs": [],
   "source": [
    "cursor = client.search_with_data(query=None, supplied_data=taxi_vehicle_collision)"
   ]
  },
  {
   "cell_type": "code",
   "execution_count": 36,
   "metadata": {},
   "outputs": [],
   "source": [
    "taxi_vehicle_collision_results = list()\n",
    "results = cursor.get_next_page()\n",
    "while results:\n",
    "    taxi_vehicle_collision_results += results\n",
    "    results = cursor.get_next_page()"
   ]
  },
  {
   "cell_type": "code",
   "execution_count": 37,
   "metadata": {},
   "outputs": [
    {
     "data": {
      "text/plain": [
       "1020"
      ]
     },
     "execution_count": 37,
     "metadata": {},
     "output_type": "execute_result"
    }
   ],
   "source": [
    "len(taxi_vehicle_collision_results)"
   ]
  },
  {
   "cell_type": "code",
   "execution_count": 38,
   "metadata": {
    "scrolled": true
   },
   "outputs": [],
   "source": [
    "# print_results(taxi_vehicle_collision_results)"
   ]
  },
  {
   "cell_type": "code",
   "execution_count": 69,
   "metadata": {},
   "outputs": [],
   "source": [
    "taxi_vehicle_collision_links = get_join_info(taxi_vehicle_collision_results)"
   ]
  },
  {
   "cell_type": "code",
   "execution_count": 13,
   "metadata": {},
   "outputs": [],
   "source": [
    "# download_datasets(taxi_vehicle_collision_links, 'companion-datasets/taxi-vehicle-collision/')"
   ]
  },
  {
   "cell_type": "markdown",
   "metadata": {},
   "source": [
    "## NY Taxi Demand Problem"
   ]
  },
  {
   "cell_type": "code",
   "execution_count": 14,
   "metadata": {},
   "outputs": [],
   "source": [
    "ny_taxi_demand_path = str(Path.home()) + '/projects/dataset-ranking/use-cases/data/ny-taxi-demand/' +\\\n",
    "       'yellow-taxi-2017-v2.csv'\n",
    "ny_taxi_demand = container.Dataset.load('file://' + ny_taxi_demand_path)"
   ]
  },
  {
   "cell_type": "markdown",
   "metadata": {},
   "source": [
    "## College Debt Problem"
   ]
  },
  {
   "cell_type": "code",
   "execution_count": 71,
   "metadata": {},
   "outputs": [],
   "source": [
    "college_debt_path = str(Path.home()) + '/projects/dataset-ranking/use-cases/data/college-debt/' +\\\n",
    "       'college-debt-v2.csv'\n",
    "college_debt = container.Dataset.load('file://' + college_debt_path)"
   ]
  },
  {
   "cell_type": "code",
   "execution_count": 72,
   "metadata": {},
   "outputs": [],
   "source": [
    "cursor = client.search_with_data(query=None, supplied_data=college_debt)"
   ]
  },
  {
   "cell_type": "code",
   "execution_count": 73,
   "metadata": {},
   "outputs": [],
   "source": [
    "college_debt_results = list()\n",
    "results = cursor.get_next_page()\n",
    "while results:\n",
    "    college_debt_results += results\n",
    "    results = cursor.get_next_page()"
   ]
  },
  {
   "cell_type": "code",
   "execution_count": 74,
   "metadata": {},
   "outputs": [
    {
     "data": {
      "text/plain": [
       "5"
      ]
     },
     "execution_count": 74,
     "metadata": {},
     "output_type": "execute_result"
    }
   ],
   "source": [
    "len(college_debt_results)"
   ]
  },
  {
   "cell_type": "code",
   "execution_count": 75,
   "metadata": {
    "scrolled": true
   },
   "outputs": [
    {
     "name": "stdout",
     "output_type": "stream",
     "text": [
      "0.9575737\n",
      "Most- Recent- Cohorts- Scorecard- Elements\n",
      "Left Columns: [[('0', 1)]]\n",
      "Right Columns: [[('0', 0)]]\n",
      "-------------------\n",
      "0.9575737\n",
      "None\n",
      "Left Columns: [[('0', 1)]]\n",
      "Right Columns: [[('0', 0)]]\n",
      "-------------------\n",
      "0.9575737\n",
      "None\n",
      "Left Columns: [[('0', 1)]]\n",
      "Right Columns: [[('0', 0)]]\n",
      "-------------------\n",
      "0.9575737\n",
      "College Scorecard Data - Most Recent\n",
      "Left Columns: [[('0', 1)]]\n",
      "Right Columns: [[('0', 0)]]\n",
      "-------------------\n",
      "0.8439322\n",
      "Most- Recent- Cohorts- Scorecard- Elements\n",
      "Left Columns: [[('0', 12)]]\n",
      "Right Columns: [[('0', 83)]]\n",
      "-------------------\n"
     ]
    }
   ],
   "source": [
    "print_results(college_debt_results)"
   ]
  },
  {
   "cell_type": "code",
   "execution_count": 76,
   "metadata": {},
   "outputs": [],
   "source": [
    "college_debt_links = get_join_info(college_debt_results)"
   ]
  },
  {
   "cell_type": "code",
   "execution_count": 83,
   "metadata": {},
   "outputs": [],
   "source": [
    "download_datasets(college_debt_links, 'companion-datasets/college-debt/')"
   ]
  },
  {
   "cell_type": "markdown",
   "metadata": {},
   "source": [
    "## Poverty Estimation Problem"
   ]
  },
  {
   "cell_type": "code",
   "execution_count": 44,
   "metadata": {},
   "outputs": [],
   "source": [
    "poverty_estimation_path = str(Path.home()) + '/projects/dataset-ranking/use-cases/data/poverty-estimation/' +\\\n",
    "       'poverty-estimation-v2.csv'\n",
    "poverty_estimation = container.Dataset.load('file://' + poverty_estimation_path)"
   ]
  },
  {
   "cell_type": "code",
   "execution_count": 45,
   "metadata": {},
   "outputs": [],
   "source": [
    "cursor = client.search_with_data(query=None, supplied_data=poverty_estimation)"
   ]
  },
  {
   "cell_type": "code",
   "execution_count": 46,
   "metadata": {},
   "outputs": [],
   "source": [
    "poverty_estimation_results = list()\n",
    "results = cursor.get_next_page()\n",
    "while results:\n",
    "    poverty_estimation_results += results\n",
    "    results = cursor.get_next_page()"
   ]
  },
  {
   "cell_type": "code",
   "execution_count": 47,
   "metadata": {},
   "outputs": [
    {
     "data": {
      "text/plain": [
       "15"
      ]
     },
     "execution_count": 47,
     "metadata": {},
     "output_type": "execute_result"
    }
   ],
   "source": [
    "len(poverty_estimation_results)"
   ]
  },
  {
   "cell_type": "code",
   "execution_count": 48,
   "metadata": {
    "scrolled": true
   },
   "outputs": [
    {
     "name": "stdout",
     "output_type": "stream",
     "text": [
      "1.0\n",
      "SF Development Pipeline 2017 Q3\n",
      "Left Columns: [[('0', 1)]]\n",
      "Right Columns: [[('0', 25)]]\n",
      "-------------------\n",
      "1.0\n",
      "SF Development Pipeline 2017 Q2\n",
      "Left Columns: [[('0', 1)]]\n",
      "Right Columns: [[('0', 31)]]\n",
      "-------------------\n",
      "1.0\n",
      "SF Development Pipeline 2019 Q2\n",
      "Left Columns: [[('0', 1)]]\n",
      "Right Columns: [[('0', 25)]]\n",
      "-------------------\n",
      "0.93730605\n",
      "Zillow Median Listing Prices 2017\n",
      "Left Columns: [[('0', 1)]]\n",
      "Right Columns: [[('0', 3)]]\n",
      "-------------------\n",
      "0.9362234\n",
      "FIPS Population\n",
      "Left Columns: [[('0', 1)]]\n",
      "Right Columns: [[('0', 0)]]\n",
      "-------------------\n",
      "0.9362234\n",
      "None\n",
      "Left Columns: [[('0', 1)]]\n",
      "Right Columns: [[('0', 0)]]\n",
      "-------------------\n",
      "0.9362234\n",
      "None\n",
      "Left Columns: [[('0', 1)]]\n",
      "Right Columns: [[('0', 0)]]\n",
      "-------------------\n",
      "0.9362234\n",
      "Unemployment in the US\n",
      "Left Columns: [[('0', 1)]]\n",
      "Right Columns: [[('0', 0)]]\n",
      "-------------------\n",
      "0.012638724\n",
      "SF Development Pipeline 2016 Q3\n",
      "Left Columns: [[('0', 1)]]\n",
      "Right Columns: [[('0', 23)]]\n",
      "-------------------\n",
      "0.0092448\n",
      "SF Development Pipeline 2016 Q4\n",
      "Left Columns: [[('0', 1)]]\n",
      "Right Columns: [[('0', 25)]]\n",
      "-------------------\n",
      "0.007953859\n",
      "SF Development Pipeline 2016 Q2\n",
      "Left Columns: [[('0', 1)]]\n",
      "Right Columns: [[('0', 22)]]\n",
      "-------------------\n",
      "0.007537427\n",
      "SF Development Pipeline 2014 Q4\n",
      "Left Columns: [[('0', 1)]]\n",
      "Right Columns: [[('0', 18)]]\n",
      "-------------------\n",
      "0.0065796324\n",
      "SF Development Pipeline 2017 Q1\n",
      "Left Columns: [[('0', 1)]]\n",
      "Right Columns: [[('0', 27)]]\n",
      "-------------------\n",
      "0.001811481\n",
      "State of New York Mortgage Agency (SONYMA) Target Areas by Census Tract\n",
      "Left Columns: [[('0', 1)]]\n",
      "Right Columns: [[('0', 1)]]\n",
      "-------------------\n",
      "0.0013117621\n",
      "Reported Facility Emissions (2014)\n",
      "Left Columns: [[('0', 1)]]\n",
      "Right Columns: [[('0', 1)]]\n",
      "-------------------\n"
     ]
    }
   ],
   "source": [
    "print_results(poverty_estimation_results)"
   ]
  },
  {
   "cell_type": "code",
   "execution_count": 84,
   "metadata": {},
   "outputs": [],
   "source": [
    "poverty_estimation_links = get_join_info(poverty_estimation_results)"
   ]
  },
  {
   "cell_type": "code",
   "execution_count": 85,
   "metadata": {},
   "outputs": [
    {
     "name": "stdout",
     "output_type": "stream",
     "text": [
      "datamart.upload.a8241c91db1e4d75a4e4dd37cce12cd1 has no direct url for download.\n",
      "datamart.upload.2f6a998b4f5c4c589aaf990c867446b9 has no direct url for download.\n"
     ]
    }
   ],
   "source": [
    "download_datasets(poverty_estimation_links, 'companion-datasets/poverty-estimation/')"
   ]
  },
  {
   "cell_type": "code",
   "execution_count": null,
   "metadata": {},
   "outputs": [],
   "source": []
  }
 ],
 "metadata": {
  "kernelspec": {
   "display_name": "Python 3",
   "language": "python",
   "name": "python3"
  },
  "language_info": {
   "codemirror_mode": {
    "name": "ipython",
    "version": 3
   },
   "file_extension": ".py",
   "mimetype": "text/x-python",
   "name": "python",
   "nbconvert_exporter": "python",
   "pygments_lexer": "ipython3",
   "version": "3.6.9"
  }
 },
 "nbformat": 4,
 "nbformat_minor": 2
}
