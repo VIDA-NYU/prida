{
 "cells": [
  {
   "cell_type": "markdown",
   "metadata": {},
   "source": [
    "#### The goal of this notebook is to verify the following hypothesis: if you build a model over a given dataset, the addition of new columns --- even if they are totally unrelated or random --- is likely to bring some sort of gain."
   ]
  },
  {
   "cell_type": "code",
   "execution_count": 2,
   "metadata": {},
   "outputs": [],
   "source": [
    "import pandas as pd\n",
    "import os"
   ]
  },
  {
   "cell_type": "code",
   "execution_count": 11,
   "metadata": {},
   "outputs": [],
   "source": [
    "datasets = {filename: pd.read_csv(os.path.join('data', filename), sep='|') for filename in os.listdir('data')}"
   ]
  },
  {
   "cell_type": "markdown",
   "metadata": {},
   "source": [
    "#### Let's check whether years 2013, 2014, and 2015 are present in all datasets and, if so, use their timestamps as keys. The goal is to avoid any containment ratio that is lower than one."
   ]
  },
  {
   "cell_type": "code",
   "execution_count": 18,
   "metadata": {},
   "outputs": [
    {
     "name": "stdout",
     "output_type": "stream",
     "text": [
      "['311_category_taxi.csv', '311_category_Agency_Issues_added_zeros.csv', '311_category_DOH_New_License_Application_Request.csv', '311_category_SCRIE_added_zeros.csv', '311_category_SCRIE.csv', '311_category_Industrial_waste.csv', 'cyclist_killed_sum.csv', '311_category_electric_added_zeros.csv', '311_category_Illegal_parking_added_zeros.csv', '311_category_Vacant_Lot_added_zeros.csv', '311_category_Illegal_parking.csv', '311_category_consumer_complaint_added_zeros.csv', '311_category_Violation_of_Park_Rules.csv', '311_category_Enforcement.csv', '311_category_Street_light_condition.csv', '311_category_derelict.csv', '311_category_collection.csv', '311_category_Litter_basket_added_zeros.csv', '311_category_dof_added_zeros.csv', '311_category_graffiti.csv', '311_category_Paint.csv', '311_category_Construction_added_zeros.csv', '311_category_Highway_condition.csv', '311_category_DOH_New_License_Application_Request_added_zeros.csv', '13316684_pedestrians_killed_sum.csv', '311_category_sewer.csv', '311_category_Sidewalk_Condition_added_zeros.csv', 'persons_killed_sum.csv', '311_category_Food_Establishment_added_zeros.csv', '311_category_Drinking_added_zeros.csv', '311_category_unsanitary_added_zeros.csv', '311_category_rodent_added_zeros.csv', 'turnstile_count.csv', '311_category_Hazardous_Materials.csv', '311_category_Air_Quality_added_zeros.csv', '311_category_Literature_request.csv', '311_category_Blocked_Driveway.csv', '311_category_Smoking.csv', 'cyclist_injured_sum.csv', '311_category_Heating_added_zeros.csv', '311_category_derelict_added_zeros.csv', '311_category_Vending_added_zeros.csv', '311_category_rodent.csv', '311_category_Plumbing_added_zeros.csv', '311_category_For_Hire_Vehicle.csv', '311_category_SPIT.csv', '311_category_sewer_added_zeros.csv', 'crash_count.csv', '311_category_Asbestos_added_zeros.csv', '311_category_Food_Establishment.csv', '311_category_maintenance.csv', '311_category_Lead_added_zeros.csv', '311_category_Animal_Abuse.csv', '311_category_Boilers.csv', '311_category_electric.csv', '311_category_Snow.csv', '311_category_building_added_zeros.csv', 'citibike_count.csv', '311_category_consumer_complaint.csv', '311_category_Animal_in_a_Park_added_zeros.csv', '311_category_Heating.csv', 'persons_injured_sum.csv', '311_category_Street_Sign_added_zeros.csv', 'nypd_count.csv', '311_category_Air_Quality.csv', '311_category_appliance.csv', '311_category_Vacant_Lot.csv', '311_category_Damaged_Tree.csv', 'weather_windspeed_mean.csv', 'pedestrians_injured_sum.csv', '311_category_Animal_Abuse_added_zeros.csv', '311_category_broken_meter.csv', '311_category_maintenance_added_zeros.csv', '311_category_School_Maintenance.csv', '311_category_Vending.csv', '311_category_Sidewalk_Condition.csv', '311_category_For_Hire_Vehicle_added_zeros.csv', '311_category_Housing_Options_added_zeros.csv', '311_category_Litter_basket.csv', '311_category_Highway_condition_added_zeros.csv', '311_category_Housing.csv', '311_category_Construction.csv', '311_category_SPIT_added_zeros.csv', '311_category_Paint_added_zeros.csv', '311_category_broken_meter_added_zeros.csv', '311_category_Snow_added_zeros.csv', '311_category_Industrial_waste_added_zeros.csv', '311_category_dof.csv', '311_category_Boilers_added_zeros.csv', '311_category_Non-Emergency_Police_Matter.csv', '311_category_Animal_in_a_Park.csv', '311_category_Fire_Safety_Director_-_F58_added_zeros.csv', '311_category_unsanitary.csv', '311_category_Plumbing.csv', '311_category_building.csv', '311_category_Blocked_Driveway_added_zeros.csv', '311_category_Elevator.csv', '311_category_Water_added_zeros.csv', '311_category_Elevator_added_zeros.csv', '311_category_Food_Poisoning_added_zeros.csv', '311_category_Homeless_Encampment_added_zeros.csv', '311_category_Water.csv', '311_category_Asbestos.csv', '311_category_Street_Sign.csv', '311_category_Noise.csv', '311_category_Agency_Issues.csv', '311_category_Food_Poisoning.csv', '311_category_Street_light_condition_added_zeros.csv', '311_category_Non-Emergency_Police_Matter_added_zeros.csv', '311_category_Violation_of_Park_Rules_added_zeros.csv', '311_category_appliance_added_zeros.csv', '311_category_School_Maintenance_added_zeros.csv', '311_category_Drinking.csv', '311_category_Lead.csv', '311_category_Benefit_Card_Replacement.csv', '311_category_Fire_Safety_Director_-_F58.csv', '311_category_Housing_Options.csv', 'motorist_injured_sum.csv', '311_category_homeless_person_assistance.csv', '311_category_Hazardous_Materials_added_zeros.csv', '311_category_Benefit_Card_Replacement_added_zeros.csv', '311_category_Smoking_added_zeros.csv', '311_category_Housing_added_zeros.csv', '311_category_Traffic.csv', '311_category_Noise_added_zeros.csv', '13316690_pedestrians_killed_sum.csv', '311_category_Literature_request_added_zeros.csv', '311_category_taxi_added_zeros.csv', '311_category_Homeless_Encampment.csv', '311_category_collection_added_zeros.csv', '311_category_homeless_person_assistance_added_zeros.csv', '311_category_Traffic_added_zeros.csv', '311_category_Damaged_Tree_added_zeros.csv', 'motorist_killed_sum.csv', '311_category_Enforcement_added_zeros.csv', '311_category_graffiti_added_zeros.csv']\n"
     ]
    }
   ],
   "source": [
    "years = ['2013', '2014', '2015']\n",
    "datasets_for_experiment = []\n",
    "for d in datasets.keys():\n",
    "    timestamp_years = list(set([row['time'].split('-')[0] for index, row in datasets[d].iterrows()]))\n",
    "    if all(year in timestamp_years for year in years):\n",
    "        datasets_for_experiment.append(d)\n",
    "print(datasets_for_experiment)"
   ]
  },
  {
   "cell_type": "markdown",
   "metadata": {},
   "source": [
    "#### Let's \"curate\" a few initial, larger datasets, along with targets for learning, based on datasets_for_experiment.\n",
    "\n",
    "#### We know, for example, that there is a high correlation between X_killed_sum.csv and Y_injured_sum.csv."
   ]
  },
  {
   "cell_type": "code",
   "execution_count": 30,
   "metadata": {},
   "outputs": [
    {
     "data": {
      "text/html": [
       "<div>\n",
       "<style scoped>\n",
       "    .dataframe tbody tr th:only-of-type {\n",
       "        vertical-align: middle;\n",
       "    }\n",
       "\n",
       "    .dataframe tbody tr th {\n",
       "        vertical-align: top;\n",
       "    }\n",
       "\n",
       "    .dataframe thead th {\n",
       "        text-align: right;\n",
       "    }\n",
       "</style>\n",
       "<table border=\"1\" class=\"dataframe\">\n",
       "  <thead>\n",
       "    <tr style=\"text-align: right;\">\n",
       "      <th></th>\n",
       "      <th>time</th>\n",
       "      <th>cyclist_injured_sum</th>\n",
       "      <th>cyclist_killed_sum</th>\n",
       "      <th>motorist_injured_sum</th>\n",
       "      <th>motorist_killed_sum</th>\n",
       "      <th>pedestrians_injured_sum</th>\n",
       "      <th>persons_injured_sum</th>\n",
       "      <th>persons_killed_sum</th>\n",
       "    </tr>\n",
       "  </thead>\n",
       "  <tbody>\n",
       "    <tr>\n",
       "      <th>182</th>\n",
       "      <td>2013-01-01</td>\n",
       "      <td>3</td>\n",
       "      <td>0</td>\n",
       "      <td>106</td>\n",
       "      <td>0</td>\n",
       "      <td>28</td>\n",
       "      <td>137</td>\n",
       "      <td>0</td>\n",
       "    </tr>\n",
       "    <tr>\n",
       "      <th>183</th>\n",
       "      <td>2013-01-02</td>\n",
       "      <td>2</td>\n",
       "      <td>0</td>\n",
       "      <td>79</td>\n",
       "      <td>1</td>\n",
       "      <td>19</td>\n",
       "      <td>100</td>\n",
       "      <td>1</td>\n",
       "    </tr>\n",
       "    <tr>\n",
       "      <th>184</th>\n",
       "      <td>2013-01-03</td>\n",
       "      <td>10</td>\n",
       "      <td>0</td>\n",
       "      <td>65</td>\n",
       "      <td>0</td>\n",
       "      <td>39</td>\n",
       "      <td>114</td>\n",
       "      <td>0</td>\n",
       "    </tr>\n",
       "    <tr>\n",
       "      <th>185</th>\n",
       "      <td>2013-01-04</td>\n",
       "      <td>6</td>\n",
       "      <td>0</td>\n",
       "      <td>48</td>\n",
       "      <td>1</td>\n",
       "      <td>31</td>\n",
       "      <td>85</td>\n",
       "      <td>3</td>\n",
       "    </tr>\n",
       "    <tr>\n",
       "      <th>186</th>\n",
       "      <td>2013-01-05</td>\n",
       "      <td>4</td>\n",
       "      <td>0</td>\n",
       "      <td>68</td>\n",
       "      <td>3</td>\n",
       "      <td>27</td>\n",
       "      <td>99</td>\n",
       "      <td>4</td>\n",
       "    </tr>\n",
       "  </tbody>\n",
       "</table>\n",
       "</div>"
      ],
      "text/plain": [
       "           time  cyclist_injured_sum  cyclist_killed_sum  \\\n",
       "182  2013-01-01                    3                   0   \n",
       "183  2013-01-02                    2                   0   \n",
       "184  2013-01-03                   10                   0   \n",
       "185  2013-01-04                    6                   0   \n",
       "186  2013-01-05                    4                   0   \n",
       "\n",
       "     motorist_injured_sum  motorist_killed_sum  pedestrians_injured_sum  \\\n",
       "182                   106                    0                       28   \n",
       "183                    79                    1                       19   \n",
       "184                    65                    0                       39   \n",
       "185                    48                    1                       31   \n",
       "186                    68                    3                       27   \n",
       "\n",
       "     persons_injured_sum  persons_killed_sum  \n",
       "182                  137                   0  \n",
       "183                  100                   1  \n",
       "184                  114                   0  \n",
       "185                   85                   3  \n",
       "186                   99                   4  "
      ]
     },
     "execution_count": 30,
     "metadata": {},
     "output_type": "execute_result"
    }
   ],
   "source": [
    "from functools import reduce\n",
    "\n",
    "injured_and_killed = [datasets['cyclist_injured_sum.csv'].rename(columns={'sum': 'cyclist_injured_sum'}), \n",
    "                      datasets['cyclist_killed_sum.csv'].rename(columns={'sum': 'cyclist_killed_sum'}), \n",
    "                      datasets['motorist_injured_sum.csv'].rename(columns={'sum': 'motorist_injured_sum'}), \n",
    "                      datasets['motorist_killed_sum.csv'].rename(columns={'sum': 'motorist_killed_sum'}), \n",
    "                      datasets['pedestrians_injured_sum.csv'].rename(columns={'sum': 'pedestrians_injured_sum'}), \n",
    "                      datasets['persons_injured_sum.csv'].rename(columns={'sum': 'persons_injured_sum'}), \n",
    "                      datasets['persons_killed_sum.csv'].rename(columns={'sum': 'persons_killed_sum'})]\n",
    "\n",
    "initial_injured_killed_dataset = reduce(lambda left,right: pd.merge(left,right,on='time'), injured_and_killed)\n",
    "initial_injured_killed_dataset = initial_injured_killed_dataset[(initial_injured_killed_dataset['time'].str.match('2013')) |\n",
    "                                                                (initial_injured_killed_dataset['time'].str.match('2014')) |\n",
    "                                                                (initial_injured_killed_dataset['time'].str.match('2015'))]\n",
    "\n",
    "initial_injured_killed_dataset.head()"
   ]
  },
  {
   "cell_type": "markdown",
   "metadata": {},
   "source": [
    "#### For each column in initial_injured_killed_dataset, we'll build a model to predict is values based on growing combinations of the other attributes."
   ]
  },
  {
   "cell_type": "code",
   "execution_count": null,
   "metadata": {},
   "outputs": [],
   "source": []
  }
 ],
 "metadata": {
  "kernelspec": {
   "display_name": "Python 3",
   "language": "python",
   "name": "python3"
  },
  "language_info": {
   "codemirror_mode": {
    "name": "ipython",
    "version": 3
   },
   "file_extension": ".py",
   "mimetype": "text/x-python",
   "name": "python",
   "nbconvert_exporter": "python",
   "pygments_lexer": "ipython3",
   "version": "3.7.6"
  }
 },
 "nbformat": 4,
 "nbformat_minor": 4
}
