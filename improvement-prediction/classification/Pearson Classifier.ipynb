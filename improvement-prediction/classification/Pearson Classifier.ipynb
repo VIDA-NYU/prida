{
 "cells": [
  {
   "cell_type": "markdown",
   "metadata": {},
   "source": [
    "#### In this notebook, we are going to simplify our problem and take a bottom-up approach to see how learnable it is.\n",
    "\n",
    "#### Previously, the problem statement was \"Given a query dataset Q and a set of candidate datasets, identify the subset X such that that every C \\in X, once integrated to Q through a left outer join, leads to a successful data augmentation.\"\n",
    "\n",
    "#### Given that \"successful\" is defined as any relative improvement regarding R-squared score, and that there is currently a huge overlap in our features for augmentation examples of both kinds (successful and unsuccessful), we want to first understand whether there are features that help predict whether a REALLY GOOD or a REALLY BAD candidate truly lead to a successful or unsuccessful augmentation (respectively). \n",
    "\n",
    "#### Since we're having problems with our training data (too much feature overlap, bias towards high containment, hard to understand how representative it is of real problems...), we're going to start by (1) simplifying training and test, and by (2) using a simple classifier based on the candidate's pearson wrt the target ALONE. After that, we'll complicate the cases little by little and see what happens."
   ]
  },
  {
   "cell_type": "code",
   "execution_count": 1,
   "metadata": {},
   "outputs": [],
   "source": [
    "import pandas as pd\n",
    "from sklearn.ensemble import RandomForestClassifier \n",
    "from sklearn.metrics import classification_report\n",
    "\n",
    "ALL_FEATURES = ['query_num_of_columns', 'query_num_of_rows', 'query_row_column_ratio',\n",
    "                'query_max_skewness', 'query_max_kurtosis', 'query_max_unique', \n",
    "                'candidate_num_rows', 'candidate_max_skewness', 'candidate_max_kurtosis',\n",
    "                'candidate_max_unique', 'query_target_max_pearson', \n",
    "                'query_target_max_spearman', 'query_target_max_covariance', \n",
    "                'query_target_max_mutual_info', 'candidate_target_max_pearson', \n",
    "                'candidate_target_max_spearman', 'candidate_target_max_covariance', \n",
    "                'candidate_target_max_mutual_info']\n",
    "CANDIDATE_PEARSON = ['candidate_target_max_pearson'] "
   ]
  },
  {
   "cell_type": "code",
   "execution_count": 2,
   "metadata": {},
   "outputs": [],
   "source": [
    "openml_train = pd.read_csv('training-simplified-data-generation-many-candidates-per-query_with_median_and_mean_based_classes.csv')"
   ]
  },
  {
   "cell_type": "code",
   "execution_count": 3,
   "metadata": {},
   "outputs": [
    {
     "data": {
      "text/html": [
       "<div>\n",
       "<style scoped>\n",
       "    .dataframe tbody tr th:only-of-type {\n",
       "        vertical-align: middle;\n",
       "    }\n",
       "\n",
       "    .dataframe tbody tr th {\n",
       "        vertical-align: top;\n",
       "    }\n",
       "\n",
       "    .dataframe thead th {\n",
       "        text-align: right;\n",
       "    }\n",
       "</style>\n",
       "<table border=\"1\" class=\"dataframe\">\n",
       "  <thead>\n",
       "    <tr style=\"text-align: right;\">\n",
       "      <th></th>\n",
       "      <th>query</th>\n",
       "      <th>target</th>\n",
       "      <th>candidate</th>\n",
       "      <th>gain_marker</th>\n",
       "      <th>query_num_of_columns</th>\n",
       "      <th>query_num_of_rows</th>\n",
       "      <th>query_row_column_ratio</th>\n",
       "      <th>query_max_mean</th>\n",
       "      <th>query_max_outlier_percentage</th>\n",
       "      <th>query_max_skewness</th>\n",
       "      <th>...</th>\n",
       "      <th>containment_fraction</th>\n",
       "      <th>decrease_in_mae</th>\n",
       "      <th>decrease_in_mse</th>\n",
       "      <th>decrease_in_medae</th>\n",
       "      <th>gain_in_r2_score</th>\n",
       "      <th>r2_score_before</th>\n",
       "      <th>r2_score_after</th>\n",
       "      <th>median_based_class</th>\n",
       "      <th>mean_based_class</th>\n",
       "      <th>class</th>\n",
       "    </tr>\n",
       "  </thead>\n",
       "  <tbody>\n",
       "    <tr>\n",
       "      <th>0</th>\n",
       "      <td>6d906397-2a45-49b8-aa3f-b3929656ed41</td>\n",
       "      <td>class</td>\n",
       "      <td>968ccfab-977f-48b1-a8d2-5b796d6de36f</td>\n",
       "      <td>negative</td>\n",
       "      <td>12.0</td>\n",
       "      <td>67557.0</td>\n",
       "      <td>5629.750000</td>\n",
       "      <td>0.992347</td>\n",
       "      <td>0.065811</td>\n",
       "      <td>61.239966</td>\n",
       "      <td>...</td>\n",
       "      <td>1.0</td>\n",
       "      <td>0.023279</td>\n",
       "      <td>0.370818</td>\n",
       "      <td>-0.067544</td>\n",
       "      <td>-5.936368</td>\n",
       "      <td>0.058793</td>\n",
       "      <td>-0.290223</td>\n",
       "      <td>loss</td>\n",
       "      <td>loss</td>\n",
       "      <td>loss</td>\n",
       "    </tr>\n",
       "    <tr>\n",
       "      <th>1</th>\n",
       "      <td>6d906397-2a45-49b8-aa3f-b3929656ed41</td>\n",
       "      <td>class</td>\n",
       "      <td>968ccfab-977f-48b1-a8d2-5b796d6de36f</td>\n",
       "      <td>negative</td>\n",
       "      <td>12.0</td>\n",
       "      <td>67557.0</td>\n",
       "      <td>5629.750000</td>\n",
       "      <td>0.992347</td>\n",
       "      <td>0.065811</td>\n",
       "      <td>61.239966</td>\n",
       "      <td>...</td>\n",
       "      <td>1.0</td>\n",
       "      <td>0.023279</td>\n",
       "      <td>0.370818</td>\n",
       "      <td>-0.067544</td>\n",
       "      <td>-5.936368</td>\n",
       "      <td>0.058793</td>\n",
       "      <td>-0.290223</td>\n",
       "      <td>loss</td>\n",
       "      <td>loss</td>\n",
       "      <td>loss</td>\n",
       "    </tr>\n",
       "    <tr>\n",
       "      <th>2</th>\n",
       "      <td>3bd611e5-7610-43ee-b5f8-44279666b94b</td>\n",
       "      <td>1.8021959e+000</td>\n",
       "      <td>b03b55ec-3c92-49d7-99a8-f525f33d9067</td>\n",
       "      <td>negative</td>\n",
       "      <td>14.0</td>\n",
       "      <td>99.0</td>\n",
       "      <td>7.071429</td>\n",
       "      <td>0.018204</td>\n",
       "      <td>0.000000</td>\n",
       "      <td>0.321709</td>\n",
       "      <td>...</td>\n",
       "      <td>1.0</td>\n",
       "      <td>0.014811</td>\n",
       "      <td>0.035743</td>\n",
       "      <td>-0.080799</td>\n",
       "      <td>-0.094102</td>\n",
       "      <td>0.275274</td>\n",
       "      <td>0.249371</td>\n",
       "      <td>loss</td>\n",
       "      <td>loss</td>\n",
       "      <td>loss</td>\n",
       "    </tr>\n",
       "    <tr>\n",
       "      <th>3</th>\n",
       "      <td>3bd611e5-7610-43ee-b5f8-44279666b94b</td>\n",
       "      <td>1.8021959e+000</td>\n",
       "      <td>b03b55ec-3c92-49d7-99a8-f525f33d9067</td>\n",
       "      <td>negative</td>\n",
       "      <td>14.0</td>\n",
       "      <td>99.0</td>\n",
       "      <td>7.071429</td>\n",
       "      <td>0.018204</td>\n",
       "      <td>0.000000</td>\n",
       "      <td>0.321709</td>\n",
       "      <td>...</td>\n",
       "      <td>1.0</td>\n",
       "      <td>0.014811</td>\n",
       "      <td>0.035743</td>\n",
       "      <td>-0.080799</td>\n",
       "      <td>-0.094102</td>\n",
       "      <td>0.275274</td>\n",
       "      <td>0.249371</td>\n",
       "      <td>loss</td>\n",
       "      <td>loss</td>\n",
       "      <td>loss</td>\n",
       "    </tr>\n",
       "    <tr>\n",
       "      <th>4</th>\n",
       "      <td>3bd611e5-7610-43ee-b5f8-44279666b94b</td>\n",
       "      <td>1.8021959e+000</td>\n",
       "      <td>b03b55ec-3c92-49d7-99a8-f525f33d9067</td>\n",
       "      <td>negative</td>\n",
       "      <td>14.0</td>\n",
       "      <td>99.0</td>\n",
       "      <td>7.071429</td>\n",
       "      <td>0.018204</td>\n",
       "      <td>0.000000</td>\n",
       "      <td>0.321709</td>\n",
       "      <td>...</td>\n",
       "      <td>1.0</td>\n",
       "      <td>0.014811</td>\n",
       "      <td>0.035743</td>\n",
       "      <td>-0.080799</td>\n",
       "      <td>-0.094102</td>\n",
       "      <td>0.275274</td>\n",
       "      <td>0.249371</td>\n",
       "      <td>loss</td>\n",
       "      <td>loss</td>\n",
       "      <td>loss</td>\n",
       "    </tr>\n",
       "  </tbody>\n",
       "</table>\n",
       "<p>5 rows × 39 columns</p>\n",
       "</div>"
      ],
      "text/plain": [
       "                                  query          target  \\\n",
       "0  6d906397-2a45-49b8-aa3f-b3929656ed41           class   \n",
       "1  6d906397-2a45-49b8-aa3f-b3929656ed41           class   \n",
       "2  3bd611e5-7610-43ee-b5f8-44279666b94b  1.8021959e+000   \n",
       "3  3bd611e5-7610-43ee-b5f8-44279666b94b  1.8021959e+000   \n",
       "4  3bd611e5-7610-43ee-b5f8-44279666b94b  1.8021959e+000   \n",
       "\n",
       "                              candidate gain_marker  query_num_of_columns  \\\n",
       "0  968ccfab-977f-48b1-a8d2-5b796d6de36f    negative                  12.0   \n",
       "1  968ccfab-977f-48b1-a8d2-5b796d6de36f    negative                  12.0   \n",
       "2  b03b55ec-3c92-49d7-99a8-f525f33d9067    negative                  14.0   \n",
       "3  b03b55ec-3c92-49d7-99a8-f525f33d9067    negative                  14.0   \n",
       "4  b03b55ec-3c92-49d7-99a8-f525f33d9067    negative                  14.0   \n",
       "\n",
       "   query_num_of_rows  query_row_column_ratio  query_max_mean  \\\n",
       "0            67557.0             5629.750000        0.992347   \n",
       "1            67557.0             5629.750000        0.992347   \n",
       "2               99.0                7.071429        0.018204   \n",
       "3               99.0                7.071429        0.018204   \n",
       "4               99.0                7.071429        0.018204   \n",
       "\n",
       "   query_max_outlier_percentage  query_max_skewness  ...  \\\n",
       "0                      0.065811           61.239966  ...   \n",
       "1                      0.065811           61.239966  ...   \n",
       "2                      0.000000            0.321709  ...   \n",
       "3                      0.000000            0.321709  ...   \n",
       "4                      0.000000            0.321709  ...   \n",
       "\n",
       "   containment_fraction  decrease_in_mae  decrease_in_mse  decrease_in_medae  \\\n",
       "0                   1.0         0.023279         0.370818          -0.067544   \n",
       "1                   1.0         0.023279         0.370818          -0.067544   \n",
       "2                   1.0         0.014811         0.035743          -0.080799   \n",
       "3                   1.0         0.014811         0.035743          -0.080799   \n",
       "4                   1.0         0.014811         0.035743          -0.080799   \n",
       "\n",
       "   gain_in_r2_score  r2_score_before  r2_score_after  median_based_class  \\\n",
       "0         -5.936368         0.058793       -0.290223                loss   \n",
       "1         -5.936368         0.058793       -0.290223                loss   \n",
       "2         -0.094102         0.275274        0.249371                loss   \n",
       "3         -0.094102         0.275274        0.249371                loss   \n",
       "4         -0.094102         0.275274        0.249371                loss   \n",
       "\n",
       "   mean_based_class  class  \n",
       "0              loss   loss  \n",
       "1              loss   loss  \n",
       "2              loss   loss  \n",
       "3              loss   loss  \n",
       "4              loss   loss  \n",
       "\n",
       "[5 rows x 39 columns]"
      ]
     },
     "execution_count": 3,
     "metadata": {},
     "output_type": "execute_result"
    }
   ],
   "source": [
    "openml_train.head()"
   ]
  },
  {
   "cell_type": "markdown",
   "metadata": {},
   "source": [
    "#### First step: remove everything from training whose containment fraction is different from one. This diminishes the interference that missing value imputation may be having."
   ]
  },
  {
   "cell_type": "code",
   "execution_count": 4,
   "metadata": {},
   "outputs": [],
   "source": [
    "def remove_low_containment_fraction_entries(dataset, threshold=1.0):\n",
    "    return dataset.loc[dataset['containment_fraction'] >= threshold]"
   ]
  },
  {
   "cell_type": "code",
   "execution_count": 5,
   "metadata": {},
   "outputs": [
    {
     "data": {
      "text/plain": [
       "(1100700, 39)"
      ]
     },
     "execution_count": 5,
     "metadata": {},
     "output_type": "execute_result"
    }
   ],
   "source": [
    "openml_train = remove_low_containment_fraction_entries(openml_train)\n",
    "openml_train.shape"
   ]
  },
  {
   "cell_type": "code",
   "execution_count": 6,
   "metadata": {},
   "outputs": [],
   "source": [
    "openml_test = pd.read_csv('test-simplified-data-generation.csv')\n",
    "openml_test = remove_low_containment_fraction_entries(openml_test)"
   ]
  },
  {
   "cell_type": "markdown",
   "metadata": {},
   "source": [
    "#### Now let's plot the different feature distributions for this first simplification."
   ]
  },
  {
   "cell_type": "code",
   "execution_count": 7,
   "metadata": {},
   "outputs": [],
   "source": [
    "import numpy as np\n",
    "import matplotlib.pyplot as plt\n",
    "OUTLIER_THRESHOLD_MAD = 3\n",
    "def remove_outliers_based_on_mad(feature):\n",
    "  mad = feature.mad() #median_absolute_deviation(feature)\n",
    "  median = np.median(feature)\n",
    "  return [i for i in feature if np.fabs((i - median)/mad) < OUTLIER_THRESHOLD_MAD]\n",
    "\n",
    "\n",
    "def plot_two_kinds_of_histograms(data1, label1, data2, label2):\n",
    "  \"\"\" This function plots histograms for features and targets, just like                                                                                                          \n",
    "  function 'plot_features_and_target_histograms' for two different data (data1 and data2)                                                                                         \n",
    "  \"\"\"\n",
    "  for feature_name in ALL_FEATURES:                                                                                                                        \n",
    "    tmp1 = remove_outliers_based_on_mad(data1[feature_name])                                                                                                 \n",
    "    tmp2 = remove_outliers_based_on_mad(data2[feature_name])                                                                                                 \n",
    "    plt.hist(tmp1, bins=50, alpha=0.7, label=label1, color='blue')\n",
    "    plt.hist(tmp2, bins=50, alpha=0.7, label=label2, color='red')\n",
    "    plt.xlabel('Value Ranges')\n",
    "    plt.ylabel('Percentages')\n",
    "    plt.title(feature_name)                                                                                                         \n",
    "    plt.legend()\n",
    "    plt.show() "
   ]
  },
  {
   "cell_type": "code",
   "execution_count": 8,
   "metadata": {},
   "outputs": [
    {
     "data": {
      "image/png": "[encoded data removed]",
      "text/plain": [
       "<Figure size 432x288 with 1 Axes>"
      ]
     },
     "metadata": {
      "needs_background": "light"
     },
     "output_type": "display_data"
    },
    {
     "data": {
      "image/png": "[encoded data removed]",
      "text/plain": [
       "<Figure size 432x288 with 1 Axes>"
      ]
     },
     "metadata": {
      "needs_background": "light"
     },
     "output_type": "display_data"
    },
    {
     "data": {
      "image/png": "[encoded data removed]",
      "text/plain": [
       "<Figure size 432x288 with 1 Axes>"
      ]
     },
     "metadata": {
      "needs_background": "light"
     },
     "output_type": "display_data"
    },
    {
     "data": {
      "image/png": "[encoded data removed]",
      "text/plain": [
       "<Figure size 432x288 with 1 Axes>"
      ]
     },
     "metadata": {
      "needs_background": "light"
     },
     "output_type": "display_data"
    },
    {
     "data": {
      "image/png": "[encoded data removed]",
      "text/plain": [
       "<Figure size 432x288 with 1 Axes>"
      ]
     },
     "metadata": {
      "needs_background": "light"
     },
     "output_type": "display_data"
    },
    {
     "data": {
      "image/png": "[encoded data removed]",
      "text/plain": [
       "<Figure size 432x288 with 1 Axes>"
      ]
     },
     "metadata": {
      "needs_background": "light"
     },
     "output_type": "display_data"
    },
    {
     "data": {
      "image/png": "[encoded data removed]",
      "text/plain": [
       "<Figure size 432x288 with 1 Axes>"
      ]
     },
     "metadata": {
      "needs_background": "light"
     },
     "output_type": "display_data"
    },
    {
     "data": {
      "image/png": "[encoded data removed]",
      "text/plain": [
       "<Figure size 432x288 with 1 Axes>"
      ]
     },
     "metadata": {
      "needs_background": "light"
     },
     "output_type": "display_data"
    },
    {
     "data": {
      "image/png": "[encoded data removed]",
      "text/plain": [
       "<Figure size 432x288 with 1 Axes>"
      ]
     },
     "metadata": {
      "needs_background": "light"
     },
     "output_type": "display_data"
    },
    {
     "data": {
      "image/png": "[encoded data removed]",
      "text/plain": [
       "<Figure size 432x288 with 1 Axes>"
      ]
     },
     "metadata": {
      "needs_background": "light"
     },
     "output_type": "display_data"
    },
    {
     "data": {
      "image/png": "[encoded data removed]",
      "text/plain": [
       "<Figure size 432x288 with 1 Axes>"
      ]
     },
     "metadata": {
      "needs_background": "light"
     },
     "output_type": "display_data"
    },
    {
     "data": {
      "image/png": "[encoded data removed]",
      "text/plain": [
       "<Figure size 432x288 with 1 Axes>"
      ]
     },
     "metadata": {
      "needs_background": "light"
     },
     "output_type": "display_data"
    },
    {
     "data": {
      "image/png": "[encoded data removed]",
      "text/plain": [
       "<Figure size 432x288 with 1 Axes>"
      ]
     },
     "metadata": {
      "needs_background": "light"
     },
     "output_type": "display_data"
    },
    {
     "data": {
      "image/png": "[encoded data removed]",
      "text/plain": [
       "<Figure size 432x288 with 1 Axes>"
      ]
     },
     "metadata": {
      "needs_background": "light"
     },
     "output_type": "display_data"
    },
    {
     "data": {
      "image/png": "[encoded data removed]",
      "text/plain": [
       "<Figure size 432x288 with 1 Axes>"
      ]
     },
     "metadata": {
      "needs_background": "light"
     },
     "output_type": "display_data"
    },
    {
     "data": {
      "image/png": "[encoded data removed]",
      "text/plain": [
       "<Figure size 432x288 with 1 Axes>"
      ]
     },
     "metadata": {
      "needs_background": "light"
     },
     "output_type": "display_data"
    },
    {
     "data": {
      "image/png": "[encoded data removed]",
      "text/plain": [
       "<Figure size 432x288 with 1 Axes>"
      ]
     },
     "metadata": {
      "needs_background": "light"
     },
     "output_type": "display_data"
    },
    {
     "data": {
      "image/png": "[encoded data removed]",
      "text/plain": [
       "<Figure size 432x288 with 1 Axes>"
      ]
     },
     "metadata": {
      "needs_background": "light"
     },
     "output_type": "display_data"
    }
   ],
   "source": [
    "openml_train['class'] = ['gain' if row['gain_in_r2_score'] > 0 else 'loss' for index, row in openml_train.iterrows()]\n",
    "openml_test['class'] = ['gain' if row['gain_in_r2_score'] > 0 else 'loss' for index, row in openml_test.iterrows()]\n",
    "\n",
    "succ = openml_train.loc[openml_train['class'] == 'gain']#.sample(n=4000)\n",
    "unsucc = openml_train.loc[openml_train['class'] == 'loss']#.sample(n=4000)\n",
    "plot_two_kinds_of_histograms(succ, 'succ', unsucc, 'unsucc')"
   ]
  },
  {
   "cell_type": "markdown",
   "metadata": {},
   "source": [
    "#### It seems that these features are still not very good at separating the training data. Let's see how it works for the simplified version of openml_test."
   ]
  },
  {
   "cell_type": "code",
   "execution_count": 9,
   "metadata": {},
   "outputs": [
    {
     "data": {
      "image/png": "[encoded data removed]",
      "text/plain": [
       "<Figure size 432x288 with 1 Axes>"
      ]
     },
     "metadata": {
      "needs_background": "light"
     },
     "output_type": "display_data"
    },
    {
     "data": {
      "image/png": "[encoded data removed]",
      "text/plain": [
       "<Figure size 432x288 with 1 Axes>"
      ]
     },
     "metadata": {
      "needs_background": "light"
     },
     "output_type": "display_data"
    },
    {
     "data": {
      "image/png": "[encoded data removed]",
      "text/plain": [
       "<Figure size 432x288 with 1 Axes>"
      ]
     },
     "metadata": {
      "needs_background": "light"
     },
     "output_type": "display_data"
    },
    {
     "data": {
      "image/png": "[encoded data removed]",
      "text/plain": [
       "<Figure size 432x288 with 1 Axes>"
      ]
     },
     "metadata": {
      "needs_background": "light"
     },
     "output_type": "display_data"
    },
    {
     "data": {
      "image/png": "[encoded data removed]",
      "text/plain": [
       "<Figure size 432x288 with 1 Axes>"
      ]
     },
     "metadata": {
      "needs_background": "light"
     },
     "output_type": "display_data"
    },
    {
     "data": {
      "image/png": "[encoded data removed]",
      "text/plain": [
       "<Figure size 432x288 with 1 Axes>"
      ]
     },
     "metadata": {
      "needs_background": "light"
     },
     "output_type": "display_data"
    },
    {
     "data": {
      "image/png": "[encoded data removed]",
      "text/plain": [
       "<Figure size 432x288 with 1 Axes>"
      ]
     },
     "metadata": {
      "needs_background": "light"
     },
     "output_type": "display_data"
    },
    {
     "data": {
      "image/png": "[encoded data removed]",
      "text/plain": [
       "<Figure size 432x288 with 1 Axes>"
      ]
     },
     "metadata": {
      "needs_background": "light"
     },
     "output_type": "display_data"
    },
    {
     "data": {
      "image/png": "[encoded data removed]",
      "text/plain": [
       "<Figure size 432x288 with 1 Axes>"
      ]
     },
     "metadata": {
      "needs_background": "light"
     },
     "output_type": "display_data"
    },
    {
     "data": {
      "image/png": "[encoded data removed]",
      "text/plain": [
       "<Figure size 432x288 with 1 Axes>"
      ]
     },
     "metadata": {
      "needs_background": "light"
     },
     "output_type": "display_data"
    },
    {
     "data": {
      "image/png": "[encoded data removed]",
      "text/plain": [
       "<Figure size 432x288 with 1 Axes>"
      ]
     },
     "metadata": {
      "needs_background": "light"
     },
     "output_type": "display_data"
    },
    {
     "data": {
      "image/png": "[encoded data removed]",
      "text/plain": [
       "<Figure size 432x288 with 1 Axes>"
      ]
     },
     "metadata": {
      "needs_background": "light"
     },
     "output_type": "display_data"
    },
    {
     "data": {
      "image/png": "[encoded data removed]",
      "text/plain": [
       "<Figure size 432x288 with 1 Axes>"
      ]
     },
     "metadata": {
      "needs_background": "light"
     },
     "output_type": "display_data"
    },
    {
     "data": {
      "image/png": "[encoded data removed]",
      "text/plain": [
       "<Figure size 432x288 with 1 Axes>"
      ]
     },
     "metadata": {
      "needs_background": "light"
     },
     "output_type": "display_data"
    },
    {
     "data": {
      "image/png": "[encoded data removed]",
      "text/plain": [
       "<Figure size 432x288 with 1 Axes>"
      ]
     },
     "metadata": {
      "needs_background": "light"
     },
     "output_type": "display_data"
    },
    {
     "data": {
      "image/png": "[encoded data removed]",
      "text/plain": [
       "<Figure size 432x288 with 1 Axes>"
      ]
     },
     "metadata": {
      "needs_background": "light"
     },
     "output_type": "display_data"
    },
    {
     "data": {
      "image/png": "[encoded data removed]",
      "text/plain": [
       "<Figure size 432x288 with 1 Axes>"
      ]
     },
     "metadata": {
      "needs_background": "light"
     },
     "output_type": "display_data"
    },
    {
     "data": {
      "image/png": "[encoded data removed]",
      "text/plain": [
       "<Figure size 432x288 with 1 Axes>"
      ]
     },
     "metadata": {
      "needs_background": "light"
     },
     "output_type": "display_data"
    }
   ],
   "source": [
    "succ = openml_test.loc[openml_test['class'] == 'gain']#.sample(n=4000)\n",
    "unsucc = openml_test.loc[openml_test['class'] == 'loss']#.sample(n=4000)\n",
    "plot_two_kinds_of_histograms(succ, 'succ', unsucc, 'unsucc')"
   ]
  },
  {
   "cell_type": "markdown",
   "metadata": {},
   "source": [
    "#### It seems like the separation is better here. Now, following the bottom-up approach, let's steer our attention to only one feature: candidate_target_max_pearson. Given that candidate datasets only have ONE NUMERICAL COLUMN, 'max' is not really aggregating/hiding any info."
   ]
  },
  {
   "cell_type": "code",
   "execution_count": 10,
   "metadata": {},
   "outputs": [],
   "source": [
    "openml_train_pearson = openml_train[['candidate_target_max_pearson', 'gain_in_r2_score', 'class']]\n",
    "openml_test_pearson = openml_test[['candidate_target_max_pearson', 'gain_in_r2_score', 'class']]"
   ]
  },
  {
   "cell_type": "markdown",
   "metadata": {},
   "source": [
    "#### Let's check the Pearson correlation between 'candidate_target_max_pearson' and 'gain_in_r2_score' first."
   ]
  },
  {
   "cell_type": "code",
   "execution_count": 11,
   "metadata": {},
   "outputs": [],
   "source": [
    "from scipy.stats import pearsonr"
   ]
  },
  {
   "cell_type": "code",
   "execution_count": 12,
   "metadata": {},
   "outputs": [
    {
     "data": {
      "text/plain": [
       "(0.009163921420636677, 6.94793788042789e-22)"
      ]
     },
     "execution_count": 12,
     "metadata": {},
     "output_type": "execute_result"
    }
   ],
   "source": [
    "pearsonr(openml_train_pearson['candidate_target_max_pearson'], openml_train_pearson['gain_in_r2_score'])"
   ]
  },
  {
   "cell_type": "code",
   "execution_count": 13,
   "metadata": {},
   "outputs": [
    {
     "data": {
      "text/plain": [
       "(0.02862020706113722, 0.10203386051941381)"
      ]
     },
     "execution_count": 13,
     "metadata": {},
     "output_type": "execute_result"
    }
   ],
   "source": [
    "pearsonr(openml_test_pearson['candidate_target_max_pearson'], openml_test_pearson['gain_in_r2_score'])"
   ]
  },
  {
   "cell_type": "markdown",
   "metadata": {},
   "source": [
    "#### Bad correlations. What if I normalize these values?"
   ]
  },
  {
   "cell_type": "code",
   "execution_count": 14,
   "metadata": {},
   "outputs": [],
   "source": [
    "from sklearn.preprocessing import StandardScaler, MinMaxScaler\n",
    "\n",
    "standard_scaler = StandardScaler()\n",
    "minmax_scaler = MinMaxScaler()\n",
    "\n",
    "std_openml_train_pearson = standard_scaler.fit_transform(openml_train_pearson[['candidate_target_max_pearson', 'gain_in_r2_score']])\n",
    "minmax_openml_train_pearson = minmax_scaler.fit_transform(openml_train_pearson[['candidate_target_max_pearson', 'gain_in_r2_score']])\n",
    "std_openml_test_pearson = standard_scaler.fit_transform(openml_test_pearson[['candidate_target_max_pearson', 'gain_in_r2_score']])\n",
    "minmax_openml_test_pearson = minmax_scaler.fit_transform(openml_test_pearson[['candidate_target_max_pearson', 'gain_in_r2_score']])\n"
   ]
  },
  {
   "cell_type": "code",
   "execution_count": 15,
   "metadata": {},
   "outputs": [
    {
     "data": {
      "text/plain": [
       "(0.009163921420636678, 6.94793788042789e-22)"
      ]
     },
     "execution_count": 15,
     "metadata": {},
     "output_type": "execute_result"
    }
   ],
   "source": [
    "pearsonr(std_openml_train_pearson[:,0], std_openml_train_pearson[:,1])"
   ]
  },
  {
   "cell_type": "code",
   "execution_count": 16,
   "metadata": {},
   "outputs": [
    {
     "data": {
      "text/plain": [
       "(0.009163921420636687, 6.94793788042789e-22)"
      ]
     },
     "execution_count": 16,
     "metadata": {},
     "output_type": "execute_result"
    }
   ],
   "source": [
    "pearsonr(minmax_openml_train_pearson[:,0], minmax_openml_train_pearson[:,1])"
   ]
  },
  {
   "cell_type": "code",
   "execution_count": 17,
   "metadata": {},
   "outputs": [
    {
     "data": {
      "text/plain": [
       "(0.02862020706113722, 0.10203386051941381)"
      ]
     },
     "execution_count": 17,
     "metadata": {},
     "output_type": "execute_result"
    }
   ],
   "source": [
    "pearsonr(std_openml_test_pearson[:,0], std_openml_test_pearson[:,1])"
   ]
  },
  {
   "cell_type": "code",
   "execution_count": 18,
   "metadata": {},
   "outputs": [
    {
     "data": {
      "text/plain": [
       "(0.02862020706113721, 0.10203386051941381)"
      ]
     },
     "execution_count": 18,
     "metadata": {},
     "output_type": "execute_result"
    }
   ],
   "source": [
    "pearsonr(minmax_openml_test_pearson[:,0], minmax_openml_test_pearson[:,1])"
   ]
  },
  {
   "cell_type": "markdown",
   "metadata": {},
   "source": [
    "#### Made no difference (as expected, honestly). Let me see how classification works using 'candidate_target_max_pearson' alone."
   ]
  },
  {
   "cell_type": "code",
   "execution_count": 20,
   "metadata": {},
   "outputs": [
    {
     "data": {
      "text/plain": [
       "RandomForestClassifier(bootstrap=True, ccp_alpha=0.0, class_weight=None,\n",
       "                       criterion='gini', max_depth=None, max_features='auto',\n",
       "                       max_leaf_nodes=None, max_samples=None,\n",
       "                       min_impurity_decrease=0.0, min_impurity_split=None,\n",
       "                       min_samples_leaf=1, min_samples_split=2,\n",
       "                       min_weight_fraction_leaf=0.0, n_estimators=100,\n",
       "                       n_jobs=None, oob_score=False, random_state=42, verbose=0,\n",
       "                       warm_start=False)"
      ]
     },
     "execution_count": 20,
     "metadata": {},
     "output_type": "execute_result"
    }
   ],
   "source": [
    "rf = RandomForestClassifier(n_estimators=100, random_state=42)\n",
    "rf.fit(openml_train_pearson[CANDIDATE_PEARSON], openml_train_pearson['class'])\n"
   ]
  },
  {
   "cell_type": "code",
   "execution_count": null,
   "metadata": {},
   "outputs": [],
   "source": [
    "preds = rf.predict(openml_test_pearson[CANDIDATE_PEARSON])\n",
    "print(classification_report(openml_test_pearson['class'], preds))"
   ]
  },
  {
   "cell_type": "markdown",
   "metadata": {},
   "source": [
    "#### Not that bad. Now let's see for the case studies (again, containment_fraction = 1 always)"
   ]
  },
  {
   "cell_type": "code",
   "execution_count": 22,
   "metadata": {},
   "outputs": [],
   "source": [
    "college = pd.read_csv('college-debt-records-features-single-column-w-class')\n",
    "college['class'] = ['gain' if row['gain_in_r2_score'] > 0 else 'loss' for index, row in college.iterrows()]\n",
    "\n",
    "poverty = pd.read_csv('poverty-estimation-results-features-and-targets-training.csv')\n",
    "poverty['class'] = ['gain' if row['gain_in_r2_score'] > 0 else 'loss' for index, row in poverty.iterrows()]\n",
    "\n",
    "taxi = pd.read_csv('taxi-vehicle-collision-records-features-single-column-w-class-normalized-with-mad.csv')\n",
    "taxi['class'] = ['gain' if row['gain_in_r2_score'] > 0 else 'loss' for index, row in taxi.iterrows()]"
   ]
  },
  {
   "cell_type": "code",
   "execution_count": 23,
   "metadata": {},
   "outputs": [],
   "source": [
    "college = remove_low_containment_fraction_entries(college)\n",
    "poverty = remove_low_containment_fraction_entries(poverty)\n",
    "taxi = remove_low_containment_fraction_entries(taxi)"
   ]
  },
  {
   "cell_type": "code",
   "execution_count": 24,
   "metadata": {},
   "outputs": [
    {
     "name": "stdout",
     "output_type": "stream",
     "text": [
      "              precision    recall  f1-score   support\n",
      "\n",
      "        gain       1.00      0.67      0.80         6\n",
      "        loss       0.60      1.00      0.75         3\n",
      "\n",
      "    accuracy                           0.78         9\n",
      "   macro avg       0.80      0.83      0.77         9\n",
      "weighted avg       0.87      0.78      0.78         9\n",
      "\n"
     ]
    }
   ],
   "source": [
    "preds = rf.predict(college[CANDIDATE_PEARSON])\n",
    "print(classification_report(college['class'], preds))"
   ]
  },
  {
   "cell_type": "code",
   "execution_count": 25,
   "metadata": {},
   "outputs": [
    {
     "name": "stdout",
     "output_type": "stream",
     "text": [
      "              precision    recall  f1-score   support\n",
      "\n",
      "        gain       1.00      0.45      0.62        11\n",
      "        loss       0.00      0.00      0.00         0\n",
      "\n",
      "    accuracy                           0.45        11\n",
      "   macro avg       0.50      0.23      0.31        11\n",
      "weighted avg       1.00      0.45      0.62        11\n",
      "\n"
     ]
    },
    {
     "name": "stderr",
     "output_type": "stream",
     "text": [
      "/Users/alibezz/anaconda3/lib/python3.7/site-packages/sklearn/metrics/_classification.py:1272: UndefinedMetricWarning: Recall and F-score are ill-defined and being set to 0.0 in labels with no true samples. Use `zero_division` parameter to control this behavior.\n",
      "  _warn_prf(average, modifier, msg_start, len(result))\n"
     ]
    }
   ],
   "source": [
    "preds = rf.predict(poverty[CANDIDATE_PEARSON])\n",
    "print(classification_report(poverty['class'], preds))"
   ]
  },
  {
   "cell_type": "code",
   "execution_count": 26,
   "metadata": {},
   "outputs": [
    {
     "name": "stdout",
     "output_type": "stream",
     "text": [
      "              precision    recall  f1-score   support\n",
      "\n",
      "        gain       1.00      0.80      0.89        66\n",
      "        loss       0.00      0.00      0.00         0\n",
      "\n",
      "    accuracy                           0.80        66\n",
      "   macro avg       0.50      0.40      0.45        66\n",
      "weighted avg       1.00      0.80      0.89        66\n",
      "\n"
     ]
    },
    {
     "name": "stderr",
     "output_type": "stream",
     "text": [
      "/Users/alibezz/anaconda3/lib/python3.7/site-packages/sklearn/metrics/_classification.py:1272: UndefinedMetricWarning: Recall and F-score are ill-defined and being set to 0.0 in labels with no true samples. Use `zero_division` parameter to control this behavior.\n",
      "  _warn_prf(average, modifier, msg_start, len(result))\n"
     ]
    }
   ],
   "source": [
    "preds = rf.predict(taxi[CANDIDATE_PEARSON])\n",
    "print(classification_report(taxi['class'], preds))"
   ]
  },
  {
   "cell_type": "markdown",
   "metadata": {},
   "source": [
    "#### The results are good when we consider only containment_fraction = 1 and pearson. \n",
    "\n",
    "#### POTENTIAL STRATEGY 1: use containment_fraction as a hyperparameter, and pick a threshold based on that (the moment you lower it and things get drastically worse, you stop).\n",
    "\n",
    "#### POTENTIAL STRATEGY 2: have \"layered\" models targetting datasets with different containment_fractions, such that you just classify datasets with smaller containment fractions if the number of \"higher-joined\" datasets you've already classified is not enough.\n"
   ]
  },
  {
   "cell_type": "code",
   "execution_count": 27,
   "metadata": {},
   "outputs": [],
   "source": [
    "def calculate_performance_for_different_containment_ratios(training, test_datasets):\n",
    "    thresholds = [1.0, 0.9, 0.8, 0.7, 0.6, 0.5, 0.4, 0.3, 0.2, 0.1, 0.0]\n",
    "    rf = RandomForestClassifier(n_estimators=100, random_state=42)\n",
    "    for thresh in thresholds:\n",
    "        tmp_training = remove_low_containment_fraction_entries(training, threshold=thresh)\n",
    "        rf.fit(tmp_training[CANDIDATE_PEARSON], tmp_training['class'])\n",
    "        for test_name in test_datasets.keys():\n",
    "            tmp_test = remove_low_containment_fraction_entries(test_datasets[test_name], threshold=thresh)\n",
    "            preds = rf.predict(tmp_test[CANDIDATE_PEARSON])\n",
    "            print('****', test_name, 'containment_fraction >=', thresh)\n",
    "            print(classification_report(tmp_test['class'], preds))"
   ]
  },
  {
   "cell_type": "code",
   "execution_count": 28,
   "metadata": {},
   "outputs": [],
   "source": [
    "openml_train = pd.read_csv('training-simplified-data-generation-many-candidates-per-query_with_median_and_mean_based_classes.csv')\n",
    "openml_train['class'] = ['gain' if row['gain_in_r2_score'] > 0 else 'loss' for index, row in openml_train.iterrows()]\n",
    "\n",
    "openml_test = pd.read_csv('test-simplified-data-generation.csv')\n",
    "openml_test['class'] = ['gain' if row['gain_in_r2_score'] > 0 else 'loss' for index, row in openml_test.iterrows()]\n",
    "\n",
    "college = pd.read_csv('college-debt-records-features-single-column-w-class')\n",
    "college['class'] = ['gain' if row['gain_in_r2_score'] > 0 else 'loss' for index, row in college.iterrows()]\n",
    "\n",
    "poverty = pd.read_csv('poverty-estimation-results-features-and-targets-training.csv')\n",
    "poverty['class'] = ['gain' if row['gain_in_r2_score'] > 0 else 'loss' for index, row in poverty.iterrows()]\n",
    "\n",
    "taxi = pd.read_csv('taxi-vehicle-collision-records-features-single-column-w-class-normalized-with-mad.csv')\n",
    "taxi['class'] = ['gain' if row['gain_in_r2_score'] > 0 else 'loss' for index, row in taxi.iterrows()]"
   ]
  },
  {
   "cell_type": "code",
   "execution_count": 30,
   "metadata": {},
   "outputs": [
    {
     "name": "stdout",
     "output_type": "stream",
     "text": [
      "**** openml_test containment_fraction >= 1.0\n",
      "              precision    recall  f1-score   support\n",
      "\n",
      "        gain       0.67      0.62      0.65      1960\n",
      "        loss       0.49      0.54      0.51      1305\n",
      "\n",
      "    accuracy                           0.59      3265\n",
      "   macro avg       0.58      0.58      0.58      3265\n",
      "weighted avg       0.60      0.59      0.59      3265\n",
      "\n",
      "**** college containment_fraction >= 1.0\n",
      "              precision    recall  f1-score   support\n",
      "\n",
      "        gain       1.00      0.67      0.80         6\n",
      "        loss       0.60      1.00      0.75         3\n",
      "\n",
      "    accuracy                           0.78         9\n",
      "   macro avg       0.80      0.83      0.77         9\n",
      "weighted avg       0.87      0.78      0.78         9\n",
      "\n",
      "**** poverty containment_fraction >= 1.0\n",
      "              precision    recall  f1-score   support\n",
      "\n",
      "        gain       1.00      0.45      0.62        11\n",
      "        loss       0.00      0.00      0.00         0\n",
      "\n",
      "    accuracy                           0.45        11\n",
      "   macro avg       0.50      0.23      0.31        11\n",
      "weighted avg       1.00      0.45      0.62        11\n",
      "\n"
     ]
    },
    {
     "name": "stderr",
     "output_type": "stream",
     "text": [
      "/Users/alibezz/anaconda3/lib/python3.7/site-packages/sklearn/metrics/_classification.py:1272: UndefinedMetricWarning: Recall and F-score are ill-defined and being set to 0.0 in labels with no true samples. Use `zero_division` parameter to control this behavior.\n",
      "  _warn_prf(average, modifier, msg_start, len(result))\n",
      "/Users/alibezz/anaconda3/lib/python3.7/site-packages/sklearn/metrics/_classification.py:1272: UndefinedMetricWarning: Recall and F-score are ill-defined and being set to 0.0 in labels with no true samples. Use `zero_division` parameter to control this behavior.\n",
      "  _warn_prf(average, modifier, msg_start, len(result))\n"
     ]
    },
    {
     "name": "stdout",
     "output_type": "stream",
     "text": [
      "**** taxi containment_fraction >= 1.0\n",
      "              precision    recall  f1-score   support\n",
      "\n",
      "        gain       1.00      0.80      0.89        66\n",
      "        loss       0.00      0.00      0.00         0\n",
      "\n",
      "    accuracy                           0.80        66\n",
      "   macro avg       0.50      0.40      0.45        66\n",
      "weighted avg       1.00      0.80      0.89        66\n",
      "\n",
      "**** openml_test containment_fraction >= 0.9\n",
      "              precision    recall  f1-score   support\n",
      "\n",
      "        gain       0.67      0.62      0.65      1967\n",
      "        loss       0.49      0.54      0.52      1314\n",
      "\n",
      "    accuracy                           0.59      3281\n",
      "   macro avg       0.58      0.58      0.58      3281\n",
      "weighted avg       0.60      0.59      0.59      3281\n",
      "\n",
      "**** college containment_fraction >= 0.9\n",
      "              precision    recall  f1-score   support\n",
      "\n",
      "        gain       0.93      0.62      0.74        84\n",
      "        loss       0.40      0.84      0.54        25\n",
      "\n",
      "    accuracy                           0.67       109\n",
      "   macro avg       0.66      0.73      0.64       109\n",
      "weighted avg       0.81      0.67      0.70       109\n",
      "\n",
      "**** poverty containment_fraction >= 0.9\n",
      "              precision    recall  f1-score   support\n",
      "\n",
      "        gain       1.00      0.36      0.53        11\n",
      "        loss       0.00      0.00      0.00         0\n",
      "\n",
      "    accuracy                           0.36        11\n",
      "   macro avg       0.50      0.18      0.27        11\n",
      "weighted avg       1.00      0.36      0.53        11\n",
      "\n",
      "**** taxi containment_fraction >= 0.9\n",
      "              precision    recall  f1-score   support\n",
      "\n",
      "        gain       1.00      0.80      0.89        66\n",
      "        loss       0.00      0.00      0.00         0\n",
      "\n",
      "    accuracy                           0.80        66\n",
      "   macro avg       0.50      0.40      0.45        66\n",
      "weighted avg       1.00      0.80      0.89        66\n",
      "\n"
     ]
    },
    {
     "name": "stderr",
     "output_type": "stream",
     "text": [
      "/Users/alibezz/anaconda3/lib/python3.7/site-packages/sklearn/metrics/_classification.py:1272: UndefinedMetricWarning: Recall and F-score are ill-defined and being set to 0.0 in labels with no true samples. Use `zero_division` parameter to control this behavior.\n",
      "  _warn_prf(average, modifier, msg_start, len(result))\n",
      "/Users/alibezz/anaconda3/lib/python3.7/site-packages/sklearn/metrics/_classification.py:1272: UndefinedMetricWarning: Recall and F-score are ill-defined and being set to 0.0 in labels with no true samples. Use `zero_division` parameter to control this behavior.\n",
      "  _warn_prf(average, modifier, msg_start, len(result))\n"
     ]
    },
    {
     "name": "stdout",
     "output_type": "stream",
     "text": [
      "**** openml_test containment_fraction >= 0.8\n",
      "              precision    recall  f1-score   support\n",
      "\n",
      "        gain       0.68      0.63      0.65      1977\n",
      "        loss       0.50      0.55      0.52      1323\n",
      "\n",
      "    accuracy                           0.60      3300\n",
      "   macro avg       0.59      0.59      0.59      3300\n",
      "weighted avg       0.60      0.60      0.60      3300\n",
      "\n",
      "**** college containment_fraction >= 0.8\n",
      "              precision    recall  f1-score   support\n",
      "\n",
      "        gain       0.92      0.57      0.71        84\n",
      "        loss       0.37      0.84      0.51        25\n",
      "\n",
      "    accuracy                           0.63       109\n",
      "   macro avg       0.65      0.71      0.61       109\n",
      "weighted avg       0.80      0.63      0.66       109\n",
      "\n",
      "**** poverty containment_fraction >= 0.8\n"
     ]
    },
    {
     "name": "stderr",
     "output_type": "stream",
     "text": [
      "/Users/alibezz/anaconda3/lib/python3.7/site-packages/sklearn/metrics/_classification.py:1272: UndefinedMetricWarning: Recall and F-score are ill-defined and being set to 0.0 in labels with no true samples. Use `zero_division` parameter to control this behavior.\n",
      "  _warn_prf(average, modifier, msg_start, len(result))\n",
      "/Users/alibezz/anaconda3/lib/python3.7/site-packages/sklearn/metrics/_classification.py:1272: UndefinedMetricWarning: Recall and F-score are ill-defined and being set to 0.0 in labels with no true samples. Use `zero_division` parameter to control this behavior.\n",
      "  _warn_prf(average, modifier, msg_start, len(result))\n"
     ]
    },
    {
     "name": "stdout",
     "output_type": "stream",
     "text": [
      "              precision    recall  f1-score   support\n",
      "\n",
      "        gain       1.00      0.45      0.62        11\n",
      "        loss       0.00      0.00      0.00         0\n",
      "\n",
      "    accuracy                           0.45        11\n",
      "   macro avg       0.50      0.23      0.31        11\n",
      "weighted avg       1.00      0.45      0.62        11\n",
      "\n",
      "**** taxi containment_fraction >= 0.8\n",
      "              precision    recall  f1-score   support\n",
      "\n",
      "        gain       1.00      0.83      0.91        66\n",
      "        loss       0.00      0.00      0.00         0\n",
      "\n",
      "    accuracy                           0.83        66\n",
      "   macro avg       0.50      0.42      0.45        66\n",
      "weighted avg       1.00      0.83      0.91        66\n",
      "\n",
      "**** openml_test containment_fraction >= 0.7\n",
      "              precision    recall  f1-score   support\n",
      "\n",
      "        gain       0.67      0.63      0.65      1991\n",
      "        loss       0.49      0.54      0.52      1333\n",
      "\n",
      "    accuracy                           0.59      3324\n",
      "   macro avg       0.58      0.59      0.58      3324\n",
      "weighted avg       0.60      0.59      0.60      3324\n",
      "\n",
      "**** college containment_fraction >= 0.7\n",
      "              precision    recall  f1-score   support\n",
      "\n",
      "        gain       0.93      0.63      0.75        84\n",
      "        loss       0.40      0.84      0.55        25\n",
      "\n",
      "    accuracy                           0.68       109\n",
      "   macro avg       0.67      0.74      0.65       109\n",
      "weighted avg       0.81      0.68      0.70       109\n",
      "\n",
      "**** poverty containment_fraction >= 0.7\n",
      "              precision    recall  f1-score   support\n",
      "\n",
      "        gain       1.00      0.55      0.71        11\n",
      "        loss       0.00      0.00      0.00         0\n",
      "\n",
      "    accuracy                           0.55        11\n",
      "   macro avg       0.50      0.27      0.35        11\n",
      "weighted avg       1.00      0.55      0.71        11\n",
      "\n",
      "**** taxi containment_fraction >= 0.7\n",
      "              precision    recall  f1-score   support\n",
      "\n",
      "        gain       1.00      0.59      0.74        97\n",
      "        loss       0.00      0.00      0.00         0\n",
      "\n",
      "    accuracy                           0.59        97\n",
      "   macro avg       0.50      0.29      0.37        97\n",
      "weighted avg       1.00      0.59      0.74        97\n",
      "\n"
     ]
    },
    {
     "name": "stderr",
     "output_type": "stream",
     "text": [
      "/Users/alibezz/anaconda3/lib/python3.7/site-packages/sklearn/metrics/_classification.py:1272: UndefinedMetricWarning: Recall and F-score are ill-defined and being set to 0.0 in labels with no true samples. Use `zero_division` parameter to control this behavior.\n",
      "  _warn_prf(average, modifier, msg_start, len(result))\n",
      "/Users/alibezz/anaconda3/lib/python3.7/site-packages/sklearn/metrics/_classification.py:1272: UndefinedMetricWarning: Recall and F-score are ill-defined and being set to 0.0 in labels with no true samples. Use `zero_division` parameter to control this behavior.\n",
      "  _warn_prf(average, modifier, msg_start, len(result))\n"
     ]
    },
    {
     "name": "stdout",
     "output_type": "stream",
     "text": [
      "**** openml_test containment_fraction >= 0.6\n",
      "              precision    recall  f1-score   support\n",
      "\n",
      "        gain       0.68      0.63      0.65      2026\n",
      "        loss       0.49      0.55      0.52      1350\n",
      "\n",
      "    accuracy                           0.59      3376\n",
      "   macro avg       0.58      0.59      0.58      3376\n",
      "weighted avg       0.60      0.59      0.60      3376\n",
      "\n",
      "**** college containment_fraction >= 0.6\n",
      "              precision    recall  f1-score   support\n",
      "\n",
      "        gain       0.89      0.58      0.70        86\n",
      "        loss       0.35      0.76      0.47        25\n",
      "\n",
      "    accuracy                           0.62       111\n",
      "   macro avg       0.62      0.67      0.59       111\n",
      "weighted avg       0.77      0.62      0.65       111\n",
      "\n",
      "**** poverty containment_fraction >= 0.6\n",
      "              precision    recall  f1-score   support\n",
      "\n",
      "        gain       1.00      0.55      0.71        11\n",
      "        loss       0.00      0.00      0.00         0\n",
      "\n",
      "    accuracy                           0.55        11\n",
      "   macro avg       0.50      0.27      0.35        11\n",
      "weighted avg       1.00      0.55      0.71        11\n",
      "\n",
      "**** taxi containment_fraction >= 0.6\n",
      "              precision    recall  f1-score   support\n",
      "\n",
      "        gain       1.00      0.59      0.74        99\n",
      "        loss       0.00      0.00      0.00         0\n",
      "\n",
      "    accuracy                           0.59        99\n",
      "   macro avg       0.50      0.29      0.37        99\n",
      "weighted avg       1.00      0.59      0.74        99\n",
      "\n"
     ]
    },
    {
     "name": "stderr",
     "output_type": "stream",
     "text": [
      "/Users/alibezz/anaconda3/lib/python3.7/site-packages/sklearn/metrics/_classification.py:1272: UndefinedMetricWarning: Recall and F-score are ill-defined and being set to 0.0 in labels with no true samples. Use `zero_division` parameter to control this behavior.\n",
      "  _warn_prf(average, modifier, msg_start, len(result))\n",
      "/Users/alibezz/anaconda3/lib/python3.7/site-packages/sklearn/metrics/_classification.py:1272: UndefinedMetricWarning: Recall and F-score are ill-defined and being set to 0.0 in labels with no true samples. Use `zero_division` parameter to control this behavior.\n",
      "  _warn_prf(average, modifier, msg_start, len(result))\n"
     ]
    },
    {
     "name": "stdout",
     "output_type": "stream",
     "text": [
      "**** openml_test containment_fraction >= 0.5\n",
      "              precision    recall  f1-score   support\n",
      "\n",
      "        gain       0.67      0.62      0.65      2050\n",
      "        loss       0.49      0.55      0.52      1371\n",
      "\n",
      "    accuracy                           0.59      3421\n",
      "   macro avg       0.58      0.59      0.58      3421\n",
      "weighted avg       0.60      0.59      0.60      3421\n",
      "\n",
      "**** college containment_fraction >= 0.5\n",
      "              precision    recall  f1-score   support\n",
      "\n",
      "        gain       0.89      0.63      0.74        92\n",
      "        loss       0.35      0.72      0.47        25\n",
      "\n",
      "    accuracy                           0.65       117\n",
      "   macro avg       0.62      0.68      0.60       117\n",
      "weighted avg       0.78      0.65      0.68       117\n",
      "\n",
      "**** poverty containment_fraction >= 0.5\n",
      "              precision    recall  f1-score   support\n",
      "\n",
      "        gain       1.00      0.55      0.71        11\n",
      "        loss       0.00      0.00      0.00         0\n",
      "\n",
      "    accuracy                           0.55        11\n",
      "   macro avg       0.50      0.27      0.35        11\n",
      "weighted avg       1.00      0.55      0.71        11\n",
      "\n",
      "**** taxi containment_fraction >= 0.5\n",
      "              precision    recall  f1-score   support\n",
      "\n",
      "        gain       1.00      0.62      0.76       105\n",
      "        loss       0.00      0.00      0.00         0\n",
      "\n",
      "    accuracy                           0.62       105\n",
      "   macro avg       0.50      0.31      0.38       105\n",
      "weighted avg       1.00      0.62      0.76       105\n",
      "\n"
     ]
    },
    {
     "name": "stderr",
     "output_type": "stream",
     "text": [
      "/Users/alibezz/anaconda3/lib/python3.7/site-packages/sklearn/metrics/_classification.py:1272: UndefinedMetricWarning: Recall and F-score are ill-defined and being set to 0.0 in labels with no true samples. Use `zero_division` parameter to control this behavior.\n",
      "  _warn_prf(average, modifier, msg_start, len(result))\n",
      "/Users/alibezz/anaconda3/lib/python3.7/site-packages/sklearn/metrics/_classification.py:1272: UndefinedMetricWarning: Recall and F-score are ill-defined and being set to 0.0 in labels with no true samples. Use `zero_division` parameter to control this behavior.\n",
      "  _warn_prf(average, modifier, msg_start, len(result))\n"
     ]
    },
    {
     "name": "stdout",
     "output_type": "stream",
     "text": [
      "**** openml_test containment_fraction >= 0.4\n",
      "              precision    recall  f1-score   support\n",
      "\n",
      "        gain       0.67      0.63      0.65      2082\n",
      "        loss       0.50      0.54      0.52      1395\n",
      "\n",
      "    accuracy                           0.60      3477\n",
      "   macro avg       0.59      0.59      0.59      3477\n",
      "weighted avg       0.60      0.60      0.60      3477\n",
      "\n",
      "**** college containment_fraction >= 0.4\n",
      "              precision    recall  f1-score   support\n",
      "\n",
      "        gain       0.93      0.58      0.72        98\n",
      "        loss       0.34      0.84      0.48        25\n",
      "\n",
      "    accuracy                           0.63       123\n",
      "   macro avg       0.64      0.71      0.60       123\n",
      "weighted avg       0.81      0.63      0.67       123\n",
      "\n",
      "**** poverty containment_fraction >= 0.4\n",
      "              precision    recall  f1-score   support\n",
      "\n",
      "        gain       1.00      0.64      0.78        11\n",
      "        loss       0.00      0.00      0.00         0\n",
      "\n",
      "    accuracy                           0.64        11\n",
      "   macro avg       0.50      0.32      0.39        11\n",
      "weighted avg       1.00      0.64      0.78        11\n",
      "\n",
      "**** taxi containment_fraction >= 0.4\n",
      "              precision    recall  f1-score   support\n",
      "\n",
      "        gain       1.00      0.61      0.76       105\n",
      "        loss       0.00      0.00      0.00         0\n",
      "\n",
      "    accuracy                           0.61       105\n",
      "   macro avg       0.50      0.30      0.38       105\n",
      "weighted avg       1.00      0.61      0.76       105\n",
      "\n"
     ]
    },
    {
     "name": "stderr",
     "output_type": "stream",
     "text": [
      "/Users/alibezz/anaconda3/lib/python3.7/site-packages/sklearn/metrics/_classification.py:1272: UndefinedMetricWarning: Recall and F-score are ill-defined and being set to 0.0 in labels with no true samples. Use `zero_division` parameter to control this behavior.\n",
      "  _warn_prf(average, modifier, msg_start, len(result))\n",
      "/Users/alibezz/anaconda3/lib/python3.7/site-packages/sklearn/metrics/_classification.py:1272: UndefinedMetricWarning: Recall and F-score are ill-defined and being set to 0.0 in labels with no true samples. Use `zero_division` parameter to control this behavior.\n",
      "  _warn_prf(average, modifier, msg_start, len(result))\n"
     ]
    },
    {
     "name": "stdout",
     "output_type": "stream",
     "text": [
      "**** openml_test containment_fraction >= 0.3\n",
      "              precision    recall  f1-score   support\n",
      "\n",
      "        gain       0.67      0.62      0.65      2126\n",
      "        loss       0.50      0.55      0.52      1432\n",
      "\n",
      "    accuracy                           0.59      3558\n",
      "   macro avg       0.59      0.59      0.59      3558\n",
      "weighted avg       0.60      0.59      0.60      3558\n",
      "\n",
      "**** college containment_fraction >= 0.3\n",
      "              precision    recall  f1-score   support\n",
      "\n",
      "        gain       0.97      0.59      0.73       100\n",
      "        loss       0.36      0.92      0.52        25\n",
      "\n",
      "    accuracy                           0.66       125\n",
      "   macro avg       0.66      0.76      0.62       125\n",
      "weighted avg       0.85      0.66      0.69       125\n",
      "\n",
      "**** poverty containment_fraction >= 0.3\n",
      "              precision    recall  f1-score   support\n",
      "\n",
      "        gain       1.00      0.45      0.62        11\n",
      "        loss       0.00      0.00      0.00         0\n",
      "\n",
      "    accuracy                           0.45        11\n",
      "   macro avg       0.50      0.23      0.31        11\n",
      "weighted avg       1.00      0.45      0.62        11\n",
      "\n"
     ]
    },
    {
     "name": "stderr",
     "output_type": "stream",
     "text": [
      "/Users/alibezz/anaconda3/lib/python3.7/site-packages/sklearn/metrics/_classification.py:1272: UndefinedMetricWarning: Recall and F-score are ill-defined and being set to 0.0 in labels with no true samples. Use `zero_division` parameter to control this behavior.\n",
      "  _warn_prf(average, modifier, msg_start, len(result))\n"
     ]
    },
    {
     "name": "stdout",
     "output_type": "stream",
     "text": [
      "**** taxi containment_fraction >= 0.3\n",
      "              precision    recall  f1-score   support\n",
      "\n",
      "        gain       1.00      0.62      0.77       108\n",
      "        loss       0.00      0.00      0.00         0\n",
      "\n",
      "    accuracy                           0.62       108\n",
      "   macro avg       0.50      0.31      0.38       108\n",
      "weighted avg       1.00      0.62      0.77       108\n",
      "\n"
     ]
    },
    {
     "name": "stderr",
     "output_type": "stream",
     "text": [
      "/Users/alibezz/anaconda3/lib/python3.7/site-packages/sklearn/metrics/_classification.py:1272: UndefinedMetricWarning: Recall and F-score are ill-defined and being set to 0.0 in labels with no true samples. Use `zero_division` parameter to control this behavior.\n",
      "  _warn_prf(average, modifier, msg_start, len(result))\n"
     ]
    },
    {
     "name": "stdout",
     "output_type": "stream",
     "text": [
      "**** openml_test containment_fraction >= 0.2\n",
      "              precision    recall  f1-score   support\n",
      "\n",
      "        gain       0.67      0.63      0.65      2161\n",
      "        loss       0.51      0.56      0.53      1483\n",
      "\n",
      "    accuracy                           0.60      3644\n",
      "   macro avg       0.59      0.59      0.59      3644\n",
      "weighted avg       0.61      0.60      0.60      3644\n",
      "\n",
      "**** college containment_fraction >= 0.2\n",
      "              precision    recall  f1-score   support\n",
      "\n",
      "        gain       0.79      0.62      0.70       120\n",
      "        loss       0.41      0.61      0.49        51\n",
      "\n",
      "    accuracy                           0.62       171\n",
      "   macro avg       0.60      0.62      0.59       171\n",
      "weighted avg       0.68      0.62      0.64       171\n",
      "\n",
      "**** poverty containment_fraction >= 0.2\n",
      "              precision    recall  f1-score   support\n",
      "\n",
      "        gain       1.00      0.45      0.62        11\n",
      "        loss       0.00      0.00      0.00         0\n",
      "\n",
      "    accuracy                           0.45        11\n",
      "   macro avg       0.50      0.23      0.31        11\n",
      "weighted avg       1.00      0.45      0.62        11\n",
      "\n",
      "**** taxi containment_fraction >= 0.2\n",
      "              precision    recall  f1-score   support\n",
      "\n",
      "        gain       1.00      0.67      0.80       139\n",
      "        loss       0.00      0.00      0.00         0\n",
      "\n",
      "    accuracy                           0.67       139\n",
      "   macro avg       0.50      0.33      0.40       139\n",
      "weighted avg       1.00      0.67      0.80       139\n",
      "\n"
     ]
    },
    {
     "name": "stderr",
     "output_type": "stream",
     "text": [
      "/Users/alibezz/anaconda3/lib/python3.7/site-packages/sklearn/metrics/_classification.py:1272: UndefinedMetricWarning: Recall and F-score are ill-defined and being set to 0.0 in labels with no true samples. Use `zero_division` parameter to control this behavior.\n",
      "  _warn_prf(average, modifier, msg_start, len(result))\n",
      "/Users/alibezz/anaconda3/lib/python3.7/site-packages/sklearn/metrics/_classification.py:1272: UndefinedMetricWarning: Recall and F-score are ill-defined and being set to 0.0 in labels with no true samples. Use `zero_division` parameter to control this behavior.\n",
      "  _warn_prf(average, modifier, msg_start, len(result))\n"
     ]
    },
    {
     "name": "stdout",
     "output_type": "stream",
     "text": [
      "**** openml_test containment_fraction >= 0.1\n",
      "              precision    recall  f1-score   support\n",
      "\n",
      "        gain       0.67      0.62      0.64      2227\n",
      "        loss       0.50      0.54      0.52      1527\n",
      "\n",
      "    accuracy                           0.59      3754\n",
      "   macro avg       0.58      0.58      0.58      3754\n",
      "weighted avg       0.60      0.59      0.59      3754\n",
      "\n",
      "**** college containment_fraction >= 0.1\n",
      "              precision    recall  f1-score   support\n",
      "\n",
      "        gain       0.77      0.66      0.71       122\n",
      "        loss       0.41      0.55      0.47        53\n",
      "\n",
      "    accuracy                           0.62       175\n",
      "   macro avg       0.59      0.60      0.59       175\n",
      "weighted avg       0.66      0.62      0.64       175\n",
      "\n",
      "**** poverty containment_fraction >= 0.1\n",
      "              precision    recall  f1-score   support\n",
      "\n",
      "        gain       0.78      0.47      0.58        15\n",
      "        loss       0.20      0.50      0.29         4\n",
      "\n",
      "    accuracy                           0.47        19\n",
      "   macro avg       0.49      0.48      0.43        19\n",
      "weighted avg       0.66      0.47      0.52        19\n",
      "\n",
      "**** taxi containment_fraction >= 0.1\n",
      "              precision    recall  f1-score   support\n",
      "\n",
      "        gain       1.00      0.68      0.81       178\n",
      "        loss       0.00      0.00      0.00         0\n",
      "\n",
      "    accuracy                           0.68       178\n",
      "   macro avg       0.50      0.34      0.40       178\n",
      "weighted avg       1.00      0.68      0.81       178\n",
      "\n"
     ]
    },
    {
     "name": "stderr",
     "output_type": "stream",
     "text": [
      "/Users/alibezz/anaconda3/lib/python3.7/site-packages/sklearn/metrics/_classification.py:1272: UndefinedMetricWarning: Recall and F-score are ill-defined and being set to 0.0 in labels with no true samples. Use `zero_division` parameter to control this behavior.\n",
      "  _warn_prf(average, modifier, msg_start, len(result))\n"
     ]
    },
    {
     "name": "stdout",
     "output_type": "stream",
     "text": [
      "**** openml_test containment_fraction >= 0.0\n",
      "              precision    recall  f1-score   support\n",
      "\n",
      "        gain       0.65      0.64      0.64      2496\n",
      "        loss       0.50      0.51      0.51      1780\n",
      "\n",
      "    accuracy                           0.59      4276\n",
      "   macro avg       0.58      0.58      0.58      4276\n",
      "weighted avg       0.59      0.59      0.59      4276\n",
      "\n",
      "**** college containment_fraction >= 0.0\n",
      "              precision    recall  f1-score   support\n",
      "\n",
      "        gain       0.10      0.65      0.17       130\n",
      "        loss       0.82      0.22      0.35       973\n",
      "\n",
      "    accuracy                           0.27      1103\n",
      "   macro avg       0.46      0.43      0.26      1103\n",
      "weighted avg       0.74      0.27      0.33      1103\n",
      "\n",
      "**** poverty containment_fraction >= 0.0\n",
      "              precision    recall  f1-score   support\n",
      "\n",
      "        gain       0.06      0.39      0.11     11526\n",
      "        loss       0.88      0.42      0.57    119402\n",
      "\n",
      "    accuracy                           0.42    130928\n",
      "   macro avg       0.47      0.41      0.34    130928\n",
      "weighted avg       0.81      0.42      0.53    130928\n",
      "\n",
      "**** taxi containment_fraction >= 0.0\n",
      "              precision    recall  f1-score   support\n",
      "\n",
      "        gain       1.00      0.88      0.94       310\n",
      "        loss       0.00      0.00      0.00         0\n",
      "\n",
      "    accuracy                           0.88       310\n",
      "   macro avg       0.50      0.44      0.47       310\n",
      "weighted avg       1.00      0.88      0.94       310\n",
      "\n"
     ]
    },
    {
     "name": "stderr",
     "output_type": "stream",
     "text": [
      "/Users/alibezz/anaconda3/lib/python3.7/site-packages/sklearn/metrics/_classification.py:1272: UndefinedMetricWarning: Recall and F-score are ill-defined and being set to 0.0 in labels with no true samples. Use `zero_division` parameter to control this behavior.\n",
      "  _warn_prf(average, modifier, msg_start, len(result))\n"
     ]
    }
   ],
   "source": [
    "test = {'openml_test': openml_test, 'college': college, 'poverty': poverty, 'taxi': taxi}\n",
    "\n",
    "calculate_performance_for_different_containment_ratios(openml_train, test)"
   ]
  },
  {
   "cell_type": "code",
   "execution_count": 31,
   "metadata": {},
   "outputs": [],
   "source": [
    "#in descending order of containment_fraction threshold; note that the threshold applies for the training data too\n",
    "# all values refer to class 'gain'\n",
    "\n",
    "taxi_fmeasures = [0.80, 0.71, 0.80, 0.71, 0.76, 0.80, 0.80, 0.76, 0.74, 0.60, 0.87] #recall got better in the end\n",
    "taxi_supports = [6, 18, 18, 18, 18, 18, 18, 18, 22, 66, 447]\n",
    "\n",
    "poverty_fmeasures = [0.62, 0.53, 0.62, 0.71, 0.71, 0.71, 0.78, 0.62, 0.62, 0.58, 0.11]\n",
    "poverty_supports = [11, 11, 11, 11, 11, 11, 11, 11, 11, 15, 11526]\n",
    "\n",
    "#the model got bad when thresh == 0.0\n",
    "college_fmeasures = [0.80, 0.74, 0.71, 0.75, 0.70, 0.74, 0.72, 0.73, 0.70, 0.71, 0.17] \n",
    "college_supports = [6, 84, 84, 84, 86, 92, 98, 100, 120, 122, 130]\n",
    "\n",
    "# nothing changes much here --- maybe because this dataset is the most similar to training?\n",
    "openml_test_fmeasures = [0.65, 0.65, 0.65, 0.65, 0.65, 0.65, 0.65, 0.65, 0.65, 0.64, 0.64]\n",
    "openml_test_supports = [1960, 1967, 1977, 1991, 2026, 2050, 2082, 2126, 2161, 2227, 2496]\n"
   ]
  },
  {
   "cell_type": "markdown",
   "metadata": {},
   "source": [
    "#### Let's plot these data to see for which threshold value the performance \"breaks\" most drastically."
   ]
  },
  {
   "cell_type": "code",
   "execution_count": 32,
   "metadata": {},
   "outputs": [],
   "source": [
    "import numpy as np\n",
    "import matplotlib.pyplot as plt\n",
    "\n",
    "THRESHOLDS = [1.0, 0.9, 0.8, 0.7, 0.6, 0.5, 0.4, 0.3, 0.2, 0.1, 0.0]\n",
    "\n",
    "def plot_fmeasures_and_supports(fmeasures, supports):\n",
    "  fig, ax1 = plt.subplots()\n",
    "  color = 'blue'\n",
    "  ax1.set_xlabel(r'Containment fraction threshold')\n",
    "  ax1.xaxis.label.set_size(22)\n",
    "  #ax1.set_xlim(xmin=0.248,xmax=0.652)\n",
    "  #extraticks = [0.25, 0.35, 0.45, 0.55, 0.65]\n",
    "  #ax1.set_xticks(extraticks) #list(ax1.get_xticks()) +\n",
    "  ax1.set_ylabel(r'Support ($\\log$)', color=color)\n",
    "  ax1.yaxis.label.set_size(22)\n",
    "  #ax1.set_ylim(ymin=0.25, ymax=0.95)\n",
    "  ax1.plot(THRESHOLDS, np.log(supports), 'o--', dashes=(5,10), color=color, linewidth=3, label='Support')\n",
    "  ax1.tick_params(axis='y', labelcolor=color, labelsize=15)\n",
    "  ax1.tick_params(axis='x',  labelsize=15)\n",
    "\n",
    "  ax2 = ax1.twinx()  # instantiate a second axes that shares the same x-axis\n",
    "  #ax2.set_xlim(xmin=0.248,xmax=0.652)\n",
    "  ax2.xaxis.label.set_size(22)\n",
    "  #ax2.set_xticks(list(ax2.get_xticks()) + extraticks)\n",
    "  color = 'red'\n",
    "  ax2.set_ylabel(r'F-measure', color=color)  # we already handled the x-label with ax1\n",
    "  ax2.yaxis.label.set_size(22)\n",
    "  #ax2.set_ylim(ymin=0.475,ymax=0.585)\n",
    "  ax2.set_ylim(ymin=0.25,ymax=0.95)\n",
    "  ax2.plot(THRESHOLDS, fmeasures, 'o-', color=color, linewidth=3, label='F-measure')\n",
    "  ax2.tick_params(axis='y', labelcolor=color, labelsize=15)\n",
    "  ax2.tick_params(axis='x',  labelsize=15)\n",
    "\n",
    "  fig.tight_layout()  # otherwise the right y-label is slightly clipped\n",
    "  plt.show()\n"
   ]
  },
  {
   "cell_type": "code",
   "execution_count": 33,
   "metadata": {},
   "outputs": [
    {
     "data": {
      "image/png": "[encoded data removed]",
      "text/plain": [
       "<Figure size 432x288 with 2 Axes>"
      ]
     },
     "metadata": {
      "needs_background": "light"
     },
     "output_type": "display_data"
    }
   ],
   "source": [
    "plot_fmeasures_and_supports(taxi_fmeasures[::-1], taxi_supports[::-1])"
   ]
  },
  {
   "cell_type": "code",
   "execution_count": 34,
   "metadata": {},
   "outputs": [
    {
     "data": {
      "image/png": "[encoded data removed]",
      "text/plain": [
       "<Figure size 432x288 with 2 Axes>"
      ]
     },
     "metadata": {
      "needs_background": "light"
     },
     "output_type": "display_data"
    }
   ],
   "source": [
    "plot_fmeasures_and_supports(poverty_fmeasures[::-1], poverty_supports[::-1])"
   ]
  },
  {
   "cell_type": "code",
   "execution_count": 19,
   "metadata": {},
   "outputs": [
    {
     "data": {
      "image/png": "[encoded data removed]",
      "text/plain": [
       "<matplotlib.figure.Figure at 0x11adeccd0>"
      ]
     },
     "metadata": {},
     "output_type": "display_data"
    }
   ],
   "source": [
    "plot_fmeasures_and_supports(college_fmeasures[::-1], college_supports[::-1])"
   ]
  },
  {
   "cell_type": "code",
   "execution_count": 35,
   "metadata": {},
   "outputs": [
    {
     "data": {
      "image/png": "[encoded data removed]",
      "text/plain": [
       "<Figure size 432x288 with 2 Axes>"
      ]
     },
     "metadata": {
      "needs_background": "light"
     },
     "output_type": "display_data"
    }
   ],
   "source": [
    "plot_fmeasures_and_supports(openml_test_fmeasures[::-1], openml_test_supports[::-1])"
   ]
  },
  {
   "cell_type": "markdown",
   "metadata": {},
   "source": [
    "#### It seems like 0.8 is a reasonable threshold, but maybe this is something the user can choose and we just ALERT HER ABOUT THE CONSEQUENCES. For now, I'll work with containment_fraction >= 0.5"
   ]
  },
  {
   "cell_type": "code",
   "execution_count": 21,
   "metadata": {},
   "outputs": [
    {
     "data": {
      "text/plain": [
       "RandomForestClassifier(bootstrap=True, class_weight=None, criterion='gini',\n",
       "            max_depth=None, max_features='auto', max_leaf_nodes=None,\n",
       "            min_impurity_decrease=0.0, min_impurity_split=None,\n",
       "            min_samples_leaf=1, min_samples_split=2,\n",
       "            min_weight_fraction_leaf=0.0, n_estimators=100, n_jobs=None,\n",
       "            oob_score=False, random_state=42, verbose=0, warm_start=False)"
      ]
     },
     "execution_count": 21,
     "metadata": {},
     "output_type": "execute_result"
    }
   ],
   "source": [
    "rf = RandomForestClassifier(n_estimators=100, random_state=42)\n",
    "tmp_training = remove_low_containment_fraction_entries(openml_train, threshold=0.5)\n",
    "rf.fit(tmp_training[CANDIDATE_PEARSON], tmp_training['class'])"
   ]
  },
  {
   "cell_type": "code",
   "execution_count": 22,
   "metadata": {},
   "outputs": [
    {
     "name": "stdout",
     "output_type": "stream",
     "text": [
      "              precision    recall  f1-score   support\n",
      "\n",
      "        gain       1.00      0.67      0.80        18\n",
      "        loss       0.00      0.00      0.00         0\n",
      "\n",
      "   micro avg       0.67      0.67      0.67        18\n",
      "   macro avg       0.50      0.33      0.40        18\n",
      "weighted avg       1.00      0.67      0.80        18\n",
      "\n"
     ]
    }
   ],
   "source": [
    "tmp_test = remove_low_containment_fraction_entries(taxi, threshold=0.5)\n",
    "preds = rf.predict(tmp_test[CANDIDATE_PEARSON])\n",
    "print(classification_report(tmp_test['class'], preds))"
   ]
  },
  {
   "cell_type": "markdown",
   "metadata": {},
   "source": [
    "#### Note that the precision is maximum but the recall isn't: there are a few false negatives. Let's examine all of them with eli5."
   ]
  },
  {
   "cell_type": "code",
   "execution_count": 24,
   "metadata": {},
   "outputs": [
    {
     "name": "stderr",
     "output_type": "stream",
     "text": [
      "/Users/alibezz/anaconda/lib/python2.7/site-packages/ipykernel/__main__.py:3: SettingWithCopyWarning: \n",
      "A value is trying to be set on a copy of a slice from a DataFrame.\n",
      "Try using .loc[row_indexer,col_indexer] = value instead\n",
      "\n",
      "See the caveats in the documentation: http://pandas.pydata.org/pandas-docs/stable/indexing.html#indexing-view-versus-copy\n",
      "  app.launch_new_instance()\n"
     ]
    },
    {
     "data": {
      "text/plain": [
       "(6, 40)"
      ]
     },
     "execution_count": 24,
     "metadata": {},
     "output_type": "execute_result"
    }
   ],
   "source": [
    "import eli5\n",
    "\n",
    "tmp_test['pred'] = preds\n",
    "false_negative = tmp_test.loc[(tmp_test['class'] == 'gain') & (tmp_test['pred'] == 'loss')]\n",
    "\n",
    "false_negative.shape"
   ]
  },
  {
   "cell_type": "code",
   "execution_count": 25,
   "metadata": {},
   "outputs": [
    {
     "data": {
      "text/html": [
       "\n",
       "    <style>\n",
       "    table.eli5-weights tr:hover {\n",
       "        filter: brightness(85%);\n",
       "    }\n",
       "</style>\n",
       "\n",
       "\n",
       "\n",
       "    \n",
       "\n",
       "    \n",
       "\n",
       "    \n",
       "\n",
       "    \n",
       "\n",
       "    \n",
       "\n",
       "    \n",
       "\n",
       "\n",
       "    \n",
       "\n",
       "    \n",
       "\n",
       "    \n",
       "\n",
       "    \n",
       "        \n",
       "\n",
       "    \n",
       "\n",
       "        \n",
       "            \n",
       "                \n",
       "                \n",
       "    \n",
       "        <p style=\"margin-bottom: 0.5em; margin-top: 0em\">\n",
       "            <b>\n",
       "    \n",
       "        y=loss\n",
       "    \n",
       "</b>\n",
       "\n",
       "    \n",
       "    (probability <b>1.000</b>)\n",
       "\n",
       "top features\n",
       "        </p>\n",
       "    \n",
       "    <table class=\"eli5-weights\"\n",
       "           style=\"border-collapse: collapse; border: none; margin-top: 0em; table-layout: auto; margin-bottom: 2em;\">\n",
       "        <thead>\n",
       "        <tr style=\"border: none;\">\n",
       "            \n",
       "                <th style=\"padding: 0 1em 0 0.5em; text-align: right; border: none;\" title=\"Feature contribution already accounts for the feature value (for linear models, contribution = weight * feature value), and the sum of feature contributions is equal to the score or, for some classifiers, to the probability. Feature values are shown if &quot;show_feature_values&quot; is True.\">\n",
       "                    Contribution<sup>?</sup>\n",
       "                </th>\n",
       "            \n",
       "            <th style=\"padding: 0 0.5em 0 0.5em; text-align: left; border: none;\">Feature</th>\n",
       "            \n",
       "                <th style=\"padding: 0 0.5em 0 1em; text-align: right; border: none;\">Value</th>\n",
       "            \n",
       "        </tr>\n",
       "        </thead>\n",
       "        <tbody>\n",
       "        \n",
       "            <tr style=\"background-color: hsl(120, 100.00%, 80.00%); border: none;\">\n",
       "    <td style=\"padding: 0 1em 0 0.5em; text-align: right; border: none;\">\n",
       "        +0.484\n",
       "    </td>\n",
       "    <td style=\"padding: 0 0.5em 0 0.5em; text-align: left; border: none;\">\n",
       "        candidate_target_max_pearson\n",
       "    </td>\n",
       "    \n",
       "        <td style=\"padding: 0 0.5em 0 1em; text-align: right; border: none;\">\n",
       "            0.128\n",
       "        </td>\n",
       "    \n",
       "</tr>\n",
       "        \n",
       "        \n",
       "\n",
       "        \n",
       "        \n",
       "\n",
       "        </tbody>\n",
       "    </table>\n",
       "\n",
       "            \n",
       "        \n",
       "\n",
       "        \n",
       "\n",
       "\n",
       "\n",
       "    \n",
       "\n",
       "    \n",
       "\n",
       "    \n",
       "\n",
       "    \n",
       "\n",
       "\n",
       "    \n",
       "\n",
       "    \n",
       "\n",
       "    \n",
       "\n",
       "    \n",
       "\n",
       "    \n",
       "\n",
       "    \n",
       "\n",
       "\n",
       "    \n",
       "\n",
       "    \n",
       "\n",
       "    \n",
       "\n",
       "    \n",
       "\n",
       "    \n",
       "\n",
       "    \n",
       "\n",
       "\n",
       "\n"
      ],
      "text/plain": [
       "<IPython.core.display.HTML object>"
      ]
     },
     "execution_count": 25,
     "metadata": {},
     "output_type": "execute_result"
    }
   ],
   "source": [
    "no_bias = lambda feature_name, feature_value: feature_name != '<BIAS>'\n",
    "eli5.show_prediction(rf, false_negative.iloc[0][CANDIDATE_PEARSON], \n",
    "                     feature_names=CANDIDATE_PEARSON, \n",
    "                     show_feature_values=True, feature_filter=no_bias)"
   ]
  },
  {
   "cell_type": "code",
   "execution_count": 26,
   "metadata": {},
   "outputs": [
    {
     "data": {
      "text/html": [
       "\n",
       "    <style>\n",
       "    table.eli5-weights tr:hover {\n",
       "        filter: brightness(85%);\n",
       "    }\n",
       "</style>\n",
       "\n",
       "\n",
       "\n",
       "    \n",
       "\n",
       "    \n",
       "\n",
       "    \n",
       "\n",
       "    \n",
       "\n",
       "    \n",
       "\n",
       "    \n",
       "\n",
       "\n",
       "    \n",
       "\n",
       "    \n",
       "\n",
       "    \n",
       "\n",
       "    \n",
       "        \n",
       "\n",
       "    \n",
       "\n",
       "        \n",
       "            \n",
       "                \n",
       "                \n",
       "    \n",
       "        <p style=\"margin-bottom: 0.5em; margin-top: 0em\">\n",
       "            <b>\n",
       "    \n",
       "        y=loss\n",
       "    \n",
       "</b>\n",
       "\n",
       "    \n",
       "    (probability <b>1.000</b>)\n",
       "\n",
       "top features\n",
       "        </p>\n",
       "    \n",
       "    <table class=\"eli5-weights\"\n",
       "           style=\"border-collapse: collapse; border: none; margin-top: 0em; table-layout: auto; margin-bottom: 2em;\">\n",
       "        <thead>\n",
       "        <tr style=\"border: none;\">\n",
       "            \n",
       "                <th style=\"padding: 0 1em 0 0.5em; text-align: right; border: none;\" title=\"Feature contribution already accounts for the feature value (for linear models, contribution = weight * feature value), and the sum of feature contributions is equal to the score or, for some classifiers, to the probability. Feature values are shown if &quot;show_feature_values&quot; is True.\">\n",
       "                    Contribution<sup>?</sup>\n",
       "                </th>\n",
       "            \n",
       "            <th style=\"padding: 0 0.5em 0 0.5em; text-align: left; border: none;\">Feature</th>\n",
       "            \n",
       "                <th style=\"padding: 0 0.5em 0 1em; text-align: right; border: none;\">Value</th>\n",
       "            \n",
       "        </tr>\n",
       "        </thead>\n",
       "        <tbody>\n",
       "        \n",
       "            <tr style=\"background-color: hsl(120, 100.00%, 80.00%); border: none;\">\n",
       "    <td style=\"padding: 0 1em 0 0.5em; text-align: right; border: none;\">\n",
       "        +0.484\n",
       "    </td>\n",
       "    <td style=\"padding: 0 0.5em 0 0.5em; text-align: left; border: none;\">\n",
       "        candidate_target_max_pearson\n",
       "    </td>\n",
       "    \n",
       "        <td style=\"padding: 0 0.5em 0 1em; text-align: right; border: none;\">\n",
       "            0.065\n",
       "        </td>\n",
       "    \n",
       "</tr>\n",
       "        \n",
       "        \n",
       "\n",
       "        \n",
       "        \n",
       "\n",
       "        </tbody>\n",
       "    </table>\n",
       "\n",
       "            \n",
       "        \n",
       "\n",
       "        \n",
       "\n",
       "\n",
       "\n",
       "    \n",
       "\n",
       "    \n",
       "\n",
       "    \n",
       "\n",
       "    \n",
       "\n",
       "\n",
       "    \n",
       "\n",
       "    \n",
       "\n",
       "    \n",
       "\n",
       "    \n",
       "\n",
       "    \n",
       "\n",
       "    \n",
       "\n",
       "\n",
       "    \n",
       "\n",
       "    \n",
       "\n",
       "    \n",
       "\n",
       "    \n",
       "\n",
       "    \n",
       "\n",
       "    \n",
       "\n",
       "\n",
       "\n"
      ],
      "text/plain": [
       "<IPython.core.display.HTML object>"
      ]
     },
     "execution_count": 26,
     "metadata": {},
     "output_type": "execute_result"
    }
   ],
   "source": [
    "no_bias = lambda feature_name, feature_value: feature_name != '<BIAS>'\n",
    "eli5.show_prediction(rf, false_negative.iloc[1][CANDIDATE_PEARSON], \n",
    "                     feature_names=CANDIDATE_PEARSON, \n",
    "                     show_feature_values=True, feature_filter=no_bias)"
   ]
  },
  {
   "cell_type": "code",
   "execution_count": 27,
   "metadata": {},
   "outputs": [
    {
     "data": {
      "text/html": [
       "\n",
       "    <style>\n",
       "    table.eli5-weights tr:hover {\n",
       "        filter: brightness(85%);\n",
       "    }\n",
       "</style>\n",
       "\n",
       "\n",
       "\n",
       "    \n",
       "\n",
       "    \n",
       "\n",
       "    \n",
       "\n",
       "    \n",
       "\n",
       "    \n",
       "\n",
       "    \n",
       "\n",
       "\n",
       "    \n",
       "\n",
       "    \n",
       "\n",
       "    \n",
       "\n",
       "    \n",
       "        \n",
       "\n",
       "    \n",
       "\n",
       "        \n",
       "            \n",
       "                \n",
       "                \n",
       "    \n",
       "        <p style=\"margin-bottom: 0.5em; margin-top: 0em\">\n",
       "            <b>\n",
       "    \n",
       "        y=loss\n",
       "    \n",
       "</b>\n",
       "\n",
       "    \n",
       "    (probability <b>0.627</b>)\n",
       "\n",
       "top features\n",
       "        </p>\n",
       "    \n",
       "    <table class=\"eli5-weights\"\n",
       "           style=\"border-collapse: collapse; border: none; margin-top: 0em; table-layout: auto; margin-bottom: 2em;\">\n",
       "        <thead>\n",
       "        <tr style=\"border: none;\">\n",
       "            \n",
       "                <th style=\"padding: 0 1em 0 0.5em; text-align: right; border: none;\" title=\"Feature contribution already accounts for the feature value (for linear models, contribution = weight * feature value), and the sum of feature contributions is equal to the score or, for some classifiers, to the probability. Feature values are shown if &quot;show_feature_values&quot; is True.\">\n",
       "                    Contribution<sup>?</sup>\n",
       "                </th>\n",
       "            \n",
       "            <th style=\"padding: 0 0.5em 0 0.5em; text-align: left; border: none;\">Feature</th>\n",
       "            \n",
       "                <th style=\"padding: 0 0.5em 0 1em; text-align: right; border: none;\">Value</th>\n",
       "            \n",
       "        </tr>\n",
       "        </thead>\n",
       "        <tbody>\n",
       "        \n",
       "            <tr style=\"background-color: hsl(120, 100.00%, 80.00%); border: none;\">\n",
       "    <td style=\"padding: 0 1em 0 0.5em; text-align: right; border: none;\">\n",
       "        +0.111\n",
       "    </td>\n",
       "    <td style=\"padding: 0 0.5em 0 0.5em; text-align: left; border: none;\">\n",
       "        candidate_target_max_pearson\n",
       "    </td>\n",
       "    \n",
       "        <td style=\"padding: 0 0.5em 0 1em; text-align: right; border: none;\">\n",
       "            0.056\n",
       "        </td>\n",
       "    \n",
       "</tr>\n",
       "        \n",
       "        \n",
       "\n",
       "        \n",
       "        \n",
       "\n",
       "        </tbody>\n",
       "    </table>\n",
       "\n",
       "            \n",
       "        \n",
       "\n",
       "        \n",
       "\n",
       "\n",
       "\n",
       "    \n",
       "\n",
       "    \n",
       "\n",
       "    \n",
       "\n",
       "    \n",
       "\n",
       "\n",
       "    \n",
       "\n",
       "    \n",
       "\n",
       "    \n",
       "\n",
       "    \n",
       "\n",
       "    \n",
       "\n",
       "    \n",
       "\n",
       "\n",
       "    \n",
       "\n",
       "    \n",
       "\n",
       "    \n",
       "\n",
       "    \n",
       "\n",
       "    \n",
       "\n",
       "    \n",
       "\n",
       "\n",
       "\n"
      ],
      "text/plain": [
       "<IPython.core.display.HTML object>"
      ]
     },
     "execution_count": 27,
     "metadata": {},
     "output_type": "execute_result"
    }
   ],
   "source": [
    "no_bias = lambda feature_name, feature_value: feature_name != '<BIAS>'\n",
    "eli5.show_prediction(rf, false_negative.iloc[2][CANDIDATE_PEARSON], \n",
    "                     feature_names=CANDIDATE_PEARSON, \n",
    "                     show_feature_values=True, feature_filter=no_bias)"
   ]
  },
  {
   "cell_type": "code",
   "execution_count": 28,
   "metadata": {},
   "outputs": [
    {
     "data": {
      "text/html": [
       "\n",
       "    <style>\n",
       "    table.eli5-weights tr:hover {\n",
       "        filter: brightness(85%);\n",
       "    }\n",
       "</style>\n",
       "\n",
       "\n",
       "\n",
       "    \n",
       "\n",
       "    \n",
       "\n",
       "    \n",
       "\n",
       "    \n",
       "\n",
       "    \n",
       "\n",
       "    \n",
       "\n",
       "\n",
       "    \n",
       "\n",
       "    \n",
       "\n",
       "    \n",
       "\n",
       "    \n",
       "        \n",
       "\n",
       "    \n",
       "\n",
       "        \n",
       "            \n",
       "                \n",
       "                \n",
       "    \n",
       "        <p style=\"margin-bottom: 0.5em; margin-top: 0em\">\n",
       "            <b>\n",
       "    \n",
       "        y=loss\n",
       "    \n",
       "</b>\n",
       "\n",
       "    \n",
       "    (probability <b>0.623</b>)\n",
       "\n",
       "top features\n",
       "        </p>\n",
       "    \n",
       "    <table class=\"eli5-weights\"\n",
       "           style=\"border-collapse: collapse; border: none; margin-top: 0em; table-layout: auto; margin-bottom: 2em;\">\n",
       "        <thead>\n",
       "        <tr style=\"border: none;\">\n",
       "            \n",
       "                <th style=\"padding: 0 1em 0 0.5em; text-align: right; border: none;\" title=\"Feature contribution already accounts for the feature value (for linear models, contribution = weight * feature value), and the sum of feature contributions is equal to the score or, for some classifiers, to the probability. Feature values are shown if &quot;show_feature_values&quot; is True.\">\n",
       "                    Contribution<sup>?</sup>\n",
       "                </th>\n",
       "            \n",
       "            <th style=\"padding: 0 0.5em 0 0.5em; text-align: left; border: none;\">Feature</th>\n",
       "            \n",
       "                <th style=\"padding: 0 0.5em 0 1em; text-align: right; border: none;\">Value</th>\n",
       "            \n",
       "        </tr>\n",
       "        </thead>\n",
       "        <tbody>\n",
       "        \n",
       "            <tr style=\"background-color: hsl(120, 100.00%, 80.00%); border: none;\">\n",
       "    <td style=\"padding: 0 1em 0 0.5em; text-align: right; border: none;\">\n",
       "        +0.107\n",
       "    </td>\n",
       "    <td style=\"padding: 0 0.5em 0 0.5em; text-align: left; border: none;\">\n",
       "        candidate_target_max_pearson\n",
       "    </td>\n",
       "    \n",
       "        <td style=\"padding: 0 0.5em 0 1em; text-align: right; border: none;\">\n",
       "            0.005\n",
       "        </td>\n",
       "    \n",
       "</tr>\n",
       "        \n",
       "        \n",
       "\n",
       "        \n",
       "        \n",
       "\n",
       "        </tbody>\n",
       "    </table>\n",
       "\n",
       "            \n",
       "        \n",
       "\n",
       "        \n",
       "\n",
       "\n",
       "\n",
       "    \n",
       "\n",
       "    \n",
       "\n",
       "    \n",
       "\n",
       "    \n",
       "\n",
       "\n",
       "    \n",
       "\n",
       "    \n",
       "\n",
       "    \n",
       "\n",
       "    \n",
       "\n",
       "    \n",
       "\n",
       "    \n",
       "\n",
       "\n",
       "    \n",
       "\n",
       "    \n",
       "\n",
       "    \n",
       "\n",
       "    \n",
       "\n",
       "    \n",
       "\n",
       "    \n",
       "\n",
       "\n",
       "\n"
      ],
      "text/plain": [
       "<IPython.core.display.HTML object>"
      ]
     },
     "execution_count": 28,
     "metadata": {},
     "output_type": "execute_result"
    }
   ],
   "source": [
    "no_bias = lambda feature_name, feature_value: feature_name != '<BIAS>'\n",
    "eli5.show_prediction(rf, false_negative.iloc[3][CANDIDATE_PEARSON], \n",
    "                     feature_names=CANDIDATE_PEARSON, \n",
    "                     show_feature_values=True, feature_filter=no_bias)"
   ]
  },
  {
   "cell_type": "code",
   "execution_count": 29,
   "metadata": {},
   "outputs": [
    {
     "data": {
      "text/html": [
       "\n",
       "    <style>\n",
       "    table.eli5-weights tr:hover {\n",
       "        filter: brightness(85%);\n",
       "    }\n",
       "</style>\n",
       "\n",
       "\n",
       "\n",
       "    \n",
       "\n",
       "    \n",
       "\n",
       "    \n",
       "\n",
       "    \n",
       "\n",
       "    \n",
       "\n",
       "    \n",
       "\n",
       "\n",
       "    \n",
       "\n",
       "    \n",
       "\n",
       "    \n",
       "\n",
       "    \n",
       "        \n",
       "\n",
       "    \n",
       "\n",
       "        \n",
       "            \n",
       "                \n",
       "                \n",
       "    \n",
       "        <p style=\"margin-bottom: 0.5em; margin-top: 0em\">\n",
       "            <b>\n",
       "    \n",
       "        y=loss\n",
       "    \n",
       "</b>\n",
       "\n",
       "    \n",
       "    (probability <b>0.990</b>)\n",
       "\n",
       "top features\n",
       "        </p>\n",
       "    \n",
       "    <table class=\"eli5-weights\"\n",
       "           style=\"border-collapse: collapse; border: none; margin-top: 0em; table-layout: auto; margin-bottom: 2em;\">\n",
       "        <thead>\n",
       "        <tr style=\"border: none;\">\n",
       "            \n",
       "                <th style=\"padding: 0 1em 0 0.5em; text-align: right; border: none;\" title=\"Feature contribution already accounts for the feature value (for linear models, contribution = weight * feature value), and the sum of feature contributions is equal to the score or, for some classifiers, to the probability. Feature values are shown if &quot;show_feature_values&quot; is True.\">\n",
       "                    Contribution<sup>?</sup>\n",
       "                </th>\n",
       "            \n",
       "            <th style=\"padding: 0 0.5em 0 0.5em; text-align: left; border: none;\">Feature</th>\n",
       "            \n",
       "                <th style=\"padding: 0 0.5em 0 1em; text-align: right; border: none;\">Value</th>\n",
       "            \n",
       "        </tr>\n",
       "        </thead>\n",
       "        <tbody>\n",
       "        \n",
       "            <tr style=\"background-color: hsl(120, 100.00%, 80.00%); border: none;\">\n",
       "    <td style=\"padding: 0 1em 0 0.5em; text-align: right; border: none;\">\n",
       "        +0.474\n",
       "    </td>\n",
       "    <td style=\"padding: 0 0.5em 0 0.5em; text-align: left; border: none;\">\n",
       "        candidate_target_max_pearson\n",
       "    </td>\n",
       "    \n",
       "        <td style=\"padding: 0 0.5em 0 1em; text-align: right; border: none;\">\n",
       "            0.086\n",
       "        </td>\n",
       "    \n",
       "</tr>\n",
       "        \n",
       "        \n",
       "\n",
       "        \n",
       "        \n",
       "\n",
       "        </tbody>\n",
       "    </table>\n",
       "\n",
       "            \n",
       "        \n",
       "\n",
       "        \n",
       "\n",
       "\n",
       "\n",
       "    \n",
       "\n",
       "    \n",
       "\n",
       "    \n",
       "\n",
       "    \n",
       "\n",
       "\n",
       "    \n",
       "\n",
       "    \n",
       "\n",
       "    \n",
       "\n",
       "    \n",
       "\n",
       "    \n",
       "\n",
       "    \n",
       "\n",
       "\n",
       "    \n",
       "\n",
       "    \n",
       "\n",
       "    \n",
       "\n",
       "    \n",
       "\n",
       "    \n",
       "\n",
       "    \n",
       "\n",
       "\n",
       "\n"
      ],
      "text/plain": [
       "<IPython.core.display.HTML object>"
      ]
     },
     "execution_count": 29,
     "metadata": {},
     "output_type": "execute_result"
    }
   ],
   "source": [
    "no_bias = lambda feature_name, feature_value: feature_name != '<BIAS>'\n",
    "eli5.show_prediction(rf, false_negative.iloc[4][CANDIDATE_PEARSON], \n",
    "                     feature_names=CANDIDATE_PEARSON, \n",
    "                     show_feature_values=True, feature_filter=no_bias)"
   ]
  },
  {
   "cell_type": "code",
   "execution_count": 30,
   "metadata": {},
   "outputs": [
    {
     "data": {
      "text/html": [
       "\n",
       "    <style>\n",
       "    table.eli5-weights tr:hover {\n",
       "        filter: brightness(85%);\n",
       "    }\n",
       "</style>\n",
       "\n",
       "\n",
       "\n",
       "    \n",
       "\n",
       "    \n",
       "\n",
       "    \n",
       "\n",
       "    \n",
       "\n",
       "    \n",
       "\n",
       "    \n",
       "\n",
       "\n",
       "    \n",
       "\n",
       "    \n",
       "\n",
       "    \n",
       "\n",
       "    \n",
       "        \n",
       "\n",
       "    \n",
       "\n",
       "        \n",
       "            \n",
       "                \n",
       "                \n",
       "    \n",
       "        <p style=\"margin-bottom: 0.5em; margin-top: 0em\">\n",
       "            <b>\n",
       "    \n",
       "        y=loss\n",
       "    \n",
       "</b>\n",
       "\n",
       "    \n",
       "    (probability <b>1.000</b>)\n",
       "\n",
       "top features\n",
       "        </p>\n",
       "    \n",
       "    <table class=\"eli5-weights\"\n",
       "           style=\"border-collapse: collapse; border: none; margin-top: 0em; table-layout: auto; margin-bottom: 2em;\">\n",
       "        <thead>\n",
       "        <tr style=\"border: none;\">\n",
       "            \n",
       "                <th style=\"padding: 0 1em 0 0.5em; text-align: right; border: none;\" title=\"Feature contribution already accounts for the feature value (for linear models, contribution = weight * feature value), and the sum of feature contributions is equal to the score or, for some classifiers, to the probability. Feature values are shown if &quot;show_feature_values&quot; is True.\">\n",
       "                    Contribution<sup>?</sup>\n",
       "                </th>\n",
       "            \n",
       "            <th style=\"padding: 0 0.5em 0 0.5em; text-align: left; border: none;\">Feature</th>\n",
       "            \n",
       "                <th style=\"padding: 0 0.5em 0 1em; text-align: right; border: none;\">Value</th>\n",
       "            \n",
       "        </tr>\n",
       "        </thead>\n",
       "        <tbody>\n",
       "        \n",
       "            <tr style=\"background-color: hsl(120, 100.00%, 80.00%); border: none;\">\n",
       "    <td style=\"padding: 0 1em 0 0.5em; text-align: right; border: none;\">\n",
       "        +0.484\n",
       "    </td>\n",
       "    <td style=\"padding: 0 0.5em 0 0.5em; text-align: left; border: none;\">\n",
       "        candidate_target_max_pearson\n",
       "    </td>\n",
       "    \n",
       "        <td style=\"padding: 0 0.5em 0 1em; text-align: right; border: none;\">\n",
       "            0.121\n",
       "        </td>\n",
       "    \n",
       "</tr>\n",
       "        \n",
       "        \n",
       "\n",
       "        \n",
       "        \n",
       "\n",
       "        </tbody>\n",
       "    </table>\n",
       "\n",
       "            \n",
       "        \n",
       "\n",
       "        \n",
       "\n",
       "\n",
       "\n",
       "    \n",
       "\n",
       "    \n",
       "\n",
       "    \n",
       "\n",
       "    \n",
       "\n",
       "\n",
       "    \n",
       "\n",
       "    \n",
       "\n",
       "    \n",
       "\n",
       "    \n",
       "\n",
       "    \n",
       "\n",
       "    \n",
       "\n",
       "\n",
       "    \n",
       "\n",
       "    \n",
       "\n",
       "    \n",
       "\n",
       "    \n",
       "\n",
       "    \n",
       "\n",
       "    \n",
       "\n",
       "\n",
       "\n"
      ],
      "text/plain": [
       "<IPython.core.display.HTML object>"
      ]
     },
     "execution_count": 30,
     "metadata": {},
     "output_type": "execute_result"
    }
   ],
   "source": [
    "no_bias = lambda feature_name, feature_value: feature_name != '<BIAS>'\n",
    "eli5.show_prediction(rf, false_negative.iloc[5][CANDIDATE_PEARSON], \n",
    "                     feature_names=CANDIDATE_PEARSON, \n",
    "                     show_feature_values=True, feature_filter=no_bias)"
   ]
  },
  {
   "cell_type": "markdown",
   "metadata": {},
   "source": [
    "#### Here, the pearson values were too low to identify these instances as positive."
   ]
  },
  {
   "cell_type": "code",
   "execution_count": 31,
   "metadata": {},
   "outputs": [
    {
     "name": "stdout",
     "output_type": "stream",
     "text": [
      "              precision    recall  f1-score   support\n",
      "\n",
      "        gain       1.00      0.55      0.71        11\n",
      "        loss       0.00      0.00      0.00         0\n",
      "\n",
      "   micro avg       0.55      0.55      0.55        11\n",
      "   macro avg       0.50      0.27      0.35        11\n",
      "weighted avg       1.00      0.55      0.71        11\n",
      "\n"
     ]
    }
   ],
   "source": [
    "tmp_test = remove_low_containment_fraction_entries(poverty, threshold=0.5)\n",
    "preds = rf.predict(tmp_test[CANDIDATE_PEARSON])\n",
    "print(classification_report(tmp_test['class'], preds))"
   ]
  },
  {
   "cell_type": "markdown",
   "metadata": {},
   "source": [
    "#### Once again, the recall could be better. Let's see the false negatives."
   ]
  },
  {
   "cell_type": "code",
   "execution_count": 32,
   "metadata": {},
   "outputs": [
    {
     "name": "stderr",
     "output_type": "stream",
     "text": [
      "/Users/alibezz/anaconda/lib/python2.7/site-packages/ipykernel/__main__.py:1: SettingWithCopyWarning: \n",
      "A value is trying to be set on a copy of a slice from a DataFrame.\n",
      "Try using .loc[row_indexer,col_indexer] = value instead\n",
      "\n",
      "See the caveats in the documentation: http://pandas.pydata.org/pandas-docs/stable/indexing.html#indexing-view-versus-copy\n",
      "  if __name__ == '__main__':\n"
     ]
    },
    {
     "data": {
      "text/html": [
       "\n",
       "    <style>\n",
       "    table.eli5-weights tr:hover {\n",
       "        filter: brightness(85%);\n",
       "    }\n",
       "</style>\n",
       "\n",
       "\n",
       "\n",
       "    \n",
       "\n",
       "    \n",
       "\n",
       "    \n",
       "\n",
       "    \n",
       "\n",
       "    \n",
       "\n",
       "    \n",
       "\n",
       "\n",
       "    \n",
       "\n",
       "    \n",
       "\n",
       "    \n",
       "\n",
       "    \n",
       "        \n",
       "\n",
       "    \n",
       "\n",
       "        \n",
       "            \n",
       "                \n",
       "                \n",
       "    \n",
       "        <p style=\"margin-bottom: 0.5em; margin-top: 0em\">\n",
       "            <b>\n",
       "    \n",
       "        y=loss\n",
       "    \n",
       "</b>\n",
       "\n",
       "    \n",
       "    (probability <b>0.994</b>)\n",
       "\n",
       "top features\n",
       "        </p>\n",
       "    \n",
       "    <table class=\"eli5-weights\"\n",
       "           style=\"border-collapse: collapse; border: none; margin-top: 0em; table-layout: auto; margin-bottom: 2em;\">\n",
       "        <thead>\n",
       "        <tr style=\"border: none;\">\n",
       "            \n",
       "                <th style=\"padding: 0 1em 0 0.5em; text-align: right; border: none;\" title=\"Feature contribution already accounts for the feature value (for linear models, contribution = weight * feature value), and the sum of feature contributions is equal to the score or, for some classifiers, to the probability. Feature values are shown if &quot;show_feature_values&quot; is True.\">\n",
       "                    Contribution<sup>?</sup>\n",
       "                </th>\n",
       "            \n",
       "            <th style=\"padding: 0 0.5em 0 0.5em; text-align: left; border: none;\">Feature</th>\n",
       "            \n",
       "                <th style=\"padding: 0 0.5em 0 1em; text-align: right; border: none;\">Value</th>\n",
       "            \n",
       "        </tr>\n",
       "        </thead>\n",
       "        <tbody>\n",
       "        \n",
       "            <tr style=\"background-color: hsl(120, 100.00%, 80.00%); border: none;\">\n",
       "    <td style=\"padding: 0 1em 0 0.5em; text-align: right; border: none;\">\n",
       "        +0.478\n",
       "    </td>\n",
       "    <td style=\"padding: 0 0.5em 0 0.5em; text-align: left; border: none;\">\n",
       "        candidate_target_max_pearson\n",
       "    </td>\n",
       "    \n",
       "        <td style=\"padding: 0 0.5em 0 1em; text-align: right; border: none;\">\n",
       "            0.052\n",
       "        </td>\n",
       "    \n",
       "</tr>\n",
       "        \n",
       "        \n",
       "\n",
       "        \n",
       "        \n",
       "\n",
       "        </tbody>\n",
       "    </table>\n",
       "\n",
       "            \n",
       "        \n",
       "\n",
       "        \n",
       "\n",
       "\n",
       "\n",
       "    \n",
       "\n",
       "    \n",
       "\n",
       "    \n",
       "\n",
       "    \n",
       "\n",
       "\n",
       "    \n",
       "\n",
       "    \n",
       "\n",
       "    \n",
       "\n",
       "    \n",
       "\n",
       "    \n",
       "\n",
       "    \n",
       "\n",
       "\n",
       "    \n",
       "\n",
       "    \n",
       "\n",
       "    \n",
       "\n",
       "    \n",
       "\n",
       "    \n",
       "\n",
       "    \n",
       "\n",
       "\n",
       "\n"
      ],
      "text/plain": [
       "<IPython.core.display.HTML object>"
      ]
     },
     "execution_count": 32,
     "metadata": {},
     "output_type": "execute_result"
    }
   ],
   "source": [
    "tmp_test['pred'] = preds\n",
    "false_negative = tmp_test.loc[(tmp_test['class'] == 'gain') & (tmp_test['pred'] == 'loss')]\n",
    "\n",
    "false_negative.shape\n",
    "\n",
    "no_bias = lambda feature_name, feature_value: feature_name != '<BIAS>'\n",
    "eli5.show_prediction(rf, false_negative.iloc[0][CANDIDATE_PEARSON], \n",
    "                     feature_names=CANDIDATE_PEARSON, \n",
    "                     show_feature_values=True, feature_filter=no_bias)"
   ]
  },
  {
   "cell_type": "code",
   "execution_count": 33,
   "metadata": {},
   "outputs": [
    {
     "data": {
      "text/html": [
       "\n",
       "    <style>\n",
       "    table.eli5-weights tr:hover {\n",
       "        filter: brightness(85%);\n",
       "    }\n",
       "</style>\n",
       "\n",
       "\n",
       "\n",
       "    \n",
       "\n",
       "    \n",
       "\n",
       "    \n",
       "\n",
       "    \n",
       "\n",
       "    \n",
       "\n",
       "    \n",
       "\n",
       "\n",
       "    \n",
       "\n",
       "    \n",
       "\n",
       "    \n",
       "\n",
       "    \n",
       "        \n",
       "\n",
       "    \n",
       "\n",
       "        \n",
       "            \n",
       "                \n",
       "                \n",
       "    \n",
       "        <p style=\"margin-bottom: 0.5em; margin-top: 0em\">\n",
       "            <b>\n",
       "    \n",
       "        y=loss\n",
       "    \n",
       "</b>\n",
       "\n",
       "    \n",
       "    (probability <b>0.679</b>)\n",
       "\n",
       "top features\n",
       "        </p>\n",
       "    \n",
       "    <table class=\"eli5-weights\"\n",
       "           style=\"border-collapse: collapse; border: none; margin-top: 0em; table-layout: auto; margin-bottom: 2em;\">\n",
       "        <thead>\n",
       "        <tr style=\"border: none;\">\n",
       "            \n",
       "                <th style=\"padding: 0 1em 0 0.5em; text-align: right; border: none;\" title=\"Feature contribution already accounts for the feature value (for linear models, contribution = weight * feature value), and the sum of feature contributions is equal to the score or, for some classifiers, to the probability. Feature values are shown if &quot;show_feature_values&quot; is True.\">\n",
       "                    Contribution<sup>?</sup>\n",
       "                </th>\n",
       "            \n",
       "            <th style=\"padding: 0 0.5em 0 0.5em; text-align: left; border: none;\">Feature</th>\n",
       "            \n",
       "                <th style=\"padding: 0 0.5em 0 1em; text-align: right; border: none;\">Value</th>\n",
       "            \n",
       "        </tr>\n",
       "        </thead>\n",
       "        <tbody>\n",
       "        \n",
       "            <tr style=\"background-color: hsl(120, 100.00%, 80.00%); border: none;\">\n",
       "    <td style=\"padding: 0 1em 0 0.5em; text-align: right; border: none;\">\n",
       "        +0.164\n",
       "    </td>\n",
       "    <td style=\"padding: 0 0.5em 0 0.5em; text-align: left; border: none;\">\n",
       "        candidate_target_max_pearson\n",
       "    </td>\n",
       "    \n",
       "        <td style=\"padding: 0 0.5em 0 1em; text-align: right; border: none;\">\n",
       "            0.070\n",
       "        </td>\n",
       "    \n",
       "</tr>\n",
       "        \n",
       "        \n",
       "\n",
       "        \n",
       "        \n",
       "\n",
       "        </tbody>\n",
       "    </table>\n",
       "\n",
       "            \n",
       "        \n",
       "\n",
       "        \n",
       "\n",
       "\n",
       "\n",
       "    \n",
       "\n",
       "    \n",
       "\n",
       "    \n",
       "\n",
       "    \n",
       "\n",
       "\n",
       "    \n",
       "\n",
       "    \n",
       "\n",
       "    \n",
       "\n",
       "    \n",
       "\n",
       "    \n",
       "\n",
       "    \n",
       "\n",
       "\n",
       "    \n",
       "\n",
       "    \n",
       "\n",
       "    \n",
       "\n",
       "    \n",
       "\n",
       "    \n",
       "\n",
       "    \n",
       "\n",
       "\n",
       "\n"
      ],
      "text/plain": [
       "<IPython.core.display.HTML object>"
      ]
     },
     "execution_count": 33,
     "metadata": {},
     "output_type": "execute_result"
    }
   ],
   "source": [
    "eli5.show_prediction(rf, false_negative.iloc[1][CANDIDATE_PEARSON], \n",
    "                     feature_names=CANDIDATE_PEARSON, \n",
    "                     show_feature_values=True, feature_filter=no_bias)"
   ]
  },
  {
   "cell_type": "code",
   "execution_count": 34,
   "metadata": {},
   "outputs": [
    {
     "data": {
      "text/html": [
       "\n",
       "    <style>\n",
       "    table.eli5-weights tr:hover {\n",
       "        filter: brightness(85%);\n",
       "    }\n",
       "</style>\n",
       "\n",
       "\n",
       "\n",
       "    \n",
       "\n",
       "    \n",
       "\n",
       "    \n",
       "\n",
       "    \n",
       "\n",
       "    \n",
       "\n",
       "    \n",
       "\n",
       "\n",
       "    \n",
       "\n",
       "    \n",
       "\n",
       "    \n",
       "\n",
       "    \n",
       "        \n",
       "\n",
       "    \n",
       "\n",
       "        \n",
       "            \n",
       "                \n",
       "                \n",
       "    \n",
       "        <p style=\"margin-bottom: 0.5em; margin-top: 0em\">\n",
       "            <b>\n",
       "    \n",
       "        y=loss\n",
       "    \n",
       "</b>\n",
       "\n",
       "    \n",
       "    (probability <b>1.000</b>)\n",
       "\n",
       "top features\n",
       "        </p>\n",
       "    \n",
       "    <table class=\"eli5-weights\"\n",
       "           style=\"border-collapse: collapse; border: none; margin-top: 0em; table-layout: auto; margin-bottom: 2em;\">\n",
       "        <thead>\n",
       "        <tr style=\"border: none;\">\n",
       "            \n",
       "                <th style=\"padding: 0 1em 0 0.5em; text-align: right; border: none;\" title=\"Feature contribution already accounts for the feature value (for linear models, contribution = weight * feature value), and the sum of feature contributions is equal to the score or, for some classifiers, to the probability. Feature values are shown if &quot;show_feature_values&quot; is True.\">\n",
       "                    Contribution<sup>?</sup>\n",
       "                </th>\n",
       "            \n",
       "            <th style=\"padding: 0 0.5em 0 0.5em; text-align: left; border: none;\">Feature</th>\n",
       "            \n",
       "                <th style=\"padding: 0 0.5em 0 1em; text-align: right; border: none;\">Value</th>\n",
       "            \n",
       "        </tr>\n",
       "        </thead>\n",
       "        <tbody>\n",
       "        \n",
       "            <tr style=\"background-color: hsl(120, 100.00%, 80.00%); border: none;\">\n",
       "    <td style=\"padding: 0 1em 0 0.5em; text-align: right; border: none;\">\n",
       "        +0.484\n",
       "    </td>\n",
       "    <td style=\"padding: 0 0.5em 0 0.5em; text-align: left; border: none;\">\n",
       "        candidate_target_max_pearson\n",
       "    </td>\n",
       "    \n",
       "        <td style=\"padding: 0 0.5em 0 1em; text-align: right; border: none;\">\n",
       "            0.067\n",
       "        </td>\n",
       "    \n",
       "</tr>\n",
       "        \n",
       "        \n",
       "\n",
       "        \n",
       "        \n",
       "\n",
       "        </tbody>\n",
       "    </table>\n",
       "\n",
       "            \n",
       "        \n",
       "\n",
       "        \n",
       "\n",
       "\n",
       "\n",
       "    \n",
       "\n",
       "    \n",
       "\n",
       "    \n",
       "\n",
       "    \n",
       "\n",
       "\n",
       "    \n",
       "\n",
       "    \n",
       "\n",
       "    \n",
       "\n",
       "    \n",
       "\n",
       "    \n",
       "\n",
       "    \n",
       "\n",
       "\n",
       "    \n",
       "\n",
       "    \n",
       "\n",
       "    \n",
       "\n",
       "    \n",
       "\n",
       "    \n",
       "\n",
       "    \n",
       "\n",
       "\n",
       "\n"
      ],
      "text/plain": [
       "<IPython.core.display.HTML object>"
      ]
     },
     "execution_count": 34,
     "metadata": {},
     "output_type": "execute_result"
    }
   ],
   "source": [
    "eli5.show_prediction(rf, false_negative.iloc[2][CANDIDATE_PEARSON], \n",
    "                     feature_names=CANDIDATE_PEARSON, \n",
    "                     show_feature_values=True, feature_filter=no_bias)"
   ]
  },
  {
   "cell_type": "code",
   "execution_count": 35,
   "metadata": {},
   "outputs": [
    {
     "data": {
      "text/html": [
       "\n",
       "    <style>\n",
       "    table.eli5-weights tr:hover {\n",
       "        filter: brightness(85%);\n",
       "    }\n",
       "</style>\n",
       "\n",
       "\n",
       "\n",
       "    \n",
       "\n",
       "    \n",
       "\n",
       "    \n",
       "\n",
       "    \n",
       "\n",
       "    \n",
       "\n",
       "    \n",
       "\n",
       "\n",
       "    \n",
       "\n",
       "    \n",
       "\n",
       "    \n",
       "\n",
       "    \n",
       "        \n",
       "\n",
       "    \n",
       "\n",
       "        \n",
       "            \n",
       "                \n",
       "                \n",
       "    \n",
       "        <p style=\"margin-bottom: 0.5em; margin-top: 0em\">\n",
       "            <b>\n",
       "    \n",
       "        y=loss\n",
       "    \n",
       "</b>\n",
       "\n",
       "    \n",
       "    (probability <b>1.000</b>)\n",
       "\n",
       "top features\n",
       "        </p>\n",
       "    \n",
       "    <table class=\"eli5-weights\"\n",
       "           style=\"border-collapse: collapse; border: none; margin-top: 0em; table-layout: auto; margin-bottom: 2em;\">\n",
       "        <thead>\n",
       "        <tr style=\"border: none;\">\n",
       "            \n",
       "                <th style=\"padding: 0 1em 0 0.5em; text-align: right; border: none;\" title=\"Feature contribution already accounts for the feature value (for linear models, contribution = weight * feature value), and the sum of feature contributions is equal to the score or, for some classifiers, to the probability. Feature values are shown if &quot;show_feature_values&quot; is True.\">\n",
       "                    Contribution<sup>?</sup>\n",
       "                </th>\n",
       "            \n",
       "            <th style=\"padding: 0 0.5em 0 0.5em; text-align: left; border: none;\">Feature</th>\n",
       "            \n",
       "                <th style=\"padding: 0 0.5em 0 1em; text-align: right; border: none;\">Value</th>\n",
       "            \n",
       "        </tr>\n",
       "        </thead>\n",
       "        <tbody>\n",
       "        \n",
       "            <tr style=\"background-color: hsl(120, 100.00%, 80.00%); border: none;\">\n",
       "    <td style=\"padding: 0 1em 0 0.5em; text-align: right; border: none;\">\n",
       "        +0.484\n",
       "    </td>\n",
       "    <td style=\"padding: 0 0.5em 0 0.5em; text-align: left; border: none;\">\n",
       "        candidate_target_max_pearson\n",
       "    </td>\n",
       "    \n",
       "        <td style=\"padding: 0 0.5em 0 1em; text-align: right; border: none;\">\n",
       "            0.021\n",
       "        </td>\n",
       "    \n",
       "</tr>\n",
       "        \n",
       "        \n",
       "\n",
       "        \n",
       "        \n",
       "\n",
       "        </tbody>\n",
       "    </table>\n",
       "\n",
       "            \n",
       "        \n",
       "\n",
       "        \n",
       "\n",
       "\n",
       "\n",
       "    \n",
       "\n",
       "    \n",
       "\n",
       "    \n",
       "\n",
       "    \n",
       "\n",
       "\n",
       "    \n",
       "\n",
       "    \n",
       "\n",
       "    \n",
       "\n",
       "    \n",
       "\n",
       "    \n",
       "\n",
       "    \n",
       "\n",
       "\n",
       "    \n",
       "\n",
       "    \n",
       "\n",
       "    \n",
       "\n",
       "    \n",
       "\n",
       "    \n",
       "\n",
       "    \n",
       "\n",
       "\n",
       "\n"
      ],
      "text/plain": [
       "<IPython.core.display.HTML object>"
      ]
     },
     "execution_count": 35,
     "metadata": {},
     "output_type": "execute_result"
    }
   ],
   "source": [
    "eli5.show_prediction(rf, false_negative.iloc[3][CANDIDATE_PEARSON], \n",
    "                     feature_names=CANDIDATE_PEARSON, \n",
    "                     show_feature_values=True, feature_filter=no_bias)"
   ]
  },
  {
   "cell_type": "code",
   "execution_count": 36,
   "metadata": {},
   "outputs": [
    {
     "data": {
      "text/html": [
       "\n",
       "    <style>\n",
       "    table.eli5-weights tr:hover {\n",
       "        filter: brightness(85%);\n",
       "    }\n",
       "</style>\n",
       "\n",
       "\n",
       "\n",
       "    \n",
       "\n",
       "    \n",
       "\n",
       "    \n",
       "\n",
       "    \n",
       "\n",
       "    \n",
       "\n",
       "    \n",
       "\n",
       "\n",
       "    \n",
       "\n",
       "    \n",
       "\n",
       "    \n",
       "\n",
       "    \n",
       "        \n",
       "\n",
       "    \n",
       "\n",
       "        \n",
       "            \n",
       "                \n",
       "                \n",
       "    \n",
       "        <p style=\"margin-bottom: 0.5em; margin-top: 0em\">\n",
       "            <b>\n",
       "    \n",
       "        y=loss\n",
       "    \n",
       "</b>\n",
       "\n",
       "    \n",
       "    (probability <b>0.507</b>)\n",
       "\n",
       "top features\n",
       "        </p>\n",
       "    \n",
       "    <table class=\"eli5-weights\"\n",
       "           style=\"border-collapse: collapse; border: none; margin-top: 0em; table-layout: auto; margin-bottom: 2em;\">\n",
       "        <thead>\n",
       "        <tr style=\"border: none;\">\n",
       "            \n",
       "                <th style=\"padding: 0 1em 0 0.5em; text-align: right; border: none;\" title=\"Feature contribution already accounts for the feature value (for linear models, contribution = weight * feature value), and the sum of feature contributions is equal to the score or, for some classifiers, to the probability. Feature values are shown if &quot;show_feature_values&quot; is True.\">\n",
       "                    Contribution<sup>?</sup>\n",
       "                </th>\n",
       "            \n",
       "            <th style=\"padding: 0 0.5em 0 0.5em; text-align: left; border: none;\">Feature</th>\n",
       "            \n",
       "                <th style=\"padding: 0 0.5em 0 1em; text-align: right; border: none;\">Value</th>\n",
       "            \n",
       "        </tr>\n",
       "        </thead>\n",
       "        <tbody>\n",
       "        \n",
       "        \n",
       "\n",
       "        \n",
       "        \n",
       "            <tr style=\"background-color: hsl(0, 100.00%, 80.00%); border: none;\">\n",
       "    <td style=\"padding: 0 1em 0 0.5em; text-align: right; border: none;\">\n",
       "        -0.009\n",
       "    </td>\n",
       "    <td style=\"padding: 0 0.5em 0 0.5em; text-align: left; border: none;\">\n",
       "        candidate_target_max_pearson\n",
       "    </td>\n",
       "    \n",
       "        <td style=\"padding: 0 0.5em 0 1em; text-align: right; border: none;\">\n",
       "            0.055\n",
       "        </td>\n",
       "    \n",
       "</tr>\n",
       "        \n",
       "\n",
       "        </tbody>\n",
       "    </table>\n",
       "\n",
       "            \n",
       "        \n",
       "\n",
       "        \n",
       "\n",
       "\n",
       "\n",
       "    \n",
       "\n",
       "    \n",
       "\n",
       "    \n",
       "\n",
       "    \n",
       "\n",
       "\n",
       "    \n",
       "\n",
       "    \n",
       "\n",
       "    \n",
       "\n",
       "    \n",
       "\n",
       "    \n",
       "\n",
       "    \n",
       "\n",
       "\n",
       "    \n",
       "\n",
       "    \n",
       "\n",
       "    \n",
       "\n",
       "    \n",
       "\n",
       "    \n",
       "\n",
       "    \n",
       "\n",
       "\n",
       "\n"
      ],
      "text/plain": [
       "<IPython.core.display.HTML object>"
      ]
     },
     "execution_count": 36,
     "metadata": {},
     "output_type": "execute_result"
    }
   ],
   "source": [
    "eli5.show_prediction(rf, false_negative.iloc[4][CANDIDATE_PEARSON], \n",
    "                     feature_names=CANDIDATE_PEARSON, \n",
    "                     show_feature_values=True, feature_filter=no_bias)"
   ]
  },
  {
   "cell_type": "code",
   "execution_count": 39,
   "metadata": {},
   "outputs": [
    {
     "name": "stdout",
     "output_type": "stream",
     "text": [
      "              precision    recall  f1-score   support\n",
      "\n",
      "        gain       0.89      0.63      0.74        92\n",
      "        loss       0.35      0.72      0.47        25\n",
      "\n",
      "   micro avg       0.65      0.65      0.65       117\n",
      "   macro avg       0.62      0.68      0.60       117\n",
      "weighted avg       0.78      0.65      0.68       117\n",
      "\n"
     ]
    }
   ],
   "source": [
    "tmp_test = remove_low_containment_fraction_entries(college, threshold=0.5)\n",
    "preds = rf.predict(tmp_test[CANDIDATE_PEARSON])\n",
    "print(classification_report(tmp_test['class'], preds))"
   ]
  },
  {
   "cell_type": "markdown",
   "metadata": {},
   "source": [
    "#### In the case of college, there are false positives and false negatives. They're also linked to irregularities in Pearson values. "
   ]
  },
  {
   "cell_type": "code",
   "execution_count": 42,
   "metadata": {},
   "outputs": [
    {
     "name": "stdout",
     "output_type": "stream",
     "text": [
      "              precision    recall  f1-score   support\n",
      "\n",
      "        gain       0.67      0.62      0.65      2050\n",
      "        loss       0.49      0.55      0.52      1371\n",
      "\n",
      "   micro avg       0.59      0.59      0.59      3421\n",
      "   macro avg       0.58      0.59      0.58      3421\n",
      "weighted avg       0.60      0.59      0.60      3421\n",
      "\n"
     ]
    }
   ],
   "source": [
    "tmp_test = remove_low_containment_fraction_entries(openml_test, threshold=0.5)\n",
    "preds = rf.predict(tmp_test[CANDIDATE_PEARSON])\n",
    "print(classification_report(tmp_test['class'], preds))"
   ]
  },
  {
   "cell_type": "markdown",
   "metadata": {},
   "source": [
    "#### Same for openml_test. Let's add more features and see if the results improve, taking care of normalizing some of them first (the ones that do not have a fixed range)."
   ]
  },
  {
   "cell_type": "code",
   "execution_count": 57,
   "metadata": {
    "collapsed": true
   },
   "outputs": [],
   "source": [
    "from sklearn.preprocessing import StandardScaler\n",
    "def normalize_feature(feature):\n",
    "    standard_scaler = StandardScaler()\n",
    "    norm = standard_scaler.fit_transform(np.array(feature).reshape(-1, 1))\n",
    "    return list(norm.flatten())"
   ]
  },
  {
   "cell_type": "code",
   "execution_count": 62,
   "metadata": {},
   "outputs": [
    {
     "name": "stderr",
     "output_type": "stream",
     "text": [
      "/Users/alibezz/anaconda/lib/python2.7/site-packages/ipykernel/__main__.py:1: SettingWithCopyWarning: \n",
      "A value is trying to be set on a copy of a slice from a DataFrame.\n",
      "Try using .loc[row_indexer,col_indexer] = value instead\n",
      "\n",
      "See the caveats in the documentation: http://pandas.pydata.org/pandas-docs/stable/indexing.html#indexing-view-versus-copy\n",
      "  if __name__ == '__main__':\n",
      "/Users/alibezz/anaconda/lib/python2.7/site-packages/ipykernel/__main__.py:2: SettingWithCopyWarning: \n",
      "A value is trying to be set on a copy of a slice from a DataFrame.\n",
      "Try using .loc[row_indexer,col_indexer] = value instead\n",
      "\n",
      "See the caveats in the documentation: http://pandas.pydata.org/pandas-docs/stable/indexing.html#indexing-view-versus-copy\n",
      "  from ipykernel import kernelapp as app\n",
      "/Users/alibezz/anaconda/lib/python2.7/site-packages/ipykernel/__main__.py:3: SettingWithCopyWarning: \n",
      "A value is trying to be set on a copy of a slice from a DataFrame.\n",
      "Try using .loc[row_indexer,col_indexer] = value instead\n",
      "\n",
      "See the caveats in the documentation: http://pandas.pydata.org/pandas-docs/stable/indexing.html#indexing-view-versus-copy\n",
      "  app.launch_new_instance()\n",
      "/Users/alibezz/anaconda/lib/python2.7/site-packages/ipykernel/__main__.py:4: SettingWithCopyWarning: \n",
      "A value is trying to be set on a copy of a slice from a DataFrame.\n",
      "Try using .loc[row_indexer,col_indexer] = value instead\n",
      "\n",
      "See the caveats in the documentation: http://pandas.pydata.org/pandas-docs/stable/indexing.html#indexing-view-versus-copy\n",
      "/Users/alibezz/anaconda/lib/python2.7/site-packages/ipykernel/__main__.py:5: SettingWithCopyWarning: \n",
      "A value is trying to be set on a copy of a slice from a DataFrame.\n",
      "Try using .loc[row_indexer,col_indexer] = value instead\n",
      "\n",
      "See the caveats in the documentation: http://pandas.pydata.org/pandas-docs/stable/indexing.html#indexing-view-versus-copy\n",
      "/Users/alibezz/anaconda/lib/python2.7/site-packages/ipykernel/__main__.py:6: SettingWithCopyWarning: \n",
      "A value is trying to be set on a copy of a slice from a DataFrame.\n",
      "Try using .loc[row_indexer,col_indexer] = value instead\n",
      "\n",
      "See the caveats in the documentation: http://pandas.pydata.org/pandas-docs/stable/indexing.html#indexing-view-versus-copy\n",
      "/Users/alibezz/anaconda/lib/python2.7/site-packages/ipykernel/__main__.py:7: SettingWithCopyWarning: \n",
      "A value is trying to be set on a copy of a slice from a DataFrame.\n",
      "Try using .loc[row_indexer,col_indexer] = value instead\n",
      "\n",
      "See the caveats in the documentation: http://pandas.pydata.org/pandas-docs/stable/indexing.html#indexing-view-versus-copy\n",
      "/Users/alibezz/anaconda/lib/python2.7/site-packages/ipykernel/__main__.py:8: SettingWithCopyWarning: \n",
      "A value is trying to be set on a copy of a slice from a DataFrame.\n",
      "Try using .loc[row_indexer,col_indexer] = value instead\n",
      "\n",
      "See the caveats in the documentation: http://pandas.pydata.org/pandas-docs/stable/indexing.html#indexing-view-versus-copy\n",
      "/Users/alibezz/anaconda/lib/python2.7/site-packages/ipykernel/__main__.py:9: SettingWithCopyWarning: \n",
      "A value is trying to be set on a copy of a slice from a DataFrame.\n",
      "Try using .loc[row_indexer,col_indexer] = value instead\n",
      "\n",
      "See the caveats in the documentation: http://pandas.pydata.org/pandas-docs/stable/indexing.html#indexing-view-versus-copy\n",
      "/Users/alibezz/anaconda/lib/python2.7/site-packages/ipykernel/__main__.py:10: SettingWithCopyWarning: \n",
      "A value is trying to be set on a copy of a slice from a DataFrame.\n",
      "Try using .loc[row_indexer,col_indexer] = value instead\n",
      "\n",
      "See the caveats in the documentation: http://pandas.pydata.org/pandas-docs/stable/indexing.html#indexing-view-versus-copy\n",
      "/Users/alibezz/anaconda/lib/python2.7/site-packages/ipykernel/__main__.py:11: SettingWithCopyWarning: \n",
      "A value is trying to be set on a copy of a slice from a DataFrame.\n",
      "Try using .loc[row_indexer,col_indexer] = value instead\n",
      "\n",
      "See the caveats in the documentation: http://pandas.pydata.org/pandas-docs/stable/indexing.html#indexing-view-versus-copy\n",
      "/Users/alibezz/anaconda/lib/python2.7/site-packages/ipykernel/__main__.py:12: SettingWithCopyWarning: \n",
      "A value is trying to be set on a copy of a slice from a DataFrame.\n",
      "Try using .loc[row_indexer,col_indexer] = value instead\n",
      "\n",
      "See the caveats in the documentation: http://pandas.pydata.org/pandas-docs/stable/indexing.html#indexing-view-versus-copy\n",
      "/Users/alibezz/anaconda/lib/python2.7/site-packages/ipykernel/__main__.py:13: SettingWithCopyWarning: \n",
      "A value is trying to be set on a copy of a slice from a DataFrame.\n",
      "Try using .loc[row_indexer,col_indexer] = value instead\n",
      "\n",
      "See the caveats in the documentation: http://pandas.pydata.org/pandas-docs/stable/indexing.html#indexing-view-versus-copy\n",
      "/Users/alibezz/anaconda/lib/python2.7/site-packages/ipykernel/__main__.py:14: SettingWithCopyWarning: \n",
      "A value is trying to be set on a copy of a slice from a DataFrame.\n",
      "Try using .loc[row_indexer,col_indexer] = value instead\n",
      "\n",
      "See the caveats in the documentation: http://pandas.pydata.org/pandas-docs/stable/indexing.html#indexing-view-versus-copy\n",
      "/Users/alibezz/anaconda/lib/python2.7/site-packages/ipykernel/__main__.py:15: SettingWithCopyWarning: \n",
      "A value is trying to be set on a copy of a slice from a DataFrame.\n",
      "Try using .loc[row_indexer,col_indexer] = value instead\n",
      "\n",
      "See the caveats in the documentation: http://pandas.pydata.org/pandas-docs/stable/indexing.html#indexing-view-versus-copy\n",
      "/Users/alibezz/anaconda/lib/python2.7/site-packages/ipykernel/__main__.py:16: SettingWithCopyWarning: \n",
      "A value is trying to be set on a copy of a slice from a DataFrame.\n",
      "Try using .loc[row_indexer,col_indexer] = value instead\n",
      "\n",
      "See the caveats in the documentation: http://pandas.pydata.org/pandas-docs/stable/indexing.html#indexing-view-versus-copy\n"
     ]
    }
   ],
   "source": [
    "tmp_training['query_num_of_columns'] = normalize_feature(tmp_training['query_num_of_columns'])\n",
    "tmp_training['query_num_of_rows'] = normalize_feature(tmp_training['query_num_of_rows'])\n",
    "tmp_training['query_row_column_ratio'] = normalize_feature(tmp_training['query_row_column_ratio'])\n",
    "tmp_training['query_max_skewness'] = normalize_feature(tmp_training['query_max_skewness'])\n",
    "tmp_training['query_max_kurtosis'] = normalize_feature(tmp_training['query_max_kurtosis'])\n",
    "tmp_training['query_max_unique'] = normalize_feature(tmp_training['query_max_unique'])\n",
    "tmp_training['query_target_max_covariance'] = normalize_feature(tmp_training['query_target_max_covariance'])\n",
    "tmp_training['query_target_max_mutual_info'] = normalize_feature(tmp_training['query_target_max_mutual_info'])\n",
    "tmp_training['candidate_num_of_columns'] = normalize_feature(tmp_training['candidate_num_of_columns'])\n",
    "tmp_training['candidate_num_rows'] = normalize_feature(tmp_training['candidate_num_rows'])\n",
    "tmp_training['candidate_row_column_ratio'] = normalize_feature(tmp_training['candidate_row_column_ratio'])\n",
    "tmp_training['candidate_max_skewness'] = normalize_feature(tmp_training['candidate_max_skewness'])\n",
    "tmp_training['candidate_max_kurtosis'] = normalize_feature(tmp_training['candidate_max_kurtosis'])\n",
    "tmp_training['candidate_max_unique'] = normalize_feature(tmp_training['candidate_max_unique'])\n",
    "tmp_training['candidate_target_max_covariance'] = normalize_feature(tmp_training['candidate_target_max_covariance'])\n",
    "tmp_training['candidate_target_max_mutual_info'] = normalize_feature(tmp_training['candidate_target_max_mutual_info'])\n"
   ]
  },
  {
   "cell_type": "code",
   "execution_count": 70,
   "metadata": {},
   "outputs": [
    {
     "data": {
      "text/plain": [
       "RandomForestClassifier(bootstrap=True, class_weight=None, criterion='gini',\n",
       "            max_depth=None, max_features='auto', max_leaf_nodes=None,\n",
       "            min_impurity_decrease=0.0, min_impurity_split=None,\n",
       "            min_samples_leaf=1, min_samples_split=2,\n",
       "            min_weight_fraction_leaf=0.0, n_estimators=100, n_jobs=None,\n",
       "            oob_score=False, random_state=42, verbose=0, warm_start=False)"
      ]
     },
     "execution_count": 70,
     "metadata": {},
     "output_type": "execute_result"
    }
   ],
   "source": [
    "rf.fit(tmp_training[ALL_FEATURES], tmp_training['class'])"
   ]
  },
  {
   "cell_type": "code",
   "execution_count": 71,
   "metadata": {},
   "outputs": [
    {
     "name": "stderr",
     "output_type": "stream",
     "text": [
      "/Users/alibezz/anaconda/lib/python2.7/site-packages/ipykernel/__main__.py:2: SettingWithCopyWarning: \n",
      "A value is trying to be set on a copy of a slice from a DataFrame.\n",
      "Try using .loc[row_indexer,col_indexer] = value instead\n",
      "\n",
      "See the caveats in the documentation: http://pandas.pydata.org/pandas-docs/stable/indexing.html#indexing-view-versus-copy\n",
      "  from ipykernel import kernelapp as app\n",
      "/Users/alibezz/anaconda/lib/python2.7/site-packages/ipykernel/__main__.py:3: SettingWithCopyWarning: \n",
      "A value is trying to be set on a copy of a slice from a DataFrame.\n",
      "Try using .loc[row_indexer,col_indexer] = value instead\n",
      "\n",
      "See the caveats in the documentation: http://pandas.pydata.org/pandas-docs/stable/indexing.html#indexing-view-versus-copy\n",
      "  app.launch_new_instance()\n",
      "/Users/alibezz/anaconda/lib/python2.7/site-packages/ipykernel/__main__.py:4: SettingWithCopyWarning: \n",
      "A value is trying to be set on a copy of a slice from a DataFrame.\n",
      "Try using .loc[row_indexer,col_indexer] = value instead\n",
      "\n",
      "See the caveats in the documentation: http://pandas.pydata.org/pandas-docs/stable/indexing.html#indexing-view-versus-copy\n",
      "/Users/alibezz/anaconda/lib/python2.7/site-packages/ipykernel/__main__.py:5: SettingWithCopyWarning: \n",
      "A value is trying to be set on a copy of a slice from a DataFrame.\n",
      "Try using .loc[row_indexer,col_indexer] = value instead\n",
      "\n",
      "See the caveats in the documentation: http://pandas.pydata.org/pandas-docs/stable/indexing.html#indexing-view-versus-copy\n",
      "/Users/alibezz/anaconda/lib/python2.7/site-packages/ipykernel/__main__.py:6: SettingWithCopyWarning: \n",
      "A value is trying to be set on a copy of a slice from a DataFrame.\n",
      "Try using .loc[row_indexer,col_indexer] = value instead\n",
      "\n",
      "See the caveats in the documentation: http://pandas.pydata.org/pandas-docs/stable/indexing.html#indexing-view-versus-copy\n",
      "/Users/alibezz/anaconda/lib/python2.7/site-packages/ipykernel/__main__.py:7: SettingWithCopyWarning: \n",
      "A value is trying to be set on a copy of a slice from a DataFrame.\n",
      "Try using .loc[row_indexer,col_indexer] = value instead\n",
      "\n",
      "See the caveats in the documentation: http://pandas.pydata.org/pandas-docs/stable/indexing.html#indexing-view-versus-copy\n",
      "/Users/alibezz/anaconda/lib/python2.7/site-packages/ipykernel/__main__.py:8: SettingWithCopyWarning: \n",
      "A value is trying to be set on a copy of a slice from a DataFrame.\n",
      "Try using .loc[row_indexer,col_indexer] = value instead\n",
      "\n",
      "See the caveats in the documentation: http://pandas.pydata.org/pandas-docs/stable/indexing.html#indexing-view-versus-copy\n",
      "/Users/alibezz/anaconda/lib/python2.7/site-packages/ipykernel/__main__.py:9: SettingWithCopyWarning: \n",
      "A value is trying to be set on a copy of a slice from a DataFrame.\n",
      "Try using .loc[row_indexer,col_indexer] = value instead\n",
      "\n",
      "See the caveats in the documentation: http://pandas.pydata.org/pandas-docs/stable/indexing.html#indexing-view-versus-copy\n",
      "/Users/alibezz/anaconda/lib/python2.7/site-packages/ipykernel/__main__.py:10: SettingWithCopyWarning: \n",
      "A value is trying to be set on a copy of a slice from a DataFrame.\n",
      "Try using .loc[row_indexer,col_indexer] = value instead\n",
      "\n",
      "See the caveats in the documentation: http://pandas.pydata.org/pandas-docs/stable/indexing.html#indexing-view-versus-copy\n",
      "/Users/alibezz/anaconda/lib/python2.7/site-packages/ipykernel/__main__.py:11: SettingWithCopyWarning: \n",
      "A value is trying to be set on a copy of a slice from a DataFrame.\n",
      "Try using .loc[row_indexer,col_indexer] = value instead\n",
      "\n",
      "See the caveats in the documentation: http://pandas.pydata.org/pandas-docs/stable/indexing.html#indexing-view-versus-copy\n",
      "/Users/alibezz/anaconda/lib/python2.7/site-packages/ipykernel/__main__.py:12: SettingWithCopyWarning: \n",
      "A value is trying to be set on a copy of a slice from a DataFrame.\n",
      "Try using .loc[row_indexer,col_indexer] = value instead\n",
      "\n",
      "See the caveats in the documentation: http://pandas.pydata.org/pandas-docs/stable/indexing.html#indexing-view-versus-copy\n",
      "/Users/alibezz/anaconda/lib/python2.7/site-packages/ipykernel/__main__.py:13: SettingWithCopyWarning: \n",
      "A value is trying to be set on a copy of a slice from a DataFrame.\n",
      "Try using .loc[row_indexer,col_indexer] = value instead\n",
      "\n",
      "See the caveats in the documentation: http://pandas.pydata.org/pandas-docs/stable/indexing.html#indexing-view-versus-copy\n",
      "/Users/alibezz/anaconda/lib/python2.7/site-packages/ipykernel/__main__.py:14: SettingWithCopyWarning: \n",
      "A value is trying to be set on a copy of a slice from a DataFrame.\n",
      "Try using .loc[row_indexer,col_indexer] = value instead\n",
      "\n",
      "See the caveats in the documentation: http://pandas.pydata.org/pandas-docs/stable/indexing.html#indexing-view-versus-copy\n",
      "/Users/alibezz/anaconda/lib/python2.7/site-packages/ipykernel/__main__.py:15: SettingWithCopyWarning: \n",
      "A value is trying to be set on a copy of a slice from a DataFrame.\n",
      "Try using .loc[row_indexer,col_indexer] = value instead\n",
      "\n",
      "See the caveats in the documentation: http://pandas.pydata.org/pandas-docs/stable/indexing.html#indexing-view-versus-copy\n",
      "/Users/alibezz/anaconda/lib/python2.7/site-packages/ipykernel/__main__.py:16: SettingWithCopyWarning: \n",
      "A value is trying to be set on a copy of a slice from a DataFrame.\n",
      "Try using .loc[row_indexer,col_indexer] = value instead\n",
      "\n",
      "See the caveats in the documentation: http://pandas.pydata.org/pandas-docs/stable/indexing.html#indexing-view-versus-copy\n",
      "/Users/alibezz/anaconda/lib/python2.7/site-packages/ipykernel/__main__.py:17: SettingWithCopyWarning: \n",
      "A value is trying to be set on a copy of a slice from a DataFrame.\n",
      "Try using .loc[row_indexer,col_indexer] = value instead\n",
      "\n",
      "See the caveats in the documentation: http://pandas.pydata.org/pandas-docs/stable/indexing.html#indexing-view-versus-copy\n"
     ]
    },
    {
     "name": "stdout",
     "output_type": "stream",
     "text": [
      "              precision    recall  f1-score   support\n",
      "\n",
      "        gain       1.00      1.00      1.00        11\n",
      "\n",
      "   micro avg       1.00      1.00      1.00        11\n",
      "   macro avg       1.00      1.00      1.00        11\n",
      "weighted avg       1.00      1.00      1.00        11\n",
      "\n"
     ]
    }
   ],
   "source": [
    "tmp_poverty = remove_low_containment_fraction_entries(poverty, threshold=0.5)\n",
    "tmp_poverty['query_num_of_columns'] = normalize_feature(tmp_poverty['query_num_of_columns'])\n",
    "tmp_poverty['query_num_of_rows'] = normalize_feature(tmp_poverty['query_num_of_rows'])\n",
    "tmp_poverty['query_row_column_ratio'] = normalize_feature(tmp_poverty['query_row_column_ratio'])\n",
    "tmp_poverty['query_max_skewness'] = normalize_feature(tmp_poverty['query_max_skewness'])\n",
    "tmp_poverty['query_max_kurtosis'] = normalize_feature(tmp_poverty['query_max_kurtosis'])\n",
    "tmp_poverty['query_max_unique'] = normalize_feature(tmp_poverty['query_max_unique'])\n",
    "tmp_poverty['query_target_max_covariance'] = normalize_feature(tmp_poverty['query_target_max_covariance'])\n",
    "tmp_poverty['query_target_max_mutual_info'] = normalize_feature(tmp_poverty['query_target_max_mutual_info'])\n",
    "tmp_poverty['candidate_num_of_columns'] = normalize_feature(tmp_poverty['candidate_num_of_columns'])\n",
    "tmp_poverty['candidate_num_rows'] = normalize_feature(tmp_poverty['candidate_num_rows'])\n",
    "tmp_poverty['candidate_row_column_ratio'] = normalize_feature(tmp_poverty['candidate_row_column_ratio'])\n",
    "tmp_poverty['candidate_max_skewness'] = normalize_feature(tmp_poverty['candidate_max_skewness'])\n",
    "tmp_poverty['candidate_max_kurtosis'] = normalize_feature(tmp_poverty['candidate_max_kurtosis'])\n",
    "tmp_poverty['candidate_max_unique'] = normalize_feature(tmp_poverty['candidate_max_unique'])\n",
    "tmp_poverty['candidate_target_max_covariance'] = normalize_feature(tmp_poverty['candidate_target_max_covariance'])\n",
    "tmp_poverty['candidate_target_max_mutual_info'] = normalize_feature(tmp_poverty['candidate_target_max_mutual_info'])\n",
    "\n",
    "preds = rf.predict(tmp_poverty[ALL_FEATURES])\n",
    "print(classification_report(tmp_poverty['class'], preds))"
   ]
  },
  {
   "cell_type": "markdown",
   "metadata": {},
   "source": [
    "#### Whoah, the results got perfect for this combination!"
   ]
  },
  {
   "cell_type": "code",
   "execution_count": 72,
   "metadata": {},
   "outputs": [
    {
     "name": "stderr",
     "output_type": "stream",
     "text": [
      "/Users/alibezz/anaconda/lib/python2.7/site-packages/ipykernel/__main__.py:2: SettingWithCopyWarning: \n",
      "A value is trying to be set on a copy of a slice from a DataFrame.\n",
      "Try using .loc[row_indexer,col_indexer] = value instead\n",
      "\n",
      "See the caveats in the documentation: http://pandas.pydata.org/pandas-docs/stable/indexing.html#indexing-view-versus-copy\n",
      "  from ipykernel import kernelapp as app\n",
      "/Users/alibezz/anaconda/lib/python2.7/site-packages/ipykernel/__main__.py:3: SettingWithCopyWarning: \n",
      "A value is trying to be set on a copy of a slice from a DataFrame.\n",
      "Try using .loc[row_indexer,col_indexer] = value instead\n",
      "\n",
      "See the caveats in the documentation: http://pandas.pydata.org/pandas-docs/stable/indexing.html#indexing-view-versus-copy\n",
      "  app.launch_new_instance()\n",
      "/Users/alibezz/anaconda/lib/python2.7/site-packages/ipykernel/__main__.py:4: SettingWithCopyWarning: \n",
      "A value is trying to be set on a copy of a slice from a DataFrame.\n",
      "Try using .loc[row_indexer,col_indexer] = value instead\n",
      "\n",
      "See the caveats in the documentation: http://pandas.pydata.org/pandas-docs/stable/indexing.html#indexing-view-versus-copy\n",
      "/Users/alibezz/anaconda/lib/python2.7/site-packages/ipykernel/__main__.py:5: SettingWithCopyWarning: \n",
      "A value is trying to be set on a copy of a slice from a DataFrame.\n",
      "Try using .loc[row_indexer,col_indexer] = value instead\n",
      "\n",
      "See the caveats in the documentation: http://pandas.pydata.org/pandas-docs/stable/indexing.html#indexing-view-versus-copy\n",
      "/Users/alibezz/anaconda/lib/python2.7/site-packages/ipykernel/__main__.py:6: SettingWithCopyWarning: \n",
      "A value is trying to be set on a copy of a slice from a DataFrame.\n",
      "Try using .loc[row_indexer,col_indexer] = value instead\n",
      "\n",
      "See the caveats in the documentation: http://pandas.pydata.org/pandas-docs/stable/indexing.html#indexing-view-versus-copy\n",
      "/Users/alibezz/anaconda/lib/python2.7/site-packages/ipykernel/__main__.py:7: SettingWithCopyWarning: \n",
      "A value is trying to be set on a copy of a slice from a DataFrame.\n",
      "Try using .loc[row_indexer,col_indexer] = value instead\n",
      "\n",
      "See the caveats in the documentation: http://pandas.pydata.org/pandas-docs/stable/indexing.html#indexing-view-versus-copy\n",
      "/Users/alibezz/anaconda/lib/python2.7/site-packages/ipykernel/__main__.py:8: SettingWithCopyWarning: \n",
      "A value is trying to be set on a copy of a slice from a DataFrame.\n",
      "Try using .loc[row_indexer,col_indexer] = value instead\n",
      "\n",
      "See the caveats in the documentation: http://pandas.pydata.org/pandas-docs/stable/indexing.html#indexing-view-versus-copy\n",
      "/Users/alibezz/anaconda/lib/python2.7/site-packages/ipykernel/__main__.py:9: SettingWithCopyWarning: \n",
      "A value is trying to be set on a copy of a slice from a DataFrame.\n",
      "Try using .loc[row_indexer,col_indexer] = value instead\n",
      "\n",
      "See the caveats in the documentation: http://pandas.pydata.org/pandas-docs/stable/indexing.html#indexing-view-versus-copy\n",
      "/Users/alibezz/anaconda/lib/python2.7/site-packages/ipykernel/__main__.py:10: SettingWithCopyWarning: \n",
      "A value is trying to be set on a copy of a slice from a DataFrame.\n",
      "Try using .loc[row_indexer,col_indexer] = value instead\n",
      "\n",
      "See the caveats in the documentation: http://pandas.pydata.org/pandas-docs/stable/indexing.html#indexing-view-versus-copy\n",
      "/Users/alibezz/anaconda/lib/python2.7/site-packages/ipykernel/__main__.py:11: SettingWithCopyWarning: \n",
      "A value is trying to be set on a copy of a slice from a DataFrame.\n",
      "Try using .loc[row_indexer,col_indexer] = value instead\n",
      "\n",
      "See the caveats in the documentation: http://pandas.pydata.org/pandas-docs/stable/indexing.html#indexing-view-versus-copy\n",
      "/Users/alibezz/anaconda/lib/python2.7/site-packages/ipykernel/__main__.py:12: SettingWithCopyWarning: \n",
      "A value is trying to be set on a copy of a slice from a DataFrame.\n",
      "Try using .loc[row_indexer,col_indexer] = value instead\n",
      "\n",
      "See the caveats in the documentation: http://pandas.pydata.org/pandas-docs/stable/indexing.html#indexing-view-versus-copy\n",
      "/Users/alibezz/anaconda/lib/python2.7/site-packages/ipykernel/__main__.py:13: SettingWithCopyWarning: \n",
      "A value is trying to be set on a copy of a slice from a DataFrame.\n",
      "Try using .loc[row_indexer,col_indexer] = value instead\n",
      "\n",
      "See the caveats in the documentation: http://pandas.pydata.org/pandas-docs/stable/indexing.html#indexing-view-versus-copy\n",
      "/Users/alibezz/anaconda/lib/python2.7/site-packages/ipykernel/__main__.py:14: SettingWithCopyWarning: \n",
      "A value is trying to be set on a copy of a slice from a DataFrame.\n",
      "Try using .loc[row_indexer,col_indexer] = value instead\n",
      "\n",
      "See the caveats in the documentation: http://pandas.pydata.org/pandas-docs/stable/indexing.html#indexing-view-versus-copy\n",
      "/Users/alibezz/anaconda/lib/python2.7/site-packages/ipykernel/__main__.py:15: SettingWithCopyWarning: \n",
      "A value is trying to be set on a copy of a slice from a DataFrame.\n",
      "Try using .loc[row_indexer,col_indexer] = value instead\n",
      "\n",
      "See the caveats in the documentation: http://pandas.pydata.org/pandas-docs/stable/indexing.html#indexing-view-versus-copy\n",
      "/Users/alibezz/anaconda/lib/python2.7/site-packages/ipykernel/__main__.py:16: SettingWithCopyWarning: \n",
      "A value is trying to be set on a copy of a slice from a DataFrame.\n",
      "Try using .loc[row_indexer,col_indexer] = value instead\n",
      "\n",
      "See the caveats in the documentation: http://pandas.pydata.org/pandas-docs/stable/indexing.html#indexing-view-versus-copy\n"
     ]
    },
    {
     "name": "stdout",
     "output_type": "stream",
     "text": [
      "              precision    recall  f1-score   support\n",
      "\n",
      "        gain       1.00      0.83      0.91        18\n",
      "        loss       0.00      0.00      0.00         0\n",
      "\n",
      "   micro avg       0.83      0.83      0.83        18\n",
      "   macro avg       0.50      0.42      0.45        18\n",
      "weighted avg       1.00      0.83      0.91        18\n",
      "\n"
     ]
    },
    {
     "name": "stderr",
     "output_type": "stream",
     "text": [
      "/Users/alibezz/anaconda/lib/python2.7/site-packages/ipykernel/__main__.py:17: SettingWithCopyWarning: \n",
      "A value is trying to be set on a copy of a slice from a DataFrame.\n",
      "Try using .loc[row_indexer,col_indexer] = value instead\n",
      "\n",
      "See the caveats in the documentation: http://pandas.pydata.org/pandas-docs/stable/indexing.html#indexing-view-versus-copy\n"
     ]
    }
   ],
   "source": [
    "tmp_taxi = remove_low_containment_fraction_entries(taxi, threshold=0.5)\n",
    "tmp_taxi['query_num_of_columns'] = normalize_feature(tmp_taxi['query_num_of_columns'])\n",
    "tmp_taxi['query_num_of_rows'] = normalize_feature(tmp_taxi['query_num_of_rows'])\n",
    "tmp_taxi['query_row_column_ratio'] = normalize_feature(tmp_taxi['query_row_column_ratio'])\n",
    "tmp_taxi['query_max_skewness'] = normalize_feature(tmp_taxi['query_max_skewness'])\n",
    "tmp_taxi['query_max_kurtosis'] = normalize_feature(tmp_taxi['query_max_kurtosis'])\n",
    "tmp_taxi['query_max_unique'] = normalize_feature(tmp_taxi['query_max_unique'])\n",
    "tmp_taxi['query_target_max_covariance'] = normalize_feature(tmp_taxi['query_target_max_covariance'])\n",
    "tmp_taxi['query_target_max_mutual_info'] = normalize_feature(tmp_taxi['query_target_max_mutual_info'])\n",
    "tmp_taxi['candidate_num_of_columns'] = normalize_feature(tmp_taxi['candidate_num_of_columns'])\n",
    "tmp_taxi['candidate_num_rows'] = normalize_feature(tmp_taxi['candidate_num_rows'])\n",
    "tmp_taxi['candidate_row_column_ratio'] = normalize_feature(tmp_taxi['candidate_row_column_ratio'])\n",
    "tmp_taxi['candidate_max_skewness'] = normalize_feature(tmp_taxi['candidate_max_skewness'])\n",
    "tmp_taxi['candidate_max_kurtosis'] = normalize_feature(tmp_taxi['candidate_max_kurtosis'])\n",
    "tmp_taxi['candidate_max_unique'] = normalize_feature(tmp_taxi['candidate_max_unique'])\n",
    "tmp_taxi['candidate_target_max_covariance'] = normalize_feature(tmp_taxi['candidate_target_max_covariance'])\n",
    "tmp_taxi['candidate_target_max_mutual_info'] = normalize_feature(tmp_taxi['candidate_target_max_mutual_info'])\n",
    "\n",
    "preds = rf.predict(tmp_taxi[ALL_FEATURES])\n",
    "print(classification_report(tmp_taxi['class'], preds))"
   ]
  },
  {
   "cell_type": "markdown",
   "metadata": {},
   "source": [
    "#### The recall increased (from 0.67 to 0.83). I'll investigate the false negatives soon."
   ]
  },
  {
   "cell_type": "code",
   "execution_count": 73,
   "metadata": {},
   "outputs": [
    {
     "name": "stderr",
     "output_type": "stream",
     "text": [
      "/Users/alibezz/anaconda/lib/python2.7/site-packages/ipykernel/__main__.py:2: SettingWithCopyWarning: \n",
      "A value is trying to be set on a copy of a slice from a DataFrame.\n",
      "Try using .loc[row_indexer,col_indexer] = value instead\n",
      "\n",
      "See the caveats in the documentation: http://pandas.pydata.org/pandas-docs/stable/indexing.html#indexing-view-versus-copy\n",
      "  from ipykernel import kernelapp as app\n",
      "/Users/alibezz/anaconda/lib/python2.7/site-packages/ipykernel/__main__.py:3: SettingWithCopyWarning: \n",
      "A value is trying to be set on a copy of a slice from a DataFrame.\n",
      "Try using .loc[row_indexer,col_indexer] = value instead\n",
      "\n",
      "See the caveats in the documentation: http://pandas.pydata.org/pandas-docs/stable/indexing.html#indexing-view-versus-copy\n",
      "  app.launch_new_instance()\n",
      "/Users/alibezz/anaconda/lib/python2.7/site-packages/ipykernel/__main__.py:4: SettingWithCopyWarning: \n",
      "A value is trying to be set on a copy of a slice from a DataFrame.\n",
      "Try using .loc[row_indexer,col_indexer] = value instead\n",
      "\n",
      "See the caveats in the documentation: http://pandas.pydata.org/pandas-docs/stable/indexing.html#indexing-view-versus-copy\n",
      "/Users/alibezz/anaconda/lib/python2.7/site-packages/ipykernel/__main__.py:5: SettingWithCopyWarning: \n",
      "A value is trying to be set on a copy of a slice from a DataFrame.\n",
      "Try using .loc[row_indexer,col_indexer] = value instead\n",
      "\n",
      "See the caveats in the documentation: http://pandas.pydata.org/pandas-docs/stable/indexing.html#indexing-view-versus-copy\n",
      "/Users/alibezz/anaconda/lib/python2.7/site-packages/ipykernel/__main__.py:6: SettingWithCopyWarning: \n",
      "A value is trying to be set on a copy of a slice from a DataFrame.\n",
      "Try using .loc[row_indexer,col_indexer] = value instead\n",
      "\n",
      "See the caveats in the documentation: http://pandas.pydata.org/pandas-docs/stable/indexing.html#indexing-view-versus-copy\n",
      "/Users/alibezz/anaconda/lib/python2.7/site-packages/ipykernel/__main__.py:7: SettingWithCopyWarning: \n",
      "A value is trying to be set on a copy of a slice from a DataFrame.\n",
      "Try using .loc[row_indexer,col_indexer] = value instead\n",
      "\n",
      "See the caveats in the documentation: http://pandas.pydata.org/pandas-docs/stable/indexing.html#indexing-view-versus-copy\n",
      "/Users/alibezz/anaconda/lib/python2.7/site-packages/ipykernel/__main__.py:8: SettingWithCopyWarning: \n",
      "A value is trying to be set on a copy of a slice from a DataFrame.\n",
      "Try using .loc[row_indexer,col_indexer] = value instead\n",
      "\n",
      "See the caveats in the documentation: http://pandas.pydata.org/pandas-docs/stable/indexing.html#indexing-view-versus-copy\n",
      "/Users/alibezz/anaconda/lib/python2.7/site-packages/ipykernel/__main__.py:9: SettingWithCopyWarning: \n",
      "A value is trying to be set on a copy of a slice from a DataFrame.\n",
      "Try using .loc[row_indexer,col_indexer] = value instead\n",
      "\n",
      "See the caveats in the documentation: http://pandas.pydata.org/pandas-docs/stable/indexing.html#indexing-view-versus-copy\n"
     ]
    },
    {
     "name": "stdout",
     "output_type": "stream",
     "text": [
      "              precision    recall  f1-score   support\n",
      "\n",
      "        gain       0.82      0.91      0.87        92\n",
      "        loss       0.47      0.28      0.35        25\n",
      "\n",
      "   micro avg       0.78      0.78      0.78       117\n",
      "   macro avg       0.65      0.60      0.61       117\n",
      "weighted avg       0.75      0.78      0.76       117\n",
      "\n"
     ]
    },
    {
     "name": "stderr",
     "output_type": "stream",
     "text": [
      "/Users/alibezz/anaconda/lib/python2.7/site-packages/ipykernel/__main__.py:10: SettingWithCopyWarning: \n",
      "A value is trying to be set on a copy of a slice from a DataFrame.\n",
      "Try using .loc[row_indexer,col_indexer] = value instead\n",
      "\n",
      "See the caveats in the documentation: http://pandas.pydata.org/pandas-docs/stable/indexing.html#indexing-view-versus-copy\n",
      "/Users/alibezz/anaconda/lib/python2.7/site-packages/ipykernel/__main__.py:11: SettingWithCopyWarning: \n",
      "A value is trying to be set on a copy of a slice from a DataFrame.\n",
      "Try using .loc[row_indexer,col_indexer] = value instead\n",
      "\n",
      "See the caveats in the documentation: http://pandas.pydata.org/pandas-docs/stable/indexing.html#indexing-view-versus-copy\n",
      "/Users/alibezz/anaconda/lib/python2.7/site-packages/ipykernel/__main__.py:12: SettingWithCopyWarning: \n",
      "A value is trying to be set on a copy of a slice from a DataFrame.\n",
      "Try using .loc[row_indexer,col_indexer] = value instead\n",
      "\n",
      "See the caveats in the documentation: http://pandas.pydata.org/pandas-docs/stable/indexing.html#indexing-view-versus-copy\n",
      "/Users/alibezz/anaconda/lib/python2.7/site-packages/ipykernel/__main__.py:13: SettingWithCopyWarning: \n",
      "A value is trying to be set on a copy of a slice from a DataFrame.\n",
      "Try using .loc[row_indexer,col_indexer] = value instead\n",
      "\n",
      "See the caveats in the documentation: http://pandas.pydata.org/pandas-docs/stable/indexing.html#indexing-view-versus-copy\n",
      "/Users/alibezz/anaconda/lib/python2.7/site-packages/ipykernel/__main__.py:14: SettingWithCopyWarning: \n",
      "A value is trying to be set on a copy of a slice from a DataFrame.\n",
      "Try using .loc[row_indexer,col_indexer] = value instead\n",
      "\n",
      "See the caveats in the documentation: http://pandas.pydata.org/pandas-docs/stable/indexing.html#indexing-view-versus-copy\n",
      "/Users/alibezz/anaconda/lib/python2.7/site-packages/ipykernel/__main__.py:15: SettingWithCopyWarning: \n",
      "A value is trying to be set on a copy of a slice from a DataFrame.\n",
      "Try using .loc[row_indexer,col_indexer] = value instead\n",
      "\n",
      "See the caveats in the documentation: http://pandas.pydata.org/pandas-docs/stable/indexing.html#indexing-view-versus-copy\n",
      "/Users/alibezz/anaconda/lib/python2.7/site-packages/ipykernel/__main__.py:16: SettingWithCopyWarning: \n",
      "A value is trying to be set on a copy of a slice from a DataFrame.\n",
      "Try using .loc[row_indexer,col_indexer] = value instead\n",
      "\n",
      "See the caveats in the documentation: http://pandas.pydata.org/pandas-docs/stable/indexing.html#indexing-view-versus-copy\n",
      "/Users/alibezz/anaconda/lib/python2.7/site-packages/ipykernel/__main__.py:17: SettingWithCopyWarning: \n",
      "A value is trying to be set on a copy of a slice from a DataFrame.\n",
      "Try using .loc[row_indexer,col_indexer] = value instead\n",
      "\n",
      "See the caveats in the documentation: http://pandas.pydata.org/pandas-docs/stable/indexing.html#indexing-view-versus-copy\n"
     ]
    }
   ],
   "source": [
    "tmp_college = remove_low_containment_fraction_entries(college, threshold=0.5)\n",
    "tmp_college['query_num_of_columns'] = normalize_feature(tmp_college['query_num_of_columns'])\n",
    "tmp_college['query_num_of_rows'] = normalize_feature(tmp_college['query_num_of_rows'])\n",
    "tmp_college['query_row_column_ratio'] = normalize_feature(tmp_college['query_row_column_ratio'])\n",
    "tmp_college['query_max_skewness'] = normalize_feature(tmp_college['query_max_skewness'])\n",
    "tmp_college['query_max_kurtosis'] = normalize_feature(tmp_college['query_max_kurtosis'])\n",
    "tmp_college['query_max_unique'] = normalize_feature(tmp_college['query_max_unique'])\n",
    "tmp_college['query_target_max_covariance'] = normalize_feature(tmp_college['query_target_max_covariance'])\n",
    "tmp_college['query_target_max_mutual_info'] = normalize_feature(tmp_college['query_target_max_mutual_info'])\n",
    "tmp_college['candidate_num_of_columns'] = normalize_feature(tmp_college['candidate_num_of_columns'])\n",
    "tmp_college['candidate_num_rows'] = normalize_feature(tmp_college['candidate_num_rows'])\n",
    "tmp_college['candidate_row_column_ratio'] = normalize_feature(tmp_college['candidate_row_column_ratio'])\n",
    "tmp_college['candidate_max_skewness'] = normalize_feature(tmp_college['candidate_max_skewness'])\n",
    "tmp_college['candidate_max_kurtosis'] = normalize_feature(tmp_college['candidate_max_kurtosis'])\n",
    "tmp_college['candidate_max_unique'] = normalize_feature(tmp_college['candidate_max_unique'])\n",
    "tmp_college['candidate_target_max_covariance'] = normalize_feature(tmp_college['candidate_target_max_covariance'])\n",
    "tmp_college['candidate_target_max_mutual_info'] = normalize_feature(tmp_college['candidate_target_max_mutual_info'])\n",
    "\n",
    "preds = rf.predict(tmp_college[ALL_FEATURES])\n",
    "print(classification_report(tmp_college['class'], preds))\n"
   ]
  },
  {
   "cell_type": "markdown",
   "metadata": {},
   "source": [
    "#### The precision lowered a bit (from 0.89 to 0.82), the recall increased (from 0.63 to 0.91)."
   ]
  },
  {
   "cell_type": "code",
   "execution_count": 74,
   "metadata": {},
   "outputs": [
    {
     "name": "stderr",
     "output_type": "stream",
     "text": [
      "/Users/alibezz/anaconda/lib/python2.7/site-packages/ipykernel/__main__.py:2: SettingWithCopyWarning: \n",
      "A value is trying to be set on a copy of a slice from a DataFrame.\n",
      "Try using .loc[row_indexer,col_indexer] = value instead\n",
      "\n",
      "See the caveats in the documentation: http://pandas.pydata.org/pandas-docs/stable/indexing.html#indexing-view-versus-copy\n",
      "  from ipykernel import kernelapp as app\n",
      "/Users/alibezz/anaconda/lib/python2.7/site-packages/ipykernel/__main__.py:3: SettingWithCopyWarning: \n",
      "A value is trying to be set on a copy of a slice from a DataFrame.\n",
      "Try using .loc[row_indexer,col_indexer] = value instead\n",
      "\n",
      "See the caveats in the documentation: http://pandas.pydata.org/pandas-docs/stable/indexing.html#indexing-view-versus-copy\n",
      "  app.launch_new_instance()\n",
      "/Users/alibezz/anaconda/lib/python2.7/site-packages/ipykernel/__main__.py:4: SettingWithCopyWarning: \n",
      "A value is trying to be set on a copy of a slice from a DataFrame.\n",
      "Try using .loc[row_indexer,col_indexer] = value instead\n",
      "\n",
      "See the caveats in the documentation: http://pandas.pydata.org/pandas-docs/stable/indexing.html#indexing-view-versus-copy\n",
      "/Users/alibezz/anaconda/lib/python2.7/site-packages/ipykernel/__main__.py:5: SettingWithCopyWarning: \n",
      "A value is trying to be set on a copy of a slice from a DataFrame.\n",
      "Try using .loc[row_indexer,col_indexer] = value instead\n",
      "\n",
      "See the caveats in the documentation: http://pandas.pydata.org/pandas-docs/stable/indexing.html#indexing-view-versus-copy\n",
      "/Users/alibezz/anaconda/lib/python2.7/site-packages/ipykernel/__main__.py:6: SettingWithCopyWarning: \n",
      "A value is trying to be set on a copy of a slice from a DataFrame.\n",
      "Try using .loc[row_indexer,col_indexer] = value instead\n",
      "\n",
      "See the caveats in the documentation: http://pandas.pydata.org/pandas-docs/stable/indexing.html#indexing-view-versus-copy\n",
      "/Users/alibezz/anaconda/lib/python2.7/site-packages/ipykernel/__main__.py:7: SettingWithCopyWarning: \n",
      "A value is trying to be set on a copy of a slice from a DataFrame.\n",
      "Try using .loc[row_indexer,col_indexer] = value instead\n",
      "\n",
      "See the caveats in the documentation: http://pandas.pydata.org/pandas-docs/stable/indexing.html#indexing-view-versus-copy\n",
      "/Users/alibezz/anaconda/lib/python2.7/site-packages/ipykernel/__main__.py:8: SettingWithCopyWarning: \n",
      "A value is trying to be set on a copy of a slice from a DataFrame.\n",
      "Try using .loc[row_indexer,col_indexer] = value instead\n",
      "\n",
      "See the caveats in the documentation: http://pandas.pydata.org/pandas-docs/stable/indexing.html#indexing-view-versus-copy\n",
      "/Users/alibezz/anaconda/lib/python2.7/site-packages/ipykernel/__main__.py:9: SettingWithCopyWarning: \n",
      "A value is trying to be set on a copy of a slice from a DataFrame.\n",
      "Try using .loc[row_indexer,col_indexer] = value instead\n",
      "\n",
      "See the caveats in the documentation: http://pandas.pydata.org/pandas-docs/stable/indexing.html#indexing-view-versus-copy\n",
      "/Users/alibezz/anaconda/lib/python2.7/site-packages/ipykernel/__main__.py:10: SettingWithCopyWarning: \n",
      "A value is trying to be set on a copy of a slice from a DataFrame.\n",
      "Try using .loc[row_indexer,col_indexer] = value instead\n",
      "\n",
      "See the caveats in the documentation: http://pandas.pydata.org/pandas-docs/stable/indexing.html#indexing-view-versus-copy\n",
      "/Users/alibezz/anaconda/lib/python2.7/site-packages/ipykernel/__main__.py:11: SettingWithCopyWarning: \n",
      "A value is trying to be set on a copy of a slice from a DataFrame.\n",
      "Try using .loc[row_indexer,col_indexer] = value instead\n",
      "\n",
      "See the caveats in the documentation: http://pandas.pydata.org/pandas-docs/stable/indexing.html#indexing-view-versus-copy\n",
      "/Users/alibezz/anaconda/lib/python2.7/site-packages/ipykernel/__main__.py:12: SettingWithCopyWarning: \n",
      "A value is trying to be set on a copy of a slice from a DataFrame.\n",
      "Try using .loc[row_indexer,col_indexer] = value instead\n",
      "\n",
      "See the caveats in the documentation: http://pandas.pydata.org/pandas-docs/stable/indexing.html#indexing-view-versus-copy\n",
      "/Users/alibezz/anaconda/lib/python2.7/site-packages/ipykernel/__main__.py:13: SettingWithCopyWarning: \n",
      "A value is trying to be set on a copy of a slice from a DataFrame.\n",
      "Try using .loc[row_indexer,col_indexer] = value instead\n",
      "\n",
      "See the caveats in the documentation: http://pandas.pydata.org/pandas-docs/stable/indexing.html#indexing-view-versus-copy\n",
      "/Users/alibezz/anaconda/lib/python2.7/site-packages/ipykernel/__main__.py:14: SettingWithCopyWarning: \n",
      "A value is trying to be set on a copy of a slice from a DataFrame.\n",
      "Try using .loc[row_indexer,col_indexer] = value instead\n",
      "\n",
      "See the caveats in the documentation: http://pandas.pydata.org/pandas-docs/stable/indexing.html#indexing-view-versus-copy\n",
      "/Users/alibezz/anaconda/lib/python2.7/site-packages/ipykernel/__main__.py:15: SettingWithCopyWarning: \n",
      "A value is trying to be set on a copy of a slice from a DataFrame.\n",
      "Try using .loc[row_indexer,col_indexer] = value instead\n",
      "\n",
      "See the caveats in the documentation: http://pandas.pydata.org/pandas-docs/stable/indexing.html#indexing-view-versus-copy\n",
      "/Users/alibezz/anaconda/lib/python2.7/site-packages/ipykernel/__main__.py:16: SettingWithCopyWarning: \n",
      "A value is trying to be set on a copy of a slice from a DataFrame.\n",
      "Try using .loc[row_indexer,col_indexer] = value instead\n",
      "\n",
      "See the caveats in the documentation: http://pandas.pydata.org/pandas-docs/stable/indexing.html#indexing-view-versus-copy\n",
      "/Users/alibezz/anaconda/lib/python2.7/site-packages/ipykernel/__main__.py:17: SettingWithCopyWarning: \n",
      "A value is trying to be set on a copy of a slice from a DataFrame.\n",
      "Try using .loc[row_indexer,col_indexer] = value instead\n",
      "\n",
      "See the caveats in the documentation: http://pandas.pydata.org/pandas-docs/stable/indexing.html#indexing-view-versus-copy\n"
     ]
    },
    {
     "name": "stdout",
     "output_type": "stream",
     "text": [
      "              precision    recall  f1-score   support\n",
      "\n",
      "        gain       0.67      0.62      0.64      2050\n",
      "        loss       0.48      0.54      0.51      1371\n",
      "\n",
      "   micro avg       0.59      0.59      0.59      3421\n",
      "   macro avg       0.58      0.58      0.58      3421\n",
      "weighted avg       0.59      0.59      0.59      3421\n",
      "\n"
     ]
    }
   ],
   "source": [
    "tmp_openml_test = remove_low_containment_fraction_entries(openml_test, threshold=0.5)\n",
    "tmp_openml_test['query_num_of_columns'] = normalize_feature(tmp_openml_test['query_num_of_columns'])\n",
    "tmp_openml_test['query_num_of_rows'] = normalize_feature(tmp_openml_test['query_num_of_rows'])\n",
    "tmp_openml_test['query_row_column_ratio'] = normalize_feature(tmp_openml_test['query_row_column_ratio'])\n",
    "tmp_openml_test['query_max_skewness'] = normalize_feature(tmp_openml_test['query_max_skewness'])\n",
    "tmp_openml_test['query_max_kurtosis'] = normalize_feature(tmp_openml_test['query_max_kurtosis'])\n",
    "tmp_openml_test['query_max_unique'] = normalize_feature(tmp_openml_test['query_max_unique'])\n",
    "tmp_openml_test['query_target_max_covariance'] = normalize_feature(tmp_openml_test['query_target_max_covariance'])\n",
    "tmp_openml_test['query_target_max_mutual_info'] = normalize_feature(tmp_openml_test['query_target_max_mutual_info'])\n",
    "tmp_openml_test['candidate_num_of_columns'] = normalize_feature(tmp_openml_test['candidate_num_of_columns'])\n",
    "tmp_openml_test['candidate_num_rows'] = normalize_feature(tmp_openml_test['candidate_num_rows'])\n",
    "tmp_openml_test['candidate_row_column_ratio'] = normalize_feature(tmp_openml_test['candidate_row_column_ratio'])\n",
    "tmp_openml_test['candidate_max_skewness'] = normalize_feature(tmp_openml_test['candidate_max_skewness'])\n",
    "tmp_openml_test['candidate_max_kurtosis'] = normalize_feature(tmp_openml_test['candidate_max_kurtosis'])\n",
    "tmp_openml_test['candidate_max_unique'] = normalize_feature(tmp_openml_test['candidate_max_unique'])\n",
    "tmp_openml_test['candidate_target_max_covariance'] = normalize_feature(tmp_openml_test['candidate_target_max_covariance'])\n",
    "tmp_openml_test['candidate_target_max_mutual_info'] = normalize_feature(tmp_openml_test['candidate_target_max_mutual_info'])\n",
    "\n",
    "preds = rf.predict(tmp_openml_test[ALL_FEATURES])\n",
    "print(classification_report(tmp_openml_test['class'], preds))"
   ]
  }
 ],
 "metadata": {
  "kernelspec": {
   "display_name": "Python 3",
   "language": "python",
   "name": "python3"
  },
  "language_info": {
   "codemirror_mode": {
    "name": "ipython",
    "version": 3
   },
   "file_extension": ".py",
   "mimetype": "text/x-python",
   "name": "python",
   "nbconvert_exporter": "python",
   "pygments_lexer": "ipython3",
   "version": "3.7.6"
  }
 },
 "nbformat": 4,
 "nbformat_minor": 1
}
