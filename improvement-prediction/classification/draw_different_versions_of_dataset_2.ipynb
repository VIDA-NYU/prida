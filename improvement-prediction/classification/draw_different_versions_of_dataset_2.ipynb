{
 "cells": [
  {
   "cell_type": "markdown",
   "metadata": {},
   "source": [
    "#### This notebook explores different ways of drawing samples that correspond to \"dataset 2\". Initially, \"dataset 2\" is a dataset with which we obtained a good prediction model for augmentation classes, but we need to verify whether we just \"got lucky\" or if we can re-draw this dataset a bunch of times and get to similar results. \n",
    "\n",
    "#### Here, we draw samples from a larger dataset, namely \"dataset 3\", where each query Qi is randomly paired with multiple candidate datasets from different datasets. "
   ]
  },
  {
   "cell_type": "code",
   "execution_count": 1,
   "metadata": {
    "collapsed": true
   },
   "outputs": [],
   "source": [
    "import pandas as pd\n",
    "\n",
    "dataset_3 = pd.read_csv('training-simplified-data-generation-many-candidates-per-query_with_median_and_mean_based_classes.csv')\n",
    "original_dataset_2 = pd.read_csv('training-simplified-data-generation_with_median_and_mean_based_classes.csv')\n"
   ]
  },
  {
   "cell_type": "code",
   "execution_count": 2,
   "metadata": {
    "collapsed": false
   },
   "outputs": [
    {
     "name": "stdout",
     "output_type": "stream",
     "text": [
      "('negative in dataset_3', 1097156, 'positive in dataset_3', 1019700)\n",
      "('negative in original_dataset_2', 4177, 'positive in original_dataset_2', 5707)\n"
     ]
    }
   ],
   "source": [
    "## get the numbers of positive and negative gains for both datasets\n",
    "\n",
    "print('negative in dataset_3', dataset_3.loc[dataset_3['gain_in_r2_score'] <= 0].shape[0], 'positive in dataset_3', dataset_3.loc[dataset_3['gain_in_r2_score'] > 0].shape[0])\n",
    "print('negative in original_dataset_2', original_dataset_2.loc[original_dataset_2['gain_in_r2_score'] <= 0].shape[0], 'positive in original_dataset_2', original_dataset_2.loc[original_dataset_2['gain_in_r2_score'] > 0].shape[0])"
   ]
  },
  {
   "cell_type": "markdown",
   "metadata": {},
   "source": [
    "#### Both datasets look relatively balanced. Let's draw other \"versions\" of dataset 2 by getting dataset 3 and, for each \\<Qi, Cj\\> with  gain_marker = 'positive', get one “negative”. They must have the same query id."
   ]
  },
  {
   "cell_type": "code",
   "execution_count": 12,
   "metadata": {
    "collapsed": false
   },
   "outputs": [],
   "source": [
    "import numpy as np\n",
    "import random\n",
    "\n",
    "def create_version_of_dataset_2(larger_dataset, n_queries, one_candidate_per_query=True):\n",
    "    \"\"\"This function draws candidates from larger_dataset for n_queries of its queries. \n",
    "    \n",
    "    If one_candidate_per_query == True, it only draws one candidate, with either \n",
    "    gain_marker == 'positive' or gain_marker == 'negative', per query. Otherwise, it \n",
    "    draws two candidates (one with gain_marker == 'positive' and one with gain_marker == 'negative')\n",
    "    \"\"\"\n",
    "    \n",
    "    queries = np.random.choice(list(set(larger_dataset['query'])), n_queries)\n",
    "    subdatasets = []\n",
    "    for q in queries:\n",
    "        subtable = larger_dataset.loc[larger_dataset['query'] == q]\n",
    "        if one_candidate_per_query:\n",
    "            sample = subtable.loc[random.sample(list(subtable.index), 1)]\n",
    "        else:\n",
    "            positives = subtable.loc[subtable['gain_marker'] == 'positive']\n",
    "            sample_positive = positives.loc[random.sample(list(positives.index), 1)]\n",
    "            negatives = subtable.loc[subtable['gain_marker'] == 'negative']\n",
    "            sample_negative = negatives.loc[random.sample(list(negatives.index), 1)]\n",
    "            sample = pd.concat([sample_positive, sample_negative])\n",
    "        subdatasets.append(sample)\n",
    "    return pd.concat(subdatasets)"
   ]
  },
  {
   "cell_type": "code",
   "execution_count": null,
   "metadata": {
    "collapsed": false
   },
   "outputs": [],
   "source": [
    "## Draw versions of dataset 2 with two candidates per query (one with gain_marker == 'positive' \n",
    "## and one with gain_marker == 'negative'), and with one candidate per query (either gain_marker == 'positive' \n",
    "## or gain_marker == 'negative')\n",
    "\n",
    "NUMBER_OF_VERSIONS_WITH_ONE_CANDIDATE_PER_QUERY = 10\n",
    "NUMBER_OF_VERSIONS_WITH_TWO_CANDIDATES_PER_QUERY = 10\n",
    "NUMBER_OF_QUERIES = len(set(original_dataset_2['query']))\n",
    "ocpq = 0 #one candidate per query\n",
    "while ocpq < NUMBER_OF_VERSIONS_WITH_ONE_CANDIDATE_PER_QUERY:\n",
    "    dataset = create_version_of_dataset_2(dataset_3, NUMBER_OF_QUERIES)\n",
    "    ocpq += 1\n",
    "    break\n",
    "dataset.head"
   ]
  },
  {
   "cell_type": "code",
   "execution_count": null,
   "metadata": {
    "collapsed": true
   },
   "outputs": [],
   "source": []
  }
 ],
 "metadata": {
  "kernelspec": {
   "display_name": "Python 2",
   "language": "python",
   "name": "python2"
  },
  "language_info": {
   "codemirror_mode": {
    "name": "ipython",
    "version": 2
   },
   "file_extension": ".py",
   "mimetype": "text/x-python",
   "name": "python",
   "nbconvert_exporter": "python",
   "pygments_lexer": "ipython2",
   "version": "2.7.13"
  }
 },
 "nbformat": 4,
 "nbformat_minor": 1
}
