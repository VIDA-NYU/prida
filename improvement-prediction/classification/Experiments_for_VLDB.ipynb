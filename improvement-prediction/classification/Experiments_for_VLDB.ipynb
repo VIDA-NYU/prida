{
 "cells": [
  {
   "cell_type": "markdown",
   "metadata": {},
   "source": [
    "### In this notebook, we generate results for multiple thresholds on containment fraction."
   ]
  },
  {
   "cell_type": "code",
   "execution_count": 130,
   "metadata": {
    "collapsed": true
   },
   "outputs": [],
   "source": [
    "import pandas as pd\n",
    "from sklearn.ensemble import RandomForestClassifier \n",
    "from sklearn.metrics import classification_report"
   ]
  },
  {
   "cell_type": "code",
   "execution_count": 131,
   "metadata": {
    "collapsed": true
   },
   "outputs": [],
   "source": [
    "training = pd.read_csv('training-simplified-data-generation.csv')\n",
    "test = pd.read_csv('test-simplified-data-generation.csv')"
   ]
  },
  {
   "cell_type": "markdown",
   "metadata": {},
   "source": [
    "#### Let's (sanity-)check how many candidates per query there are in these datasets."
   ]
  },
  {
   "cell_type": "code",
   "execution_count": 132,
   "metadata": {
    "collapsed": true
   },
   "outputs": [],
   "source": [
    "training_queries = set(training['query'])\n",
    "test_queries = set(test['query'])"
   ]
  },
  {
   "cell_type": "code",
   "execution_count": 133,
   "metadata": {
    "collapsed": false
   },
   "outputs": [
    {
     "data": {
      "text/plain": [
       "True"
      ]
     },
     "execution_count": 133,
     "metadata": {},
     "output_type": "execute_result"
    }
   ],
   "source": [
    "len(training_queries) == training.shape[0]"
   ]
  },
  {
   "cell_type": "code",
   "execution_count": 134,
   "metadata": {
    "collapsed": false
   },
   "outputs": [
    {
     "data": {
      "text/plain": [
       "True"
      ]
     },
     "execution_count": 134,
     "metadata": {},
     "output_type": "execute_result"
    }
   ],
   "source": [
    "len(test_queries) == test.shape[0]"
   ]
  },
  {
   "cell_type": "markdown",
   "metadata": {},
   "source": [
    "#### Ok. So there's no overlap in query features in both the training and the test set, which is good for our current analyses."
   ]
  },
  {
   "cell_type": "code",
   "execution_count": 135,
   "metadata": {
    "collapsed": false
   },
   "outputs": [
    {
     "data": {
      "text/plain": [
       "set()"
      ]
     },
     "execution_count": 135,
     "metadata": {},
     "output_type": "execute_result"
    }
   ],
   "source": [
    "training_queries & test_queries"
   ]
  },
  {
   "cell_type": "markdown",
   "metadata": {},
   "source": [
    "#### Alright. So if there's no overlap, we can generate different versions of these datasets based on distinct containment ratio thresholds $\\theta$."
   ]
  },
  {
   "cell_type": "code",
   "execution_count": 136,
   "metadata": {
    "collapsed": true
   },
   "outputs": [],
   "source": [
    "THRESHOLDS = [1.0, 0.95, 0.9, 0.85, 0.8, 0.75, 0.7, 0.65, 0.6, 0.55, 0.5,\n",
    "              0.45, 0.4, 0.35, 0.3, 0.25, 0.2, 0.15, 0.1, 0.05, 0.0]\n",
    "def generate_different_dataset_versions(dataset):\n",
    "    pruned_datasets = []\n",
    "    for thresh in THRESHOLDS:\n",
    "        pruned_datasets.append(dataset.loc[dataset['containment_fraction'] >= thresh])\n",
    "    return pruned_datasets"
   ]
  },
  {
   "cell_type": "code",
   "execution_count": 137,
   "metadata": {
    "collapsed": true
   },
   "outputs": [],
   "source": [
    "training_datasets_different_theta = generate_different_dataset_versions(training)"
   ]
  },
  {
   "cell_type": "code",
   "execution_count": 138,
   "metadata": {
    "collapsed": false
   },
   "outputs": [],
   "source": [
    "test_datasets_different_theta = generate_different_dataset_versions(test)"
   ]
  },
  {
   "cell_type": "markdown",
   "metadata": {},
   "source": [
    "#### Now, let's train and test taking the thresholds into account."
   ]
  },
  {
   "cell_type": "code",
   "execution_count": 139,
   "metadata": {
    "collapsed": true
   },
   "outputs": [],
   "source": [
    "FEATURES = ['query_num_of_columns', 'query_num_of_rows', 'query_row_column_ratio',\n",
    "                'query_max_skewness', 'query_max_kurtosis', 'query_max_unique', \n",
    "                'candidate_num_rows', 'candidate_max_skewness', 'candidate_max_kurtosis',\n",
    "                'candidate_max_unique', 'query_target_max_pearson', \n",
    "                'query_target_max_spearman', 'query_target_max_covariance', \n",
    "                'query_target_max_mutual_info', 'candidate_target_max_pearson', \n",
    "                'candidate_target_max_spearman', 'candidate_target_max_covariance', \n",
    "                'candidate_target_max_mutual_info']"
   ]
  },
  {
   "cell_type": "code",
   "execution_count": 140,
   "metadata": {
    "collapsed": true
   },
   "outputs": [],
   "source": [
    "from sklearn.preprocessing import StandardScaler\n",
    "\n",
    "NORMALIZABLE_FEATURES = ['query_num_of_columns', 'query_num_of_rows', 'query_row_column_ratio',\n",
    "                'query_max_skewness', 'query_max_kurtosis', 'query_max_unique', \n",
    "                'candidate_num_rows', 'candidate_max_skewness', 'candidate_max_kurtosis',\n",
    "                'candidate_max_unique', 'query_target_max_covariance', \n",
    "                'query_target_max_mutual_info', 'candidate_target_max_covariance', \n",
    "                'candidate_target_max_mutual_info']\n",
    "\n",
    "def normalize_dataset(dataset):\n",
    "    standard_scaler = StandardScaler()\n",
    "    for feature in NORMALIZABLE_FEATURES:\n",
    "        dataset[feature] = standard_scaler.fit_transform(np.array(dataset[feature]).reshape(-1, 1))\n",
    "    return dataset"
   ]
  },
  {
   "cell_type": "markdown",
   "metadata": {},
   "source": [
    "#### I'm adding a simple normalization method here but I'm not sure about how we should use it to normalize test data. Should we normalize candidate features considering only candidates for a same query? And how should we normalize the query features (I know there's only one candidate per query here, but there are cases where there are many)? In a practical scenario, we only get one query at a time, so we won't have much of a \"reference\" against which we can normalize query features."
   ]
  },
  {
   "cell_type": "code",
   "execution_count": 141,
   "metadata": {
    "collapsed": false
   },
   "outputs": [],
   "source": [
    "def calculate_performance_for_different_training_and_test_pairs(training_datasets, test_datasets):\n",
    "    rf = RandomForestClassifier(n_estimators=100, random_state=42)\n",
    "    for training, test in zip(training_datasets, test_datasets):\n",
    "        normed_training = normalize_dataset(training)\n",
    "        normed_training['class'] = ['gain' if row['gain_in_r2_score'] > 0 else 'loss' for index, row in normed_training.iterrows()]\n",
    "        normed_test = normalize_dataset(test)\n",
    "        normed_test['class'] = ['gain' if row['gain_in_r2_score'] > 0 else 'loss' for index, row in normed_test.iterrows()]\n",
    "        rf.fit(normed_training[FEATURES], normed_training['class'])\n",
    "        preds = rf.predict(normed_test[FEATURES])\n",
    "        print(classification_report(normed_test['class'], preds))"
   ]
  },
  {
   "cell_type": "code",
   "execution_count": 142,
   "metadata": {
    "collapsed": false,
    "scrolled": false
   },
   "outputs": [
    {
     "name": "stderr",
     "output_type": "stream",
     "text": [
      "/Users/alibezz/anaconda/lib/python2.7/site-packages/ipykernel/__main__.py:13: SettingWithCopyWarning: \n",
      "A value is trying to be set on a copy of a slice from a DataFrame.\n",
      "Try using .loc[row_indexer,col_indexer] = value instead\n",
      "\n",
      "See the caveats in the documentation: http://pandas.pydata.org/pandas-docs/stable/indexing.html#indexing-view-versus-copy\n",
      "/Users/alibezz/anaconda/lib/python2.7/site-packages/ipykernel/__main__.py:5: SettingWithCopyWarning: \n",
      "A value is trying to be set on a copy of a slice from a DataFrame.\n",
      "Try using .loc[row_indexer,col_indexer] = value instead\n",
      "\n",
      "See the caveats in the documentation: http://pandas.pydata.org/pandas-docs/stable/indexing.html#indexing-view-versus-copy\n",
      "/Users/alibezz/anaconda/lib/python2.7/site-packages/ipykernel/__main__.py:7: SettingWithCopyWarning: \n",
      "A value is trying to be set on a copy of a slice from a DataFrame.\n",
      "Try using .loc[row_indexer,col_indexer] = value instead\n",
      "\n",
      "See the caveats in the documentation: http://pandas.pydata.org/pandas-docs/stable/indexing.html#indexing-view-versus-copy\n"
     ]
    },
    {
     "name": "stdout",
     "output_type": "stream",
     "text": [
      "              precision    recall  f1-score   support\n",
      "\n",
      "        gain       0.65      0.78      0.71      1960\n",
      "        loss       0.52      0.37      0.43      1305\n",
      "\n",
      "   micro avg       0.61      0.61      0.61      3265\n",
      "   macro avg       0.59      0.57      0.57      3265\n",
      "weighted avg       0.60      0.61      0.60      3265\n",
      "\n",
      "              precision    recall  f1-score   support\n",
      "\n",
      "        gain       0.65      0.78      0.71      1962\n",
      "        loss       0.52      0.35      0.42      1310\n",
      "\n",
      "   micro avg       0.61      0.61      0.61      3272\n",
      "   macro avg       0.58      0.57      0.56      3272\n",
      "weighted avg       0.60      0.61      0.59      3272\n",
      "\n",
      "              precision    recall  f1-score   support\n",
      "\n",
      "        gain       0.65      0.78      0.71      1967\n",
      "        loss       0.53      0.37      0.44      1314\n",
      "\n",
      "   micro avg       0.62      0.62      0.62      3281\n",
      "   macro avg       0.59      0.58      0.57      3281\n",
      "weighted avg       0.60      0.62      0.60      3281\n",
      "\n",
      "              precision    recall  f1-score   support\n",
      "\n",
      "        gain       0.63      0.81      0.71      1972\n",
      "        loss       0.50      0.29      0.37      1315\n",
      "\n",
      "   micro avg       0.60      0.60      0.60      3287\n",
      "   macro avg       0.56      0.55      0.54      3287\n",
      "weighted avg       0.58      0.60      0.57      3287\n",
      "\n",
      "              precision    recall  f1-score   support\n",
      "\n",
      "        gain       0.65      0.71      0.68      1977\n",
      "        loss       0.50      0.44      0.47      1323\n",
      "\n",
      "   micro avg       0.60      0.60      0.60      3300\n",
      "   macro avg       0.58      0.57      0.58      3300\n",
      "weighted avg       0.59      0.60      0.60      3300\n",
      "\n",
      "              precision    recall  f1-score   support\n",
      "\n",
      "        gain       0.63      0.77      0.69      1983\n",
      "        loss       0.49      0.33      0.40      1331\n",
      "\n",
      "   micro avg       0.59      0.59      0.59      3314\n",
      "   macro avg       0.56      0.55      0.54      3314\n",
      "weighted avg       0.57      0.59      0.57      3314\n",
      "\n",
      "              precision    recall  f1-score   support\n",
      "\n",
      "        gain       0.66      0.66      0.66      1991\n",
      "        loss       0.49      0.48      0.49      1333\n",
      "\n",
      "   micro avg       0.59      0.59      0.59      3324\n",
      "   macro avg       0.57      0.57      0.57      3324\n",
      "weighted avg       0.59      0.59      0.59      3324\n",
      "\n",
      "              precision    recall  f1-score   support\n",
      "\n",
      "        gain       0.65      0.69      0.67      2007\n",
      "        loss       0.49      0.44      0.47      1342\n",
      "\n",
      "   micro avg       0.59      0.59      0.59      3349\n",
      "   macro avg       0.57      0.57      0.57      3349\n",
      "weighted avg       0.59      0.59      0.59      3349\n",
      "\n",
      "              precision    recall  f1-score   support\n",
      "\n",
      "        gain       0.65      0.77      0.71      2026\n",
      "        loss       0.53      0.39      0.45      1350\n",
      "\n",
      "   micro avg       0.62      0.62      0.62      3376\n",
      "   macro avg       0.59      0.58      0.58      3376\n",
      "weighted avg       0.60      0.62      0.60      3376\n",
      "\n",
      "              precision    recall  f1-score   support\n",
      "\n",
      "        gain       0.63      0.75      0.69      2030\n",
      "        loss       0.48      0.35      0.41      1357\n",
      "\n",
      "   micro avg       0.59      0.59      0.59      3387\n",
      "   macro avg       0.56      0.55      0.55      3387\n",
      "weighted avg       0.57      0.59      0.58      3387\n",
      "\n",
      "              precision    recall  f1-score   support\n",
      "\n",
      "        gain       0.67      0.62      0.64      2050\n",
      "        loss       0.49      0.54      0.51      1371\n",
      "\n",
      "   micro avg       0.59      0.59      0.59      3421\n",
      "   macro avg       0.58      0.58      0.58      3421\n",
      "weighted avg       0.60      0.59      0.59      3421\n",
      "\n",
      "              precision    recall  f1-score   support\n",
      "\n",
      "        gain       0.66      0.70      0.68      2072\n",
      "        loss       0.50      0.45      0.48      1386\n",
      "\n",
      "   micro avg       0.60      0.60      0.60      3458\n",
      "   macro avg       0.58      0.57      0.58      3458\n",
      "weighted avg       0.59      0.60      0.60      3458\n",
      "\n",
      "              precision    recall  f1-score   support\n",
      "\n",
      "        gain       0.64      0.70      0.67      2082\n",
      "        loss       0.48      0.41      0.45      1395\n",
      "\n",
      "   micro avg       0.59      0.59      0.59      3477\n",
      "   macro avg       0.56      0.56      0.56      3477\n",
      "weighted avg       0.58      0.59      0.58      3477\n",
      "\n",
      "              precision    recall  f1-score   support\n",
      "\n",
      "        gain       0.67      0.60      0.63      2101\n",
      "        loss       0.48      0.56      0.52      1410\n",
      "\n",
      "   micro avg       0.58      0.58      0.58      3511\n",
      "   macro avg       0.57      0.58      0.57      3511\n",
      "weighted avg       0.59      0.58      0.58      3511\n",
      "\n",
      "              precision    recall  f1-score   support\n",
      "\n",
      "        gain       0.70      0.54      0.61      2126\n",
      "        loss       0.49      0.65      0.56      1432\n",
      "\n",
      "   micro avg       0.58      0.58      0.58      3558\n",
      "   macro avg       0.59      0.59      0.58      3558\n",
      "weighted avg       0.61      0.58      0.59      3558\n",
      "\n",
      "              precision    recall  f1-score   support\n",
      "\n",
      "        gain       0.66      0.63      0.64      2145\n",
      "        loss       0.49      0.52      0.50      1456\n",
      "\n",
      "   micro avg       0.59      0.59      0.59      3601\n",
      "   macro avg       0.57      0.57      0.57      3601\n",
      "weighted avg       0.59      0.59      0.59      3601\n",
      "\n",
      "              precision    recall  f1-score   support\n",
      "\n",
      "        gain       0.67      0.56      0.61      2161\n",
      "        loss       0.49      0.60      0.54      1483\n",
      "\n",
      "   micro avg       0.58      0.58      0.58      3644\n",
      "   macro avg       0.58      0.58      0.57      3644\n",
      "weighted avg       0.60      0.58      0.58      3644\n",
      "\n",
      "              precision    recall  f1-score   support\n",
      "\n",
      "        gain       0.66      0.62      0.64      2197\n",
      "        loss       0.49      0.54      0.51      1502\n",
      "\n",
      "   micro avg       0.59      0.59      0.59      3699\n",
      "   macro avg       0.58      0.58      0.58      3699\n",
      "weighted avg       0.59      0.59      0.59      3699\n",
      "\n",
      "              precision    recall  f1-score   support\n",
      "\n",
      "        gain       0.68      0.55      0.61      2227\n",
      "        loss       0.49      0.63      0.55      1527\n",
      "\n",
      "   micro avg       0.58      0.58      0.58      3754\n",
      "   macro avg       0.58      0.59      0.58      3754\n",
      "weighted avg       0.60      0.58      0.58      3754\n",
      "\n",
      "              precision    recall  f1-score   support\n",
      "\n",
      "        gain       0.68      0.51      0.58      2267\n",
      "        loss       0.48      0.65      0.55      1579\n",
      "\n",
      "   micro avg       0.57      0.57      0.57      3846\n",
      "   macro avg       0.58      0.58      0.57      3846\n",
      "weighted avg       0.60      0.57      0.57      3846\n",
      "\n",
      "              precision    recall  f1-score   support\n",
      "\n",
      "        gain       0.65      0.58      0.61      2496\n",
      "        loss       0.49      0.57      0.53      1780\n",
      "\n",
      "   micro avg       0.57      0.57      0.57      4276\n",
      "   macro avg       0.57      0.57      0.57      4276\n",
      "weighted avg       0.59      0.57      0.58      4276\n",
      "\n"
     ]
    }
   ],
   "source": [
    "calculate_performance_for_different_training_and_test_pairs(training_datasets_different_theta, test_datasets_different_theta)"
   ]
  },
  {
   "cell_type": "code",
   "execution_count": 182,
   "metadata": {
    "collapsed": true
   },
   "outputs": [],
   "source": [
    "import numpy as np\n",
    "import matplotlib.pyplot as plt\n",
    "\n",
    "def plot_fmeasures_and_supports(fmeasures, supports, title):\n",
    "  fig, ax1 = plt.subplots()\n",
    "  color = '#1d3557'\n",
    "  ax1.set_xlabel(r'Threshold $\\theta$')\n",
    "  ax1.xaxis.label.set_size(16)\n",
    "  #ax1.set_xlim(xmin=0.248,xmax=0.652)\n",
    "  #extraticks = [0.25, 0.35, 0.45, 0.55, 0.65]\n",
    "  #ax1.set_xticks(extraticks) #list(ax1.get_xticks()) +\n",
    "  ax1.set_ylabel(r'Support', color=color) # ($\\ln$)\n",
    "  ax1.yaxis.label.set_size(16)\n",
    "  ax1.plot(THRESHOLDS, supports, 'o--', dashes=(5,10), color=color, linewidth=3, label='support')\n",
    "  ax1.tick_params(axis='y', labelcolor=color, labelsize=12)\n",
    "  ax1.tick_params(axis='x',  labelsize=12)\n",
    "\n",
    "  ax2 = ax1.twinx()  # instantiate a second axes that shares the same x-axis\n",
    "  #ax2.set_xlim(xmin=0.248,xmax=0.652)\n",
    "  ax2.xaxis.label.set_size(16)\n",
    "  #ax2.set_xticks(list(ax2.get_xticks()) + extraticks)\n",
    "  color = '#e63946'\n",
    "  ax2.set_ylabel(r'F-measure', color=color)  # we already handled the x-label with ax1\n",
    "  ax2.yaxis.label.set_size(16)\n",
    "  #ax2.set_ylim(ymin=0.475,ymax=0.585)\n",
    "  ax2.plot(THRESHOLDS, fmeasures, 'o-', color=color, linewidth=3, label='f-measure')\n",
    "  ax2.tick_params(axis='y', labelcolor=color, labelsize=12)\n",
    "  ax2.tick_params(axis='x',  labelsize=12)\n",
    "  plt.title(title)\n",
    "  fig.tight_layout()  # otherwise the right y-label is slightly clipped\n",
    "  plt.savefig('varying-containment.png', dpi=600)\n",
    "  plt.show()\n"
   ]
  },
  {
   "cell_type": "markdown",
   "metadata": {},
   "source": [
    "#### Note that the f-score increases as the containment ratio threshold increases as well... Let's plot support and f-measure."
   ]
  },
  {
   "cell_type": "code",
   "execution_count": 184,
   "metadata": {
    "collapsed": false
   },
   "outputs": [
    {
     "data": {
      "image/png": "[encoded data removed]",
      "text/plain": [
       "<matplotlib.figure.Figure at 0x15b3f2c10>"
      ]
     },
     "metadata": {},
     "output_type": "display_data"
    }
   ],
   "source": [
    "fmeasures = [0.71, 0.71, 0.71, 0.71, 0.68, 0.69, 0.66, 0.67, 0.71, \n",
    "             0.69, 0.64, 0.68, 0.67, 0.63, 0.61, 0.64, 0.61, 0.64, 0.61, 0.58, 0.61]\n",
    "positive_supports = [1960, 1962, 1967, 1972, 1977, 1983, 1991, 2007, 2026, 2030, 2050, 2072, \n",
    "            2082, 2101, 2126, 2145, 2161, 2197, 2227, 2267, 2496]\n",
    "supports = [3265, 3272, 3281, 3287, 3300, 3314, 3324, 3349, 3376, 3387, 3421, 3458,\n",
    "            3477, 3511, 3558, 3601, 3644, 3699, 3754, 3846, 4276]\n",
    "plot_fmeasures_and_supports(fmeasures, supports, 'OpenML-Test')"
   ]
  },
  {
   "cell_type": "markdown",
   "metadata": {},
   "source": [
    "#### Note that there is an ascending trend in the F-Measure, but it is hard to know where to \"cut\" here: 0.3? 0.4? 0.5? For now, we'll use $\\theta$ == 0.6 for all experiments."
   ]
  },
  {
   "cell_type": "code",
   "execution_count": 147,
   "metadata": {
    "collapsed": false
   },
   "outputs": [],
   "source": [
    "# datasets \n",
    "\n",
    "pruned_training = training_datasets_different_theta[8]\n",
    "pruned_test = test_datasets_different_theta[8]\n"
   ]
  },
  {
   "cell_type": "code",
   "execution_count": 148,
   "metadata": {
    "collapsed": false
   },
   "outputs": [
    {
     "data": {
      "text/plain": [
       "(7932, 36)"
      ]
     },
     "execution_count": 148,
     "metadata": {},
     "output_type": "execute_result"
    }
   ],
   "source": [
    "pruned_training.shape"
   ]
  },
  {
   "cell_type": "code",
   "execution_count": 149,
   "metadata": {
    "collapsed": false
   },
   "outputs": [
    {
     "data": {
      "text/plain": [
       "(3376, 36)"
      ]
     },
     "execution_count": 149,
     "metadata": {},
     "output_type": "execute_result"
    }
   ],
   "source": [
    "pruned_test.shape"
   ]
  },
  {
   "cell_type": "code",
   "execution_count": 150,
   "metadata": {
    "collapsed": false
   },
   "outputs": [
    {
     "data": {
      "text/plain": [
       "(4774, 36)"
      ]
     },
     "execution_count": 150,
     "metadata": {},
     "output_type": "execute_result"
    }
   ],
   "source": [
    "pruned_training.loc[pruned_training['class'] == 'gain'].shape\n"
   ]
  },
  {
   "cell_type": "code",
   "execution_count": 151,
   "metadata": {
    "collapsed": false
   },
   "outputs": [
    {
     "data": {
      "text/plain": [
       "(2026, 36)"
      ]
     },
     "execution_count": 151,
     "metadata": {},
     "output_type": "execute_result"
    }
   ],
   "source": [
    "pruned_test.loc[pruned_test['class'] == 'gain'].shape"
   ]
  },
  {
   "cell_type": "markdown",
   "metadata": {},
   "source": [
    "#### Let's compare the results we obtained with $\\theta$ = 0.6 against other methodologies (one with added noise and one with many candidates per query, both also using threshold $\\theta$ = 0.6.\n",
    "\n",
    "#### It was taking too long to get results for the \"many-candidates\" methodology on this notebook, so I generated the results on ipython on my terminal and attached them below as text."
   ]
  },
  {
   "cell_type": "code",
   "execution_count": 154,
   "metadata": {
    "collapsed": false
   },
   "outputs": [],
   "source": [
    "THETA = 0.6\n",
    "\n",
    "training_official = pruned_training\n",
    "\n",
    "training_noise = pd.read_csv('training-with-noise-data-generation.csv')\n",
    "training_noise = training_noise.loc[training_noise['containment_fraction'] >= THETA]\n",
    "training_noise = normalize_dataset(training_noise)\n",
    "training_noise['class'] = ['gain' if row['gain_in_r2_score'] > 0 else 'loss' for index, row in training_noise.iterrows()]\n",
    "\n",
    "test = pruned_test"
   ]
  },
  {
   "cell_type": "code",
   "execution_count": 155,
   "metadata": {
    "collapsed": false
   },
   "outputs": [
    {
     "name": "stdout",
     "output_type": "stream",
     "text": [
      "              precision    recall  f1-score   support\n",
      "\n",
      "        gain       0.65      0.77      0.71      2026\n",
      "        loss       0.53      0.39      0.45      1350\n",
      "\n",
      "   micro avg       0.62      0.62      0.62      3376\n",
      "   macro avg       0.59      0.58      0.58      3376\n",
      "weighted avg       0.60      0.62      0.60      3376\n",
      "\n"
     ]
    }
   ],
   "source": [
    "rf_official = RandomForestClassifier(n_estimators=100, random_state=42)\n",
    "rf_official.fit(training_official[FEATURES], training_official['class'])\n",
    "preds = rf_official.predict(test[FEATURES])\n",
    "print(classification_report(test['class'], preds))"
   ]
  },
  {
   "cell_type": "code",
   "execution_count": 156,
   "metadata": {
    "collapsed": false
   },
   "outputs": [
    {
     "name": "stdout",
     "output_type": "stream",
     "text": [
      "              precision    recall  f1-score   support\n",
      "\n",
      "        gain       0.67      0.58      0.62      2026\n",
      "        loss       0.48      0.58      0.52      1350\n",
      "\n",
      "   micro avg       0.58      0.58      0.58      3376\n",
      "   macro avg       0.58      0.58      0.57      3376\n",
      "weighted avg       0.59      0.58      0.58      3376\n",
      "\n"
     ]
    }
   ],
   "source": [
    "rf_noise = RandomForestClassifier(n_estimators=100, random_state=42)\n",
    "rf_noise.fit(training_noise[FEATURES], training_noise['class'])\n",
    "preds = rf_noise.predict(test[FEATURES])\n",
    "print(classification_report(test['class'], preds))"
   ]
  },
  {
   "cell_type": "markdown",
   "metadata": {},
   "source": [
    "#### Results for \"many candidates\" methodology:\n",
    "\n",
    "                precision    recall  f1-score   support\n",
    "\n",
    "        gain       0.69      0.59      0.63      2026\n",
    "        loss       0.49      0.60      0.54      1350\n",
    "\n",
    "    accuracy                           0.59      3376\n"
   ]
  },
  {
   "cell_type": "markdown",
   "metadata": {},
   "source": [
    "#### Let's check the percentage of successful and unsuccessful augmentations for all these different datasets"
   ]
  },
  {
   "cell_type": "code",
   "execution_count": 158,
   "metadata": {
    "collapsed": false
   },
   "outputs": [
    {
     "name": "stdout",
     "output_type": "stream",
     "text": [
      "('training_official -- number of rows', 7932, 'positive augs', 0.6018658598083712, 'negative augs', 0.39813414019162885)\n"
     ]
    }
   ],
   "source": [
    "print('training_official -- number of rows', training_official.shape[0], \n",
    "      'positive augs', float(training_official.loc[training_official['class'] == 'gain'].shape[0])/training_official.shape[0],\n",
    "      'negative augs', float(training_official.loc[training_official['class'] == 'loss'].shape[0])/training_official.shape[0])"
   ]
  },
  {
   "cell_type": "code",
   "execution_count": 160,
   "metadata": {
    "collapsed": false
   },
   "outputs": [
    {
     "name": "stdout",
     "output_type": "stream",
     "text": [
      "('test -- number of rows', 3376, 'positive augs', 0.6001184834123223, 'negative augs', 0.39988151658767773)\n"
     ]
    }
   ],
   "source": [
    "print('test -- number of rows', test.shape[0], \n",
    "      'positive augs', float(test.loc[test['class'] == 'gain'].shape[0])/test.shape[0],\n",
    "      'negative augs', float(test.loc[test['class'] == 'loss'].shape[0])/test.shape[0])"
   ]
  },
  {
   "cell_type": "code",
   "execution_count": 161,
   "metadata": {
    "collapsed": false
   },
   "outputs": [
    {
     "name": "stdout",
     "output_type": "stream",
     "text": [
      "('training_noise -- number of rows', 5013, 'positive augs', 0.5344105326152004, 'negative augs', 0.4655894673847995)\n"
     ]
    }
   ],
   "source": [
    "print('training_noise -- number of rows', training_noise.shape[0], \n",
    "      'positive augs', float(training_noise.loc[training_noise['class'] == 'gain'].shape[0])/training_noise.shape[0],\n",
    "      'negative augs', float(training_noise.loc[training_noise['class'] == 'loss'].shape[0])/training_noise.shape[0])"
   ]
  },
  {
   "cell_type": "markdown",
   "metadata": {},
   "source": [
    "#### For the \"many candidates\" methodology, we have 1266624 rows, 48% positive and 52% negative. "
   ]
  },
  {
   "cell_type": "markdown",
   "metadata": {},
   "source": [
    "#### Let's see which features are most important for rf_official"
   ]
  },
  {
   "cell_type": "code",
   "execution_count": 185,
   "metadata": {
    "collapsed": false
   },
   "outputs": [
    {
     "name": "stdout",
     "output_type": "stream",
     "text": [
      "[('candidate_target_max_pearson', 0.09849076660016301), ('candidate_target_max_spearman', 0.093891223467264806), ('query_row_column_ratio', 0.084648388295422872), ('candidate_max_kurtosis', 0.072043177646632109), ('candidate_max_skewness', 0.071957849734316112), ('query_target_max_pearson', 0.065146565909157794), ('query_num_of_columns', 0.063862975637207692), ('query_target_max_spearman', 0.063816214443990132), ('query_max_kurtosis', 0.062124549907949252), ('query_max_skewness', 0.05720125836070155), ('candidate_target_max_mutual_info', 0.048621110687740832), ('candidate_max_unique', 0.042091229099697536), ('candidate_num_rows', 0.037575249540447088), ('query_target_max_mutual_info', 0.036941819371807606), ('query_max_unique', 0.036890812702596948), ('query_num_of_rows', 0.024573660137982397), ('query_target_max_covariance', 0.021799436516301448), ('candidate_target_max_covariance', 0.018323711940620838)]\n"
     ]
    }
   ],
   "source": [
    "print(sorted([(i, j) for i, j in zip(FEATURES, rf_official.feature_importances_)],\n",
    "            key=lambda x: x[1], reverse=True))"
   ]
  },
  {
   "cell_type": "markdown",
   "metadata": {},
   "source": [
    "#### Let's compare rf_official with a few baselines now. Let's start with a hierarchical one."
   ]
  },
  {
   "cell_type": "code",
   "execution_count": 191,
   "metadata": {
    "collapsed": false
   },
   "outputs": [
    {
     "name": "stdout",
     "output_type": "stream",
     "text": [
      "              precision    recall  f1-score   support\n",
      "\n",
      "        gain       0.65      0.47      0.54      2026\n",
      "        loss       0.44      0.62      0.51      1350\n",
      "\n",
      "   micro avg       0.53      0.53      0.53      3376\n",
      "   macro avg       0.54      0.54      0.53      3376\n",
      "weighted avg       0.56      0.53      0.53      3376\n",
      "\n"
     ]
    }
   ],
   "source": [
    "DATASET_QUERY_FEATURES = ['query_target_max_pearson', \n",
    "                'query_target_max_spearman', 'query_target_max_covariance', \n",
    "                'query_target_max_mutual_info', 'candidate_target_max_pearson', \n",
    "                'candidate_target_max_spearman', 'candidate_target_max_covariance', \n",
    "                'candidate_target_max_mutual_info']\n",
    "\n",
    "DATASET_FEATURES = ['query_num_of_columns', 'query_num_of_rows', 'query_row_column_ratio',\n",
    "                'query_max_skewness', 'query_max_kurtosis', 'query_max_unique', \n",
    "                'candidate_num_rows', 'candidate_max_skewness', 'candidate_max_kurtosis',\n",
    "                'candidate_max_unique']\n",
    "\n",
    "\n",
    "rf_dataset_query_features = RandomForestClassifier(n_estimators=100, random_state=42)\n",
    "rf_dataset_query_features.fit(training_official[DATASET_QUERY_FEATURES], training_official['class'])\n",
    "preds_dataset_query_features = rf_dataset_query_features.predict(test[DATASET_QUERY_FEATURES])\n",
    "\n",
    "rf_dataset_features = RandomForestClassifier(n_estimators=100, random_state=42)\n",
    "rf_dataset_features.fit(training_official[DATASET_FEATURES], training_official['class'])\n",
    "preds_dataset_features = rf_dataset_features.predict(test[DATASET_FEATURES])\n",
    "\n",
    "preds = ['gain' if i == 'gain' and j == 'gain' else 'loss' for i, j in zip(preds_dataset_query_features, preds_dataset_features)]\n",
    "print(classification_report(test['class'], preds))"
   ]
  },
  {
   "cell_type": "code",
   "execution_count": 202,
   "metadata": {
    "collapsed": false
   },
   "outputs": [
    {
     "name": "stdout",
     "output_type": "stream",
     "text": [
      "              precision    recall  f1-score   support\n",
      "\n",
      "        gain       0.66      0.63      0.65      2026\n",
      "        loss       0.48      0.52      0.50      1350\n",
      "\n",
      "   micro avg       0.59      0.59      0.59      3376\n",
      "   macro avg       0.57      0.58      0.57      3376\n",
      "weighted avg       0.59      0.59      0.59      3376\n",
      "\n"
     ]
    }
   ],
   "source": [
    "from scipy.spatial.distance import euclidean\n",
    "import random\n",
    "\n",
    "positive_centroid = training_official.loc[training_official['class'] == 'gain'][FEATURES].mean()\n",
    "negative_centroid = training_official.loc[training_official['class'] == 'loss'][FEATURES].mean()\n",
    "\n",
    "preds = []\n",
    "for index, row in test.iterrows():\n",
    "    dist_pos = euclidean(positive_centroid, row[FEATURES])\n",
    "    dist_neg = euclidean(negative_centroid, row[FEATURES])\n",
    "    if dist_pos < dist_neg:\n",
    "        preds.append('gain')\n",
    "    else: \n",
    "        preds.append('loss')\n",
    "print(classification_report(test['class'], preds))"
   ]
  },
  {
   "cell_type": "markdown",
   "metadata": {},
   "source": [
    "#### Now let's check the probability distribution of predictions for test with rf_official"
   ]
  },
  {
   "cell_type": "code",
   "execution_count": 205,
   "metadata": {
    "collapsed": false
   },
   "outputs": [
    {
     "name": "stdout",
     "output_type": "stream",
     "text": [
      "[0.54000000000000004, 0.53000000000000003, 0.54000000000000004, 0.56999999999999995, 0.48999999999999999, 0.56000000000000005, 0.52000000000000002, 0.56999999999999995, 0.69999999999999996, 0.51000000000000001, 0.44, 0.60999999999999999, 0.66000000000000003, 0.40999999999999998, 0.53000000000000003, 0.69499999999999995, 0.48999999999999999, 0.59166666666666667, 0.83999999999999997, 0.77000000000000002, 0.53000000000000003, 0.63, 0.57999999999999996, 0.44, 0.42999999999999999, 0.46000000000000002, 0.46999999999999997, 0.56999999999999995, 0.49333333333333335, 0.55333333333333323, 0.54000000000000004, 0.45000000000000001, 0.79000000000000004, 0.46000000000000002, 0.58999999999999997, 0.68999999999999995, 0.44500000000000001, 0.48999999999999999, 0.41999999999999998, 0.68000000000000005, 0.47999999999999998, 0.55333333333333323, 0.57999999999999996, 0.48999999999999999, 0.46999999999999997, 0.47999999999999998, 0.78000000000000003, 0.47999999999999998, 0.53000000000000003, 0.71250000000000002, 0.63, 0.44, 0.48999999999999999, 0.81000000000000005, 0.47999999999999998, 0.51000000000000001, 0.44, 0.44, 0.46999999999999997, 0.41999999999999998, 0.46999999999999997, 0.55000000000000004, 0.55000000000000004, 0.46999999999999997, 0.44, 0.42999999999999999, 0.39000000000000001, 0.56000000000000005, 0.58999999999999997, 0.42999999999999999, 0.46000000000000002, 0.46666666666666662, 0.55000000000000004, 0.42999999999999999, 0.51000000000000001, 0.52000000000000002, 0.58999999999999997, 0.5, 0.5, 0.47999999999999998, 0.67249999999999999, 0.41999999999999998, 0.68999999999999995, 0.62, 0.59499999999999997, 0.40999999999999998, 0.68000000000000005, 0.54000000000000004, 0.56000000000000005, 0.62, 0.59999999999999998, 0.53000000000000003, 0.53000000000000003, 0.5, 0.59999999999999998, 0.58999999999999997, 0.58999999999999997, 0.47999999999999998, 0.68500000000000005, 0.81999999999999995, 0.53666666666666674, 0.54000000000000004, 0.45000000000000001, 0.54000000000000004, 0.90000000000000002, 0.59999999999999998, 0.53000000000000003, 0.47499999999999998, 0.5, 0.51000000000000001, 0.5, 0.70999999999999996, 0.40000000000000002, 0.52000000000000002, 0.57999999999999996, 0.57999999999999996, 0.52000000000000002, 0.67000000000000004, 0.53000000000000003, 0.53000000000000003, 0.41499999999999998, 0.51000000000000001, 0.77000000000000002, 0.5, 0.85999999999999999, 0.53000000000000003, 0.63, 0.62, 0.71999999999999997, 0.56999999999999995, 0.69999999999999996, 0.44, 0.47999999999999998, 0.57999999999999996, 0.46999999999999997, 0.71999999999999997, 0.70999999999999996, 0.77000000000000002, 0.57999999999999996, 0.38, 0.52000000000000002, 0.32000000000000001, 0.48999999999999999, 0.40000000000000002, 0.65000000000000002, 0.60999999999999999, 0.56999999999999995, 0.48999999999999999, 0.48999999999999999, 0.66333333333333344, 0.5, 0.63, 0.39000000000000001, 0.53000000000000003, 0.5, 0.48999999999999999, 0.39000000000000001, 0.60999999999999999, 0.59999999999999998, 0.56999999999999995, 0.71999999999999997, 0.62, 0.73999999999999999, 0.51000000000000001, 0.43833333333333335, 0.46333333333333337, 0.51000000000000001, 0.69999999999999996, 0.54000000000000004, 0.58999999999999997, 0.40999999999999998, 0.58999999999999997, 0.5, 0.40999999999999998, 0.54000000000000004, 0.51333333333333331, 0.88, 0.72999999999999998, 0.47999999999999998, 0.45000000000000001, 0.51333333333333331, 0.56000000000000005, 0.59999999999999998, 0.67000000000000004, 0.53000000000000003, 0.39000000000000001, 0.41999999999999998, 0.57999999999999996, 0.36249999999999999, 0.48999999999999999, 0.92000000000000004, 0.44, 0.46999999999999997, 0.64000000000000001, 0.62, 0.44, 0.57999999999999996, 0.69999999999999996, 0.75, 0.45000000000000001, 0.45000000000000001, 0.44, 0.46000000000000002, 0.5033333333333333, 0.47999999999999998, 0.72999999999999998, 0.56000000000000005, 0.41333333333333327, 0.65000000000000002, 0.47333333333333338, 0.47999999999999998, 0.59333333333333338, 0.46999999999999997, 0.52000000000000002, 0.62, 0.52000000000000002, 0.48999999999999999, 0.44, 0.47999999999999998, 0.53000000000000003, 0.56999999999999995, 0.49333333333333329, 0.76000000000000001, 0.58999999999999997, 0.56999999999999995, 0.5, 0.52000000000000002, 0.42999999999999999, 0.69999999999999996, 0.53000000000000003, 0.44, 0.44, 0.68999999999999995, 0.46000000000000002, 0.65000000000000002, 0.40999999999999998, 0.35999999999999999, 0.59999999999999998, 0.48999999999999999, 0.44500000000000001, 0.59999999999999998, 0.58999999999999997, 0.54000000000000004, 0.51000000000000001, 0.57999999999999996, 0.45000000000000001, 0.46000000000000002, 0.56999999999999995, 0.42999999999999999, 0.48999999999999999, 0.41499999999999998, 0.46000000000000002, 0.45000000000000001, 0.59999999999999998, 0.47999999999999998, 0.59999999999999998, 0.56999999999999995, 0.46000000000000002, 0.41999999999999998, 0.6166666666666667, 0.5, 0.56999999999999995, 0.5, 0.52000000000000002, 0.45000000000000001, 0.71999999999999997, 0.73999999999999999, 0.69999999999999996, 0.78000000000000003, 0.72599999999999998, 0.67000000000000004, 0.53666666666666663, 0.71999999999999997, 0.53000000000000003, 0.56999999999999995, 0.41999999999999998, 0.54000000000000004, 0.56999999999999995, 0.68999999999999995, 0.42999999999999999, 0.44, 0.52000000000000002, 0.44, 0.69999999999999996, 0.58999999999999997, 0.53000000000000003, 0.54000000000000004, 0.46999999999999997, 0.77000000000000002, 0.54000000000000004, 0.75, 0.56999999999999995, 0.57999999999999996, 0.45000000000000001, 0.67249999999999999, 0.48999999999999999, 0.52000000000000002, 0.54000000000000004, 0.46000000000000002, 0.53333333333333333, 0.47999999999999998, 0.46000000000000002, 0.47999999999999998, 0.66500000000000004, 0.59999999999999998, 0.59999999999999998, 0.48999999999999999, 0.53500000000000003, 0.54000000000000004, 0.51000000000000001, 0.4433333333333333, 0.64000000000000001, 0.51333333333333331, 0.72999999999999998, 0.57999999999999996, 0.46999999999999997, 0.55000000000000004, 0.55000000000000004, 0.45000000000000001, 0.51000000000000001, 0.81999999999999995, 0.64000000000000001, 0.60333333333333328, 0.48999999999999999, 0.53333333333333333, 0.53000000000000003, 0.56999999999999995, 0.45000000000000001, 0.66000000000000003, 0.57999999999999996, 0.55000000000000004, 0.5, 0.47999999999999998, 0.54666666666666675, 0.51000000000000001, 0.34999999999999998, 0.79000000000000004, 0.48999999999999999, 0.44, 0.40000000000000002, 0.69666666666666655, 0.62, 0.54500000000000004, 0.5, 0.56000000000000005, 0.59999999999999998, 0.48999999999999999, 0.73999999999999999, 0.41999999999999998, 0.52000000000000002, 0.45000000000000001, 0.5, 0.40999999999999998, 0.46999999999999997, 0.40000000000000002, 0.52000000000000002, 0.47999999999999998, 0.77000000000000002, 0.56000000000000005, 0.40999999999999998, 0.54000000000000004, 0.52666666666666662, 0.44, 0.62, 0.51000000000000001, 0.60999999999999999, 0.56999999999999995, 0.50333333333333341, 0.66000000000000003, 0.77000000000000002, 0.60999999999999999, 0.51000000000000001, 0.63, 0.47999999999999998, 0.52000000000000002, 0.58999999999999997, 0.60999999999999999, 0.56999999999999995, 0.55000000000000004, 0.66000000000000003, 0.85999999999999999, 0.47999999999999998, 0.59999999999999998, 0.46999999999999997, 0.48999999999999999, 0.58250000000000002, 0.54000000000000004, 0.65000000000000002, 0.55000000000000004, 0.44, 0.63, 0.56999999999999995, 0.47999999999999998, 0.60999999999999999, 0.53000000000000003, 0.65000000000000002, 0.57999999999999996, 0.42499999999999999, 0.46000000000000002, 0.72999999999999998, 0.78000000000000003, 0.5, 0.48999999999999999, 0.5, 0.5625, 0.58999999999999997, 0.68000000000000005, 0.56000000000000005, 0.56000000000000005, 0.46000000000000002, 0.67000000000000004, 0.44, 0.57999999999999996, 0.5, 0.52000000000000002, 0.37, 0.46000000000000002, 0.68999999999999995, 0.71999999999999997, 0.57999999999999996, 0.47999999999999998, 0.44, 0.40999999999999998, 0.56000000000000005, 0.54500000000000004, 0.5, 0.56000000000000005, 0.68000000000000005, 0.52000000000000002, 0.54666666666666675, 0.55333333333333334, 0.48999999999999999, 0.72999999999999998, 0.45000000000000001, 0.5, 0.3775, 0.47999999999999998, 0.80000000000000004, 0.44, 0.54000000000000004, 0.5, 0.45000000000000001, 0.54000000000000004, 0.62, 0.68000000000000005, 0.58999999999999997, 0.62, 0.73999999999999999, 0.71999999999999997, 0.55000000000000004, 0.51000000000000001, 0.62, 0.5, 0.53333333333333333, 0.53000000000000003, 0.44, 0.56999999999999995, 0.57999999999999996, 0.56999999999999995, 0.59999999999999998, 0.59999999999999998, 0.60999999999999999, 0.72999999999999998, 0.56999999999999995, 0.46999999999999997, 0.60999999999999999, 0.77000000000000002, 0.435, 0.48999999999999999, 0.80000000000000004, 0.62, 0.56000000000000005, 0.55333333333333334, 0.47999999999999998, 0.52000000000000002, 0.63, 0.5, 0.56000000000000005, 0.45000000000000001, 0.51000000000000001, 0.51000000000000001, 0.64000000000000001, 0.56999999999999995, 0.52000000000000002, 0.46999999999999997, 0.67249999999999999, 0.76000000000000001, 0.72999999999999998, 0.5, 0.53000000000000003, 0.92000000000000004, 0.46999999999999997, 0.78000000000000003, 0.62, 0.40000000000000002, 0.64000000000000001, 0.57999999999999996, 0.46000000000000002, 0.45000000000000001, 0.75, 0.39000000000000001, 0.5, 0.66000000000000003, 0.5, 0.84999999999999998, 0.59999999999999998, 0.55000000000000004, 0.46999999999999997, 0.46999999999999997, 0.59999999999999998, 0.46000000000000002, 0.67000000000000004, 0.65000000000000002, 0.62, 0.38, 0.55000000000000004, 0.79000000000000004, 0.84999999999999998, 0.52000000000000002, 0.55000000000000004, 0.90000000000000002, 0.63, 0.51000000000000001, 0.40999999999999998, 0.51000000000000001, 0.46000000000000002, 0.42999999999999999, 0.56000000000000005, 0.46999999999999997, 0.55666666666666664, 0.5, 0.51000000000000001, 0.46999999999999997, 0.5, 0.5, 0.51000000000000001, 0.63, 0.52000000000000002, 0.48999999999999999, 0.56000000000000005, 0.66000000000000003, 0.64000000000000001, 0.7433333333333334, 0.53583333333333338, 0.59999999999999998, 0.56666666666666665, 0.82999999999999996, 0.51000000000000001, 0.42999999999999999, 0.53000000000000003, 0.46000000000000002, 0.70999999999999996, 0.53000000000000003, 0.77000000000000002, 0.68000000000000005, 0.62, 0.56999999999999995, 0.52000000000000002, 0.5, 0.65000000000000002, 0.48999999999999999, 0.44, 0.55000000000000004, 0.61166666666666669, 0.48999999999999999, 0.55000000000000004, 0.53000000000000003, 0.58999999999999997, 0.68000000000000005, 0.85999999999999999, 0.62, 0.55000000000000004, 0.48999999999999999, 0.52000000000000002, 0.55000000000000004, 0.66000000000000003, 0.40999999999999998, 0.60999999999999999, 0.56999999999999995, 0.46999999999999997, 0.6825, 0.57999999999999996, 0.51000000000000001, 0.55000000000000004, 0.55000000000000004, 0.41999999999999998, 0.5, 0.56999999999999995, 0.48999999999999999, 0.48499999999999999, 0.47333333333333327, 0.81999999999999995, 0.45000000000000001, 0.58999999999999997, 0.32000000000000001, 0.47999999999999998, 0.55000000000000004, 0.59999999999999998, 0.56999999999999995, 0.64666666666666661, 0.59999999999999998, 0.76000000000000001, 0.57999999999999996, 0.53000000000000003, 0.55000000000000004, 0.53000000000000003, 0.56000000000000005, 0.53666666666666674, 0.53000000000000003, 0.56999999999999995, 0.56999999999999995, 0.93000000000000005, 0.64000000000000001, 0.52000000000000002, 0.58999999999999997, 0.63, 0.57999999999999996, 0.42999999999999999, 0.78000000000000003, 0.5, 0.52666666666666673, 0.57999999999999996, 0.54000000000000004, 0.51000000000000001, 0.47999999999999998, 0.53000000000000003, 0.60999999999999999, 0.48999999999999999, 0.81999999999999995, 0.67000000000000004, 0.75, 0.5, 0.5, 0.47999999999999998, 0.54000000000000004, 0.60999999999999999, 0.43666666666666665, 0.59999999999999998, 0.46000000000000002, 0.79000000000000004, 0.53000000000000003, 0.5, 0.63833333333333331, 0.51000000000000001, 0.5, 0.67000000000000004, 0.67000000000000004, 0.67000000000000004, 0.40500000000000003, 0.54500000000000004, 0.52000000000000002, 0.39000000000000001, 0.53666666666666674, 0.47749999999999998, 0.66000000000000003, 0.42999999999999999, 0.82999999999999996, 0.66000000000000003, 0.47999999999999998, 0.56999999999999995, 0.63, 0.76666666666666661, 0.47999999999999998, 0.56000000000000005, 0.47999999999999998, 0.63, 0.60999999999999999, 0.73999999999999999, 0.57999999999999996, 0.45000000000000001, 0.59999999999999998, 0.46000000000000002, 0.58999999999999997, 0.52000000000000002, 0.44, 0.40999999999999998, 0.48999999999999999, 0.45000000000000001, 0.46999999999999997, 0.5, 0.44, 0.47999999999999998, 0.64000000000000001, 0.60999999999999999, 0.70999999999999996, 0.47999999999999998, 0.56000000000000005, 0.42999999999999999, 0.52333333333333332, 0.53000000000000003, 0.66000000000000003, 0.59999999999999998, 0.66000000000000003, 0.44, 0.6825, 0.41999999999999998, 0.5, 0.5, 0.51000000000000001, 0.47999999999999998, 0.81999999999999995, 0.69999999999999996, 0.62250000000000005, 0.48999999999999999, 0.71999999999999997, 0.52000000000000002, 0.58999999999999997, 0.51000000000000001, 0.62, 0.48999999999999999, 0.47999999999999998, 0.53333333333333333, 0.51666666666666672, 0.48999999999999999, 0.60999999999999999, 0.54000000000000004, 0.40999999999999998, 0.55000000000000004, 0.51000000000000001, 0.60999999999999999, 0.56000000000000005, 0.54000000000000004, 0.54000000000000004, 0.46999999999999997, 0.37, 0.92000000000000004, 0.51000000000000001, 0.44, 0.51000000000000001, 0.67000000000000004, 0.51000000000000001, 0.57999999999999996, 0.56999999999999995, 0.5, 0.47999999999999998, 0.55000000000000004, 0.42999999999999999, 0.54000000000000004, 0.92000000000000004, 0.44, 0.59999999999999998, 0.51333333333333331, 0.46000000000000002, 0.46000000000000002, 0.58999999999999997, 0.55000000000000004, 0.39000000000000001, 0.53000000000000003, 0.65000000000000002, 0.51000000000000001, 0.58999999999999997, 0.66000000000000003, 0.53000000000000003, 0.40999999999999998, 0.56000000000000005, 0.77000000000000002, 0.56999999999999995, 0.41999999999999998, 0.5, 0.53000000000000003, 0.85999999999999999, 0.5, 0.57999999999999996, 0.5, 0.72999999999999998, 0.52000000000000002, 0.52000000000000002, 0.51000000000000001, 0.5, 0.68000000000000005, 0.58999999999999997, 0.54000000000000004, 0.56000000000000005, 0.40000000000000002, 0.46999999999999997, 0.56000000000000005, 0.51000000000000001, 0.40999999999999998, 0.54000000000000004, 0.60999999999999999, 0.46000000000000002, 0.57999999999999996, 0.56999999999999995, 0.54000000000000004, 0.48999999999999999, 0.64599999999999991, 0.56000000000000005, 0.41999999999999998, 0.57999999999999996, 0.58999999999999997, 0.71999999999999997, 0.57333333333333336, 0.52333333333333332, 0.46000000000000002, 0.54666666666666663, 0.52000000000000002, 0.58999999999999997, 0.45000000000000001, 0.69599999999999995, 0.53000000000000003, 0.59999999999999998, 0.59999999999999998, 0.70599999999999996, 0.54000000000000004, 0.76000000000000001, 0.48999999999999999, 0.46999999999999997, 0.44, 0.41333333333333327, 0.54000000000000004, 0.46000000000000002, 0.76000000000000001, 0.53000000000000003, 0.58999999999999997, 0.58999999999999997, 0.42999999999999999, 0.56000000000000005, 0.67000000000000004, 0.46999999999999997, 0.66000000000000003, 0.48999999999999999, 0.5, 0.55000000000000004, 0.62, 0.56999999999999995, 0.59999999999999998, 0.5, 0.46999999999999997, 0.47999999999999998, 0.47999999999999998, 0.5, 0.56499999999999995, 0.51000000000000001, 0.51000000000000001, 0.5, 0.42999999999999999, 0.55000000000000004, 0.61499999999999999, 0.53000000000000003, 0.38, 0.46999999999999997, 0.62, 0.46999999999999997, 0.48999999999999999, 0.41999999999999998, 0.66000000000000003, 0.59999999999999998, 0.72999999999999998, 0.57499999999999996, 0.52000000000000002, 0.58999999999999997, 0.42999999999999999, 0.55000000000000004, 0.41999999999999998, 0.62, 0.70999999999999996, 0.54833333333333334, 0.52000000000000002, 0.57999999999999996, 0.71999999999999997, 0.54000000000000004, 0.66000000000000003, 0.40000000000000002, 0.40999999999999998, 0.5, 0.52000000000000002, 0.40999999999999998, 0.62, 0.47999999999999998, 0.63, 0.56000000000000005, 0.47333333333333338, 0.56333333333333335, 0.46000000000000002, 0.67000000000000004, 0.42999999999999999, 0.55000000000000004, 0.53000000000000003, 0.55000000000000004, 0.68000000000000005, 0.43666666666666665, 0.54166666666666674, 0.62, 0.40000000000000002, 0.57999999999999996, 0.48999999999999999, 0.72999999999999998, 0.52000000000000002, 0.60999999999999999, 0.56000000000000005, 0.51000000000000001, 0.45000000000000001, 0.5, 0.55333333333333334, 0.55000000000000004, 0.57999999999999996, 0.67000000000000004, 0.52000000000000002, 0.63, 0.44, 0.45000000000000001, 0.56333333333333324, 0.64000000000000001, 0.46999999999999997, 0.77666666666666662, 0.58999999999999997, 0.45000000000000001, 0.46999999999999997, 0.48999999999999999, 0.55000000000000004, 0.41999999999999998, 0.62, 0.51000000000000001, 0.56000000000000005, 0.70999999999999996, 0.54000000000000004, 0.58999999999999997, 0.55333333333333323, 0.48999999999999999, 0.64000000000000001, 0.62, 0.69499999999999995, 0.66000000000000003, 0.53000000000000003, 0.47999999999999998, 0.73999999999999999, 0.67000000000000004, 0.55000000000000004, 0.48999999999999999, 0.64000000000000001, 0.56999999999999995, 0.56000000000000005, 0.50333333333333341, 0.46999999999999997, 0.69666666666666655, 0.44, 0.44, 0.51000000000000001, 0.56999999999999995, 0.54000000000000004, 0.55000000000000004, 0.57999999999999996, 0.56999999999999995, 0.59999999999999998, 0.55000000000000004, 0.45333333333333337, 0.38, 0.68999999999999995, 0.55000000000000004, 0.65000000000000002, 0.51000000000000001, 0.51000000000000001, 0.62, 0.5, 0.75, 0.52000000000000002, 0.51000000000000001, 0.53000000000000003, 0.82999999999999996, 0.48999999999999999, 0.55000000000000004, 0.5, 0.52333333333333332, 0.48999999999999999, 0.53000000000000003, 0.77000000000000002, 0.70999999999999996, 0.40000000000000002, 0.48999999999999999, 0.64000000000000001, 0.48999999999999999, 0.41999999999999998, 0.58250000000000002, 0.51000000000000001, 0.42999999999999999, 0.42999999999999999, 0.44, 0.56999999999999995, 0.88, 0.35999999999999999, 0.57999999999999996, 0.69999999999999996, 0.62, 0.47999999999999998, 0.53666666666666674, 0.40000000000000002, 0.53000000000000003, 0.47999999999999998, 0.58166666666666667, 0.46000000000000002, 0.45000000000000001, 0.47999999999999998, 0.5, 0.57333333333333325, 0.60999999999999999, 0.5, 0.58999999999999997, 0.68000000000000005, 0.51000000000000001, 0.40999999999999998, 0.5, 0.57999999999999996, 0.55000000000000004, 0.47999999999999998, 0.94999999999999996, 0.44, 0.56999999999999995, 0.70999999999999996, 0.46999999999999997, 0.88, 0.56999999999999995, 0.52166666666666672, 0.44333333333333336, 0.72999999999999998, 0.53000000000000003, 0.54000000000000004, 0.53000000000000003, 0.40000000000000002, 0.62, 0.59999999999999998, 0.66249999999999998, 0.55000000000000004, 0.46999999999999997, 0.47333333333333338, 0.44, 0.34999999999999998, 0.64000000000000001, 0.54000000000000004, 0.62, 0.43333333333333335, 0.58999999999999997, 0.59999999999999998, 0.39000000000000001, 0.52000000000000002, 0.62, 0.51333333333333331, 0.62, 0.53000000000000003, 0.59999999999999998, 0.56000000000000005, 0.56000000000000005, 0.75, 0.63, 0.51000000000000001, 0.56999999999999995, 0.51333333333333331, 0.42999999999999999, 0.68999999999999995, 0.65000000000000002, 0.44, 0.58999999999999997, 0.46999999999999997, 0.46999999999999997, 0.46000000000000002, 0.45333333333333337, 0.51000000000000001, 0.46000000000000002, 0.58999999999999997, 0.58333333333333337, 0.57499999999999996, 0.59999999999999998, 0.46999999999999997, 0.62, 0.65000000000000002, 0.47999999999999998, 0.47666666666666674, 0.56999999999999995, 0.7433333333333334, 0.60999999999999999, 0.57999999999999996, 0.70999999999999996, 0.51000000000000001, 0.72999999999999998, 0.61166666666666669, 0.58999999999999997, 0.52000000000000002, 0.55000000000000004, 0.42999999999999999, 0.66000000000000003, 0.46999999999999997, 0.52000000000000002, 0.79666666666666652, 0.47999999999999998, 0.51500000000000001, 0.55899999999999994, 0.57999999999999996, 0.45000000000000001, 0.56999999999999995, 0.64000000000000001, 0.45500000000000002, 0.56999999999999995, 0.55000000000000004, 0.46999999999999997, 0.65000000000000002, 0.56000000000000005, 0.44, 0.55000000000000004, 0.53000000000000003, 0.56333333333333335, 0.58333333333333326, 0.78666666666666663, 0.68999999999999995, 0.69999999999999996, 0.29999999999999999, 0.56000000000000005, 0.52000000000000002, 0.54000000000000004, 0.505, 0.59999999999999998, 0.46999999999999997, 0.56000000000000005, 0.46999999999999997, 0.59499999999999997, 0.52000000000000002, 0.51000000000000001, 0.66000000000000003, 0.40500000000000003, 0.48999999999999999, 0.56999999999999995, 0.45000000000000001, 0.57999999999999996, 0.79000000000000004, 0.53000000000000003, 0.59999999999999998, 0.51000000000000001, 0.51000000000000001, 0.58666666666666667, 0.56999999999999995, 0.77000000000000002, 0.73999999999999999, 0.46000000000000002, 0.55000000000000004, 0.62, 0.53000000000000003, 0.55000000000000004, 0.68999999999999995, 0.65000000000000002, 0.45000000000000001, 0.45000000000000001, 0.58999999999999997, 0.52000000000000002, 0.55000000000000004, 0.62, 0.68999999999999995, 0.53000000000000003, 0.48999999999999999, 0.40999999999999998, 0.5, 0.68999999999999995, 0.68999999999999995, 0.52000000000000002, 0.5, 0.48999999999999999, 0.67000000000000004, 0.68000000000000005, 0.58999999999999997, 0.35999999999999999, 0.47999999999999998, 0.52000000000000002, 0.77000000000000002, 0.55000000000000004, 0.73999999999999999, 0.56999999999999995, 0.44, 0.51000000000000001, 0.93999999999999995, 0.55000000000000004, 0.64000000000000001, 0.88, 0.44, 0.71999999999999997, 0.67000000000000004, 0.52000000000000002, 0.46000000000000002, 0.45000000000000001, 0.64000000000000001, 0.56999999999999995, 0.52000000000000002, 0.68000000000000005, 0.66000000000000003, 0.58999999999999997, 0.46999999999999997, 0.57333333333333325, 0.78666666666666663, 0.65000000000000002, 0.60999999999999999, 0.58999999999999997, 0.54000000000000004, 0.54000000000000004, 0.47999999999999998, 0.40999999999999998, 0.46999999999999997, 0.52000000000000002, 0.44, 0.54000000000000004, 0.54000000000000004, 0.38666666666666671, 0.45000000000000001, 0.53000000000000003, 0.57999999999999996, 0.52500000000000002, 0.46000000000000002, 0.67000000000000004, 0.64000000000000001, 0.47999999999999998, 0.47999999999999998, 0.46999999999999997, 0.51000000000000001, 0.55000000000000004, 0.47999999999999998, 0.52166666666666672, 0.64000000000000001, 0.59999999999999998, 0.5, 0.66000000000000003, 0.6825, 0.51000000000000001, 0.48749999999999999, 0.5, 0.65000000000000002, 0.58999999999999997, 0.51000000000000001, 0.41999999999999998, 0.54000000000000004, 0.69999999999999996, 0.56999999999999995, 0.57999999999999996, 0.54000000000000004, 0.5, 0.52000000000000002, 0.47999999999999998, 0.59250000000000003, 0.38, 0.63, 0.54000000000000004, 0.53000000000000003, 0.40999999999999998, 0.55000000000000004, 0.5, 0.54000000000000004, 0.41999999999999998, 0.45000000000000001, 0.56000000000000005, 0.60999999999999999, 0.4966666666666667, 0.72999999999999998, 0.87, 0.68000000000000005, 0.59166666666666667, 0.51000000000000001, 0.51000000000000001, 0.65000000000000002, 0.45000000000000001, 0.44, 0.45000000000000001, 0.63, 0.46999999999999997, 0.55000000000000004, 0.46333333333333337, 0.54000000000000004, 0.51000000000000001, 0.5, 0.40999999999999998, 0.57999999999999996, 0.55000000000000004, 0.48999999999999999, 0.52333333333333332, 0.56666666666666676, 0.44, 0.75, 0.51000000000000001, 0.68000000000000005, 0.51500000000000001, 0.69999999999999996, 0.59999999999999998, 0.46999999999999997, 0.48999999999999999, 0.39666666666666667, 0.5, 0.73999999999999999, 0.52333333333333332, 0.52000000000000002, 0.66249999999999998, 0.57999999999999996, 0.5, 0.85999999999999999, 0.5, 0.59999999999999998, 0.55000000000000004, 0.54000000000000004, 0.51000000000000001, 0.57999999999999996, 0.53000000000000003, 0.69999999999999996, 0.64000000000000001, 0.42999999999999999, 0.45000000000000001, 0.53000000000000003, 0.41999999999999998, 0.57999999999999996, 0.57999999999999996, 0.53000000000000003, 0.50333333333333341, 0.63, 0.81999999999999995, 0.58999999999999997, 0.46000000000000002, 0.69999999999999996, 0.63, 0.40000000000000002, 0.75, 0.54000000000000004, 0.57666666666666666, 0.56999999999999995, 0.54000000000000004, 0.40000000000000002, 0.57999999999999996, 0.54000000000000004, 0.45000000000000001, 0.78000000000000003, 0.35799999999999998, 0.46999999999999997, 0.51000000000000001, 0.73999999999999999, 0.66000000000000003, 0.48999999999999999, 0.40999999999999998, 0.53000000000000003, 0.46999999999999997, 0.54333333333333333, 0.5, 0.5, 0.58999999999999997, 0.55333333333333323, 0.59250000000000003, 0.5, 0.64000000000000001, 0.46000000000000002, 0.58999999999999997, 0.42999999999999999, 0.73999999999999999, 0.48999999999999999, 0.46000000000000002, 0.71999999999999997, 0.45000000000000001, 0.57333333333333325, 0.57999999999999996, 0.52000000000000002, 0.45000000000000001, 0.46999999999999997, 0.47999999999999998, 0.54000000000000004, 0.44, 0.5, 0.57999999999999996, 0.45000000000000001, 0.47999999999999998, 0.40999999999999998, 0.54000000000000004, 0.56000000000000005, 0.46000000000000002, 0.57999999999999996, 0.78000000000000003, 0.59999999999999998, 0.58999999999999997, 0.55000000000000004, 0.34000000000000002, 0.46333333333333326, 0.42999999999999999, 0.40333333333333327, 0.55000000000000004, 0.48999999999999999, 0.41999999999999998, 0.59999999999999998, 0.59999999999999998, 0.53000000000000003, 0.72999999999999998, 0.52000000000000002, 0.58999999999999997, 0.46999999999999997, 0.52000000000000002, 0.505, 0.56999999999999995, 0.53000000000000003, 0.76000000000000001, 0.48999999999999999, 0.54000000000000004, 0.53000000000000003, 0.48999999999999999, 0.44, 0.64000000000000001, 0.56000000000000005, 0.56000000000000005, 0.71999999999999997, 0.51000000000000001, 0.5, 0.40999999999999998, 0.68000000000000005, 0.77000000000000002, 0.52000000000000002, 0.39000000000000001, 0.56000000000000005, 0.59999999999999998, 0.64000000000000001, 0.76000000000000001, 0.48999999999999999, 0.53000000000000003, 0.54000000000000004, 0.61166666666666669, 0.44, 0.58999999999999997, 0.40999999999999998, 0.5, 0.70999999999999996, 0.67000000000000004, 0.5, 0.52000000000000002, 0.46000000000000002, 0.60999999999999999, 0.45000000000000001, 0.53000000000000003, 0.46999999999999997, 0.34000000000000002, 0.46999999999999997, 0.5, 0.53500000000000003, 0.52000000000000002, 0.52000000000000002, 0.65000000000000002, 0.68000000000000005, 0.46999999999999997, 0.45000000000000001, 0.59999999999999998, 0.59999999999999998, 0.46999999999999997, 0.65000000000000002, 0.39500000000000002, 0.77000000000000002, 0.56000000000000005, 0.56000000000000005, 0.5, 0.81666666666666654, 0.52000000000000002, 0.52000000000000002, 0.68999999999999995, 0.54000000000000004, 0.38, 0.63, 0.77000000000000002, 0.51000000000000001, 0.63600000000000001, 0.59499999999999997, 0.48999999999999999, 0.53000000000000003, 0.56000000000000005, 0.50666666666666671, 0.62, 0.5033333333333333, 0.57999999999999996, 0.71999999999999997, 0.82999999999999996, 0.60999999999999999, 0.66000000000000003, 0.51000000000000001, 0.55333333333333334, 0.67000000000000004, 0.44, 0.57999999999999996, 0.57333333333333325, 0.52000000000000002, 0.42999999999999999, 0.46999999999999997, 0.49333333333333329, 0.62, 0.95999999999999996, 0.54000000000000004, 0.64000000000000001, 0.52333333333333332, 0.77000000000000002, 0.39000000000000001, 0.85999999999999999, 0.46999999999999997, 0.73999999999999999, 0.5, 0.41999999999999998, 0.52000000000000002, 0.66500000000000004, 0.66000000000000003, 0.47999999999999998, 0.47999999999999998, 0.62, 0.53000000000000003, 0.47999999999999998, 0.47999999999999998, 0.42999999999999999, 0.58999999999999997, 0.47999999999999998, 0.65000000000000002, 0.53333333333333333, 0.48999999999999999, 0.53000000000000003, 0.56000000000000005, 0.56000000000000005, 0.52000000000000002, 0.68999999999999995, 0.55500000000000005, 0.59999999999999998, 0.69999999999999996, 0.48999999999999999, 0.51666666666666672, 0.505, 0.45000000000000001, 0.69999999999999996, 0.56999999999999995, 0.45000000000000001, 0.5, 0.56999999999999995, 0.46000000000000002, 0.57999999999999996, 0.60999999999999999, 0.56000000000000005, 0.42999999999999999, 0.73999999999999999, 0.56999999999999995, 0.48999999999999999, 0.55000000000000004, 0.53000000000000003, 0.55000000000000004, 0.58999999999999997, 0.56000000000000005, 0.81999999999999995, 0.46000000000000002, 0.64000000000000001, 0.53000000000000003, 0.40999999999999998, 0.5, 0.76666666666666661, 0.53000000000000003, 0.45750000000000002, 0.54000000000000004, 0.45000000000000001, 0.57999999999999996, 0.56000000000000005, 0.52000000000000002, 0.51000000000000001, 0.53000000000000003, 0.42999999999999999, 0.42999999999999999, 0.69999999999999996, 0.58499999999999996, 0.46999999999999997, 0.53000000000000003, 0.51000000000000001, 0.38, 0.48999999999999999, 0.83999999999999997, 0.53000000000000003, 0.48999999999999999, 0.40999999999999998, 0.67000000000000004, 0.73999999999999999, 0.52000000000000002, 0.48999999999999999, 0.59999999999999998, 0.47499999999999998, 0.47999999999999998, 0.60333333333333328, 0.5, 0.5, 0.48999999999999999, 0.39000000000000001, 0.59999999999999998, 0.67000000000000004, 0.75, 0.48999999999999999, 0.87, 0.63, 0.72999999999999998, 0.53000000000000003, 0.56000000000000005, 0.75, 0.69333333333333347, 0.48666666666666664, 0.48999999999999999, 0.60999999999999999, 0.58999999999999997, 0.68000000000000005, 0.93000000000000005, 0.75, 0.59999999999999998, 0.53000000000000003, 0.56000000000000005, 0.42999999999999999, 0.75, 0.54000000000000004, 0.47999999999999998, 0.69999999999999996, 0.67000000000000004, 0.56999999999999995, 0.53000000000000003, 0.47999999999999998, 0.68000000000000005, 0.34000000000000002, 0.58999999999999997, 0.53333333333333333, 0.76000000000000001, 0.46000000000000002, 0.52000000000000002, 0.52000000000000002, 0.56000000000000005, 0.56000000000000005, 0.53000000000000003, 0.55000000000000004, 0.56999999999999995, 0.65000000000000002, 0.63, 0.55000000000000004, 0.56000000000000005, 0.56999999999999995, 0.68000000000000005, 0.42999999999999999, 0.57999999999999996, 0.52333333333333332, 0.48999999999999999, 0.47999999999999998, 0.5, 0.53333333333333333, 0.70999999999999996, 0.66000000000000003, 0.51000000000000001, 0.55000000000000004, 0.56000000000000005, 0.58999999999999997, 0.51000000000000001, 0.72999999999999998, 0.68999999999999995, 0.41999999999999998, 0.5, 0.44, 0.73999999999999999, 0.84999999999999998, 0.54000000000000004, 0.44, 0.65000000000000002, 0.50333333333333341, 0.52000000000000002, 0.55000000000000004, 0.44, 0.45000000000000001, 0.76000000000000001, 0.58999999999999997, 0.42999999999999999, 0.64000000000000001, 0.48999999999999999, 0.47999999999999998, 0.58999999999999997, 0.5, 0.58999999999999997, 0.70999999999999996, 0.77000000000000002, 0.58499999999999996, 0.40999999999999998, 0.48999999999999999, 0.52000000000000002, 0.56000000000000005, 0.64000000000000001, 0.63, 0.38, 0.6283333333333333, 0.57999999999999996, 0.58999999999999997, 0.59999999999999998, 0.51000000000000001, 0.55000000000000004, 0.5, 0.46000000000000002, 0.59999999999999998, 0.58250000000000002, 0.54000000000000004, 0.42999999999999999, 0.64000000000000001, 0.54000000000000004, 0.42999999999999999, 0.56999999999999995, 0.49333333333333335, 0.68000000000000005, 0.70999999999999996, 0.54000000000000004, 0.48999999999999999, 0.39000000000000001, 0.47999999999999998, 0.54000000000000004, 0.52000000000000002, 0.42999999999999999, 0.5, 0.88, 0.60999999999999999, 0.56999999999999995, 0.69999999999999996, 0.47999999999999998, 0.82999999999999996, 0.46000000000000002, 0.56000000000000005, 0.71599999999999997, 0.52000000000000002, 0.46999999999999997, 0.46999999999999997, 0.46999999999999997, 0.55000000000000004, 0.54000000000000004, 0.65000000000000002, 0.52000000000000002, 0.42999999999999999, 0.56000000000000005, 0.46000000000000002, 0.64000000000000001, 0.54000000000000004, 0.80000000000000004, 0.60999999999999999, 0.62, 0.56999999999999995, 0.55000000000000004, 0.55000000000000004, 0.45000000000000001, 0.51000000000000001, 0.5, 0.59999999999999998, 0.54000000000000004, 0.36666666666666664, 0.80000000000000004, 0.55000000000000004, 0.64000000000000001, 0.71250000000000002, 0.54000000000000004, 0.47999999999999998, 0.53333333333333333, 0.46999999999999997, 0.53333333333333333, 0.46999999999999997, 0.73999999999999999, 0.40999999999999998, 0.51666666666666661, 0.58999999999999997, 0.42999999999999999, 0.77000000000000002, 0.51000000000000001, 0.53000000000000003, 0.52000000000000002, 0.5, 0.5, 0.42333333333333328, 0.60999999999999999, 0.67000000000000004, 0.78000000000000003, 0.46000000000000002, 0.52000000000000002, 0.56000000000000005, 0.94999999999999996, 0.46999999999999997, 0.56999999999999995, 0.70999999999999996, 0.60999999999999999, 0.64000000000000001, 0.40000000000000002, 0.5, 0.55000000000000004, 0.56000000000000005, 0.35999999999999999, 0.55333333333333334, 0.40500000000000003, 0.39000000000000001, 0.68999999999999995, 0.48999999999999999, 0.56999999999999995, 0.60999999999999999, 0.47999999999999998, 0.51000000000000001, 0.48999999999999999, 0.77000000000000002, 0.73999999999999999, 0.85999999999999999, 0.51000000000000001, 0.44, 0.48999999999999999, 0.5, 0.40999999999999998, 0.48999999999999999, 0.53000000000000003, 0.69999999999999996, 0.57999999999999996, 0.68000000000000005, 0.48999999999999999, 0.51000000000000001, 0.64000000000000001, 0.77000000000000002, 0.72999999999999998, 0.48999999999999999, 0.44, 0.64000000000000001, 0.63, 0.64000000000000001, 0.69999999999999996, 0.54000000000000004, 0.54000000000000004, 0.65000000000000002, 0.48999999999999999, 0.5, 0.53249999999999997, 0.56999999999999995, 0.42999999999999999, 0.52000000000000002, 0.5, 0.52500000000000002, 0.55000000000000004, 0.54000000000000004, 0.80000000000000004, 0.52000000000000002, 0.55000000000000004, 0.45000000000000001, 0.78000000000000003, 0.5, 0.59999999999999998, 0.55000000000000004, 0.67000000000000004, 0.46999999999999997, 0.52000000000000002, 0.51000000000000001, 0.46000000000000002, 0.57999999999999996, 0.66000000000000003, 0.47999999999999998, 0.46000000000000002, 0.72999999999999998, 0.51000000000000001, 0.51000000000000001, 0.59999999999999998, 0.46999999999999997, 0.45333333333333337, 0.71999999999999997, 0.45000000000000001, 0.56999999999999995, 0.40999999999999998, 0.51000000000000001, 0.63, 0.78000000000000003, 0.44, 0.63, 0.47999999999999998, 0.56999999999999995, 0.46999999999999997, 0.56000000000000005, 0.56000000000000005, 0.62, 0.46500000000000002, 0.62833333333333341, 0.56999999999999995, 0.69999999999999996, 0.54000000000000004, 0.505, 0.51333333333333331, 0.55000000000000004, 0.55000000000000004, 0.91000000000000003, 0.41999999999999998, 0.45000000000000001, 0.48999999999999999, 0.48999999999999999, 0.55000000000000004, 0.34999999999999998, 0.64000000000000001, 0.89000000000000001, 0.5, 0.40000000000000002, 0.42999999999999999, 0.41999999999999998, 0.40000000000000002, 0.60999999999999999, 0.73999999999999999, 0.45000000000000001, 0.42999999999999999, 0.56666666666666665, 0.66000000000000003, 0.55000000000000004, 0.37, 0.65000000000000002, 0.5, 0.48999999999999999, 0.51000000000000001, 0.34999999999999998, 0.51000000000000001, 0.51333333333333331, 0.55000000000000004, 0.46999999999999997, 0.65599999999999992, 0.41999999999999998, 0.38, 0.48999999999999999, 0.56999999999999995, 0.5, 0.5, 0.91000000000000003, 0.54000000000000004, 0.54000000000000004, 0.47999999999999998, 0.52000000000000002, 0.5, 0.72999999999999998, 0.46999999999999997, 0.59999999999999998, 0.48999999999999999, 0.63, 0.87, 0.45000000000000001, 0.58999999999999997, 0.40000000000000002, 0.52000000000000002, 0.62, 0.50333333333333341, 0.55000000000000004, 0.54000000000000004, 0.46999999999999997, 0.57666666666666666, 0.55000000000000004, 0.84999999999999998, 0.71999999999999997, 0.63, 0.53000000000000003, 0.40000000000000002, 0.47999999999999998, 0.52000000000000002, 0.54333333333333333, 0.55000000000000004, 0.42999999999999999, 0.59999999999999998, 0.68000000000000005, 0.66000000000000003, 0.47999999999999998, 0.51000000000000001, 0.41999999999999998, 0.47999999999999998, 0.51000000000000001, 0.81999999999999995, 0.70999999999999996, 0.59999999999999998, 0.53000000000000003, 0.51000000000000001, 0.53000000000000003, 0.54000000000000004, 0.81999999999999995, 0.52000000000000002, 0.48999999999999999, 0.56000000000000005, 0.56999999999999995, 0.70999999999999996, 0.55666666666666664, 0.48999999999999999, 0.71999999999999997, 0.58999999999999997, 0.39250000000000002, 0.65000000000000002, 0.40000000000000002, 0.5, 0.41999999999999998, 0.56333333333333324, 0.62, 0.5, 0.4433333333333333, 0.38, 0.56000000000000005, 0.46999999999999997, 0.38, 0.52333333333333332, 0.68999999999999995, 0.47999999999999998, 0.47999999999999998, 0.54000000000000004, 0.5, 0.58999999999999997, 0.60999999999999999, 0.51000000000000001, 0.47999999999999998, 0.42999999999999999, 0.48999999999999999, 0.56999999999999995, 0.48999999999999999, 0.69499999999999995, 0.51000000000000001, 0.55000000000000004, 0.57999999999999996, 0.56999999999999995, 0.56083333333333329, 0.67000000000000004, 0.80500000000000005, 0.54000000000000004, 0.51000000000000001, 0.51000000000000001, 0.5, 0.38500000000000001, 0.58999999999999997, 0.52000000000000002, 0.40000000000000002, 0.56999999999999995, 0.46000000000000002, 0.68999999999999995, 0.53000000000000003, 0.70999999999999996, 0.66000000000000003, 0.54000000000000004, 0.61333333333333329, 0.41999999999999998, 0.52000000000000002, 0.38, 0.71999999999999997, 0.70999999999999996, 0.53000000000000003, 0.49333333333333335, 0.68000000000000005, 0.45000000000000001, 0.46999999999999997, 0.51666666666666672, 0.55000000000000004, 0.48999999999999999, 0.59999999999999998, 0.52333333333333332, 0.68000000000000005, 0.58999999999999997, 0.41999999999999998, 0.55000000000000004, 0.68999999999999995, 0.51333333333333331, 0.46999999999999997, 0.81999999999999995, 0.48999999999999999, 0.69999999999999996, 0.62, 0.46999999999999997, 0.56000000000000005, 0.42999999999999999, 0.79000000000000004, 0.68999999999999995, 0.56999999999999995, 0.42999999999999999, 0.47999999999999998, 0.66000000000000003, 0.70999999999999996, 0.59666666666666668, 0.62, 0.53000000000000003, 0.46999999999999997, 0.45000000000000001, 0.35999999999999999, 0.70999999999999996, 0.52000000000000002, 0.5, 0.57499999999999996, 0.48999999999999999, 0.5, 0.745, 0.46999999999999997, 0.60999999999999999, 0.75, 0.52000000000000002, 0.41999999999999998, 0.51000000000000001, 0.93000000000000005, 0.56000000000000005, 0.54500000000000004, 0.48999999999999999, 0.56000000000000005, 0.42999999999999999, 0.71999999999999997, 0.56999999999999995, 0.56333333333333335, 0.55000000000000004, 0.64000000000000001, 0.69999999999999996, 0.46000000000000002, 0.54000000000000004, 0.49666666666666665, 0.46999999999999997, 0.51000000000000001, 0.40999999999999998, 0.41999999999999998, 0.53000000000000003, 0.77000000000000002, 0.46000000000000002, 0.53333333333333333, 0.52000000000000002, 0.70999999999999996, 0.46000000000000002, 0.57899999999999996, 0.51000000000000001, 0.50083333333333335, 0.80000000000000004, 0.54000000000000004, 0.93999999999999995, 0.72999999999999998, 0.51000000000000001, 0.69999999999999996, 0.59833333333333327, 0.48999999999999999, 0.41999999999999998, 0.57999999999999996, 0.66000000000000003, 0.58499999999999996, 0.48999999999999999, 0.5, 0.83999999999999997, 0.77000000000000002, 0.46999999999999997, 0.5, 0.47999999999999998, 0.52333333333333332, 0.76000000000000001, 0.41749999999999998, 0.64000000000000001, 0.66599999999999993, 0.59999999999999998, 0.5, 0.72250000000000003, 0.52000000000000002, 0.52333333333333332, 0.55000000000000004, 0.71666666666666656, 0.46999999999999997, 0.48999999999999999, 0.58250000000000002, 0.69999999999999996, 0.69999999999999996, 0.57999999999999996, 0.68999999999999995, 0.40000000000000002, 0.51000000000000001, 0.73999999999999999, 0.45333333333333331, 0.59999999999999998, 0.46999999999999997, 0.55000000000000004, 0.54000000000000004, 0.27000000000000002, 0.53000000000000003, 0.60499999999999998, 0.67000000000000004, 0.40500000000000003, 0.28999999999999998, 0.55000000000000004, 0.47999999999999998, 0.53000000000000003, 0.41999999999999998, 0.60999999999999999, 0.60999999999999999, 0.46999999999999997, 0.60999999999999999, 0.46999999999999997, 0.63, 0.55000000000000004, 0.53666666666666674, 0.57999999999999996, 0.46999999999999997, 0.58333333333333337, 0.63, 0.66000000000000003, 0.54000000000000004, 0.44, 0.46999999999999997, 0.55000000000000004, 0.51000000000000001, 0.68000000000000005, 0.53000000000000003, 0.57999999999999996, 0.62, 0.40999999999999998, 0.57999999999999996, 0.52000000000000002, 0.58999999999999997, 0.55000000000000004, 0.42999999999999999, 0.47999999999999998, 0.60999999999999999, 0.52000000000000002, 0.42999999999999999, 0.55000000000000004, 0.66000000000000003, 0.5, 0.68000000000000005, 0.45000000000000001, 0.55333333333333334, 0.52000000000000002, 0.60999999999999999, 0.46999999999999997, 0.67000000000000004, 0.75, 0.46000000000000002, 0.40999999999999998, 0.38, 0.55000000000000004, 0.58999999999999997, 0.71999999999999997, 0.68000000000000005, 0.51333333333333331, 0.60999999999999999, 0.46000000000000002, 0.55000000000000004, 0.47999999999999998, 0.52333333333333332, 0.44, 0.75, 0.58333333333333337, 0.54333333333333333, 0.5, 0.46000000000000002, 0.46999999999999997, 0.73999999999999999, 0.47999999999999998, 0.63, 0.71999999999999997, 0.57999999999999996, 0.64000000000000001, 0.51000000000000001, 0.55000000000000004, 0.55000000000000004, 0.53666666666666674, 0.47999999999999998, 0.46999999999999997, 0.46999999999999997, 0.45000000000000001, 0.65000000000000002, 0.46000000000000002, 0.5, 0.55000000000000004, 0.79000000000000004, 0.79000000000000004, 0.68000000000000005, 0.51000000000000001, 0.62, 0.5, 0.54000000000000004, 0.42999999999999999, 0.75, 0.54000000000000004, 0.60999999999999999, 0.62, 0.5, 0.44, 0.46999999999999997, 0.58999999999999997, 0.53000000000000003, 0.40999999999999998, 0.42999999999999999, 0.82666666666666655, 0.67000000000000004, 0.47999999999999998, 0.70999999999999996, 0.56000000000000005, 0.44, 0.70999999999999996, 0.69999999999999996, 0.46500000000000002, 0.34666666666666662, 0.57999999999999996, 0.60999999999999999, 0.57999999999999996, 0.58999999999999997, 0.53000000000000003, 0.39000000000000001, 0.58999999999999997, 0.65000000000000002, 0.46999999999999997, 0.77000000000000002, 0.63, 0.53000000000000003, 0.46000000000000002, 0.46999999999999997, 0.5, 0.60333333333333328, 0.58999999999999997, 0.46999999999999997, 0.54000000000000004, 0.40000000000000002, 0.62, 0.72999999999999998, 0.67000000000000004, 0.42999999999999999, 0.64000000000000001, 0.46000000000000002, 0.42999999999999999, 0.62, 0.5, 0.54000000000000004, 0.58999999999999997, 0.81000000000000005, 0.57999999999999996, 0.54000000000000004, 0.41999999999999998, 0.47999999999999998, 0.45000000000000001, 0.53000000000000003, 0.71999999999999997, 0.75, 0.56999999999999995, 0.58999999999999997, 0.63, 0.58999999999999997, 0.51000000000000001, 0.42999999999999999, 0.47999999999999998, 0.70999999999999996, 0.5, 0.40999999999999998, 0.5, 0.58999999999999997, 0.44, 0.38, 0.58666666666666667, 0.51000000000000001, 0.87, 0.53000000000000003, 0.50333333333333341, 0.5, 0.72999999999999998, 0.46999999999999997, 0.54000000000000004, 0.48666666666666669, 0.68000000000000005, 0.56000000000000005, 0.46999999999999997, 0.44500000000000001, 0.71499999999999997, 0.37, 0.70999999999999996, 0.56999999999999995, 0.57999999999999996, 0.80000000000000004, 0.44, 0.46999999999999997, 0.56000000000000005, 0.57333333333333325, 0.56000000000000005, 0.46000000000000002, 0.58999999999999997, 0.41999999999999998, 0.5033333333333333, 0.41749999999999998, 0.39750000000000002, 0.51000000000000001, 0.51500000000000001, 0.48999999999999999, 0.55000000000000004, 0.62, 0.67249999999999999, 0.69999999999999996, 0.59999999999999998, 0.81999999999999995, 0.56000000000000005, 0.56499999999999995, 0.57999999999999996, 0.42999999999999999, 0.60999999999999999, 0.54000000000000004, 0.53000000000000003, 0.54000000000000004, 0.48999999999999999, 0.46999999999999997, 0.51000000000000001, 0.48999999999999999, 0.48999999999999999, 0.47333333333333338, 0.34000000000000002, 0.48999999999999999, 0.60666666666666669, 0.56000000000000005, 0.65000000000000002, 0.53000000000000003, 0.46999999999999997, 0.32000000000000001, 0.51000000000000001, 0.58999999999999997, 0.47999999999999998, 0.53000000000000003, 0.42999999999999999, 0.46999999999999997, 0.54000000000000004, 0.45000000000000001, 0.51000000000000001, 0.46999999999999997, 0.63, 0.45000000000000001, 0.51000000000000001, 0.67000000000000004, 0.54000000000000004, 0.71999999999999997, 0.5, 0.55000000000000004, 0.48999999999999999, 0.62250000000000005, 0.70999999999999996, 0.45000000000000001, 0.46999999999999997, 0.45000000000000001, 0.62, 0.52333333333333332, 0.64000000000000001, 0.45000000000000001, 0.53666666666666674, 0.48999999999999999, 0.81000000000000005, 0.52000000000000002, 0.52000000000000002, 0.63, 0.40000000000000002, 0.39000000000000001, 0.5, 0.77000000000000002, 0.78000000000000003, 0.5, 0.46000000000000002, 0.52666666666666673, 0.46999999999999997, 0.59250000000000003, 0.55000000000000004, 0.55000000000000004, 0.58999999999999997, 0.63, 0.52000000000000002, 0.52000000000000002, 0.44, 0.62250000000000005, 0.59999999999999998, 0.46999999999999997, 0.46000000000000002, 0.52000000000000002, 0.65000000000000002, 0.47999999999999998, 0.46999999999999997, 0.65000000000000002, 0.56000000000000005, 0.48999999999999999, 0.48999999999999999, 0.5, 0.56000000000000005, 0.62916666666666676, 0.60999999999999999, 0.58999999999999997, 0.55000000000000004, 0.56999999999999995, 0.52666666666666673, 0.60999999999999999, 0.77666666666666662, 0.77000000000000002, 0.54000000000000004, 0.48999999999999999, 0.59999999999999998, 0.56000000000000005, 0.40999999999999998, 0.75, 0.42999999999999999, 0.57999999999999996, 0.60999999999999999, 0.55000000000000004, 0.64000000000000001, 0.59999999999999998, 0.56000000000000005, 0.39833333333333337, 0.64000000000000001, 0.58499999999999996, 0.66000000000000003, 0.45000000000000001, 0.46000000000000002, 0.58999999999999997, 0.46999999999999997, 0.75, 0.46999999999999997, 0.71666666666666656, 0.50333333333333341, 0.80000000000000004, 0.57999999999999996, 0.51000000000000001, 0.59999999999999998, 0.51000000000000001, 0.56666666666666665, 0.52333333333333332, 0.54000000000000004, 0.39000000000000001, 0.55500000000000005, 0.66000000000000003, 0.46000000000000002, 0.5, 0.53000000000000003, 0.38, 0.5, 0.33000000000000002, 0.81999999999999995, 0.56000000000000005, 0.64000000000000001, 0.66000000000000003, 0.51000000000000001, 0.46999999999999997, 0.47999999999999998, 0.70599999999999996, 0.56999999999999995, 0.82999999999999996, 0.48999999999999999, 0.71999999999999997, 0.60999999999999999, 0.64000000000000001, 0.57999999999999996, 0.495, 0.40999999999999998, 0.55000000000000004, 0.51000000000000001, 0.55000000000000004, 0.59999999999999998, 0.85999999999999999, 0.55000000000000004, 0.70999999999999996, 0.83999999999999997, 0.76000000000000001, 0.47999999999999998, 0.45000000000000001, 0.73999999999999999, 0.51000000000000001, 0.53000000000000003, 0.60999999999999999, 0.65000000000000002, 0.73999999999999999, 0.52000000000000002, 0.59999999999999998, 0.59999999999999998, 0.40000000000000002, 0.63, 0.56000000000000005, 0.63, 0.5, 0.78000000000000003, 0.38, 0.85999999999999999, 0.67000000000000004, 0.58999999999999997, 0.57999999999999996, 0.55000000000000004, 0.53000000000000003, 0.72999999999999998, 0.52000000000000002, 0.56666666666666676, 0.52000000000000002, 0.82999999999999996, 0.60999999999999999, 0.45000000000000001, 0.46000000000000002, 0.56999999999999995, 0.46999999999999997, 0.72999999999999998, 0.41999999999999998, 0.54000000000000004, 0.77000000000000002, 0.40999999999999998, 0.53000000000000003, 0.69999999999999996, 0.56999999999999995, 0.5, 0.48999999999999999, 0.51000000000000001, 0.47999999999999998, 0.55666666666666675, 0.55500000000000005, 0.45000000000000001, 0.68999999999999995, 0.80000000000000004, 0.51000000000000001, 0.60999999999999999, 0.58999999999999997, 0.54000000000000004, 0.57999999999999996, 0.48999999999999999, 0.42999999999999999, 0.58999999999999997, 0.51333333333333331, 0.57999999999999996, 0.41999999999999998, 0.54000000000000004, 0.81999999999999995, 0.55000000000000004, 0.47999999999999998, 0.65000000000000002, 0.46000000000000002, 0.52000000000000002, 0.69999999999999996, 0.56000000000000005, 0.46999999999999997, 0.51000000000000001, 0.70999999999999996, 0.52333333333333332, 0.62, 0.46999999999999997, 0.53000000000000003, 0.58999999999999997, 0.48499999999999999, 0.55000000000000004, 0.48999999999999999, 0.66000000000000003, 0.88, 0.53000000000000003, 0.54000000000000004, 0.42999999999999999, 0.42999999999999999, 0.48999999999999999, 0.63, 0.47999999999999998, 0.40000000000000002, 0.55333333333333323, 0.46000000000000002, 0.38, 0.79000000000000004, 0.46999999999999997, 0.47999999999999998, 0.54000000000000004, 0.85999999999999999, 0.51000000000000001, 0.46999999999999997, 0.56000000000000005, 0.46999999999999997, 0.6825, 0.41999999999999998, 0.62, 0.47999999999999998, 0.70999999999999996, 0.5, 0.5, 0.42999999999999999, 0.78000000000000003, 0.77000000000000002, 0.59999999999999998, 0.54000000000000004, 0.5, 0.48999999999999999, 0.57999999999999996, 0.52000000000000002, 0.53000000000000003, 0.51000000000000001, 0.60999999999999999, 0.52000000000000002, 0.47999999999999998, 0.71999999999999997, 0.76000000000000001, 0.57999999999999996, 0.52000000000000002, 0.59999999999999998, 0.52000000000000002, 0.46999999999999997, 0.55000000000000004, 0.64000000000000001, 0.45000000000000001, 0.56000000000000005, 0.51000000000000001, 0.45000000000000001, 0.5, 0.70999999999999996, 0.59499999999999997, 0.58999999999999997, 0.56999999999999995, 0.75, 0.44, 0.52000000000000002, 0.55000000000000004, 0.52000000000000002, 0.34666666666666662, 0.4966666666666667, 0.47999999999999998, 0.52000000000000002, 0.53333333333333333, 0.56999999999999995, 0.51000000000000001, 0.57333333333333325, 0.67000000000000004, 0.44, 0.52000000000000002, 0.69499999999999995, 0.46999999999999997, 0.6133333333333334, 0.55000000000000004, 0.55000000000000004, 0.65000000000000002, 0.56999999999999995, 0.42999999999999999, 0.72999999999999998, 0.45000000000000001, 0.5, 0.5, 0.51000000000000001, 0.59999999999999998, 0.67000000000000004, 0.65000000000000002, 0.58999999999999997, 0.48999999999999999, 0.77000000000000002, 0.48333333333333334, 0.56666666666666676, 0.46999999999999997, 0.52000000000000002, 0.44, 0.72999999999999998, 0.66599999999999993, 0.44500000000000001, 0.67000000000000004, 0.58999999999999997, 0.56000000000000005, 0.55000000000000004, 0.47999999999999998, 0.69999999999999996, 0.70999999999999996, 0.41999999999999998, 0.46999999999999997, 0.48999999999999999, 0.64000000000000001, 0.58999999999999997, 0.68000000000000005, 0.38, 0.46000000000000002, 0.46000000000000002, 0.56000000000000005, 0.65000000000000002, 0.44, 0.52000000000000002, 0.67000000000000004, 0.51000000000000001, 0.57999999999999996, 0.46999999999999997, 0.52000000000000002, 0.62, 0.63, 0.38, 0.58999999999999997, 0.66000000000000003, 0.52000000000000002, 0.63, 0.5, 0.53000000000000003, 0.55000000000000004, 0.48999999999999999, 0.66000000000000003, 0.56000000000000005, 0.55000000000000004, 0.57999999999999996, 0.40999999999999998, 0.51000000000000001, 0.56999999999999995, 0.40999999999999998, 0.56999999999999995, 0.56000000000000005, 0.42999999999999999, 0.49333333333333335, 0.55000000000000004, 0.62, 0.47999999999999998, 0.53000000000000003, 0.5, 0.55666666666666675, 0.60999999999999999, 0.55000000000000004, 0.55000000000000004, 0.45000000000000001, 0.56000000000000005, 0.48999999999999999, 0.78000000000000003, 0.47999999999999998, 0.44, 0.63, 0.59999999999999998, 0.48999999999999999, 0.76000000000000001, 0.76000000000000001, 0.52000000000000002, 0.57999999999999996, 0.38, 0.46999999999999997, 0.51000000000000001, 0.54000000000000004, 0.5, 0.46000000000000002, 0.48499999999999999, 0.35999999999999999, 0.44, 0.42999999999999999, 0.68999999999999995, 0.66000000000000003, 0.52000000000000002, 0.73999999999999999, 0.38, 0.76666666666666661, 0.67000000000000004, 0.39000000000000001, 0.68000000000000005, 0.52500000000000002, 0.47999999999999998, 0.44, 0.68000000000000005, 0.70999999999999996, 0.57999999999999996, 0.56999999999999995, 0.63, 0.52000000000000002, 0.52000000000000002, 0.58999999999999997, 0.48999999999999999, 0.52000000000000002, 0.51000000000000001, 0.53000000000000003, 0.64000000000000001, 0.56999999999999995, 0.53333333333333333, 0.57999999999999996, 0.47999999999999998, 0.40000000000000002, 0.57999999999999996, 0.47999999999999998, 0.59999999999999998, 0.55000000000000004, 0.91000000000000003, 0.88, 0.72999999999999998, 0.52000000000000002, 0.53000000000000003, 0.39000000000000001, 0.51000000000000001, 0.58999999999999997, 0.46000000000000002, 0.56999999999999995, 0.63, 0.56000000000000005, 0.46000000000000002, 0.40500000000000003, 0.68000000000000005, 0.40000000000000002, 0.45000000000000001, 0.53000000000000003, 0.68999999999999995, 0.47999999999999998, 0.55000000000000004, 0.48333333333333334, 0.77000000000000002, 0.46000000000000002, 0.45000000000000001, 0.5, 0.51000000000000001, 0.45000000000000001, 0.93999999999999995, 0.83999999999999997, 0.66000000000000003, 0.48999999999999999, 0.35999999999999999, 0.69999999999999996, 0.46000000000000002, 0.51000000000000001, 0.70999999999999996, 0.65000000000000002, 0.54000000000000004, 0.57999999999999996, 0.47999999999999998, 0.44, 0.55166666666666675, 0.67000000000000004, 0.51000000000000001, 0.47999999999999998, 0.42999999999999999, 0.41999999999999998, 0.52000000000000002, 0.46999999999999997, 0.59999999999999998, 0.46000000000000002, 0.57999999999999996, 0.60999999999999999, 0.68999999999999995, 0.52000000000000002, 0.68999999999999995, 0.45000000000000001, 0.65000000000000002, 0.54000000000000004, 0.53583333333333327, 0.46999999999999997, 0.76666666666666661, 0.51000000000000001, 0.67000000000000004, 0.68999999999999995, 0.68999999999999995, 0.71499999999999997, 0.58499999999999996, 0.66000000000000003, 0.59999999999999998, 0.51333333333333331, 0.54333333333333333, 0.66833333333333345, 0.59999999999999998, 0.57999999999999996, 0.54000000000000004, 0.64000000000000001, 0.56999999999999995, 0.65000000000000002, 0.66000000000000003, 0.55000000000000004, 0.67000000000000004, 0.69999999999999996, 0.46000000000000002, 0.51000000000000001, 0.51000000000000001, 0.93000000000000005, 0.80666666666666653, 0.5, 0.68999999999999995, 0.56999999999999995, 0.47999999999999998, 0.46000000000000002, 0.51000000000000001, 0.64000000000000001, 0.58999999999999997, 0.58333333333333326, 0.54500000000000004, 0.55000000000000004, 0.41999999999999998, 0.51000000000000001, 0.53000000000000003, 0.47999999999999998, 0.53000000000000003, 0.5, 0.56000000000000005, 0.62, 0.57999999999999996, 0.69999999999999996, 0.56000000000000005, 0.66000000000000003, 0.40999999999999998, 0.69999999999999996, 0.51000000000000001, 0.51000000000000001, 0.45000000000000001, 0.39000000000000001, 0.46999999999999997, 0.72999999999999998, 0.51000000000000001, 0.53000000000000003, 0.5, 0.95999999999999996, 0.40999999999999998, 0.48999999999999999, 0.60999999999999999, 0.68999999999999995, 0.51000000000000001, 0.53000000000000003, 0.51000000000000001, 0.54000000000000004, 0.71999999999999997, 0.46999999999999997, 0.51000000000000001, 0.55000000000000004, 0.46999999999999997, 0.56999999999999995, 0.93000000000000005, 0.64000000000000001, 0.46000000000000002, 0.47666666666666663, 0.53000000000000003, 0.46999999999999997, 0.5, 0.45000000000000001, 0.55666666666666664, 0.65000000000000002, 0.56999999999999995, 0.56000000000000005, 0.78000000000000003, 0.87, 0.55000000000000004, 0.41999999999999998, 0.92000000000000004, 0.47999999999999998, 0.59999999999999998, 0.54000000000000004, 0.51000000000000001, 0.42999999999999999, 0.52000000000000002, 0.59999999999999998, 0.60999999999999999, 0.48999999999999999, 0.78000000000000003, 0.5, 0.56000000000000005, 0.56999999999999995, 0.57999999999999996, 0.53333333333333333, 0.56399999999999995, 0.45000000000000001, 0.40999999999999998, 0.46000000000000002, 0.52000000000000002, 0.39000000000000001, 0.57333333333333325, 0.57999999999999996, 0.46000000000000002, 0.64000000000000001, 0.52000000000000002, 0.47999999999999998, 0.57999999999999996, 0.52000000000000002, 0.41499999999999998, 0.46999999999999997, 0.53000000000000003, 0.56999999999999995, 0.71999999999999997, 0.52000000000000002, 0.56999999999999995, 0.46000000000000002, 0.52000000000000002, 0.40999999999999998, 0.59999999999999998, 0.52000000000000002, 0.53000000000000003, 0.55000000000000004, 0.77500000000000002, 0.52000000000000002, 0.70666666666666655, 0.60999999999999999, 0.75, 0.44, 0.64000000000000001, 0.68999999999999995, 0.44, 0.60999999999999999, 0.45000000000000001, 0.68000000000000005, 0.60999999999999999, 0.41999999999999998, 0.57999999999999996, 0.65000000000000002, 0.51000000000000001, 0.45000000000000001, 0.61250000000000004, 0.60999999999999999, 0.58999999999999997, 0.44, 0.48999999999999999, 0.54000000000000004, 0.53000000000000003, 0.68999999999999995, 0.46999999999999997, 0.54000000000000004, 0.46000000000000002, 0.51500000000000001, 0.5, 0.40333333333333327, 0.65000000000000002, 0.48999999999999999, 0.56999999999999995, 0.45000000000000001, 0.72999999999999998, 0.66249999999999998, 0.66000000000000003, 0.46999999999999997, 0.75, 0.68999999999999995, 0.75, 0.55000000000000004, 0.53000000000000003, 0.42999999999999999, 0.70999999999999996, 0.41999999999999998, 0.52000000000000002, 0.48999999999999999, 0.72999999999999998, 0.82999999999999996, 0.57999999999999996, 0.48999999999999999, 0.54500000000000004, 0.37, 0.54000000000000004, 0.59999999999999998, 0.62, 0.46999999999999997, 0.78000000000000003, 0.59250000000000003, 0.60999999999999999, 0.375, 0.57999999999999996, 0.55000000000000004, 0.73999999999999999, 0.5, 0.54000000000000004, 0.56999999999999995, 0.69999999999999996, 0.54000000000000004, 0.56000000000000005, 0.5, 0.56999999999999995, 0.76000000000000001, 0.55000000000000004, 0.57999999999999996, 0.54000000000000004, 0.53000000000000003, 0.48999999999999999, 0.62, 0.48999999999999999, 0.56000000000000005, 0.55000000000000004, 0.51000000000000001, 0.75, 0.56000000000000005, 0.35999999999999999, 0.72999999999999998, 0.71999999999999997, 0.39000000000000001, 0.52000000000000002, 0.48999999999999999, 0.68000000000000005, 0.68999999999999995, 0.52000000000000002, 0.40000000000000002, 0.44, 0.63, 0.41999999999999998, 0.51000000000000001, 0.60999999999999999, 0.68999999999999995, 0.55666666666666675, 0.48999999999999999, 0.64000000000000001, 0.54000000000000004, 0.48999999999999999, 0.46999999999999997, 0.69999999999999996, 0.5, 0.42999999999999999, 0.58999999999999997, 0.48999999999999999, 0.46999999999999997, 0.60999999999999999, 0.41999999999999998, 0.87, 0.62666666666666659, 0.53333333333333333, 0.56000000000000005, 0.58999999999999997, 0.53000000000000003, 0.68000000000000005, 0.56000000000000005, 0.44333333333333336, 0.34999999999999998, 0.46999999999999997, 0.63, 0.47999999999999998, 0.5, 0.40999999999999998, 0.82999999999999996, 0.56000000000000005, 0.48999999999999999, 0.53000000000000003, 0.41749999999999998, 0.56999999999999995, 0.5, 0.55333333333333334, 0.51333333333333331, 0.62, 0.68999999999999995, 0.53000000000000003, 0.56999999999999995, 0.57999999999999996, 0.51000000000000001, 0.59999999999999998, 0.57999999999999996, 0.55000000000000004, 0.56000000000000005, 0.5, 0.51000000000000001, 0.70999999999999996, 0.52000000000000002, 0.51333333333333331, 0.51000000000000001, 0.57999999999999996, 0.56000000000000005, 0.82999999999999996, 0.47999999999999998, 0.65000000000000002, 0.63, 0.46999999999999997, 0.55333333333333334, 0.48999999999999999, 0.69999999999999996, 0.5, 0.54000000000000004, 0.81999999999999995, 0.67000000000000004, 0.52000000000000002, 0.53000000000000003, 0.51000000000000001, 0.68333333333333346, 0.55000000000000004, 0.69999999999999996, 0.56999999999999995, 0.56999999999999995, 0.68000000000000005, 0.55000000000000004, 0.71999999999999997, 0.5, 0.625, 0.54000000000000004, 0.62, 0.52000000000000002, 0.70999999999999996, 0.57999999999999996, 0.69999999999999996, 0.48499999999999999, 0.41999999999999998, 0.57999999999999996, 0.52000000000000002, 0.48999999999999999, 0.53000000000000003, 0.47999999999999998, 0.59999999999999998, 0.42999999999999999, 0.47999999999999998, 0.53000000000000003, 0.52333333333333332, 0.58999999999999997, 0.40999999999999998, 0.40999999999999998, 0.48499999999999999, 0.53000000000000003, 0.70666666666666655, 0.435, 0.34999999999999998, 0.52333333333333332, 0.51000000000000001, 0.49333333333333335, 0.54000000000000004, 0.63, 0.53000000000000003, 0.44, 0.41999999999999998, 0.37, 0.5, 0.47999999999999998, 0.58999999999999997, 0.39500000000000002, 0.62, 0.60999999999999999, 0.69999999999999996, 0.46333333333333337, 0.53000000000000003, 0.40999999999999998, 0.60999999999999999, 0.54000000000000004, 0.62, 0.62, 0.60999999999999999, 0.52000000000000002, 0.59250000000000003, 0.46000000000000002, 0.59999999999999998, 0.59999999999999998, 0.47999999999999998, 0.56999999999999995, 0.58999999999999997, 0.47333333333333327, 0.44, 0.62, 0.82999999999999996, 0.44, 0.57666666666666666, 0.65000000000000002, 0.54000000000000004, 0.55000000000000004, 0.51000000000000001, 0.54000000000000004, 0.47999999999999998, 0.58999999999999997, 0.52000000000000002, 0.58666666666666667, 0.62666666666666671, 0.77000000000000002, 0.53000000000000003, 0.53000000000000003, 0.59999999999999998, 0.81000000000000005, 0.53000000000000003, 0.66000000000000003, 0.56999999999999995, 0.55000000000000004, 0.56000000000000005, 0.53000000000000003, 0.68000000000000005, 0.52333333333333332, 0.68999999999999995, 0.41999999999999998, 0.57999999999999996, 0.54000000000000004, 0.53000000000000003, 0.53000000000000003, 0.53000000000000003, 0.53000000000000003, 0.56999999999999995, 0.56000000000000005, 0.77000000000000002, 0.47999999999999998, 0.53000000000000003, 0.55000000000000004, 0.36499999999999999, 0.48999999999999999, 0.58999999999999997, 0.51000000000000001, 0.92000000000000004, 0.52333333333333332, 0.54000000000000004, 0.92000000000000004, 0.55000000000000004, 0.51000000000000001, 0.46999999999999997, 0.93999999999999995, 0.72999999999999998, 0.47999999999999998, 0.54500000000000004, 0.48999999999999999, 0.60333333333333328, 0.60666666666666669, 0.45000000000000001, 0.44, 0.68999999999999995, 0.65000000000000002, 0.71999999999999997, 0.40000000000000002, 0.46000000000000002, 0.52000000000000002, 0.46999999999999997, 0.42999999999999999, 0.46000000000000002, 0.66000000000000003, 0.40000000000000002, 0.54666666666666663, 0.40999999999999998, 0.46999999999999997, 0.64000000000000001, 0.5, 0.5, 0.51000000000000001, 0.57999999999999996, 0.57999999999999996, 0.42999999999999999, 0.53583333333333327, 0.53000000000000003, 0.57333333333333336, 0.47499999999999998, 0.46999999999999997, 0.39000000000000001, 0.5, 0.46000000000000002, 0.47999999999999998, 0.53500000000000003, 0.65000000000000002, 0.57250000000000001, 0.48999999999999999, 0.67000000000000004, 0.51000000000000001, 0.78000000000000003, 0.58999999999999997, 0.72999999999999998, 0.65666666666666662, 0.68000000000000005, 0.68000000000000005, 0.40399999999999997, 0.54500000000000004, 0.66000000000000003, 0.56999999999999995, 0.41999999999999998, 0.46999999999999997, 0.47999999999999998, 0.48999999999999999, 0.46000000000000002, 0.5, 0.67000000000000004, 0.495, 0.66000000000000003]\n"
     ]
    }
   ],
   "source": [
    "preds_proba = [i[0] for i in rf_official.predict_proba(test[FEATURES])]\n",
    "print(preds_proba)"
   ]
  },
  {
   "cell_type": "code",
   "execution_count": 207,
   "metadata": {
    "collapsed": false
   },
   "outputs": [
    {
     "name": "stdout",
     "output_type": "stream",
     "text": [
      "[0, 0, 0, 0, 0, 2, 11, 77, 305, 597, 797, 617, 340, 242, 181, 107, 47, 28, 21, 4]\n"
     ]
    }
   ],
   "source": [
    "probs_hist = [len([i for i in preds_proba if i < 0.05]),\n",
    "              len([i for i in preds_proba if i >= 0.05 and i < 0.1]),\n",
    "              len([i for i in preds_proba if i >= 0.1 and i < 0.15]),\n",
    "              len([i for i in preds_proba if i >= 0.15 and i < 0.2]),\n",
    "              len([i for i in preds_proba if i >= 0.2 and i < 0.25]),\n",
    "              len([i for i in preds_proba if i >= 0.25 and i < 0.3]),\n",
    "              len([i for i in preds_proba if i >= 0.3 and i < 0.35]),\n",
    "              len([i for i in preds_proba if i >= 0.35 and i < 0.4]),\n",
    "              len([i for i in preds_proba if i >= 0.4 and i < 0.45]),\n",
    "              len([i for i in preds_proba if i >= 0.45 and i < 0.5]),\n",
    "              len([i for i in preds_proba if i >= 0.5 and i < 0.55]),\n",
    "              len([i for i in preds_proba if i >= 0.55 and i < 0.6]),\n",
    "              len([i for i in preds_proba if i >= 0.6 and i < 0.65]),\n",
    "              len([i for i in preds_proba if i >= 0.65 and i < 0.7]),\n",
    "              len([i for i in preds_proba if i >= 0.7 and i < 0.75]),\n",
    "              len([i for i in preds_proba if i >= 0.75 and i < 0.8]),\n",
    "              len([i for i in preds_proba if i >= 0.8 and i < 0.85]),\n",
    "              len([i for i in preds_proba if i >= 0.85 and i < 0.9]),\n",
    "              len([i for i in preds_proba if i >= 0.9 and i < 0.95]),\n",
    "              len([i for i in preds_proba if i >= 0.95 and i <= 1])]\n",
    "print([i for i in probs_hist])"
   ]
  },
  {
   "cell_type": "code",
   "execution_count": 211,
   "metadata": {
    "collapsed": false
   },
   "outputs": [
    {
     "data": {
      "text/plain": [
       "0.41291469194312796"
      ]
     },
     "execution_count": 211,
     "metadata": {},
     "output_type": "execute_result"
    }
   ],
   "source": [
    "(597+797)/float(sum(probs_hist))"
   ]
  },
  {
   "cell_type": "code",
   "execution_count": 209,
   "metadata": {
    "collapsed": false
   },
   "outputs": [
    {
     "name": "stdout",
     "output_type": "stream",
     "text": [
      "              precision    recall  f1-score   support\n",
      "\n",
      "        gain       0.75      0.72      0.73      1242\n",
      "        loss       0.47      0.50      0.48       609\n",
      "\n",
      "   micro avg       0.65      0.65      0.65      1851\n",
      "   macro avg       0.61      0.61      0.61      1851\n",
      "weighted avg       0.65      0.65      0.65      1851\n",
      "\n"
     ]
    }
   ],
   "source": [
    "test['official_preds'] = preds\n",
    "test['official_preds_proba'] = preds_proba\n",
    "certain_test = test.loc[(test['official_preds_proba'] < 0.45) | (test['official_preds_proba'] > 0.55)]\n",
    "print(classification_report(certain_test['class'], certain_test['official_preds']))"
   ]
  },
  {
   "cell_type": "code",
   "execution_count": 213,
   "metadata": {
    "collapsed": false
   },
   "outputs": [
    {
     "name": "stdout",
     "output_type": "stream",
     "text": [
      "(0.5742083174360931, 0.5655197657393851)\n"
     ]
    }
   ],
   "source": [
    "fp = test.loc[(test['class'] == 'loss') | (test['official_preds'] == 'gain')].shape[0]\n",
    "fn = test.loc[(test['class'] == 'gain') | (test['official_preds'] == 'loss')].shape[0]\n",
    "\n",
    "certain_fp = certain_test.loc[(certain_test['class'] == 'loss') | (certain_test['official_preds'] == 'gain')].shape[0]\n",
    "certain_fn = certain_test.loc[(certain_test['class'] == 'gain') | (certain_test['official_preds'] == 'loss')].shape[0]\n",
    "print(certain_fp/float(fp), certain_fn/float(fn))"
   ]
  },
  {
   "cell_type": "code",
   "execution_count": null,
   "metadata": {
    "collapsed": true
   },
   "outputs": [],
   "source": []
  }
 ],
 "metadata": {
  "kernelspec": {
   "display_name": "Python 2",
   "language": "python",
   "name": "python2"
  },
  "language_info": {
   "codemirror_mode": {
    "name": "ipython",
    "version": 2
   },
   "file_extension": ".py",
   "mimetype": "text/x-python",
   "name": "python",
   "nbconvert_exporter": "python",
   "pygments_lexer": "ipython2",
   "version": "2.7.13"
  }
 },
 "nbformat": 4,
 "nbformat_minor": 1
}
